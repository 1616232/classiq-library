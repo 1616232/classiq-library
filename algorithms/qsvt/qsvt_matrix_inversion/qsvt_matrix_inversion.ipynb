{
 "cells": [
  {
   "cell_type": "markdown",
   "id": "d44fcc7d-37bb-4ecd-997e-a71168e6b8bb",
   "metadata": {},
   "source": [
    "# Using QSVT for matrix inversion"
   ]
  },
  {
   "cell_type": "markdown",
   "id": "824bed94-9040-4bf4-87dc-a0f84dc155dd",
   "metadata": {},
   "source": [
    "In this notebook, we will use the Quantum Singular Value Transformation (QSVT) algorithm to solve the problem of matrix inversion.\n",
    "The demo is based on the paper [Grand unification of quantum algorithms](#grand)."
   ]
  },
  {
   "cell_type": "markdown",
   "id": "42f4d5f6-3527-4421-93ab-91343957969e",
   "metadata": {
    "tags": []
   },
   "source": [
    "## Problem Encoding"
   ]
  },
  {
   "cell_type": "markdown",
   "id": "df475c3d-8911-47c0-bae2-4ac812858238",
   "metadata": {},
   "source": [
    "We start by defining a specific problem. We can take matrix that is not symmetric, in comparison to the HHL algorithm."
   ]
  },
  {
   "cell_type": "markdown",
   "id": "1853e4a5-d9d0-4678-999f-1537e00e88ad",
   "metadata": {
    "tags": []
   },
   "source": [
    "We will encode $A$ in a larger Unitary matrix. For simplicity, we will just sample a random unitary U_a, and take it's first block as $A$"
   ]
  },
  {
   "cell_type": "code",
   "execution_count": null,
   "id": "11ebea38-e9f7-4faa-a282-054520125a11",
   "metadata": {
    "tags": []
   },
   "outputs": [],
   "source": [
    "import numpy as np\n",
    "import scipy\n",
    "\n",
    "# the size of the unitary which block encodes A\n",
    "REG_SIZE = 3\n",
    "\n",
    "\n",
    "def get_random_unitary(num_qubits, seed=4):\n",
    "    np.random.seed(seed)\n",
    "    X = np.random.rand(2**num_qubits, 2**num_qubits)\n",
    "    U, s, V = np.linalg.svd(X)\n",
    "    return U @ V.T\n",
    "\n",
    "\n",
    "U_a = get_random_unitary(REG_SIZE)\n",
    "\n",
    "A_dim = int(U_a.shape[0] / 2)\n",
    "A = U_a[:A_dim, :A_dim]\n",
    "print(A)"
   ]
  },
  {
   "cell_type": "markdown",
   "id": "e988a4aa-158a-4873-a021-e2968e300dd6",
   "metadata": {},
   "source": [
    "Make sure A's singular values are smaller than 1:"
   ]
  },
  {
   "cell_type": "code",
   "execution_count": null,
   "id": "f847189d-0bb3-4d51-9037-1d1af4fd4be2",
   "metadata": {
    "tags": []
   },
   "outputs": [],
   "source": [
    "assert not (np.linalg.svd(A)[1] > 1).sum()"
   ]
  },
  {
   "cell_type": "code",
   "execution_count": null,
   "id": "94590dad-6107-4ba7-aadd-21381e91ca0d",
   "metadata": {
    "tags": []
   },
   "outputs": [],
   "source": [
    "b = np.arange(A_dim)\n",
    "b = b / np.linalg.norm(b)\n",
    "print(b)"
   ]
  },
  {
   "cell_type": "markdown",
   "id": "a996b498-270f-4f0e-8d68-2aaa388d1dd5",
   "metadata": {},
   "source": [
    "Verify $U_{a}$ is indeed unitary"
   ]
  },
  {
   "cell_type": "code",
   "execution_count": null,
   "id": "26a5a9f1-de34-4f4b-bb6b-3fda8aacbadc",
   "metadata": {
    "tags": []
   },
   "outputs": [],
   "source": [
    "assert np.allclose(U_a @ U_a.T, np.eye(U_a.shape[0]), rtol=1e-5, atol=1e-6)"
   ]
  },
  {
   "cell_type": "markdown",
   "id": "11a86ae0-e2d9-4149-a372-c704f9e6c0fa",
   "metadata": {},
   "source": [
    "Calculate the condition number $\\kappa=max(\\frac{1}{\\sigma_i})$"
   ]
  },
  {
   "cell_type": "code",
   "execution_count": null,
   "id": "51915b86-9616-4531-bc8e-5fb6ea41910c",
   "metadata": {
    "tags": []
   },
   "outputs": [],
   "source": [
    "kappa = max(1 / np.linalg.svd(A)[1])\n",
    "print(kappa)"
   ]
  },
  {
   "cell_type": "code",
   "execution_count": null,
   "id": "46de84db-fc65-4ad0-b9c0-cdba0681ab05",
   "metadata": {
    "tags": []
   },
   "outputs": [],
   "source": [
    "np.linalg.svd(A)[1]"
   ]
  },
  {
   "cell_type": "markdown",
   "id": "9d95795a-c45b-4533-b7e0-2b410b824717",
   "metadata": {},
   "source": [
    "## Now to the quantum part!"
   ]
  },
  {
   "cell_type": "markdown",
   "id": "a7a50491-4447-4e42-9330-1416e14ff583",
   "metadata": {
    "tags": []
   },
   "source": [
    "### Defining the QSVT circuit for the problem"
   ]
  },
  {
   "cell_type": "markdown",
   "id": "8be8918a-b752-480e-ae63-9fe39151d23a",
   "metadata": {},
   "source": [
    "We start with the general qsvt framework definition. It accepts a unitary which block-encode a matrix together with projector-controlled-cnot functions which identify the block in which the matrix is encoded.\n",
    "\n",
    "It applies the `qsvt_step` multiple times, iterating over the rotation angles provided which encode the polynomial transformation.\n",
    "Notice - The last step is quite tricky and depend on the specific transformation we wish to perform. Here the code is suitable for the matrix-inversion case. Also - we wrap the auxilliary qubit with $H$ gates."
   ]
  },
  {
   "cell_type": "code",
   "execution_count": null,
   "id": "04323c28-79a8-44b5-9531-782e36853511",
   "metadata": {},
   "outputs": [],
   "source": [
    "from typing import List, Literal\n",
    "\n",
    "from classiq.qmod import (\n",
    "    CX,\n",
    "    IDENTITY,\n",
    "    RZ,\n",
    "    H,\n",
    "    Output,\n",
    "    QArray,\n",
    "    QBit,\n",
    "    QCallable,\n",
    "    QFunc,\n",
    "    QParam,\n",
    "    X,\n",
    "    allocate,\n",
    "    if_,\n",
    "    invert,\n",
    "    join,\n",
    "    prepare_amplitudes,\n",
    "    repeat,\n",
    "    split,\n",
    "    unitary,\n",
    ")\n",
    "\n",
    "\n",
    "@QFunc\n",
    "def projector_controlled_phase(\n",
    "    phase: QParam[float],\n",
    "    proj_cnot: QCallable[QArray[QBit, REG_SIZE], QBit],\n",
    "    qbv_reg: QArray[QBit, REG_SIZE],\n",
    "    qbv_aux: QBit,\n",
    ") -> None:\n",
    "    proj_cnot(qbv_reg, qbv_aux)\n",
    "    RZ(phase, qbv_aux)\n",
    "    proj_cnot(qbv_reg, qbv_aux)\n",
    "\n",
    "\n",
    "@QFunc\n",
    "def qsvt_step(\n",
    "    phase_seq: QParam[List[float]],\n",
    "    num_qubits: QParam[int],\n",
    "    index: QParam[int],\n",
    "    proj_cnot_1: QCallable[QArray[QBit, \"num_qubits\"], QBit],\n",
    "    proj_cnot_2: QCallable[QArray[QBit, \"num_qubits\"], QBit],\n",
    "    u: QCallable[QArray[QBit, \"num_qubits\"]],\n",
    "    qbv: QArray[QBit, \"num_qubits+1\"],\n",
    "):\n",
    "    qbv_reg = QArray(\"qbv_reg\")\n",
    "    qbv_aux = QArray(\"qbv_aux\")\n",
    "\n",
    "    split(num_qubits, 1, in_=qbv, out1=qbv_reg, out2=qbv_aux)\n",
    "\n",
    "    projector_controlled_phase(phase_seq[2 * index], proj_cnot_1, qbv_reg, qbv_aux)\n",
    "    u(qbv_reg)\n",
    "    projector_controlled_phase(\n",
    "        phase_seq[2 * index + 1],\n",
    "        proj_cnot_2,\n",
    "        qbv_reg,\n",
    "        qbv_aux,\n",
    "    )\n",
    "\n",
    "    if_(\n",
    "        condition=\"2 * index +  2 == len(phase_seq)\",\n",
    "        then=lambda: IDENTITY(qbv_reg),\n",
    "        else_=lambda: invert(\n",
    "            lambda target: u(target),\n",
    "            qbv_reg,\n",
    "        ),\n",
    "    )\n",
    "\n",
    "    join(qbv_reg, qbv_aux, qbv)\n",
    "\n",
    "\n",
    "@QFunc\n",
    "def qsvt(\n",
    "    num_qubits: QParam[int],\n",
    "    phase_seq: QParam[List[float]],\n",
    "    proj_cnot_1: QCallable[QArray[QBit, \"num_qubits\"], QBit],\n",
    "    proj_cnot_2: QCallable[QArray[QBit, \"num_qubits\"], QBit],\n",
    "    u: QCallable[QArray[QBit, \"num_qubits\"]],\n",
    "    qbv_reg: QArray[QBit, \"num_qubits\"],\n",
    "    qbv_aux: QBit,\n",
    ") -> None:\n",
    "    H(qbv_aux)\n",
    "\n",
    "    qbv = QArray(\"qbv\")\n",
    "    join(qbv_reg, qbv_aux, qbv)\n",
    "    repeat(\n",
    "        count=\"len(phase_seq) // 2\",\n",
    "        iteration=lambda index: qsvt_step(\n",
    "            phase_seq, num_qubits, index, proj_cnot_1, proj_cnot_2, u, qbv\n",
    "        ),\n",
    "    )\n",
    "\n",
    "    split(num_qubits, 1, in_=qbv, out1=qbv_reg, out2=qbv_aux)\n",
    "    H(qbv_aux)"
   ]
  },
  {
   "cell_type": "markdown",
   "id": "43b71428-1835-4637-a352-b9658f0ca240",
   "metadata": {},
   "source": [
    "### Matrix inversion logic\n",
    "\n",
    "Here define the specific use case of the matrix inversion. In this case, both projectors are the same, and expect the block encoded matrix to apply on the states where the first qubit value is $|0\\rangle$, hence:"
   ]
  },
  {
   "cell_type": "code",
   "execution_count": null,
   "id": "9b2ae389-fad7-4ad6-b7c8-58a1168f053a",
   "metadata": {},
   "outputs": [],
   "source": [
    "@QFunc\n",
    "def qsvt_inversion(\n",
    "    num_qubits: QParam[int],\n",
    "    phase_seq: QParam[List[float]],\n",
    "    u: QCallable[QArray[QBit, \"num_qubits\"]],\n",
    "    qbv_reg: QArray[QBit, \"num_qubits\"],\n",
    "    qbv_aux: Output[QBit],\n",
    ") -> None:\n",
    "    allocate(1, qbv_aux)\n",
    "\n",
    "    def projector_cnot(qbv_state: QArray[QBit, \"num_qubits\"], qbv_aux: QBit):\n",
    "        X(qbv_state[num_qubits - 1])\n",
    "        CX(qbv_aux, qbv_state[num_qubits - 1])\n",
    "        X(qbv_state[num_qubits - 1])\n",
    "\n",
    "    qsvt(\n",
    "        num_qubits,\n",
    "        phase_seq,\n",
    "        lambda arg0, arg1: projector_cnot(arg0, arg1),\n",
    "        lambda arg0, arg1: projector_cnot(arg0, arg1),\n",
    "        u,\n",
    "        qbv_reg,\n",
    "        qbv_aux,\n",
    "    )"
   ]
  },
  {
   "cell_type": "markdown",
   "id": "9b9160aa-c9b0-46ff-a29f-214a344610b8",
   "metadata": {},
   "source": [
    "### Get the phase sequence for the inverse function"
   ]
  },
  {
   "cell_type": "markdown",
   "id": "70e43073-d7c1-438c-9bef-1c4c6fa4f363",
   "metadata": {
    "tags": []
   },
   "source": [
    "Get directly the coef of the sign function, based on the erfc approximation, using the `pyqsp` package:"
   ]
  },
  {
   "cell_type": "code",
   "execution_count": null,
   "id": "37ecca28-278e-4b83-987e-25d9d18492a0",
   "metadata": {
    "tags": []
   },
   "outputs": [],
   "source": [
    "import pyqsp\n",
    "\n",
    "pg = pyqsp.poly.PolyOneOverX()\n",
    "pcoefs = pg.generate(epsilon=0.05, kappa=kappa)"
   ]
  },
  {
   "cell_type": "code",
   "execution_count": null,
   "id": "6ac475fa-cc25-402a-8474-2f931f5ff279",
   "metadata": {
    "tags": []
   },
   "outputs": [],
   "source": [
    "import numpy as np\n",
    "from pyqsp.angle_sequence import Polynomial, QuantumSignalProcessingPhases\n",
    "\n",
    "poly = Polynomial(pcoefs)\n",
    "\n",
    "# choosing 'z' this basis since P(1)=1 and won't to avoid the QSP basis change. Anyway, we are not measuring directly this qubit.\n",
    "ang_seq = QuantumSignalProcessingPhases(\n",
    "    poly, signal_operator=\"Wx\", method=\"laurent\", measurement=\"x\"\n",
    ")\n",
    "pyqsp.response.PlotQSPResponse(ang_seq, signal_operator=\"Wx\", measurement=\"x\")"
   ]
  },
  {
   "cell_type": "markdown",
   "id": "2e30167a-ff5a-49f5-bf56-0e505c533a95",
   "metadata": {},
   "source": [
    "#### Adjusting phase conventions"
   ]
  },
  {
   "cell_type": "markdown",
   "id": "01809547-4727-4dce-89aa-41a15df3e33a",
   "metadata": {},
   "source": [
    "There conventions by which the `pyqsp` package calculates the the phases are different from the phases we need for this qsvt circuit. The following block takes care for them."
   ]
  },
  {
   "cell_type": "markdown",
   "id": "8c515575-100b-400e-8d24-9bb8e4ab70e2",
   "metadata": {},
   "source": [
    "As $R(a)=-i*e^{i\\frac{\\pi}{4}Z}W(a)e^{i\\frac{\\pi}{4}Z}$ and we have odd number of rotations, we get an i phase to our polynomial, so we get $Im(P(a))$ instead of the real part. So we will get the result in the $|1\\rangle$ state in the ancilla. However, we can fix it by adding $\\pi/2$ phase to the last or first rotation."
   ]
  },
  {
   "cell_type": "code",
   "execution_count": null,
   "id": "faf61f54-ad97-4c86-bcff-3605c515f7d7",
   "metadata": {
    "tags": []
   },
   "outputs": [],
   "source": [
    "# change the R(x) to W(x), as the phases are in the W(x) conventions\n",
    "phases = np.array(ang_seq)\n",
    "phases = phases - np.pi / 2\n",
    "phases[0] = phases[0] + np.pi / 4\n",
    "phases[-1] = phases[-1] + np.pi / 4 + np.pi / 2\n",
    "\n",
    "# verify conventions. minus is due to exp(-i*phi*z) in qsvt in comparison to qsp\n",
    "phases = -2 * phases"
   ]
  },
  {
   "cell_type": "markdown",
   "id": "74588c18-8231-4c0d-8bce-6a70b31edca3",
   "metadata": {},
   "source": [
    "### Using the inversion function to solve linear system - `main` function\n",
    "\n",
    "The following block defines the `main` function. This is the entry point for the quantum algorithm, which brings all previous parts together.\n",
    "\n",
    "Specifically, we will use the function `prepare_amplitudes` for loading the vector $b$ into the quantum state.\n",
    "\n",
    "Then apply the 'qsvt_inversion`. We use the to the dagger of the unitary $U$ which block encodes $A$, because, using the SVD decomposition:\n",
    "$$\n",
    "\\begin{align}\n",
    "A &=W\\Sigma V^\\dagger\\\\\n",
    "A^\\dagger &=V^\\dagger \\Sigma W\\\\\n",
    "A^{-1} &= V^\\dagger \\Sigma^{-1}W\\\\\n",
    "\\end{align}\n",
    "$$"
   ]
  },
  {
   "cell_type": "code",
   "execution_count": null,
   "id": "939339d7-260d-4403-8361-0fcb168f5b0d",
   "metadata": {},
   "outputs": [],
   "source": [
    "@QFunc\n",
    "def main(\n",
    "    qbv_state: Output[QArray[QBit, REG_SIZE - 1]],\n",
    "    qbv_block: Output[QBit],\n",
    "    qbv_aux: Output[QBit],\n",
    ") -> None:\n",
    "    qbv_reg = QArray(\"qbv_reg\")\n",
    "\n",
    "    prepare_amplitudes(b.tolist(), 0, qbv_state)\n",
    "\n",
    "    allocate(1, qbv_block)\n",
    "    join(qbv_state, qbv_block, qbv_reg)\n",
    "\n",
    "    qsvt_inversion(\n",
    "        num_qubits=REG_SIZE,\n",
    "        phase_seq=list(phases),\n",
    "        u=lambda arg0: unitary(\n",
    "            # Here we can just use the transpose of A as is it real valued\n",
    "            elements=U_a.T.tolist(),\n",
    "            target=arg0,\n",
    "        ),\n",
    "        qbv_reg=qbv_reg,\n",
    "        qbv_aux=qbv_aux,\n",
    "    )\n",
    "\n",
    "    split(REG_SIZE - 1, 1, in_=qbv_reg, out1=qbv_state, out2=qbv_block)"
   ]
  },
  {
   "cell_type": "markdown",
   "id": "f0561842-db43-44d4-8a99-ae088ad082d2",
   "metadata": {},
   "source": [
    "## Synthesizing and Executing the circuit using state-vector simulator, to get $x=A^{-1}b$"
   ]
  },
  {
   "cell_type": "code",
   "execution_count": null,
   "id": "f085e5b1-03d0-4852-a715-e4ea9f85e61b",
   "metadata": {},
   "outputs": [],
   "source": [
    "from classiq import create_model, execute, set_execution_preferences, show, synthesize\n",
    "from classiq.execution import ClassiqBackendPreferences, ExecutionPreferences\n",
    "\n",
    "# convert the functions to a qmod model\n",
    "qmod = create_model(main)\n",
    "\n",
    "# we will want to execute this qmod on a state-vector simulator:\n",
    "execution_preferences = ExecutionPreferences(\n",
    "    num_shots=1,\n",
    "    backend_preferences=ClassiqBackendPreferences(\n",
    "        backend_name=\"aer_simulator_statevector\"\n",
    "    ),\n",
    ")\n",
    "qmod = set_execution_preferences(qmod, execution_preferences)\n",
    "\n",
    "with open(\"qsvt_matrix_inversion.qmod\", \"w\") as f:\n",
    "    f.write(qmod)"
   ]
  },
  {
   "cell_type": "markdown",
   "id": "b96713f1-e21d-48fb-b395-dd892ca4d85d",
   "metadata": {},
   "source": [
    "synthesize the model to a quantum program:"
   ]
  },
  {
   "cell_type": "code",
   "execution_count": null,
   "id": "467ef1c5-b81d-4fe6-b47f-c3f6ae91cbd3",
   "metadata": {},
   "outputs": [],
   "source": [
    "qprog = synthesize(qmod)\n",
    "show(qprog)"
   ]
  },
  {
   "cell_type": "markdown",
   "id": "f2c6bdcf-12ac-4088-bc5b-291d62339458",
   "metadata": {},
   "source": [
    "Execute on the simulator"
   ]
  },
  {
   "cell_type": "code",
   "execution_count": null,
   "id": "576fe585-21e8-49cb-aa32-e3308fc763f9",
   "metadata": {},
   "outputs": [],
   "source": [
    "raw_results = execute(qprog).result()"
   ]
  },
  {
   "cell_type": "markdown",
   "id": "53655a1e-6860-4cf1-9fb5-8d5ee6796cb5",
   "metadata": {},
   "source": [
    "## Post processing"
   ]
  },
  {
   "cell_type": "markdown",
   "id": "c33e2a62-a07c-4cd1-bfe0-ab4bff32f604",
   "metadata": {},
   "source": [
    "We will be interested in the projection of the state vector on the states where both the auxilliary qubit and the block qubit are $|0\\rangle$."
   ]
  },
  {
   "cell_type": "code",
   "execution_count": null,
   "id": "79e12764-6197-4f0d-a1c9-540794c69756",
   "metadata": {},
   "outputs": [],
   "source": [
    "def parse_results(res):\n",
    "    parsed_state_vector = res[0].value.parsed_state_vector\n",
    "\n",
    "    d = {\n",
    "        parsed_state[\"qbv_state\"]: parsed_state.amplitude\n",
    "        for parsed_state in parsed_state_vector\n",
    "        if parsed_state[\"qbv_aux\"] == parsed_state[\"qbv_block\"] == 0.0\n",
    "    }\n",
    "\n",
    "    values = np.array([d[i] for i in range(len(d))])\n",
    "    global_phase = np.angle(values)[0]\n",
    "    values = np.real(values / np.exp(1j * global_phase))\n",
    "    normalization = np.linalg.norm(\n",
    "        [\n",
    "            parsed_state.amplitude\n",
    "            for parsed_state in parsed_state_vector\n",
    "            if parsed_state[\"qbv_block\"] == 0.0\n",
    "        ]\n",
    "    )\n",
    "    computed_x = values / normalization\n",
    "    return computed_x"
   ]
  },
  {
   "cell_type": "code",
   "execution_count": null,
   "id": "79a8a4bc-30ec-4867-a51f-f5681e8c436a",
   "metadata": {},
   "outputs": [],
   "source": [
    "computed_x = parse_results(raw_results)\n",
    "print(computed_x)"
   ]
  },
  {
   "cell_type": "markdown",
   "id": "395a1556-bde5-442d-bb38-aa6f95934143",
   "metadata": {},
   "source": [
    "Now compare to the expected solution:"
   ]
  },
  {
   "cell_type": "code",
   "execution_count": null,
   "id": "ee3b1983-fe14-4ffe-8402-bff1c4b3ad05",
   "metadata": {},
   "outputs": [],
   "source": [
    "expected_x = 1 / (2 * kappa) * (np.linalg.inv(A) @ b)\n",
    "print(expected_x)\n",
    "\n",
    "assert np.allclose(computed_x, expected_x, rtol=0.1)"
   ]
  },
  {
   "cell_type": "markdown",
   "id": "51b5574e-adb4-4467-b424-e14c0bc20b36",
   "metadata": {},
   "source": [
    "## References\n",
    "\n",
    "<a id='grand'>[1]</a>: [Martyn JM, Rossi ZM, Tan AK, Chuang IL. Grand unification of quantum algorithms. PRX Quantum. 2021 Dec 3;2(4):040203.](https://journals.aps.org/prxquantum/abstract/10.1103/PRXQuantum.2.040203)\n"
   ]
  }
 ],
 "metadata": {
  "kernelspec": {
   "display_name": "Python 3 (ipykernel)",
   "language": "python",
   "name": "python3"
  },
  "language_info": {
   "codemirror_mode": {
    "name": "ipython",
    "version": 3
   },
   "file_extension": ".py",
   "mimetype": "text/x-python",
   "name": "python",
   "nbconvert_exporter": "python",
   "pygments_lexer": "ipython3",
   "version": "3.11.4"
  }
 },
 "nbformat": 4,
 "nbformat_minor": 5
}
