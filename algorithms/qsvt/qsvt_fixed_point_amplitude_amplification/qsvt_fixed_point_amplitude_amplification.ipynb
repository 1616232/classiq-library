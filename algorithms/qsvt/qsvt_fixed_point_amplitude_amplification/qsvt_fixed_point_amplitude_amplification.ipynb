{
 "cells": [
  {
   "cell_type": "markdown",
   "id": "03995d6e-9a58-4c26-9b9a-a789cb90dd90",
   "metadata": {},
   "source": [
    "# Using QSVT for fixed-point amplitude amplification"
   ]
  },
  {
   "cell_type": "markdown",
   "id": "fdf4c557-fbf3-43ad-a840-4d25a038931e",
   "metadata": {},
   "source": [
    "This demo will show how to use the QSVT framework for search problems. Specifically, we will implement fixed-point amplitude amplification (FPAA). In FPAA, we do not know in advance the concentration of solutions to the search problem, want to sample a solution with high probability. In contrast, for the original grover search algorithm, too much iterations might 'overshoot'.\n",
    "\n",
    "The demo is based on the paper [Grand unification of quantum algorithms](#grand).\n",
    "\n",
    "Given $|s\\rangle$ the initial state and $|t\\rangle$ the 'good' states, we get an effective block encoding of a 1-dimensional matrix $A=|t\\rangle\\langle s|$.\n",
    "\n",
    "Given that  $a = \\langle s|t\\rangle\\gt0$, we want to amplify $a$. The signal operator $U$ here will be $I$ (and also $\\dagger{U}$). Now we implement 2 projector-rotations - one in '$|s\\rangle$' space and one in '$|t\\rangle$' space, each one around the given state, giving phase to the specific state."
   ]
  },
  {
   "cell_type": "markdown",
   "id": "d5d500f0-6bac-4932-bc85-648365a610ad",
   "metadata": {},
   "source": [
    "## Good states z-rotation - rotation around $|t\\rangle$"
   ]
  },
  {
   "cell_type": "code",
   "execution_count": null,
   "id": "dd55e04b-443d-409c-bd3a-8e57aeedef95",
   "metadata": {
    "tags": []
   },
   "outputs": [],
   "source": [
    "EQUATION = \"(a + b) == 3 and c ^ a == 2\""
   ]
  },
  {
   "cell_type": "code",
   "execution_count": null,
   "id": "58c7afa7-6b00-4f3e-bf8e-9e3dad1236b6",
   "metadata": {},
   "outputs": [],
   "source": [
    "from classiq import FunctionGenerator, FunctionLibrary, QReg, QUInt, RegisterUserInput\n",
    "from classiq.builtin_functions import Arithmetic, RZGate\n",
    "\n",
    "qsvt_library = FunctionLibrary()\n",
    "fg = FunctionGenerator(function_name=\"target_state_rotation\")\n",
    "\n",
    "rz_params = RZGate(phi=\"theta\")\n",
    "\n",
    "arith_params = Arithmetic(\n",
    "    expression=EQUATION,\n",
    "    definitions=dict(\n",
    "        a=RegisterUserInput(size=2),\n",
    "        b=RegisterUserInput(size=1),\n",
    "        c=RegisterUserInput(size=3),\n",
    "    ),\n",
    "    uncomputation_method=\"optimized\",\n",
    "    inputs_to_save=[\"a\", \"b\", \"c\"],\n",
    "    target=RegisterUserInput(size=1, name=\"res\"),  # this gives the input it's name\n",
    ")\n",
    "\n",
    "input_reg = fg.create_inputs({\"TARGET\": QUInt[6], \"aux\": QUInt[1]})\n",
    "\n",
    "out_arith = fg.Arithmetic(\n",
    "    arith_params,\n",
    "    in_wires={\n",
    "        \"a\": input_reg[\"TARGET\"][:2],\n",
    "        \"b\": input_reg[\"TARGET\"][2:3],\n",
    "        \"c\": input_reg[\"TARGET\"][3:],\n",
    "        \"arithmetic_target\": input_reg[\"aux\"],\n",
    "    },\n",
    ")\n",
    "out_z = fg.RZGate(rz_params, in_wires={\"TARGET\": out_arith[\"expression_result\"]})\n",
    "\n",
    "out_arith = fg.Arithmetic(\n",
    "    arith_params,\n",
    "    is_inverse=True,\n",
    "    release_by_inverse=True,\n",
    "    in_wires={\n",
    "        \"a\": out_arith[\"a\"],\n",
    "        \"b\": out_arith[\"b\"],\n",
    "        \"c\": out_arith[\"c\"],\n",
    "        \"expression_result\": out_z[\"TARGET\"],\n",
    "    },\n",
    ")\n",
    "\n",
    "reg_out = QReg.concat(QReg.concat(out_arith[\"a\"], out_arith[\"b\"]), out_arith[\"c\"])\n",
    "fg.set_outputs({\"TARGET\": reg_out, \"aux\": out_arith[\"arithmetic_target\"]})\n",
    "qsvt_library.add_function(fg.to_function_definition())"
   ]
  },
  {
   "cell_type": "markdown",
   "id": "51bcba67-0e73-41d7-a01e-3e3da8091628",
   "metadata": {},
   "source": [
    "## Initial state z-rotation - rotation around $|s\\rangle$"
   ]
  },
  {
   "cell_type": "code",
   "execution_count": null,
   "id": "86347579-d26e-4e8b-bd2b-c34c3dcd904c",
   "metadata": {},
   "outputs": [],
   "source": [
    "from classiq import ControlState, QReg\n",
    "from classiq.builtin_functions import (\n",
    "    PhaseGate,\n",
    "    UniformDistributionStatePreparation,\n",
    "    XGate,\n",
    ")\n",
    "\n",
    "fg = FunctionGenerator(function_name=\"initial_state_rotation\")\n",
    "NUM_QUBITS = 6\n",
    "\n",
    "sp_params = UniformDistributionStatePreparation(num_qubits=NUM_QUBITS)\n",
    "\n",
    "rz_params = RZGate(phi=\"theta\")\n",
    "\n",
    "\n",
    "input_dict = fg.create_inputs({\"TARGET\": QUInt[NUM_QUBITS], \"aux\": QReg[1]})\n",
    "\n",
    "out_sp_dag = fg.UniformDistributionStatePreparation(\n",
    "    sp_params,\n",
    "    is_inverse=True,\n",
    "    strict_zero_ios=False,\n",
    "    in_wires={\"OUT\": input_dict[\"TARGET\"]},\n",
    ")\n",
    "\n",
    "\n",
    "control_state = ControlState(ctrl_state=\"0\" * (NUM_QUBITS), name=\"CTRL\")\n",
    "out_mcx = fg.XGate(\n",
    "    XGate(),\n",
    "    control_states=control_state,\n",
    "    in_wires={\"TARGET\": input_dict[\"aux\"], \"CTRL\": out_sp_dag[\"IN\"]},\n",
    ")\n",
    "\n",
    "out_x = fg.RZGate(\n",
    "    params=rz_params,\n",
    "    in_wires={\"TARGET\": out_mcx[\"TARGET\"]},\n",
    ")\n",
    "\n",
    "out_mcx2 = fg.XGate(\n",
    "    XGate(),\n",
    "    control_states=control_state,\n",
    "    in_wires={\"TARGET\": out_x[\"TARGET\"], \"CTRL\": out_mcx[\"CTRL\"]},\n",
    ")\n",
    "\n",
    "out_sp = fg.UniformDistributionStatePreparation(\n",
    "    sp_params, strict_zero_ios=False, in_wires={\"IN\": out_mcx2[\"CTRL\"]}\n",
    ")\n",
    "fg.set_outputs({\"TARGET\": out_sp[\"OUT\"], \"aux\": out_mcx2[\"TARGET\"]})\n",
    "qsvt_library.add_function(fg.to_function_definition())"
   ]
  },
  {
   "cell_type": "markdown",
   "id": "2bee148a-9f0b-415f-a64a-173e2b23ceda",
   "metadata": {},
   "source": [
    "## Create the full QSVT Model"
   ]
  },
  {
   "cell_type": "code",
   "execution_count": null,
   "id": "42952ee7-7fe8-4474-afe6-9f6de881fbd7",
   "metadata": {
    "tags": []
   },
   "outputs": [],
   "source": [
    "from classiq import Constraints, Model\n",
    "from classiq.builtin_functions import HGate, Identity\n",
    "\n",
    "DEGREE = 25\n",
    "X_BASIS = True\n",
    "\n",
    "model = Model()\n",
    "model.include_library(qsvt_library)\n",
    "\n",
    "# state preparation\n",
    "signal_reg = model.UniformDistributionStatePreparation(sp_params)[\"OUT\"]\n",
    "if X_BASIS:\n",
    "    aux_reg = model.HGate(HGate())[\"TARGET\"]\n",
    "    wires_dict = {\"TARGET\": signal_reg, \"aux\": aux_reg}\n",
    "else:\n",
    "    wires_dict = {\"TARGET\": signal_reg}\n",
    "\n",
    "# We need odd polynomial since we must end at the end state. This is why we need the sign function\n",
    "# and not just y(x) = 1, which is even.\n",
    "for i in range((DEGREE + 1) // 2):\n",
    "    wires_dict = model.target_state_rotation(\n",
    "        parameters_dict={\"theta\": f\"p{2*i}\"}, in_wires=wires_dict\n",
    "    )\n",
    "    wires_dict = model.initial_state_rotation(\n",
    "        parameters_dict={\"theta\": f\"p{2*i+1}\"}, in_wires=wires_dict\n",
    "    )\n",
    "\n",
    "if (DEGREE + 1) % 2 == 1:\n",
    "    wires_dict = model.target_state_rotation(\n",
    "        parameters_dict={\"theta\": f\"p{DEGREE}\"}, in_wires=wires_dict\n",
    "    )\n",
    "\n",
    "if X_BASIS:\n",
    "    h_out = model.HGate(HGate(), in_wires={\"TARGET\": wires_dict[\"aux\"]})[\"TARGET\"]\n",
    "else:\n",
    "    h_out = wires_dict[\"aux\"]\n",
    "model.set_outputs(\n",
    "    {\n",
    "        \"a\": wires_dict[\"TARGET\"][:2],\n",
    "        \"b\": wires_dict[\"TARGET\"][2:3],\n",
    "        \"c\": wires_dict[\"TARGET\"][3:],\n",
    "        \"aux\": h_out,\n",
    "    }\n",
    ")"
   ]
  },
  {
   "cell_type": "markdown",
   "id": "3b09beb5-0505-493a-8186-2edb158d5a2a",
   "metadata": {},
   "source": [
    "### get the phase sequence for the sign function"
   ]
  },
  {
   "cell_type": "markdown",
   "id": "d84741db-2350-4825-acd6-3f7701e7bdaf",
   "metadata": {
    "tags": []
   },
   "source": [
    "Now we will use the package `pyqsp` in order to get the phases of the rotation sequence.\n",
    "Get directly the coef of the sign function, based on the erfc approximation."
   ]
  },
  {
   "cell_type": "code",
   "execution_count": null,
   "id": "73d83af6-8d2c-4e8a-b392-1ba337f74ca0",
   "metadata": {
    "tags": []
   },
   "outputs": [],
   "source": [
    "import pyqsp\n",
    "\n",
    "pg = pyqsp.poly.PolySign()\n",
    "pcoefs, scale = pg.generate(\n",
    "    degree=DEGREE, delta=10, ensure_bounded=True, return_scale=True\n",
    ")"
   ]
  },
  {
   "cell_type": "code",
   "execution_count": null,
   "id": "267d3e27-135b-4167-b6b6-8a06a8a99aaa",
   "metadata": {
    "tags": []
   },
   "outputs": [],
   "source": [
    "import numpy as np\n",
    "from pyqsp.angle_sequence import Polynomial, QuantumSignalProcessingPhases\n",
    "\n",
    "poly = Polynomial(pcoefs)\n",
    "# choosing 'z' this basis since P(1)=1 and won't to avoid the QSP basis change. Anyway, we are not measuring directly this qubit.\n",
    "measurement = \"x\"\n",
    "if not X_BASIS:\n",
    "    measurement = \"z\"\n",
    "ang_seq = QuantumSignalProcessingPhases(\n",
    "    poly, signal_operator=\"Wx\", method=\"laurent\", measurement=measurement\n",
    ")\n",
    "pyqsp.response.PlotQSPResponse(ang_seq, signal_operator=\"Wx\", measurement=measurement)"
   ]
  },
  {
   "cell_type": "markdown",
   "id": "adff4cbc-dad9-4fe1-871e-298c9e5e3393",
   "metadata": {},
   "source": [
    "As $R(a)=-i*e^{i\\frac{\\pi}{4}Z}W(a)e^{i\\frac{\\pi}{4}Z}$ and we have odd number of rotations, we get an $i$ phase to our polynomial, so we get $Im(P(a))$ instead of the real part. So we will get the result in the $|1\\rangle$ state in the ancilla. However, we can fix it by adding $\\pi/2$ phase to the last or first rotation."
   ]
  },
  {
   "cell_type": "code",
   "execution_count": null,
   "id": "de17bdc1-b753-40ca-b8f0-abe625eae462",
   "metadata": {
    "tags": []
   },
   "outputs": [],
   "source": [
    "#### change the R(x) to W(x), as the phases are in the W(x) conventions\n",
    "phases = np.array(ang_seq)\n",
    "phases = phases - np.pi / 2\n",
    "phases[0] = phases[0] + np.pi / 4\n",
    "phases[-1] = phases[-1] + np.pi / 4 + np.pi / 2\n",
    "\n",
    "phases = (\n",
    "    -2 * phases\n",
    ")  # verify conventions. minus is due to exp(-i*phi*z) in qsvt in comparison to qsp"
   ]
  },
  {
   "cell_type": "markdown",
   "id": "6493595c-d92d-4470-865c-367b1ba0e662",
   "metadata": {},
   "source": [
    "## Synthesis and execution on a simulator"
   ]
  },
  {
   "cell_type": "markdown",
   "id": "e1de3b81-2152-4ecf-9cd4-97be748561f9",
   "metadata": {},
   "source": [
    "We will use classiq's synthesis engine to translate the model to a quantum circuit, and execute on the `aer simulator`"
   ]
  },
  {
   "cell_type": "code",
   "execution_count": null,
   "id": "cf56b7d2-8a65-4756-9b53-16359f47d527",
   "metadata": {
    "tags": []
   },
   "outputs": [],
   "source": [
    "import numpy as np\n",
    "\n",
    "from classiq import execute, show, synthesize\n",
    "from classiq.execution import ClassiqBackendPreferences, ExecutionPreferences\n",
    "\n",
    "NUM_SHOTS = 1000\n",
    "model.execution_preferences = ExecutionPreferences(\n",
    "    num_shots=NUM_SHOTS,\n",
    "    backend_preferences=ClassiqBackendPreferences(backend_name=\"aer_simulator\"),\n",
    ")\n",
    "\n",
    "parameters = {f\"p{i}\": float(phases[i]) for i in range(len(phases))}\n",
    "model.sample(execution_params=parameters)\n",
    "\n",
    "model.constraints = Constraints(max_width=12)\n",
    "qmod = model.get_model()"
   ]
  },
  {
   "cell_type": "code",
   "execution_count": null,
   "id": "5fc8afa3-2746-4c88-b12a-e9f5e5bdb3b6",
   "metadata": {},
   "outputs": [],
   "source": [
    "with open(\"qsvt_fixed_point_amplitude_amplification.qmod\", \"w\") as f:\n",
    "    f.write(qmod)"
   ]
  },
  {
   "cell_type": "code",
   "execution_count": null,
   "id": "69c827b2-0330-40d3-af08-1d669e8c43a5",
   "metadata": {
    "tags": []
   },
   "outputs": [],
   "source": [
    "qprog = synthesize(qmod)\n",
    "show(qprog)"
   ]
  },
  {
   "cell_type": "markdown",
   "id": "762aec30-4746-4632-b3b4-c104cab731a2",
   "metadata": {},
   "source": [
    "Execute the circuit:"
   ]
  },
  {
   "cell_type": "code",
   "execution_count": null,
   "id": "4f0678db-c669-420a-8e17-b071e4b35173",
   "metadata": {
    "tags": []
   },
   "outputs": [],
   "source": [
    "from classiq.execution import ExecutionDetails\n",
    "\n",
    "raw_results = execute(qprog).result()\n",
    "results = raw_results[0].value"
   ]
  },
  {
   "cell_type": "code",
   "execution_count": null,
   "id": "93e7a0d5-ca40-4ffa-936c-da8a750408c2",
   "metadata": {
    "tags": []
   },
   "outputs": [],
   "source": [
    "def to_int(x):\n",
    "    return int(x, 2)\n",
    "\n",
    "\n",
    "def equation(a, b, c):\n",
    "    return eval(EQUATION)\n",
    "\n",
    "\n",
    "for key, counts in results.counts_of_multiple_outputs([\"a\", \"b\", \"c\", \"aux\"]).items():\n",
    "    a, b, c, aux = to_int(key[0]), to_int(key[1]), to_int(key[2]), to_int(key[3])\n",
    "    if equation(a, b, c):\n",
    "        print(\n",
    "            f\"a: {a}, b: {b}, c: {c}, aux: {aux}, equation_result: {equation(a, b, c)}, counts={counts}\"\n",
    "        )"
   ]
  },
  {
   "cell_type": "markdown",
   "id": "ddb24bd0-ae8d-4b2e-9d4b-fc6aec0cd298",
   "metadata": {},
   "source": [
    "What do we expect?\n",
    "\n",
    "We need to subtitue the amplitude of $|s\\rangle\\langle t|$ in $P(x)$:"
   ]
  },
  {
   "cell_type": "code",
   "execution_count": null,
   "id": "d4387720-27dc-45ac-9938-98c9fceda58f",
   "metadata": {
    "tags": []
   },
   "outputs": [],
   "source": [
    "NUM_SHOTS * (poly(np.sqrt(2 / 2**6)) ** 2)"
   ]
  },
  {
   "cell_type": "markdown",
   "id": "0af1b8bf-2e53-4c4b-bb31-27b7463bc245",
   "metadata": {},
   "source": [
    "Indeed, we got the expected result according to the polynomial we created with the QSVT sequence."
   ]
  },
  {
   "cell_type": "markdown",
   "id": "982cd6a4-7abc-4f87-a00d-12e5445cc94b",
   "metadata": {},
   "source": [
    "## References\n",
    "\n",
    "<a id='grand'>[1]</a>: [Martyn JM, Rossi ZM, Tan AK, Chuang IL. Grand unification of quantum algorithms. PRX Quantum. 2021 Dec 3;2(4):040203.](https://journals.aps.org/prxquantum/abstract/10.1103/PRXQuantum.2.040203)\n"
   ]
  }
 ],
 "metadata": {
  "kernelspec": {
   "display_name": "Python 3 (ipykernel)",
   "language": "python",
   "name": "python3"
  },
  "language_info": {
   "codemirror_mode": {
    "name": "ipython",
    "version": 3
   },
   "file_extension": ".py",
   "mimetype": "text/x-python",
   "name": "python",
   "nbconvert_exporter": "python",
   "pygments_lexer": "ipython3",
   "version": "3.11.4"
  }
 },
 "nbformat": 4,
 "nbformat_minor": 5
}
