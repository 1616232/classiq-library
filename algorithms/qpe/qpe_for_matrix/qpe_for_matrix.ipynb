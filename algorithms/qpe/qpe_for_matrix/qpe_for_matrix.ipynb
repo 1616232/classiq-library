{
 "cells": [
  {
   "cell_type": "markdown",
   "id": "75e2c1fe-8a06-4f0b-8fd6-d1b6d10ce82f",
   "metadata": {},
   "source": [
    "# Quantum Phase Estimation for Solving Matrix Eigenvalues\n",
    "\n",
    "Quantum Phase Estimation (QPE) is a key algorithm in quantum computing, allowing one to estimate the phase (or eigenvalue) relating to a Hermitian matrix. The algorithm is designed so, that given the inputs of a matrix $M$, and an eigenvalue ${|\\psi\\rangle}$, the output that will be obtained is $\\theta$ where\n",
    "\n",
    "$ U{|\\psi\\rangle} = e^{2\\pi i\\theta}{|\\psi\\rangle} , U = e^{2\\pi iM} $.\n",
    "\n",
    "By measuring the phase accumulated, the QPE algorithm allows calculating the eigenvalues relating to the chosen inputted vector. To read more about the QPE algorithm and the method it achieves the phase, we recommend [[1](#NC)].\n",
    "\n",
    "In the general case, where the eigenvectors of the matrix are not known in advance yet the eigenvalues are sought, one can chose a random vector ${|v\\rangle}$ for the algorithm’s initial state. For that case, some eigenvalues will be found as the vector can be described in the matrix's basis. Let us define {$\\psi_i$} to be a set of eigenvalues of $M$. Generally, any vector can be written as a superposition of any basis set, thus -\n",
    "\n",
    "${|v\\rangle} = \\sum_i a_i{|\\psi_i\\rangle}$\n",
    "\n",
    "and -\n",
    "\n",
    "$U{|v\\rangle} = \\sum_i a_i e^{2\\pi i\\theta_i}{|\\psi_i\\rangle}$.\n",
    "\n",
    "Using execution with enough shots, one will obtain this set of $\\theta_i$, i.e., a subset of the matrix's eigenvalues.\n",
    "\n",
    "#### During this tutorial, we will follow the QPE algorithms steps as following:\n",
    "\n",
    "a. Define a matrix.\n",
    "\n",
    "b. Chose either it's eigenstate or a random vector.\n",
    "\n",
    "c. Chose a resolution for our solution.\n",
    "\n",
    "d. Find the related eigenvectors by using QPE and analyze the results."
   ]
  },
  {
   "cell_type": "markdown",
   "id": "7cd71faa-1ef3-4d67-8c9a-d66e0a895b9a",
   "metadata": {},
   "source": [
    "## 0. Pre-requirments\n",
    "\n",
    "The model is using several Classiq's libraries in addition to IBM's simulating tool."
   ]
  },
  {
   "cell_type": "code",
   "execution_count": null,
   "id": "11eaf8f8-c06e-443e-ac74-5aa364f5198c",
   "metadata": {
    "tags": []
   },
   "outputs": [],
   "source": [
    "import matplotlib.pyplot as plt\n",
    "import numpy as np\n",
    "import scipy\n",
    "from numpy import linalg as LA\n",
    "\n",
    "# for chemistry\n",
    "from classiq import Model\n",
    "from classiq.applications.chemistry import Molecule, MoleculeProblem\n",
    "\n",
    "# for exponentiation\n",
    "from classiq.builtin_functions import (\n",
    "    UCC,\n",
    "    Exponentiation,\n",
    "    HardwareEfficientAnsatz,\n",
    "    HartreeFock,\n",
    "    PhaseEstimation,\n",
    "    StatePreparation,\n",
    "    UnitaryGate,\n",
    ")\n",
    "from classiq.builtin_functions.exponentiation import (\n",
    "    ExponentiationConstraints,\n",
    "    ExponentiationOptimization,\n",
    "    PauliOperator,\n",
    ")\n",
    "from classiq.builtin_functions.qpe import (\n",
    "    ExponentiationScaling,\n",
    "    ExponentiationSpecification,\n",
    ")\n",
    "from classiq.execution import IBMBackendPreferences\n",
    "\n",
    "# for state preperation and phase estimation\n",
    "from classiq.model import Constraints, Preferences"
   ]
  },
  {
   "cell_type": "markdown",
   "id": "ac537458-568d-4718-9020-408cc7232641",
   "metadata": {},
   "source": [
    "## 1. Chose the QPE Parameters"
   ]
  },
  {
   "cell_type": "markdown",
   "id": "2a6f04f8-f4f7-46dc-a8e3-05559d8906f3",
   "metadata": {},
   "source": [
    "### 1.1. Set the Matrix\n",
    "\n",
    "Here, we will define the matrix we would like to submit. This can be any harmitian matrix with size $2^n$ by $2^n$ with $n$ a positive integer. We will use this matrix throughout our code under the name `M`."
   ]
  },
  {
   "cell_type": "code",
   "execution_count": null,
   "id": "3e9c8c83-58ed-4f99-89ac-9cea3f1b4a5e",
   "metadata": {
    "tags": []
   },
   "outputs": [],
   "source": [
    "# M = np.array([[0.25, 0], [0, 0.5]])\n",
    "\n",
    "# M = np.array([[0.3, 0], [0, 0.35]])\n",
    "\n",
    "# M = np.array([[0,0,0,0], [0, 3,0,0],[0, 0,0.5,0],[0, 0,0,0.75]])\n",
    "\n",
    "# M = np.array([[0,0,0,0], [0, 3,0,0],[0, 0,-0.5,0],[0, 0,0,-0.75]])\n",
    "\n",
    "M = np.array([[0, 3, 4, 0], [-0.8, 3, 0, 0], [1, 0, -0.5, 5], [0, 0, 0, -0.75]])\n",
    "\n",
    "M = np.array(\n",
    "    [\n",
    "        [0.38891555, 0.23315811, 0.21499372, 0.06119557],\n",
    "        [0.23315811, 0.44435328, 0.25197881, -0.13087919],\n",
    "        [0.21499372, 0.25197881, 0.44116509, -0.01961855],\n",
    "        [0.06119557, -0.13087919, -0.01961855, 0.32556608],\n",
    "    ]\n",
    ")\n",
    "\n",
    "M_t = M.transpose()\n",
    "\n",
    "M = (M + M_t) / 2"
   ]
  },
  {
   "cell_type": "markdown",
   "id": "3a6edbc6-1100-4824-a15e-c985728f544b",
   "metadata": {},
   "source": [
    "### 1.2. Set the Vector\n",
    "\n",
    "Here we will choose the vector which will be defined later as the initial condition for the run. There are two options - you can define any vector by using the parameter `eigen_vec` to be `False`, and changing the value `int_vec`.\n",
    "\n",
    "If you take `eigen_vec` to be `True`, then you can choose a number of eigenvalue that will be set as the initial state under `ev`."
   ]
  },
  {
   "cell_type": "code",
   "execution_count": null,
   "id": "736b0585-d019-4b22-84af-1e7f36a509d5",
   "metadata": {
    "tags": []
   },
   "outputs": [],
   "source": [
    "eigen_vec = False\n",
    "\n",
    "if eigen_vec:\n",
    "    w, v = LA.eig(M)\n",
    "    print(\"the eigenvalues are\", w)\n",
    "    print(\"the eigenvectors are\", v, sep=\"\\n\")\n",
    "    ev = 1\n",
    "    int_vec = v[:, ev]\n",
    "else:\n",
    "    int_vec = np.random.rand(np.shape(M)[0])\n",
    "\n",
    "print(\"Your initial state is\", int_vec)"
   ]
  },
  {
   "cell_type": "markdown",
   "id": "10246e6b-12e9-4dbc-ad2a-76143f312dc3",
   "metadata": {},
   "source": [
    "## 2. Preparing the Matrix for QPE"
   ]
  },
  {
   "cell_type": "markdown",
   "id": "bf9ca2c4-daf4-4e5c-9ad2-1b119c653cf8",
   "metadata": {},
   "source": [
    "### 2.1 Translating the Matrix into Pauli_ops\n",
    "\n",
    "In order to translate the matrix into quantum circuit language, the matrix should be written in the form of list of strings, of composite pauli operators."
   ]
  },
  {
   "cell_type": "code",
   "execution_count": null,
   "id": "3296cfde-4155-4d76-9ba6-16aa24677a61",
   "metadata": {
    "tags": []
   },
   "outputs": [],
   "source": [
    "###this is the code to take a matrix and tranform it into pauli string\n",
    "\n",
    "import itertools  # noqa\n",
    "from itertools import product\n",
    "\n",
    "from numpy import kron\n",
    "\n",
    "Paulidict = {\n",
    "    \"I\": np.array([[1, 0], [0, 1]], dtype=np.complex128),\n",
    "    \"Z\": np.array([[1, 0], [0, -1]], dtype=np.complex128),\n",
    "    \"X\": np.array([[0, 1], [1, 0]], dtype=np.complex128),\n",
    "    \"Y\": np.array([[0, -1j], [1j, 0]], dtype=np.complex128),\n",
    "}\n",
    "\n",
    "\n",
    "# generate all combinations of Pauli strings of size n\n",
    "def generateAllPauliStrings(seq, n):\n",
    "    for s in product(seq, repeat=n):\n",
    "        yield \"\".join(s)\n",
    "\n",
    "\n",
    "# convert a Paulistring of size n to 2**n X 2**n matrix\n",
    "def PauliString2mat(seq):\n",
    "    myPmat = Paulidict[seq[0]]\n",
    "    for p in seq[1:]:\n",
    "        myPmat = kron(myPmat, Paulidict[p])\n",
    "    return myPmat\n",
    "\n",
    "\n",
    "# Hilbert-Schmidt-Product of two matrices M1, M2\n",
    "def HilbertSchmidt(M1, M2):\n",
    "    return (np.dot(M1.conjugate().transpose(), M2)).trace()\n",
    "\n",
    "\n",
    "# Naive decomposition, running over all HS products for all Pauli strings\n",
    "def LCU_naive(H):\n",
    "    assert H.shape[0] == H.shape[1], \"matrix is not square\"\n",
    "    assert H.shape[0] != 0, \"matrix is of size 0\"\n",
    "    assert H.shape[0] & (H.shape[0] - 1) == 0, \"matrix size is not 2**n\"\n",
    "\n",
    "    n = int(np.log2(H.shape[0]))\n",
    "    myPualiList = list(generateAllPauliStrings(\"IZXY\", n))\n",
    "\n",
    "    mylist = []\n",
    "\n",
    "    for pstr in myPualiList:\n",
    "        co = (1 / 2**n) * HilbertSchmidt(PauliString2mat(pstr), H)\n",
    "        if co != 0:\n",
    "            mylist = mylist + [(pstr, co)]\n",
    "\n",
    "    return mylist"
   ]
  },
  {
   "cell_type": "code",
   "execution_count": null,
   "id": "9c95c12b-5783-456f-92ca-937df78b3259",
   "metadata": {
    "tags": []
   },
   "outputs": [],
   "source": [
    "pauli_ops = LCU_naive(M)\n",
    "print(pauli_ops)"
   ]
  },
  {
   "cell_type": "code",
   "execution_count": null,
   "id": "1cc56c7a-8f2e-4f89-bc0c-7d768b0388d4",
   "metadata": {
    "tags": []
   },
   "outputs": [],
   "source": [
    "pauli_operator = PauliOperator(pauli_list=pauli_ops)\n",
    "N = pauli_operator.num_qubits\n",
    "print(pauli_operator.pauli_list)"
   ]
  },
  {
   "cell_type": "markdown",
   "id": "c69c18c8-566e-46e9-8818-b3baf69ff9eb",
   "metadata": {},
   "source": [
    "### 2.2 Chose the Algorithm's Precision\n",
    "\n",
    "For QPE algorithms, the precision is set by the number of qubits chosen $n$, such that the resolution is $1/{2^n}$. In case the matrix needs to be normalized, the resolution will be distorted. In the case of normalization, the span of results for the QPE is stretched between the lowest and highest possible phase, thus the resolution will be mapped to $normalization-coefficient/{2^n} ~\\sim 1/{((\\lambda_{max}-\\lambda_{min})*2^n)}$.\n",
    "\n",
    "Here you can choose the precision in the parameter `n_qpe`, or by setting your desired resolution. If you choose your desired resolution and set the parameter `get_recommended_n` to be True, the number of qubits will be calculated for you accordingly."
   ]
  },
  {
   "cell_type": "code",
   "execution_count": null,
   "id": "21c12d6d-399b-4ffe-9150-82adff52dd61",
   "metadata": {
    "tags": []
   },
   "outputs": [],
   "source": [
    "n_qpe = 8\n",
    "\n",
    "# recommanded n_qpe:\n",
    "get_recommended_n = False\n",
    "\n",
    "import math\n",
    "\n",
    "desired_resolution = 0.02\n",
    "\n",
    "\n",
    "def get_nqpe(pauli_operator, desired_resolution):\n",
    "    N = pauli_operator.num_qubits\n",
    "    A = 0\n",
    "    for a, b in pauli_operator.pauli_list:\n",
    "        A = A + abs(b)\n",
    "    nqpe = math.log2(2 * N * A / desired_resolution)\n",
    "    return math.ceil(nqpe)\n",
    "\n",
    "\n",
    "if get_recommended_n:\n",
    "    n_qpe = get_nqpe(pauli_operator, desired_resolution)\n",
    "\n",
    "print(\"number of qubits for QPE is\", n_qpe)"
   ]
  },
  {
   "cell_type": "markdown",
   "id": "fa3d1079-c12b-48db-8935-1ea059fdbce9",
   "metadata": {},
   "source": [
    "### 2.3 Normalize the Matrix\n",
    "\n",
    "\n",
    "As QPE obtains a phase in the form $e^{2\\pi i\\theta}$, there is meaning only for $\\theta \\in [0,2\\pi)$. Generally, our matrix M can have any eigenvalue, thus $\\theta$ can have any value. In order to fix this discrepancy, the values of the matrix are stretched to be rescaled. We assume\n",
    "$\\theta \\in [\\lambda_{min}, \\lambda_{max}]$\n",
    "and use a normalization function in order to map those values into $[0, 1-1/{2^n}]$, where $n$ is the number of qubits chosen for the QPE process in section 2.2.\n",
    "\n",
    "We perform the normalization procedure as following:\n",
    "\n",
    "a. We evaluate $\\lambda_{min},\\lambda_{max}$ (in the function ` normalization_params()` below). In order to do so we use rough estimation of the absolute max value that can take place by adding together all the pauli coefficients and multiplying by the matrix's dimensions. That will yield us a value $\\lambda$ (which is referred in the code as `normalization_coeff`) and we now assume that the domain is $\\theta \\in [-\\lambda, \\lambda]$.\n",
    "In general, one can build a more accurate assessment, which will decrease the span of solutions and thus achieve a better resolution.\n",
    "\n",
    "b. We make sure only positive values are available by adding $\\lambda*I^n$ to the pauli list. Now our evaluated span is $[0, 2*\\lambda]$.\n",
    "\n",
    "c. We normalize our matrix by multiplying all of the pauli coefficients by $(1-1/2^n)/(2*\\lambda)$. Now the span of $\\theta$ is $[0, 1-1/2^n]$, as required for proper QPE process.\n",
    "\n",
    "The values of the matrix's eigenvalues should be now between $0$ to $1-(1/2^n)$. The QPE procedure will be performed on this new normalized matrix. After the phases are obtained, the original phases of the pre-normalized matrix will be gathered by performing opposite steps to this normalization procedure.\n",
    "\n",
    "* Note that in case your matrix's eigenvalues are naturally between the values $0$ to $1-(1/2^n)$, you may not want to normalize it, as the normalization procedure may enlarge the span, thus lowering the resolution of the algorithm. In that case, you may skip those lines or change the value `normalize` to False."
   ]
  },
  {
   "cell_type": "code",
   "execution_count": null,
   "id": "2e06bea1-495d-4057-9b4b-664f7ac19717",
   "metadata": {
    "tags": []
   },
   "outputs": [],
   "source": [
    "pauli_operator = PauliOperator(pauli_list=pauli_ops)\n",
    "N = pauli_operator.num_qubits\n",
    "print(pauli_operator.pauli_list)"
   ]
  },
  {
   "cell_type": "code",
   "execution_count": null,
   "id": "5e986c5a-1aae-4d97-be9c-693d7d8c2ae0",
   "metadata": {
    "tags": []
   },
   "outputs": [],
   "source": [
    "# normalizing the operator\n",
    "## we need to create a matrix such that its normalized version will have eigenvalues of [0,1/2^k] when k is the resolution of the QPE\n",
    "normalize = True\n",
    "\n",
    "\n",
    "def normalization_params(pauli_operator, N):\n",
    "    A = 0\n",
    "    for a, b in pauli_operator.pauli_list:\n",
    "        A = A + abs(b)\n",
    "    return N * A\n",
    "\n",
    "\n",
    "def normalize_hamiltonian(pauli_operator, normalization_coeff, k):\n",
    "    new_pauli_operator = []\n",
    "    for a, b in pauli_operator.pauli_list:\n",
    "        if a == \"I\" * N:\n",
    "            new_pauli_operator.append(\n",
    "                (\n",
    "                    a,\n",
    "                    (b + normalization_coeff)\n",
    "                    * (1 - 1 / (2**k))\n",
    "                    / (2 * normalization_coeff),\n",
    "                )\n",
    "            )\n",
    "        else:\n",
    "            new_pauli_operator.append(\n",
    "                (a, b * (1 - 1 / (2**k)) / (2 * normalization_coeff))\n",
    "            )\n",
    "    return new_pauli_operator\n",
    "\n",
    "\n",
    "if normalize:\n",
    "    normalization_coeff = normalization_params(pauli_operator, N)\n",
    "    new_pauli_operator = normalize_hamiltonian(\n",
    "        pauli_operator, normalization_coeff, n_qpe\n",
    "    )\n",
    "    pauli_ops = new_pauli_operator\n",
    "    print(pauli_ops)\n",
    "\n",
    "    size = math.sqrt(M.size)\n",
    "    I = np.eye(int(size))\n",
    "\n",
    "    Mnew = (\n",
    "        (M + normalization_coeff * I)\n",
    "        * (1 - 1 / (2**n_qpe))\n",
    "        / (2 * normalization_coeff)\n",
    "    )\n",
    "\n",
    "else:\n",
    "    Mnew = M"
   ]
  },
  {
   "cell_type": "markdown",
   "id": "62d2e51d-d532-4c26-86dd-a5b9b40d009e",
   "metadata": {},
   "source": [
    "## 3. Creating the Quantum Circuit\n",
    "\n",
    "We will now create a quantum circuit of the QPE algorithm using the Classiq platform. The user is able to fill in their constraints and perefences as desired."
   ]
  },
  {
   "cell_type": "code",
   "execution_count": null,
   "id": "fd4ee616-2a11-46ba-adc0-ed5171d7dd7d",
   "metadata": {
    "tags": []
   },
   "outputs": [],
   "source": [
    "constraints = Constraints()\n",
    "preferences = Preferences()\n",
    "\n",
    "model = Model(preferences=preferences, constraints=constraints)"
   ]
  },
  {
   "cell_type": "markdown",
   "id": "f19e9147-4481-44f6-99a1-72ec103bee60",
   "metadata": {},
   "source": [
    "### 3.1. Initializing the State\n",
    "\n",
    "`StatePreperation` function is used to initialize that state, where the amplitudes are determined by the state set by the user in section 1.2."
   ]
  },
  {
   "cell_type": "code",
   "execution_count": null,
   "id": "62f6e4c8-cdb6-4896-88f9-90fae769b58c",
   "metadata": {
    "tags": []
   },
   "outputs": [],
   "source": [
    "my_amp = tuple(\n",
    "    int_vec / np.linalg.norm(int_vec)\n",
    ")  # amplitude is given by the eignevector\n",
    "\n",
    "sp_upper = 0.00  # precision of the State Preparation\n",
    "\n",
    "sp_params = StatePreparation(\n",
    "    amplitudes=my_amp, error_metric={\"L2\": {\"upper_bound\": sp_upper}}\n",
    ")\n",
    "\n",
    "sp_out = model.StatePreparation(params=sp_params)"
   ]
  },
  {
   "cell_type": "markdown",
   "id": "c4102e49-c8cf-4c9c-9e28-57f3b9167bab",
   "metadata": {},
   "source": [
    "### 3.2. Calling the Phase Estimation\n",
    "\n",
    "There are generally 2 methods for inseting the matrix into the qft - unitary implementation is exact but long, and exponantiation which is approximated but shorter in depth. We will chose the parameter `is exact` to indicate what method chosen."
   ]
  },
  {
   "cell_type": "code",
   "execution_count": null,
   "id": "32ea03c6-7d9f-4cdb-905d-4b8c5925e710",
   "metadata": {
    "tags": []
   },
   "outputs": [],
   "source": [
    "is_exact = False\n",
    "exp_max_depth = 8000\n",
    "\n",
    "if is_exact:\n",
    "    my_unitary = scipy.linalg.expm(1j * 2 * np.pi * Mnew)\n",
    "    exp_params = UnitaryGate(data=my_unitary.tolist())\n",
    "    Qreg_name = {\"IN\": \"TARGET\", \"OUT\": \"TARGET\"}\n",
    "else:\n",
    "    po = pauli_ops\n",
    "    exp_params = Exponentiation(\n",
    "        pauli_operator=PauliOperator(pauli_list=po),\n",
    "        evolution_coefficient=-2 * np.pi,\n",
    "        #                          optimization=ExponentiationOptimization.MINIMIZE_ERROR,\n",
    "        #                          constraints=ExponentiationConstraints(max_depth=exp_max_depth)\n",
    "    )\n",
    "    Qreg_name = {\"IN\": \"IN\", \"OUT\": \"OUT\"}\n",
    "\n",
    "if is_exact:\n",
    "    qpe_params = PhaseEstimation(size=n_qpe, unitary_params=exp_params)\n",
    "else:\n",
    "    qpe_params = PhaseEstimation(\n",
    "        size=n_qpe,\n",
    "        unitary_params=exp_params,\n",
    "        exponentiation_specification=ExponentiationSpecification(\n",
    "            scaling=ExponentiationScaling(max_depth=200, max_depth_scaling_factor=1.8)\n",
    "        ),\n",
    "    )\n",
    "\n",
    "qpe_out = model.PhaseEstimation(\n",
    "    params=qpe_params, in_wires={Qreg_name[\"IN\"]: sp_out[\"OUT\"]}\n",
    ")"
   ]
  },
  {
   "cell_type": "markdown",
   "id": "33a232f1-0970-4c4e-83b8-0fc5490bf4dd",
   "metadata": {},
   "source": [
    "### 3.3. Defining the Registers\n",
    "\n",
    "The following step is made in order to have a map of the relevant outputted qubits for analysis."
   ]
  },
  {
   "cell_type": "code",
   "execution_count": null,
   "id": "03a25ae8-981b-4fe5-883f-32557f47ff82",
   "metadata": {
    "tags": []
   },
   "outputs": [],
   "source": [
    "model.set_outputs({\"phase_result\": qpe_out[\"PHASE_ESTIMATION\"]})"
   ]
  },
  {
   "cell_type": "markdown",
   "id": "467eca03-8a66-43d8-b2af-6d86b21e36d5",
   "metadata": {},
   "source": [
    "### 3.4. Synthesizing the Circuit\n",
    "\n",
    "Hereby we syntesize the circuit and show it using the analyzer."
   ]
  },
  {
   "cell_type": "code",
   "execution_count": null,
   "id": "65439119-9199-4342-9e21-7411eacf3085",
   "metadata": {
    "tags": []
   },
   "outputs": [],
   "source": [
    "from classiq.execution import ExecutionPreferences\n",
    "\n",
    "num_shots = 10000\n",
    "model.execution_preferences = ExecutionPreferences(num_shots=num_shots)\n",
    "\n",
    "model.sample()\n",
    "qmod = model.get_model()"
   ]
  },
  {
   "cell_type": "code",
   "execution_count": null,
   "id": "ca339f0c-4ffe-4130-8541-5621325e0c84",
   "metadata": {},
   "outputs": [],
   "source": [
    "with open(\"qpe_for_matrix.qmod\", \"w\") as f:\n",
    "    f.write(qmod)"
   ]
  },
  {
   "cell_type": "code",
   "execution_count": null,
   "id": "6f141a63-065f-45b8-8c44-992342321818",
   "metadata": {
    "tags": []
   },
   "outputs": [],
   "source": [
    "from classiq import synthesize\n",
    "\n",
    "qprog = synthesize(qmod)"
   ]
  },
  {
   "cell_type": "code",
   "execution_count": null,
   "id": "13bc5f65-15d8-4731-a05b-16e15b92c2aa",
   "metadata": {
    "tags": []
   },
   "outputs": [],
   "source": [
    "from classiq import GeneratedCircuit\n",
    "\n",
    "circuit = GeneratedCircuit.from_qprog(qprog)\n",
    "circuit.show()"
   ]
  },
  {
   "cell_type": "markdown",
   "id": "7483f266-af0f-4d08-aa96-317b4044df58",
   "metadata": {},
   "source": [
    "# 4. Measurment and GeneratedCircuitalysis\n"
   ]
  },
  {
   "cell_type": "markdown",
   "id": "e5bf0b3c-839f-43de-9da1-cba55ceba995",
   "metadata": {},
   "source": [
    "### 4.1. Circuit Execution\n",
    "\n",
    "The circuit is now sent to execution by a chosen backend."
   ]
  },
  {
   "cell_type": "code",
   "execution_count": null,
   "id": "7a6b833b-ec74-4432-9bf5-0ce351149761",
   "metadata": {
    "tags": []
   },
   "outputs": [],
   "source": [
    "from classiq import execute\n",
    "\n",
    "results = execute(qprog).result()"
   ]
  },
  {
   "cell_type": "code",
   "execution_count": null,
   "id": "5717e0dd-0354-4f88-be2c-88442a81ead0",
   "metadata": {
    "tags": []
   },
   "outputs": [],
   "source": [
    "from classiq.execution import ExecutionDetails\n",
    "\n",
    "results = results[0].value"
   ]
  },
  {
   "cell_type": "markdown",
   "id": "8611351f-1b14-4969-878d-6f022cdfce2a",
   "metadata": {},
   "source": [
    "### 4.2. Presenting the Result's Count"
   ]
  },
  {
   "cell_type": "markdown",
   "id": "41009d2c-4276-409b-b9f4-8dee8103f208",
   "metadata": {},
   "source": [
    "### 4.3. Chosing the Most Probable Solution\n",
    "\n",
    "Hereby the user will choose the number of eigenvalues they wish to extract from the poll of results. The value `number_of_solutions` will determine how many results out of `qpe_results` will be analyzed. The algorithm `solution_search` will save only the `number_of_solutions` highest count results from the execution."
   ]
  },
  {
   "cell_type": "code",
   "execution_count": null,
   "id": "6ac801fd-5933-4b84-8a8b-6c520ba77842",
   "metadata": {
    "tags": []
   },
   "outputs": [],
   "source": [
    "number_of_solutions = 2  # number of phases sought"
   ]
  },
  {
   "cell_type": "code",
   "execution_count": null,
   "id": "4a54cb17-8c0a-4b00-a3a3-6e276fa92b53",
   "metadata": {
    "tags": []
   },
   "outputs": [],
   "source": [
    "solution = [\n",
    "    sampled_state.state[\"phase_result\"]\n",
    "    for sampled_state in results.parsed_counts[:number_of_solutions]\n",
    "]\n",
    "print(\"Your qubit solution is\", solution, sep=\"\\n\")"
   ]
  },
  {
   "cell_type": "markdown",
   "id": "2f784e6f-d7ed-4cc9-81dd-f6b952d0dc01",
   "metadata": {},
   "source": [
    "### 4.4. Translating into Eigenvalue (Phase)\n",
    "\n",
    "Here, the value in the vector `results` are translated from a binary number into a full solution for the eigenvalues."
   ]
  },
  {
   "cell_type": "markdown",
   "id": "986d511b-a8a1-4b87-8561-2726ad4fbcec",
   "metadata": {},
   "source": [
    "At first - the binary number is translated into a decimal value."
   ]
  },
  {
   "cell_type": "code",
   "execution_count": null,
   "id": "87718e4b-3ccb-470a-850b-0e3534396b28",
   "metadata": {
    "tags": []
   },
   "outputs": [],
   "source": [
    "dec_sol_vec = [sol / (2**n_qpe) for sol in solution]\n",
    "\n",
    "print(\"Your decimal solutions are\", dec_sol_vec, sep=\"\\n\")"
   ]
  },
  {
   "cell_type": "markdown",
   "id": "0a52ec59-1a51-4d54-b5bf-01706f305bca",
   "metadata": {},
   "source": [
    "Secondy, the decimal value is mapped back into the original values, i.e. renormalized into it's original span."
   ]
  },
  {
   "cell_type": "code",
   "execution_count": null,
   "id": "1409b9d6-4681-4eb9-9dc5-d9bca9c6ed1e",
   "metadata": {
    "tags": []
   },
   "outputs": [],
   "source": [
    "# renormalize into the \"real\" solution -\n",
    "if normalize:\n",
    "    solution = [\n",
    "        (\n",
    "            (value * 2 * normalization_coeff / (1 - (1 / 2**n_qpe)))\n",
    "            - normalization_coeff\n",
    "        )\n",
    "        for value in dec_sol_vec\n",
    "    ]\n",
    "else:\n",
    "    solution = dec_sol_vec"
   ]
  },
  {
   "cell_type": "markdown",
   "id": "a4f38ad9-8f04-48e3-b175-9f0f855dc415",
   "metadata": {},
   "source": [
    "The final results of the phases (matrix's eigenvlues) is therefore:"
   ]
  },
  {
   "cell_type": "code",
   "execution_count": null,
   "id": "2f8c746d-3659-4793-99e8-aec8250cecec",
   "metadata": {
    "tags": []
   },
   "outputs": [],
   "source": [
    "print(solution)"
   ]
  },
  {
   "cell_type": "markdown",
   "id": "a816bccd-e839-431f-a939-3624c4d787f9",
   "metadata": {},
   "source": [
    "And the results including the error contributed from the resolution (number of qubits participating in the QPE) are:"
   ]
  },
  {
   "cell_type": "code",
   "execution_count": null,
   "id": "79f1c1ba-61fd-438e-a3d5-7606ea95e70f",
   "metadata": {
    "tags": []
   },
   "outputs": [],
   "source": [
    "if normalize:\n",
    "    energy_resolution = (\n",
    "        (1 / (2**n_qpe)) * 2 * normalization_coeff / (1 - (1 / 2**n_qpe))\n",
    "    )\n",
    "else:\n",
    "    energy_resolution = 1 / (2**n_qpe)\n",
    "\n",
    "print(\"the resolution of results is\", energy_resolution)\n",
    "\n",
    "for sol in solution:\n",
    "    print(\n",
    "        \"the solutions are between\",\n",
    "        sol - energy_resolution,\n",
    "        \"and\",\n",
    "        sol + energy_resolution,\n",
    "    )\n",
    "\n",
    "    ###if zero or exceed the normalization range need to add conditions"
   ]
  },
  {
   "cell_type": "markdown",
   "id": "7408ccdb-7f14-41a4-b91b-320ec3e7a58d",
   "metadata": {},
   "source": [
    "### 4.5. Compare to Exact Results:"
   ]
  },
  {
   "cell_type": "code",
   "execution_count": null,
   "id": "4032aaa8-d124-4c76-bea1-646e3162b02a",
   "metadata": {
    "tags": []
   },
   "outputs": [],
   "source": [
    "w, v = LA.eig(M)\n",
    "\n",
    "print(\"the eigenvalues are\", w)\n",
    "print(\"the eigenvectors are\", v, sep=\"\\n\")"
   ]
  },
  {
   "cell_type": "markdown",
   "id": "4374c43d-a6be-4ba4-9013-7a5a7ea78a28",
   "metadata": {},
   "source": [
    "### 4.6. Find the Solution's Histogram"
   ]
  },
  {
   "cell_type": "code",
   "execution_count": null,
   "id": "4b35f44e-a0a1-449b-9015-bf6af2ad53ea",
   "metadata": {
    "tags": []
   },
   "outputs": [],
   "source": [
    "import matplotlib.pyplot as plt\n",
    "import numpy as np\n",
    "\n",
    "energy_vec = []\n",
    "energy_prob = []\n",
    "\n",
    "for sampled_state in results.parsed_counts:\n",
    "    temp = sampled_state.state[\"phase_result\"] / (2**n_qpe)\n",
    "    if normalize:\n",
    "        temp2 = (\n",
    "            temp * 2 * normalization_coeff / (1 - (1 / 2**n_qpe))\n",
    "        ) - normalization_coeff\n",
    "    else:\n",
    "        temp2 = temp\n",
    "    energy_vec.append(temp2)\n",
    "    energy_prob.append(sampled_state.shots / num_shots)"
   ]
  },
  {
   "cell_type": "code",
   "execution_count": null,
   "id": "463a3503-dee1-4fb0-bdf7-e698aafd0b9f",
   "metadata": {
    "tags": []
   },
   "outputs": [],
   "source": [
    "plt.plot(energy_vec, energy_prob, \".\")\n",
    "plt.show()"
   ]
  },
  {
   "cell_type": "markdown",
   "id": "4f8c7bf0-0dc7-42aa-be09-07f12dfd1dd0",
   "metadata": {},
   "source": [
    "## 5. Appendices"
   ]
  },
  {
   "cell_type": "markdown",
   "id": "11b2666d-0efa-4e7b-a0b6-fd66c2e4ed9f",
   "metadata": {},
   "source": [
    "This code is converting pauli list of operators to a matrix array. It can be useful for debugging purposes."
   ]
  },
  {
   "cell_type": "code",
   "execution_count": null,
   "id": "37d820cd-10ee-48b2-a14d-8152a8871e35",
   "metadata": {
    "tags": []
   },
   "outputs": [],
   "source": [
    "# for debug\n",
    "\n",
    "# make back pauli_ops into M\n",
    "import numpy as np\n",
    "from numpy import kron\n",
    "\n",
    "Paulidict = {\n",
    "    \"I\": np.array([[1, 0], [0, 1]], dtype=np.complex128),\n",
    "    \"Z\": np.array([[1, 0], [0, -1]], dtype=np.complex128),\n",
    "    \"X\": np.array([[0, 1], [1, 0]], dtype=np.complex128),\n",
    "    \"Y\": np.array([[0, -1j], [1j, 0]], dtype=np.complex128),\n",
    "}\n",
    "\n",
    "\n",
    "def PauliString2mat(seq):\n",
    "    myPmat = Paulidict[seq[0]]\n",
    "    for p in seq[1:]:\n",
    "        myPmat = kron(myPmat, Paulidict[p])\n",
    "    return myPmat\n",
    "\n",
    "\n",
    "pauli_example = pauli_ops\n",
    "\n",
    "mat_new = 0\n",
    "for s in pauli_example:\n",
    "    mat_new = mat_new + s[1] * PauliString2mat(s[0])\n",
    "\n",
    "print(mat_new)\n",
    "\n",
    "w, v = LA.eig(mat_new)\n",
    "\n",
    "print(\"the eigenvalues are\", w)\n",
    "print(\"the eigenvectors are\", v, sep=\"\\n\")"
   ]
  },
  {
   "cell_type": "markdown",
   "id": "ccf4a9b9-da66-4495-846a-7dab8b736c63",
   "metadata": {},
   "source": [
    "## References\n",
    "\n",
    "<a name='NC'>[1]</a>: [Michael A. Nielsen and Isaac L. Chuang. 2011. Quantum Computation and Quantum Information: 10th Anniversary Edition, Cambridge University Press, New York, NY, USA.\n",
    "](http://mmrc.amss.cas.cn/tlb/201702/W020170224608149940643.pdf)\n"
   ]
  }
 ],
 "metadata": {
  "kernelspec": {
   "display_name": "Python 3 (ipykernel)",
   "language": "python",
   "name": "python3"
  },
  "language_info": {
   "codemirror_mode": {
    "name": "ipython",
    "version": 3
   },
   "file_extension": ".py",
   "mimetype": "text/x-python",
   "name": "python",
   "nbconvert_exporter": "python",
   "pygments_lexer": "ipython3",
   "version": "3.11.4"
  }
 },
 "nbformat": 4,
 "nbformat_minor": 5
}
