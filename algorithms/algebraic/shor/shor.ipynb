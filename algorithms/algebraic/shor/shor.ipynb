{
 "cells": [
  {
   "cell_type": "markdown",
   "id": "e3dd64c6-28cc-418f-ae4a-fadd4791e6b2",
   "metadata": {
    "tags": []
   },
   "source": [
    "\n",
    "# Factoring 15 with Shor's Algorithm\n",
    "\n"
   ]
  },
  {
   "cell_type": "markdown",
   "id": "fbfe5758-7fa5-4596-9473-582d3197abe8",
   "metadata": {},
   "source": [
    "## Introduction\n",
    "\n",
    "The integer factorization problem [[1](#IntegerFactor)] is a famous problem in number theory: given a number $N$ which is composite, find its prime factors. The importance of the problem stems from the fact that no efficient (polynomial-time, in the number of bits needed to represent $N$) classical algorithm is known for it to this day, and much of modern day cryptography relies on this fact. In 1994, Peter Shor came up with an efficient _quantum_ algorithm for the problem [[2](#Shor94)] - providing one of the first concrete pieces of evidence for the power of quantum computers.\n",
    "\n",
    "### Shor's Algorithm\n",
    "\n",
    "Shor's algorithm consists of a classical part and a quantum subroutine. The steps of the algorithm for factoring an input number $N$, summarized from [[3](#ShorSteps)], are as follows:\n",
    "\n",
    "1. Pick a random number $1 < a < N$ that is co-prime with $N$. Co-primality can be checked by computing the GCD (greatest common divisor) of $a$ and $N$ - if it is 1 then we have found a co-prime $a$, otherwise we have found a non-trivial factor of $N$ and we are done.\n",
    "2. Find the period $r$ of the following function, using the quantum period finding algorithm (described in [[4](#PeriodFinding)]): $$f(x) = a^x \\mod N$$\n",
    "3. If $r$ is odd or $a^{r/2} = -1 \\mod N$, return to step 1 (this event can be shown to happen with probability at most $1/2$).\n",
    "4. Otherwise, $\\gcd(a^{r/2} \\pm 1, N)$ are both factors of $N$, and computing one of them yields the required result.\n",
    "\n",
    "In this demo, we will factor the number $N=15$ using Shor's algorithm, by applying the quantum subroutine (step 2) with $a=7$. This particular $a$ is chosen since it is co-prime with 15 and satisfies the conditions of step 3, providing us with a high probability of finding a factor of $N$.\n"
   ]
  },
  {
   "cell_type": "markdown",
   "id": "bb6a8651-54f3-4e87-8a06-0b1b82a23835",
   "metadata": {},
   "source": [
    "## Setup\n",
    "\n",
    "In this demo, besides the `classiq` package, we'll use the following packages:"
   ]
  },
  {
   "cell_type": "markdown",
   "id": "430f250c-8ca9-4325-8256-aa1c03cc7ea9",
   "metadata": {},
   "source": [
    "We also have the following imports necessary for programming the quantum subroutine:"
   ]
  },
  {
   "cell_type": "code",
   "execution_count": null,
   "id": "dbdef6f0-d8ed-4209-ab60-040347dcdd33",
   "metadata": {
    "tags": []
   },
   "outputs": [],
   "source": [
    "import collections\n",
    "from typing import Dict, List\n",
    "\n",
    "import matplotlib.pyplot as plt\n",
    "import numpy as np\n",
    "\n",
    "from classiq import ControlState, Model, QReg\n",
    "from classiq.builtin_functions import QFT, HGate, UnitaryGate, XGate\n",
    "from classiq.execution import (\n",
    "    IBMBackendPreferences,\n",
    "    QuantumInstructionSet,\n",
    "    QuantumProgram,\n",
    ")"
   ]
  },
  {
   "cell_type": "markdown",
   "id": "9cc49f8e-2d6a-4a34-ae27-8e6081a10701",
   "metadata": {},
   "source": [
    "## Building the quantum period finding circuit\n",
    "\n",
    "We begin by declaring the number of qubits in the upper (counting) register the quantum subroutine uses. In our case, $N = 15$, and according to the algorithm the upper register must contain $q = \\log(Q)$ qubits for $Q$ such that $N^2 \\le Q < 2N^2$, namely $225 < Q < 450$, and therefore $q = 8$:"
   ]
  },
  {
   "cell_type": "code",
   "execution_count": null,
   "id": "8fe7f452-9fa7-484c-a824-2d521d90ee8e",
   "metadata": {
    "tags": []
   },
   "outputs": [],
   "source": [
    "counting_qubits_amount = 8"
   ]
  },
  {
   "cell_type": "markdown",
   "id": "21042631-a0b7-497a-9a91-2bb8e76e4562",
   "metadata": {},
   "source": [
    "We now define a function which returns the unitary matrix $U$ (in list form) used in the period finding, which is specific to $N=15$ and $a=7$. Note that this unitary implicitly determines the number of qubits of the lower (auxiliary) register of the quantum subroutine - in this case, 4 (this number does not need to be specified and is inferred automatically by the synthesis engine)."
   ]
  },
  {
   "cell_type": "code",
   "execution_count": null,
   "id": "4e0570a0-efd5-4957-b75a-c7d72e5273d6",
   "metadata": {
    "tags": []
   },
   "outputs": [],
   "source": [
    "def shor_u_pow_k_N15_a7(k: int = 1) -> List[List[complex]]:\n",
    "    # fmt: off\n",
    "    swap = np.array(\n",
    "        [\n",
    "            [1, 0, 0, 0],\n",
    "            [0, 0, 1, 0],\n",
    "            [0, 1, 0, 0],\n",
    "            [0, 0, 0, 1]\n",
    "        ],\n",
    "        dtype=complex\n",
    "    )\n",
    "    # fmt: on\n",
    "    swap32 = np.kron(np.identity(4), swap)\n",
    "    swap21 = np.kron(np.kron(np.identity(2), swap), np.identity(2))\n",
    "    swap10 = np.kron(swap, np.identity(4))\n",
    "    x = np.array([[0, 1], [1, 0]])\n",
    "    x_all = np.kron(np.kron(x, x), np.kron(x, x))\n",
    "    u = x_all @ swap10 @ swap21 @ swap32\n",
    "    u_pow_k = np.linalg.matrix_power(u, k)\n",
    "    return u_pow_k.tolist()"
   ]
  },
  {
   "cell_type": "markdown",
   "id": "b452e6ac-9118-4b7a-85d9-9cc6165bad3d",
   "metadata": {},
   "source": [
    "We now begin building the Classiq model for the circuit, by initializing a `Model` object:"
   ]
  },
  {
   "cell_type": "code",
   "execution_count": null,
   "id": "4b4db794-1c85-469b-b992-f4839260b5c8",
   "metadata": {
    "tags": []
   },
   "outputs": [],
   "source": [
    "model = Model()"
   ]
  },
  {
   "cell_type": "markdown",
   "id": "a97036e1-87cf-4506-ae61-dd15588ec247",
   "metadata": {},
   "source": [
    "At the first layer of the quantum circuit, we prepare the equal superposition state in the top (counting) register, and prepare the $|1\\rangle$ state in the bottom (auxiliary) register:"
   ]
  },
  {
   "cell_type": "code",
   "execution_count": null,
   "id": "b335b8db-d341-4127-8599-381c8cecf5b2",
   "metadata": {
    "tags": []
   },
   "outputs": [],
   "source": [
    "h_outputs = []\n",
    "for i in range(counting_qubits_amount):\n",
    "    h_outputs.append(model.HGate(params=HGate()))\n",
    "\n",
    "qubit_1_output = model.XGate(params=XGate())"
   ]
  },
  {
   "cell_type": "markdown",
   "id": "7ffdc6f2-c156-4137-a1d0-3d131a0744d5",
   "metadata": {},
   "source": [
    "We now apply the second layer of the circuit, which consists of controlled $U^{2^i}$ gates. We wire the input of the gate number $i$ using the `create_cu_input` function, which simply wires each control qubit to the correct qubit from the counting register and the target qubits to the output of the previous gate's target qubits (the first controlled gate is a special case to which we connect the $|1\\rangle$ state).\n",
    "Also note the usage of the built-in `UnitaryGate` function, which allows creating a controlled version of an arbitrary unitary gate, specified by the `shor_u_pow_k_N15_a7` function we previously defined."
   ]
  },
  {
   "cell_type": "code",
   "execution_count": null,
   "id": "afbc3043-8c3f-4570-ab71-6f9d503778bb",
   "metadata": {
    "tags": []
   },
   "outputs": [],
   "source": [
    "def create_cu_input(idx: int) -> Dict[str, QReg]:\n",
    "    in_wires = {f\"CTRL_{idx}\": h_outputs[idx][\"TARGET\"]}\n",
    "    if idx == 0:\n",
    "        in_wires[\"TARGET[0]\"] = qubit_1_output[\"TARGET\"]\n",
    "    else:\n",
    "        in_wires[\"TARGET\"] = cu_outputs[idx - 1][\"TARGET\"]\n",
    "    return in_wires\n",
    "\n",
    "\n",
    "cu_outputs = []\n",
    "for idx in range(counting_qubits_amount):\n",
    "    in_wires = create_cu_input(idx)\n",
    "    unitary_params = UnitaryGate(data=shor_u_pow_k_N15_a7(2**idx))\n",
    "    control_states = [ControlState(num_ctrl_qubits=1, name=f\"CTRL_{idx}\")]\n",
    "    cu_outputs.append(\n",
    "        model.UnitaryGate(\n",
    "            params=unitary_params, control_states=control_states, in_wires=in_wires\n",
    "        )\n",
    "    )"
   ]
  },
  {
   "cell_type": "markdown",
   "id": "52d43d3b-6240-450a-9ccc-fc16cb74a38c",
   "metadata": {},
   "source": [
    "Lastly, we apply the inverse quantum fourier transform (QFT) on the counting register:"
   ]
  },
  {
   "cell_type": "code",
   "execution_count": null,
   "id": "c9827f29-c60f-4182-9012-df17aa7a6ee1",
   "metadata": {
    "tags": []
   },
   "outputs": [],
   "source": [
    "qft_in = dict((f\"OUT[{idx}]\", out[f\"CTRL_{idx}\"]) for idx, out in enumerate(cu_outputs))\n",
    "model.QFT(\n",
    "    params=QFT(num_qubits=counting_qubits_amount), is_inverse=True, in_wires=qft_in\n",
    ");"
   ]
  },
  {
   "cell_type": "markdown",
   "id": "76dd1ae3-af4b-4e8e-bc6e-a9d9a7566455",
   "metadata": {},
   "source": [
    "We now send the model to the synthesis engine, taking roughly 15 seconds:"
   ]
  },
  {
   "cell_type": "code",
   "execution_count": null,
   "id": "65666e8e-dd84-453d-918c-445b25280348",
   "metadata": {
    "tags": []
   },
   "outputs": [],
   "source": [
    "model.sample()\n",
    "qmod = model.get_model()"
   ]
  },
  {
   "cell_type": "code",
   "execution_count": null,
   "id": "3adf6690-8f4c-495e-9ddc-f4702f1efcdd",
   "metadata": {},
   "outputs": [],
   "source": [
    "with open(\"shor.qmod\", \"w\") as f:\n",
    "    f.write(qmod)"
   ]
  },
  {
   "cell_type": "code",
   "execution_count": null,
   "id": "d1eb4133-896d-4e2d-8253-83eb68bf467d",
   "metadata": {
    "tags": []
   },
   "outputs": [],
   "source": [
    "from classiq import synthesize\n",
    "\n",
    "qprog = synthesize(qmod)"
   ]
  },
  {
   "cell_type": "markdown",
   "id": "47ce0b6d-839a-4b4c-82cd-daf4b9b5be14",
   "metadata": {},
   "source": [
    "We can now view the circuit and its depth. Note that since $U^4 = I$ (identity), the Classiq synthesis engine recognizes that all the controlled-$U^{2^i}$ gates with $i \\geq 2$ are identity and are thus empty, as evident in the interactive visualizer:"
   ]
  },
  {
   "cell_type": "code",
   "execution_count": null,
   "id": "08ce2565-5197-4c7a-b7c5-1dad94e4e46a",
   "metadata": {
    "tags": []
   },
   "outputs": [],
   "source": [
    "from classiq import show\n",
    "\n",
    "show(qprog)"
   ]
  },
  {
   "cell_type": "markdown",
   "id": "3fc7fe66-c1ca-46b0-9272-cfcc3c6e73f3",
   "metadata": {
    "tags": []
   },
   "source": [
    "## Executing the circuit\n",
    "\n",
    "Now, we turn to executing the circuit above, using the simulator:"
   ]
  },
  {
   "cell_type": "code",
   "execution_count": null,
   "id": "3f2ba37b-f01b-48f2-85a0-ccae575d3de5",
   "metadata": {
    "tags": []
   },
   "outputs": [],
   "source": [
    "from classiq import execute\n",
    "\n",
    "results = execute(qprog).result()"
   ]
  },
  {
   "cell_type": "code",
   "execution_count": null,
   "id": "d9b46cbf-1d06-4c9a-992f-4e4a08c27ec4",
   "metadata": {
    "tags": []
   },
   "outputs": [],
   "source": [
    "from classiq.execution import ExecutionDetails\n",
    "\n",
    "res = results[0].value"
   ]
  },
  {
   "cell_type": "markdown",
   "id": "9826340b-7953-46a1-a69a-09d381472be9",
   "metadata": {},
   "source": [
    "Since we are interested only in the measurement results of the counting register (the `counting_qubits_amount = 8` LSBs of the circuit), we prepare a new histogram based on these qubits only:"
   ]
  },
  {
   "cell_type": "code",
   "execution_count": null,
   "id": "a7c5710d-f360-4500-b489-0986b7178938",
   "metadata": {
    "tags": []
   },
   "outputs": [],
   "source": [
    "hist_counting_qubits = collections.defaultdict(int)\n",
    "for key, value in res.counts.items():\n",
    "    newkey = key[-counting_qubits_amount:]\n",
    "    hist_counting_qubits[newkey] += value"
   ]
  },
  {
   "cell_type": "markdown",
   "id": "c351af0c-696b-4ba9-b671-f9759c1ca387",
   "metadata": {},
   "source": [
    "Plotting the result:"
   ]
  },
  {
   "cell_type": "code",
   "execution_count": null,
   "id": "b0f701d4-69ff-4263-aba4-94a234be8f4e",
   "metadata": {
    "tags": []
   },
   "outputs": [],
   "source": [
    "plt.bar(hist_counting_qubits.keys(), hist_counting_qubits.values())"
   ]
  },
  {
   "cell_type": "markdown",
   "id": "ef7413ec-a5fa-4a83-aadb-fd1c0648be3f",
   "metadata": {},
   "source": [
    "Since we are interested only in the measurement results of the counting register (the `counting_qubits_amount = 8` LSBs of the circuit), we prepare a new histogram based on these qubits only:"
   ]
  },
  {
   "cell_type": "markdown",
   "id": "993ec133-5185-4aec-a396-b0cb6762e9bb",
   "metadata": {},
   "source": [
    "We obtained 4 results $y$ from the circuit, each with probability roughly $1/4$: $0, 64, 128$ and $192$. Dividing by $Q = 256$ we obtain 4 reduced fractions: $0, 1/4, 1/2$ and $3/4$, with two of them having the correct period $r=4$ in the denominator. With this period, we can compute the factors of $N = 15$: $\\gcd(a^{r/2} \\pm 1, N) = \\gcd(7^2 \\pm 1, 15) = 3, 5$.\n",
    "\n",
    "## References\n",
    "\n",
    "<a id='IntegerFactor'>[1]</a>: [Integer Factorization (Wikipedia)](https://en.wikipedia.org/wiki/Integer_factorization)\n",
    "\n",
    "<a id='Shor94'>[2]</a>: [Shor, Peter W. \"Algorithms for quantum computation: discrete logarithms and factoring.\" Proceedings 35th annual symposium on foundations of computer science. Ieee, 1994.](https://ieeexplore.ieee.org/abstract/document/365700)\n",
    "\n",
    "<a id='ShorSteps'>[3]</a>: [Shor's Algorithm Procedure (Wikipedia)](https://en.wikipedia.org/wiki/Shor%27s_algorithm#Procedure)\n",
    "\n",
    "<a id='PeriodFinding'>[4]</a>: [Quantum Period Finding (Wikipedia)](https://en.wikipedia.org/wiki/Shor%27s_algorithm#Quantum_part:_period-finding_subroutine)\n"
   ]
  }
 ],
 "metadata": {
  "kernelspec": {
   "display_name": "Python 3 (ipykernel)",
   "language": "python",
   "name": "python3"
  },
  "language_info": {
   "codemirror_mode": {
    "name": "ipython",
    "version": 3
   },
   "file_extension": ".py",
   "mimetype": "text/x-python",
   "name": "python",
   "nbconvert_exporter": "python",
   "pygments_lexer": "ipython3",
   "version": "3.11.4"
  }
 },
 "nbformat": 4,
 "nbformat_minor": 5
}
