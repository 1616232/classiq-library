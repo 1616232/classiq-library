{
 "cells": [
  {
   "cell_type": "markdown",
   "id": "3652aca5-46be-454d-9b5e-5b795379c534",
   "metadata": {},
   "source": [
    "# Modeling an HHL algorithm with Classiq: solving a set of linear equations"
   ]
  },
  {
   "cell_type": "markdown",
   "id": "422c4e26-b10c-4d77-b7ea-5d06d684a752",
   "metadata": {},
   "source": [
    "Solving linear equations appears in all research, engineering, and design areas. For example, many physical and financial models, from fluid dynamics to portfolio optimization, are described by partial differential equations, which are typically treated by numerical schemes--- most of these schemes are eventually transformed to a set of linear equations.\n",
    "\n",
    "The HHL algorithm [[1](#HHL)] is a quantum algorithm for solving a set of linear equations. It is one of the fundamental quantum algorithms which  is expected to give a speedup over its classical counterpart.\n",
    "\n",
    "\n",
    "A set of linear equations of size $N$ is represented by an $N\\times N$ matrix and a vector $b$ of size $N$,\n",
    "$$\n",
    "A\\vec{x} = \\vec{b},\n",
    "$$\n",
    "where the solution to the problem is designated by the solution variable $\\vec{x}$.\n",
    "\n",
    "For simplicity, in the demo below we treat a use-case where $\\vec{b}$ is a normalized vector $|\\vec{b}|=1$, and $A$ is an Hermitian matrix of size $2^n\\times 2^n$, whose eigenvalues are in the interval $(0,1)$. Generalizations to any other use-case are discussed at the end of this demo."
   ]
  },
  {
   "cell_type": "markdown",
   "id": "c2fcf999-36cf-4536-9661-bd69c254a198",
   "metadata": {
    "tags": []
   },
   "source": [
    "## Definning a specific problem"
   ]
  },
  {
   "cell_type": "markdown",
   "id": "fb8942f5-23a0-4370-b83b-d6c41f6af033",
   "metadata": {},
   "source": [
    "We start by defining a specific problem."
   ]
  },
  {
   "cell_type": "code",
   "execution_count": null,
   "id": "be9d807b-7536-4968-8a18-397f69763964",
   "metadata": {},
   "outputs": [],
   "source": [
    "import numpy as np\n",
    "\n",
    "A = np.array(\n",
    "    [\n",
    "        [0.28, -0.01, 0.02, -0.1],\n",
    "        [-0.01, 0.5, -0.22, -0.07],\n",
    "        [0.02, -0.22, 0.43, -0.05],\n",
    "        [-0.1, -0.07, -0.05, 0.42],\n",
    "    ]\n",
    ")\n",
    "\n",
    "b = np.array([1, 2, 4, 3])\n",
    "b = b / np.linalg.norm(b)\n",
    "\n",
    "print(\"A =\", A, \"\\n\")\n",
    "print(\"b =\", b)\n",
    "\n",
    "# verifying that the matrix is symmetric and have eivenvalues in [0,1)\n",
    "if not np.allclose(A, A.T, rtol=1e-6, atol=1e-6):\n",
    "    raise Exception(\"The matrix is not symmetric\")\n",
    "w, v = np.linalg.eig(A)\n",
    "for lam in w:\n",
    "    if lam < 0 or lam > 1:\n",
    "        raise Exception(\"Eigenvalues are not in (0,1)\")"
   ]
  },
  {
   "cell_type": "markdown",
   "id": "9dee9158-c7f4-46fb-a720-62239466532a",
   "metadata": {},
   "source": [
    "In addition, in the quantum program below we have to encode the unitary matrix $U=e^{iA}$. For this, we will have to decompose the matrix $A$ into a sum of Pauli strings. This is a completely classical pre-processing which we now perform. We use a naive decomposition, more efficient decompositions can be devised."
   ]
  },
  {
   "cell_type": "markdown",
   "id": "ba775786-91f0-4ab4-a412-5dfd3fcea56f",
   "metadata": {},
   "source": [
    "## Pauli strings decomposition"
   ]
  },
  {
   "cell_type": "markdown",
   "id": "54ff6305-5250-48de-9cc6-ffae062ff1c6",
   "metadata": {},
   "source": [
    "#### We define the auxiliary function `lcu_naive` for the classical pre-processing: decomposing a matrix into sum of Pauli strings"
   ]
  },
  {
   "cell_type": "code",
   "execution_count": null,
   "id": "9f725a02-85db-42a9-8d3c-807ff4455ca7",
   "metadata": {},
   "outputs": [],
   "source": [
    "from itertools import product\n",
    "\n",
    "from numpy import kron\n",
    "\n",
    "Paulidict = {\n",
    "    \"I\": np.array([[1, 0], [0, 1]], dtype=np.complex128),\n",
    "    \"Z\": np.array([[1, 0], [0, -1]], dtype=np.complex128),\n",
    "    \"X\": np.array([[0, 1], [1, 0]], dtype=np.complex128),\n",
    "    \"Y\": np.array([[0, -1j], [1j, 0]], dtype=np.complex128),\n",
    "}\n",
    "\n",
    "\n",
    "# generate all combinations of Pauli strings of size n\n",
    "def generate_all_pauli_strings(seq, n):\n",
    "    for s in product(seq, repeat=n):\n",
    "        yield \"\".join(s)\n",
    "\n",
    "\n",
    "# convert a Paulistring of size n to 2**n X 2**n matrix\n",
    "def pauli_string_2mat(seq):\n",
    "    myPmat = Paulidict[seq[0]]\n",
    "    for p in seq[1:]:\n",
    "        myPmat = kron(myPmat, Paulidict[p])\n",
    "    return myPmat\n",
    "\n",
    "\n",
    "# Hilbert-Schmidt-Product of two matrices M1, M2\n",
    "def hilbert_schmidt(M1, M2):\n",
    "    return (np.dot(M1.conjugate().transpose(), M2)).trace()\n",
    "\n",
    "\n",
    "# Naive decomposition, running over all HS products for all Pauli strings\n",
    "def lcu_naive(H):\n",
    "    assert H.shape[0] == H.shape[1], \"matrix is not square\"\n",
    "    assert H.shape[0] != 0, \"matrix is of size 0\"\n",
    "    assert H.shape[0] & (H.shape[0] - 1) == 0, \"matrix size is not 2**n\"\n",
    "\n",
    "    n = int(np.log2(H.shape[0]))\n",
    "    myPualiList = list(generate_all_pauli_strings(\"IZXY\", n))\n",
    "\n",
    "    mylist = []\n",
    "\n",
    "    for pstr in myPualiList:\n",
    "        co = (1 / 2**n) * hilbert_schmidt(pauli_string_2mat(pstr), H)\n",
    "        if co != 0:\n",
    "            mylist = mylist + [(pstr, co)]\n",
    "\n",
    "    return mylist"
   ]
  },
  {
   "cell_type": "markdown",
   "id": "0ec04dfa-ac52-40c6-a755-94d4310d9291",
   "metadata": {},
   "source": [
    "#### We now use the auxiliary function to decompose the matrix $A$ in our specific use-case. The variable `paulis` holds the list of Pauli strings that represents our matrix. The number of qubits to represent the matrix is stored in the variable `n`."
   ]
  },
  {
   "cell_type": "code",
   "execution_count": null,
   "id": "b8c404c7-cabb-4fbc-bdb7-497f03d04c84",
   "metadata": {},
   "outputs": [],
   "source": [
    "paulis = lcu_naive(A)\n",
    "n = len(paulis[0][0])\n",
    "print(\"Pauli strings list: \\n\")\n",
    "for p in paulis:\n",
    "    print(p[0], \": \", np.round(p[1], 3))\n",
    "\n",
    "print(\"\\n Number of qubits for matrix representation =\", n)"
   ]
  },
  {
   "cell_type": "markdown",
   "id": "575762f8-cd18-4fc0-9a2e-14664b77e099",
   "metadata": {},
   "source": [
    "## Modelling an HHL algorithm"
   ]
  },
  {
   "cell_type": "markdown",
   "id": "103918b0-c7b8-419b-93e9-6d93a810d8ee",
   "metadata": {},
   "source": [
    "Now that we have finished with pre-processing we can turn to defining the HHL algorithm. The algorithm consists of 4 steps:\n",
    "1) State Preparation of the RHS vector $\\vec{b}$.\n",
    "2) QPE for the unitary matrix $e^{2\\pi iA}$, which encodes eigenvalues on a quantum register of size $m$.\n",
    "3) An inversion algorithm which loads amplitudes according to the inverse of the eigenvalue registers.\n",
    "4) An inverse QPE with the parameters in (2).\n",
    "\n",
    "Below we introduce the HHL algorithm step by step. At each step, we describe the relevant quantum function, and define its parameters. In parallel, we also follow the linear algebra which underlies the theory behind the HHL algorithm. Finally, we define the corresponding model, synthesize the circuit, execute it, and verify the results."
   ]
  },
  {
   "cell_type": "markdown",
   "id": "4137dfff-09e2-48be-aafe-b8e27b476472",
   "metadata": {
    "tags": []
   },
   "source": [
    "### Defining function parameters"
   ]
  },
  {
   "cell_type": "markdown",
   "id": "c51aae6b-bac2-4268-950b-14f7c0b126a0",
   "metadata": {
    "tags": []
   },
   "source": [
    "#### 1) State Preparation for the vector $\\vec{b}$\n",
    "\n",
    "The first stage of the HHL algorithm is to load the normalized RHS vector $\\vec{b}$ into a quantum register:\n",
    "$$\n",
    "|0\\rangle_n \\xrightarrow[{\\rm SP}]{} \\sum^{2^n-1}_{i=0}b_i|i\\rangle_n\n",
    "$$\n",
    "where $|i\\rangle$ are states in the computational basis.\n",
    "\n",
    "We thus start with defining a State Preparation function, using Classiq's `StatePreparation`: passing $2^n$ values of $\\vec{b}$ as `amplitudes`, as well as an upper bound through `error_metric` for the functional error (since we pass amplitudes, only $L$-norms are relevant here).\n",
    "\n"
   ]
  },
  {
   "cell_type": "code",
   "execution_count": null,
   "id": "587abb03-75df-4f94-b503-d5a7102a3359",
   "metadata": {},
   "outputs": [],
   "source": [
    "from classiq.builtin_functions import StatePreparation\n",
    "\n",
    "b_normalized = tuple(b)\n",
    "sp_upper = 0.00  # precision of the State Preparation\n",
    "sp = StatePreparation(\n",
    "    amplitudes=b_normalized, error_metric={\"L2\": {\"upper_bound\": sp_upper}}\n",
    ")"
   ]
  },
  {
   "cell_type": "markdown",
   "id": "f0486476-d4bb-419b-8c55-28d04cbf3b9e",
   "metadata": {
    "lines_to_next_cell": 0,
    "tags": []
   },
   "source": [
    "#### 2) Quantum Phase Estimation (QPE) for the Hamiltonian evolution $U=e^{2\\pi i A }$\n",
    "\n",
    "The QPE function block, which is at the heart of the HHL algorithm, operates as follows: Unitary matrices have eigenvalues of norm 1, and thus are of the form $e^{2\\pi i \\lambda}$, with $0\\leq\\lambda<1$. If we have a quantum state $|\\psi\\rangle_n$, prepared in an eigenvalue of some unitary matrix $U$ of size $2^n\\times 2^n$, the QPE algorithm encodes the corresponding  eigenvalue into a quantum register:\n",
    "$$\n",
    "|0\\rangle_m|\\psi\\rangle_n \\xrightarrow[{\\rm QPE}(U)]{} |\\lambda\\rangle_m|\\psi\\rangle_n,\n",
    "$$\n",
    "where $m$ is the precision of the binary representation of $\\lambda$, $\\lambda=\\frac{1}{2^m}\\sum^{2^m-1}_{k=0}\\lambda^{(k)}2^k$ with $\\lambda^{(k)}$ being the state of the $k$-th qubit.\n",
    "\n",
    "In the HHL algorithm we apply a QPE for the unitary $U=e^{2\\pi i A }$. Let us see the mathematics now. First, note that the eigenvectors of $U$ are the ones of our matrix $A$, and that the corresponding eigenvalues $\\lambda$ defined for $U=e^{2\\pi i A }$ are the eigenvalues of  $A$. Second, we can represent our prepared state in the basis given by the eigenvalues of $A$. This is merely a mathematical transformation, there are not algorithmic considerations here. If the eigenbasis of $A$ is given by the set $\\{|\\psi_j\\rangle_n \\}^{2^n-1}_{j=0}$, we can write\n",
    "$$\n",
    "\\sum^{2^n-1}_{i=0}b_i|i\\rangle_n = \\sum^{2^n-1}_{j=0}\\beta_j|\\psi_j\\rangle_n.\n",
    "$$\n",
    "Applying the QPE stage we have\n",
    "$$\n",
    "|0\\rangle_m \\sum^{2^n-1}_{j=0}\\beta_j|\\psi_j\\rangle_n \\xrightarrow[{\\rm QPE}]{}  \\sum^{2^n-1}_{j=0}\\beta_j |\\lambda_j\\rangle_m |\\psi_j\\rangle_n.\n",
    "$$\n",
    "\n",
    "We now define the parameter of Classiq's QPE function. We pass the following parameters:\n",
    "* `size`: this defines the number of precision qubits to encode the eigenvalues ($m$ above). We will choose $m=4$.\n",
    "* `unitary_params`: this is the quantum function (namely the operation $U$) for which we apply the QPE. In our case the quantum function is the Exponentiation function, $U=e^{2\\pi i A }$. We use Classiq's `Exponentiation` function for Hamiltonian evolution $e^{-i H t}$, for which we define the following parameters:\n",
    "    * `pauli_operator` which is the list of Pauli strings representing our matrix $H$, taken as the `paulis` variable calculated above.\n",
    "    * `evolution_coefficient` representing $t$, taken to be $-2\\pi$.\n",
    "* `exponentiation_specification`: this is a unique parameter when calling QPE with Classiq's `Exponentiation` function. The Exponentiation function is an approximated one, where one way to control its error is by limiting its depth. For a QPE algorithm with `size` $m$ a series of controlled-unitaries $U^{2^s}$ $1 \\leq s \\leq m$ are applied, for each of which we would like to pass a different maximal depth (to keep a roughly same error, the depth of $U=e^{2\\pi i 2^s A }$ is expected to be $\\sim 2^s$ larger then the depth of $U=e^{2\\pi i A }$). In Classiq this can be done by passing `exponentiation_specification` with the following:\n",
    "    * `max_depth`: setting the maximal depth for the first unitary\n",
    "    * `max_depth_scaling_factor`: the factor by which the maximal depth of the following Exponentiations will grow.\n",
    "\n",
    "    (Alternatively, one can also send a specific choice of $m$ max_depth parameters)\n"
   ]
  },
  {
   "cell_type": "code",
   "execution_count": null,
   "id": "d65f25b3-ee44-4661-83a0-0561b6f323ec",
   "metadata": {},
   "outputs": [],
   "source": [
    "from classiq.builtin_functions import Exponentiation, PhaseEstimation\n",
    "from classiq.builtin_functions.exponentiation import PauliOperator\n",
    "from classiq.builtin_functions.qpe import (\n",
    "    ExponentiationScaling,\n",
    "    ExponentiationSpecification,\n",
    ")\n",
    "\n",
    "m = 4\n",
    "\n",
    "\n",
    "po = PauliOperator(pauli_list=paulis)\n",
    "exp_params = Exponentiation(\n",
    "    pauli_operator=po,\n",
    "    evolution_coefficient=-2 * np.pi,\n",
    ")\n",
    "\n",
    "qpe = PhaseEstimation(\n",
    "    size=m,\n",
    "    unitary_params=exp_params,\n",
    "    exponentiation_specification=ExponentiationSpecification(\n",
    "        scaling=ExponentiationScaling(max_depth=100, max_depth_scaling_factor=2)\n",
    "    ),\n",
    ")"
   ]
  },
  {
   "cell_type": "markdown",
   "id": "bf7a7017-b604-427c-96d9-01d46fccf5b1",
   "metadata": {
    "tags": []
   },
   "source": [
    "#### 3) Eigenvalue inversion\n",
    "\n",
    "The next step in the HHL algorithm is to pass the inverse of the eigenvalue registers into their amplitudes. For this, we use the AmplitudeLoading (AL) function.\n",
    "Given a function $f:[0,1)\\rightarrow [-1,1]$, it implements $|0\\rangle|\\lambda\\rangle_m \\xrightarrow[{\\rm AL}(f)]{} f(\\lambda)|1\\rangle|\\lambda\\rangle_m+\\sqrt{1-f^2(\\lambda)}|0\\rangle|\\lambda\\rangle_m$. For the HHL algorithm we thus apply an AL with $f=C/x$ where $C$ is a lower bound for the minimal eigenvalue of $A$.\n",
    "Applying this AL we have\n",
    "$$\n",
    "\\sum^{2^n-1}_{j=0}\\beta_j |\\lambda_j\\rangle_m |\\psi_j\\rangle_n \\xrightarrow[{\\rm AL}(C/x)]{}\n",
    "|0\\rangle\\left(\\sum^{2^n-1}_{j=0}\\sqrt{1-\\frac{C^2}{\\lambda^2_j}}\\beta_j |\\lambda_j\\rangle_m |\\psi_j\\rangle_n\\right)+\n",
    "|1\\rangle\\left(\\sum^{2^n-1}_{j=0}\\frac{C}{\\lambda_j}\\beta_j |\\lambda_j\\rangle_m |\\psi_j\\rangle_n\\right)\n",
    "$$\n",
    "\n",
    "\n",
    "Let us now define the parameters for Classiq's `AmplitudeLoading` function:\n",
    "* `size`: must be taken as $m$ in our case.\n",
    "* `expression`: describing $f$, and taken as C/x in our case.\n",
    "* `implementation`: Classiq's support different implementation for AmplitudeLoading, we choose a `GrayCode` implementation."
   ]
  },
  {
   "cell_type": "code",
   "execution_count": null,
   "id": "76d1256d-1626-4ac9-b71f-46ad44c2196c",
   "metadata": {},
   "outputs": [],
   "source": [
    "from classiq.builtin_functions import AmplitudeLoading\n",
    "from classiq.builtin_functions.amplitude_loading import AmplitudeLoadingImplementation\n",
    "\n",
    "w_min = (\n",
    "    1 / 2**m\n",
    ")  # for qpe register of size m, this is the minimal value which can be encoded\n",
    "expression = f\"{w_min}/(x)\"\n",
    "al_params = AmplitudeLoading(\n",
    "    size=m,\n",
    "    expression=expression,\n",
    "    implementation=AmplitudeLoadingImplementation.GRAYCODE,\n",
    ")"
   ]
  },
  {
   "cell_type": "markdown",
   "id": "e3425625-48e2-49b5-9bb6-064ee411b3fa",
   "metadata": {
    "tags": []
   },
   "source": [
    "#### 4) Inverse QPE\n",
    "\n",
    "As a final step in the HHL model, we clean the QPE register by applying an inverse-QPE (note that it is not guaranteed that this register is completely cleaned, namely that all the qubits in the QPE register return to zero after the inverse-QPE. Generically they are all zero with very high probability).\n",
    "\n",
    "In our model we will simply call the QPE function with the same parameters in stage 2, but with the flag `is_inverse`. This will be done when we wire the model below. Let us see how the quantum state looks now\n",
    "$$\n",
    " |0\\rangle\\left(\\sum^{2^n-1}_{j=0}\\sqrt{1-\\frac{C^2}{\\lambda^2_j}}\\beta_j |\\lambda_j\\rangle_m |\\psi_j\\rangle_n\\right)+\n",
    "|1\\rangle\\left(\\sum^{2^n-1}_{j=0}\\frac{C}{\\lambda_j}\\beta_j |\\lambda_j\\rangle_m |\\psi_j\\rangle_n\\right)\n",
    "\\xrightarrow[{\\rm inv-QPE}(U)]{}\n",
    " |0\\rangle_m|0\\rangle\\left(\\sum^{2^n-1}_{j=0}\\sqrt{1-\\frac{C^2}{\\lambda^2_j}}\\beta_j  |\\psi_j\\rangle_n\\right)+\n",
    "|0\\rangle_m|1\\rangle\\left(\\sum^{2^n-1}_{j=0}\\frac{C}{\\lambda_j}\\beta_j  |\\psi_j\\rangle_n\\right)\n",
    "$$\n",
    "\n",
    "One can see that the state entangled with $|1\\rangle$ stores the solution to our problem (up to some normalization problem)\n",
    "$$\n",
    "\\sum^{2^n-1}_{j=0} \\frac{C}{\\lambda_j}\\beta_j  \\vec{\\psi_j} = C\\vec{x}\n",
    "$$\n"
   ]
  },
  {
   "cell_type": "markdown",
   "id": "c52af00a-48ea-436b-b3ae-f6ac08cf74b3",
   "metadata": {},
   "source": [
    "### Wiring the model and defining its outputs: a register of size `nq` for the solution and the target qubit\n",
    "\n",
    "In this tutorial we will compare between the classical and quantum solutions, thus we we will execute the resulting circuit on a statevector simulator. To define this part of our model we set `Sample` and `ExecutionPreferences` of a statevector simulator."
   ]
  },
  {
   "cell_type": "code",
   "execution_count": null,
   "id": "3b973379-af9b-48d3-8c4e-9ecc2e1081b7",
   "metadata": {},
   "outputs": [],
   "source": [
    "from classiq import Model\n",
    "from classiq.execution import ClassiqBackendPreferences, ExecutionPreferences\n",
    "from classiq.synthesis import set_execution_preferences\n",
    "\n",
    "model_hhl = Model()\n",
    "sp_out = model_hhl.StatePreparation(params=sp)\n",
    "qpe_out = model_hhl.PhaseEstimation(params=qpe, in_wires={\"IN\": sp_out[\"OUT\"]})\n",
    "al_out = model_hhl.AmplitudeLoading(\n",
    "    params=al_params,\n",
    "    in_wires={\"AMPLITUDE\": qpe_out[\"PHASE_ESTIMATION\"]},\n",
    ")\n",
    "i_qpe_out = model_hhl.PhaseEstimation(\n",
    "    params=qpe,\n",
    "    is_inverse=True,\n",
    "    release_by_inverse=True,\n",
    "    in_wires={\n",
    "        \"PHASE_ESTIMATION\": al_out[\"AMPLITUDE\"],\n",
    "        \"OUT\": qpe_out[\"OUT\"],\n",
    "    },\n",
    ")\n",
    "\n",
    "model_hhl.sample()\n",
    "\n",
    "model_hhl.set_outputs({\"target\": al_out[\"TARGET\"], \"solution\": i_qpe_out[\"IN\"]})\n",
    "\n",
    "backend_preferences = ClassiqBackendPreferences(\n",
    "    backend_name=\"aer_simulator_statevector\"\n",
    ")\n",
    "\n",
    "qmod_hhl = model_hhl.get_model()\n",
    "\n",
    "qmod_hhl = set_execution_preferences(\n",
    "    qmod_hhl,\n",
    "    execution_preferences=ExecutionPreferences(\n",
    "        num_shots=1, backend_preferences=backend_preferences\n",
    "    ),\n",
    ")"
   ]
  },
  {
   "cell_type": "code",
   "execution_count": null,
   "id": "cb23be82-cbd2-4a92-b0d4-fcb0f06decba",
   "metadata": {},
   "outputs": [],
   "source": [
    "with open(\"hhl.qmod\", \"w\") as f:\n",
    "    f.write(qmod_hhl)"
   ]
  },
  {
   "cell_type": "markdown",
   "id": "a8c9e019-2259-4f04-b0e4-d55f23730d0e",
   "metadata": {},
   "source": [
    "#### Synthesizing the circuit"
   ]
  },
  {
   "cell_type": "code",
   "execution_count": null,
   "id": "cbe9134f-d19c-48e3-a049-39016e26db41",
   "metadata": {},
   "outputs": [],
   "source": [
    "from classiq import synthesize\n",
    "\n",
    "qprog_hhl = synthesize(qmod_hhl)"
   ]
  },
  {
   "cell_type": "code",
   "execution_count": null,
   "id": "5922f135-6155-44d0-9331-e26a6ffdfb56",
   "metadata": {},
   "outputs": [],
   "source": [
    "from classiq import show\n",
    "\n",
    "show(qprog_hhl)"
   ]
  },
  {
   "cell_type": "code",
   "execution_count": null,
   "id": "1b7a2c1d-91e8-426f-946f-c69ad27d45bd",
   "metadata": {},
   "outputs": [],
   "source": [
    "from classiq import GeneratedCircuit\n",
    "\n",
    "circuit_hhl = GeneratedCircuit.from_qprog(qprog_hhl)\n",
    "print(\"depth = \", circuit_hhl.transpiled_circuit.depth)"
   ]
  },
  {
   "attachments": {
    "Screen%20Shot%202023-01-25%20at%2014.27.58.png": {
     "image/png": "[encoded data removed]"
    }
   },
   "cell_type": "markdown",
   "id": "4c1a1912",
   "metadata": {},
   "source": [
    "![Screen%20Shot%202023-01-25%20at%2014.27.58.png](attachment:Screen%20Shot%202023-01-25%20at%2014.27.58.png)"
   ]
  },
  {
   "cell_type": "markdown",
   "id": "55a0fc39-e2f4-454e-9a48-2e8846a338b5",
   "metadata": {},
   "source": [
    "### Execution and verification of the result (through statevector simulator)"
   ]
  },
  {
   "cell_type": "markdown",
   "id": "96740a69-42db-4642-a5fb-07cadbdefba3",
   "metadata": {},
   "source": [
    "#### We now execute the quantum program. Recall that we chose here a statevector simulator since we are interested in the exact solution"
   ]
  },
  {
   "cell_type": "code",
   "execution_count": null,
   "id": "ccde0b51-c113-4aa9-999f-dfda9bc6ac24",
   "metadata": {},
   "outputs": [],
   "source": [
    "from classiq import execute\n",
    "\n",
    "results = execute(qprog_hhl).result()"
   ]
  },
  {
   "cell_type": "code",
   "execution_count": null,
   "id": "a88ea360",
   "metadata": {},
   "outputs": [],
   "source": [
    "from classiq.execution import ExecutionDetails\n",
    "\n",
    "res_hhl = results[0].value"
   ]
  },
  {
   "cell_type": "markdown",
   "id": "fe42bf53-4a35-4b8f-ada2-ae7c6c955233",
   "metadata": {},
   "source": [
    "#### Next we read the specific results, given in the `solution` register defined in our model, where we care only for entries where the `target` register is 1."
   ]
  },
  {
   "cell_type": "code",
   "execution_count": null,
   "id": "c4ceedb3",
   "metadata": {
    "is_executing": true
   },
   "outputs": [],
   "source": [
    "total_q = circuit_hhl.data.width  # total number of qubits of the whole circuit"
   ]
  },
  {
   "cell_type": "markdown",
   "id": "7c510d16",
   "metadata": {},
   "source": [
    "We read the qubit allocation of the relevant registers."
   ]
  },
  {
   "cell_type": "code",
   "execution_count": null,
   "id": "45f4f18e",
   "metadata": {},
   "outputs": [],
   "source": [
    "target_pos = res_hhl.physical_qubits_map[\"target\"][0]  # position of control qubit\n",
    "\n",
    "sol_pos = list(res_hhl.physical_qubits_map[\"solution\"])  # position of solution\n",
    "\n",
    "phase_pos = [\n",
    "    total_q - k - 1 for k in range(total_q) if k not in sol_pos + [target_pos]\n",
    "]  # finds the position of the “phase” register, and flips for endianness as we will use the indices to read directly from the string"
   ]
  },
  {
   "cell_type": "markdown",
   "id": "fb91c5fa-7cd4-4720-8365-c3eef78d4d6a",
   "metadata": {},
   "source": [
    "We define a run over all the relevant strings holding the solution. The solution vector will be inserted into the variable `qsol`. We also factor out $C=1/2^m$."
   ]
  },
  {
   "cell_type": "code",
   "execution_count": null,
   "id": "b6772cc7-4bdd-4e84-8883-b64d2256f0ab",
   "metadata": {},
   "outputs": [],
   "source": [
    "qsol = [\n",
    "    np.round(parsed_state.amplitude / w_min, 5)\n",
    "    for solution in range(2**n)\n",
    "    for parsed_state in res_hhl.parsed_state_vector\n",
    "    if parsed_state[\"target\"] == 1.0\n",
    "    and parsed_state[\"solution\"] == solution\n",
    "    and [parsed_state.bitstring[k] for k in phase_pos]\n",
    "    == [\"0\"] * m  # this takes the entries where the “phase” register is at state zero\n",
    "]"
   ]
  },
  {
   "cell_type": "markdown",
   "id": "00cd3b8d-71bf-4a8b-a37a-fbcb2d3b6262",
   "metadata": {},
   "source": [
    "#### Comparing classical and quantum solutions.\n",
    "\n",
    "Note that the HHL algorithm returns a statevector result up to some global phase (coming from transpilation or from the quantum functions themselves). Therefore, for comparing with the classical solution we must correct for this global phase."
   ]
  },
  {
   "cell_type": "code",
   "execution_count": null,
   "id": "d29966e5-cd1b-43c3-b12e-d2a4d0f3114e",
   "metadata": {},
   "outputs": [],
   "source": [
    "sol_classical = np.linalg.solve(A, b)\n",
    "global_phase = np.angle(qsol)\n",
    "qsol_corrected = np.real(qsol / np.exp(1j * global_phase))\n",
    "print(\"classical:  \", sol_classical)\n",
    "print(\"HHL:        \", qsol_corrected)\n",
    "print(\n",
    "    \"relative distance:  \",\n",
    "    round(\n",
    "        np.linalg.norm(sol_classical - qsol_corrected)\n",
    "        / np.linalg.norm(sol_classical)\n",
    "        * 100,\n",
    "        1,\n",
    "    ),\n",
    "    \"%\",\n",
    ")"
   ]
  },
  {
   "cell_type": "code",
   "execution_count": null,
   "id": "c6cf77f6-1c72-4013-9ad8-a8248fbf1334",
   "metadata": {},
   "outputs": [],
   "source": [
    "import matplotlib.pyplot as plt\n",
    "\n",
    "plt.plot(sol_classical, \"bo\", label=\"classical\")\n",
    "plt.plot(qsol_corrected, \"ro\", label=\"HHL\")\n",
    "plt.legend()\n",
    "plt.xlabel(\"$i$\")\n",
    "plt.ylabel(\"$x_i$\")\n",
    "plt.show()"
   ]
  },
  {
   "cell_type": "markdown",
   "id": "98630842-586f-4df0-b85a-08173f02d53d",
   "metadata": {},
   "source": [
    "### This is to verify that there is no functional error, which might come from changing endianness in Model or Execution, or in some function params"
   ]
  },
  {
   "cell_type": "code",
   "execution_count": null,
   "id": "5a0f3fbe-4d14-4a10-b1ec-2586f40b0cfd",
   "metadata": {},
   "outputs": [],
   "source": [
    "if np.linalg.norm(sol_classical - qsol_corrected) / np.linalg.norm(sol_classical) > 0.1:\n",
    "    raise Exception(\n",
    "        \"The HHL solution is too far from the classical one, please verify your algorithm\"\n",
    "    )"
   ]
  },
  {
   "cell_type": "markdown",
   "id": "b51cc8d4-0498-4cb1-b94b-3d6107c1e8b0",
   "metadata": {
    "tags": []
   },
   "source": [
    "## Generalizations\n",
    "\n",
    "The use-case treated above is a canonical one, assuming the following properties:\n",
    "1) The RHS vector $\\vec{b}$ is normalized.\n",
    "2) The matrix $A$ is an Hermitian one.\n",
    "3) The matrix $A$ is of size $2^n\\times 2^n $.\n",
    "4) The eigenvalues of $A$ are in the range $(0,1)$.\n",
    "\n",
    "However, any general problem which does not follow these conditions can be resolved as follows:\n",
    "\n",
    "1) As a preprocessing we can normalize $\\vec{b}$ and then return the normalization factor as a post-processing\n",
    "2) We can symmetrize the problem as follows:\n",
    "$$\n",
    "\\begin{pmatrix}\n",
    "0 & A^T \\\\\n",
    "A & 0\n",
    "\\end{pmatrix}\n",
    "\\begin{pmatrix}\n",
    "\\vec{b}  \\\\\n",
    "0\n",
    "\\end{pmatrix}\n",
    "=\n",
    "\\begin{pmatrix}\n",
    "0  \\\\\n",
    "\\vec{x}\n",
    "\\end{pmatrix}.\n",
    "$$\n",
    "This increases the number of qubits by 1.\n",
    "3) We can complete the matrix dimension to the closest $2^n$ with an identity matrix. The vector $\\vec{b}$ will be completed with zeros.\n",
    "$$\n",
    "\\begin{pmatrix}\n",
    "A & 0 \\\\\n",
    "0 & I\n",
    "\\end{pmatrix}\n",
    "\\begin{pmatrix}\n",
    "\\vec{b}  \\\\\n",
    "0\n",
    "\\end{pmatrix}\n",
    "=\n",
    "\\begin{pmatrix}\n",
    "\\vec{x}  \\\\\n",
    "0\n",
    "\\end{pmatrix}.\n",
    "$$\n",
    "4) Let us assume that the eigenvalues of $A$ are in the range $[-w_{\\min},w_{\\max}]$. The idea is to employ transformations to the exponentiated matrix that enters into the Hamiltonian simulation, and then undo them for extracting the results:\n",
    "$$\n",
    "\\tilde{A}=(A+w_{\\min}I)\\left(1-\\frac{1}{2^{m}}\\right)\\frac{1}{w_{\\min}+w_{\\max}}.\n",
    "$$\n",
    "The eigenvalues of this matrix lay in the interval $[0,1)$, and are related to the eigenvalues of the original matrix via\n",
    "$$\n",
    "\\lambda = (w_{\\min}+w_{\\max})\\tilde{\\lambda}\\left[1/\\left(1-\\frac{1}{2^{n_{m}}}\\right)\\right]-w_{\\min},\n",
    "$$\n",
    "with $\\tilde{\\lambda}$ being an eigenvalue of $\\tilde{A}$ resulting from the QPE algorithm. This relation between eigenvalues is then used for the expression inserted into the eigenvalue inversion, via the `AmplitudeLoading` function."
   ]
  },
  {
   "cell_type": "markdown",
   "id": "e39166b4-799f-488f-86b5-f5995ddf25d0",
   "metadata": {},
   "source": [
    "## References\n",
    "\n",
    "<a name='HHL'>[1]</a>: [Harrow, A. W., Hassidim, A., & Lloyd, S., Quantum Algorithm for Linear Systems of Equations. Physical Review Letters 103, 150502 (2009)](https://journals.aps.org/prl/abstract/10.1103/PhysRevLett.103.150502)\n"
   ]
  }
 ],
 "metadata": {
  "kernelspec": {
   "display_name": "Python 3 (ipykernel)",
   "language": "python",
   "name": "python3"
  },
  "language_info": {
   "codemirror_mode": {
    "name": "ipython",
    "version": 3
   },
   "file_extension": ".py",
   "mimetype": "text/x-python",
   "name": "python",
   "nbconvert_exporter": "python",
   "pygments_lexer": "ipython3",
   "version": "3.11.4"
  }
 },
 "nbformat": 4,
 "nbformat_minor": 5
}
