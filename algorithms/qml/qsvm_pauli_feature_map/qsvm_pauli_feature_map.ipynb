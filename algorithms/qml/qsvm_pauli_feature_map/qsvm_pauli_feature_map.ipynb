{
 "cells": [
  {
   "cell_type": "markdown",
   "id": "2ea99bb5-8438-47f0-9981-7c39f1a5472c",
   "metadata": {},
   "source": [
    "### Generating Qiskit's data"
   ]
  },
  {
   "cell_type": "code",
   "execution_count": null,
   "id": "9e4a4ce2-594c-471f-8e07-37104cc94cb5",
   "metadata": {},
   "outputs": [],
   "source": [
    "from qiskit.utils import algorithm_globals\n",
    "from qiskit_machine_learning.datasets import ad_hoc_data\n",
    "\n",
    "seed = 12345\n",
    "algorithm_globals.random_seed = seed\n",
    "\n",
    "adhoc_dimension = 2\n",
    "train_features, train_labels, test_features, test_labels, adhoc_total = ad_hoc_data(\n",
    "    training_size=20,\n",
    "    test_size=5 + 5,  # 5 for test, 5 for predict\n",
    "    n=adhoc_dimension,\n",
    "    gap=0.3,\n",
    "    plot_data=False,\n",
    "    one_hot=False,\n",
    "    include_sample_total=True,\n",
    ")"
   ]
  },
  {
   "cell_type": "code",
   "execution_count": null,
   "id": "0890fcae-6002-4050-9351-9d8ce509821c",
   "metadata": {},
   "outputs": [],
   "source": [
    "# the `test_features` and `test_labels` are of size which is double that of the `test_size` argument\n",
    "# Since there are `test_size` items for each `adhoc_dimension`\n",
    "import numpy as np\n",
    "\n",
    "\n",
    "def split(obj: np.ndarray, n: int = 20):\n",
    "    quarter = n // 4\n",
    "    half = n // 2\n",
    "    first = np.concatenate((obj[:quarter], obj[half : half + quarter]))\n",
    "    second = np.concatenate((obj[quarter:half], obj[half + quarter :]))\n",
    "    return first, second\n",
    "\n",
    "\n",
    "test_features, predict_features = split(test_features)\n",
    "test_labels, predict_labels = split(test_labels)"
   ]
  },
  {
   "cell_type": "code",
   "execution_count": null,
   "id": "3aa6dafc-6d0b-417e-85c4-749f1452063e",
   "metadata": {
    "tags": []
   },
   "outputs": [],
   "source": [
    "# Plot data\n",
    "import matplotlib.pyplot as plt\n",
    "import numpy as np\n",
    "\n",
    "plt.figure(figsize=(5, 5))\n",
    "plt.ylim(0, 2 * np.pi)\n",
    "plt.xlim(0, 2 * np.pi)\n",
    "plt.imshow(\n",
    "    np.asmatrix(adhoc_total).T,\n",
    "    interpolation=\"nearest\",\n",
    "    origin=\"lower\",\n",
    "    cmap=\"RdBu\",\n",
    "    extent=[0, 2 * np.pi, 0, 2 * np.pi],\n",
    ")\n",
    "\n",
    "plt.scatter(\n",
    "    train_features[np.where(train_labels[:] == 0), 0],\n",
    "    train_features[np.where(train_labels[:] == 0), 1],\n",
    "    marker=\"s\",\n",
    "    facecolors=\"w\",\n",
    "    edgecolors=\"b\",\n",
    "    label=\"A train\",\n",
    ")\n",
    "plt.scatter(\n",
    "    train_features[np.where(train_labels[:] == 1), 0],\n",
    "    train_features[np.where(train_labels[:] == 1), 1],\n",
    "    marker=\"o\",\n",
    "    facecolors=\"w\",\n",
    "    edgecolors=\"r\",\n",
    "    label=\"B train\",\n",
    ")\n",
    "plt.scatter(\n",
    "    test_features[np.where(test_labels[:] == 0), 0],\n",
    "    test_features[np.where(test_labels[:] == 0), 1],\n",
    "    marker=\"s\",\n",
    "    facecolors=\"b\",\n",
    "    edgecolors=\"w\",\n",
    "    label=\"A test\",\n",
    ")\n",
    "plt.scatter(\n",
    "    test_features[np.where(test_labels[:] == 1), 0],\n",
    "    test_features[np.where(test_labels[:] == 1), 1],\n",
    "    marker=\"o\",\n",
    "    facecolors=\"r\",\n",
    "    edgecolors=\"w\",\n",
    "    label=\"B test\",\n",
    ")\n",
    "\n",
    "plt.legend(bbox_to_anchor=(1.05, 1), loc=\"upper left\", borderaxespad=0.0)\n",
    "plt.title(\"Ad hoc dataset for classification\")\n",
    "\n",
    "plt.show()"
   ]
  },
  {
   "cell_type": "markdown",
   "id": "fb2bfd25-a628-4c12-ab39-9007c2510303",
   "metadata": {},
   "source": [
    "### Initializing Classiq's QSVM"
   ]
  },
  {
   "cell_type": "code",
   "execution_count": null,
   "id": "9fe3ac22-9c3c-40fb-a482-25e448a0e042",
   "metadata": {},
   "outputs": [],
   "source": [
    "## Classiq imports\n",
    "\n",
    "from classiq import Pauli, construct_qsvm_model, execute, show, synthesize\n",
    "from classiq.applications.qsvm import QSVMFeatureMapEntanglement\n",
    "\n",
    "pauli_z_zz_feature_map_function_name = \"pauli_feature_map\"\n",
    "pauli_z_zz_kwargs = {\n",
    "    \"paulis\": [[Pauli.Z], [Pauli.Z, Pauli.Z]],\n",
    "    \"entanglement\": QSVMFeatureMapEntanglement.CIRCULAR,\n",
    "    \"alpha\": 2,\n",
    "    \"reps\": 2,\n",
    "    \"feature_dimension\": 2,\n",
    "}\n",
    "\n",
    "\n",
    "QSVM_PAULI_Z_ZZ = construct_qsvm_model(\n",
    "    train_data=train_features.tolist(),\n",
    "    train_labels=train_labels.tolist(),\n",
    "    test_data=test_features.tolist(),\n",
    "    test_labels=test_labels.tolist(),\n",
    "    predict_data=predict_features.tolist(),\n",
    "    feature_map_function_name=pauli_z_zz_feature_map_function_name,\n",
    "    **pauli_z_zz_kwargs\n",
    ")"
   ]
  },
  {
   "cell_type": "code",
   "execution_count": null,
   "id": "38840c3c-e84e-4875-84b4-4bf287646368",
   "metadata": {},
   "outputs": [],
   "source": [
    "with open(\"qsvm_pauli_feature_map.qmod\", \"w\") as f:\n",
    "    f.write(QSVM_PAULI_Z_ZZ)"
   ]
  },
  {
   "cell_type": "markdown",
   "id": "a64951ce-fc0d-4064-ad95-c24e224a4cc7",
   "metadata": {},
   "source": [
    "### Viewing the model's parameterized quantum circuit:"
   ]
  },
  {
   "cell_type": "code",
   "execution_count": null,
   "id": "9b24240a-0da3-4fb1-9edb-df5f1a276a49",
   "metadata": {},
   "outputs": [],
   "source": [
    "qprog = synthesize(QSVM_PAULI_Z_ZZ)\n",
    "show(qprog)"
   ]
  },
  {
   "cell_type": "markdown",
   "id": "2c4928cd-0fc7-4f50-b187-aa0baaf144af",
   "metadata": {},
   "source": [
    "### Executing:"
   ]
  },
  {
   "cell_type": "code",
   "execution_count": null,
   "id": "a5dca615-06d0-4890-9eae-3cfb5f4ca953",
   "metadata": {},
   "outputs": [],
   "source": [
    "results = execute(qprog).result()"
   ]
  },
  {
   "cell_type": "code",
   "execution_count": null,
   "id": "b468324e-f3b2-4568-bd1c-25672f3345c0",
   "metadata": {
    "tags": []
   },
   "outputs": [],
   "source": [
    "# Printing tests result\n",
    "print(f\"Testing success ratio: {results[0].value['test_score']}\")\n",
    "print()\n",
    "# Printing predictions\n",
    "print(\"Prediction from datapoints set:\")\n",
    "print(f\"  ground truth: {predict_labels}\")\n",
    "predicted_labels = results[0].value[\"predicted_labels\"]\n",
    "print(f\"  prediction:   {predicted_labels}\")\n",
    "print(\n",
    "    f\"  success rate: {100 * np.count_nonzero(predicted_labels == predict_labels) / len(predicted_labels)}%\"\n",
    ")"
   ]
  }
 ],
 "metadata": {
  "kernelspec": {
   "display_name": "Python 3 (ipykernel)",
   "language": "python",
   "name": "python3"
  },
  "language_info": {
   "codemirror_mode": {
    "name": "ipython",
    "version": 3
   },
   "file_extension": ".py",
   "mimetype": "text/x-python",
   "name": "python",
   "nbconvert_exporter": "python",
   "pygments_lexer": "ipython3",
   "version": "3.11.4"
  },
  "vscode": {
   "interpreter": {
    "hash": "a07aacdcc8a415e7643a2bc993226848ff70704ebef014f87460de9126b773d0"
   }
  }
 },
 "nbformat": 4,
 "nbformat_minor": 5
}
