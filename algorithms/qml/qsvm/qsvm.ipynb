{
 "cells": [
  {
   "cell_type": "markdown",
   "id": "ab3ff61d-ae04-48d4-b0ea-325281390a77",
   "metadata": {},
   "source": [
    "# QSVM\n",
    "Quantum Support Vector Machines is the Quantum version of SVM - a data classification method which separates the data using a hyperplane.\n",
    "\n",
    "This algorithm takes the following steps:\n",
    "- Map the data into a different hyperspace (since the data may be non-linearly-seperable in the original space)\n",
    "    - In the case of QSVM - mapping the classical data into Hilbert space.\n",
    "- Calculate the kernel matrix\n",
    "    - The kernel entries are the fidelities between different feature vectors\n",
    "    - In the case of QSVM - this is done on a Quantum computer.\n",
    "- Optimize the dual problem (this is always done classicaly)\n",
    "$$ L_D(\\alpha) = \\sum_{i=1}^t \\alpha_i - \\frac{1}{2} \\sum_{i,j=1}^t y_i y_j \\alpha_i \\alpha_j K(\\vec{x}_i \\vec{x}_j) $$\n",
    "    - Where $t$ is the amount of data points\n",
    "    - the $\\vec{x}_i$s are the data points\n",
    "    - $y_i$ is the label $\\in \\{-1,1\\}$ of each data point\n",
    "    - $K(\\vec{x}_i \\vec{x}_j)$ is the kernel matrix element between the $i$ and $j$ datapoints\n",
    "    - and we optimize over the $\\alpha$s\n",
    "    - We expect most of the $\\alpha$s to be $0$. The $\\vec{x}_i$s that correspond to non-zero $\\alpha_i$ are called the Support Vectors.\n",
    "- Finally, we may predict unlabeled data by calculating the kernel matrix of the new datum with respect to the support vectors\n",
    "$$ \\text{Predicted Label}(\\vec{s}) = \\text{sign} \\left( \\sum_{i=1}^t y_i \\alpha_i^* K(\\vec{x}_i , \\vec{s}) + b \\right) $$\n",
    "    - Where $\\vec{s}$ is the datapoint to be classified\n",
    "    - $\\alpha_i^*$ are the optimized $\\alpha$s\n",
    "    - And $b$ is the bias.\n",
    "\n",
    "\n",
    "Reference:\n",
    "\n",
    "[1] Havl&#237;&#269;ek, V., C&#243;rcoles, A.D., Temme, K. et al. Supervised learning with quantum-enhanced feature spaces. Nature 567, 209-212 (2019). https://doi.org/10.1038/s41586-019-0980-2"
   ]
  },
  {
   "cell_type": "markdown",
   "id": "fbbcced5-c83b-4cd7-be25-2055f1da451a",
   "metadata": {},
   "source": [
    "# Code\n",
    "First, we start with the relevant imports"
   ]
  },
  {
   "cell_type": "code",
   "execution_count": null,
   "id": "9e4a4ce2-594c-471f-8e07-37104cc94cb5",
   "metadata": {},
   "outputs": [],
   "source": [
    "import matplotlib.pyplot as plt\n",
    "import numpy as np\n",
    "\n",
    "from classiq import construct_qsvm_model, execute, show, synthesize\n",
    "from classiq.applications.qsvm import QSVMFeatureMapEntanglement\n",
    "\n",
    "## Classiq imports"
   ]
  },
  {
   "cell_type": "markdown",
   "id": "419ac43f-6239-4bcb-93d9-983080ec41f8",
   "metadata": {},
   "source": [
    "Next, we generate data.\n",
    "\n",
    "In this example, we take a 2D input space, and a binary classification (i.e. only 2 groups of data points)"
   ]
  },
  {
   "cell_type": "code",
   "execution_count": null,
   "id": "2d262beb-d345-4249-81d7-c20c44320031",
   "metadata": {},
   "outputs": [],
   "source": [
    "import random\n",
    "\n",
    "RANDOM_SEED = 0\n",
    "random.seed(RANDOM_SEED)\n",
    "np.random.seed(RANDOM_SEED)"
   ]
  },
  {
   "cell_type": "code",
   "execution_count": null,
   "id": "36b8fb34-a659-4829-b6b9-fe2a77536ad5",
   "metadata": {
    "tags": []
   },
   "outputs": [],
   "source": [
    "# Importing functions used for this demo, to generate random linearly separable data\n",
    "from classiq.applications.qsvm.qsvm_data_generation import (\n",
    "    data_and_labels_to_data_dict,\n",
    "    data_dict_to_data_and_labels,\n",
    "    generate_data,\n",
    ")\n",
    "\n",
    "# Generate sample data:\n",
    "sources = np.array([[1.23016026, 1.72327701], [3.20331931, 5.32365722]])\n",
    "\n",
    "training_input: dict = generate_data(sources=sources)\n",
    "test_input: dict = generate_data(sources=sources)\n",
    "predict_input, predict_real_labels = data_dict_to_data_and_labels(\n",
    "    generate_data(sources=sources)\n",
    ")"
   ]
  },
  {
   "cell_type": "markdown",
   "id": "564b0996-8dd2-4bea-b367-4e569ecab5ae",
   "metadata": {},
   "source": [
    "Plotting the data.\n",
    "\n",
    "Note that the data is expected to be normalized to within $ 0 $ to $ 2 \\pi $."
   ]
  },
  {
   "cell_type": "code",
   "execution_count": null,
   "id": "14bb8caa-e580-4029-a061-39e21f89626d",
   "metadata": {
    "tags": []
   },
   "outputs": [],
   "source": [
    "# Plot the data\n",
    "plot_range = (0, 2 * np.pi)\n",
    "\n",
    "for k, v in training_input.items():\n",
    "    plt.scatter(*v.T, label=str(k))\n",
    "plt.legend()\n",
    "plt.title(\"training data\")\n",
    "plt.xlim(plot_range)\n",
    "plt.ylim(plot_range)\n",
    "plt.show()\n",
    "\n",
    "for k, v in test_input.items():\n",
    "    plt.scatter(*v.T, label=str(k))\n",
    "plt.legend()\n",
    "plt.title(\"test data\")\n",
    "plt.xlim(plot_range)\n",
    "plt.ylim(plot_range)\n",
    "plt.show()\n",
    "\n",
    "plt.scatter(*predict_input.T)\n",
    "plt.title(\"predict data (unlabeled)\")\n",
    "plt.xlim(plot_range)\n",
    "plt.ylim(plot_range)\n",
    "plt.show()"
   ]
  },
  {
   "cell_type": "markdown",
   "id": "9c86cb0d-cf35-4be0-84d2-f9d871615001",
   "metadata": {},
   "source": [
    "### Define our Feature Map\n",
    "When constructing a `QSVM` model, one must supply which feature map will be used.\n",
    "\n",
    "A feature map is a way to encode classical data into quantum.\n",
    "Here, we chose to encode the data onto the surface of the bloch sphere.\n",
    "Behind the scenes, this can be translated to:\n",
    "```\n",
    "R_X(x[0] / 2)\n",
    "R_Z(x[1])\n",
    "```\n",
    "Where `x` is the 2D input vector, and the circuit takes a single qubit per data-point."
   ]
  },
  {
   "cell_type": "code",
   "execution_count": null,
   "id": "ef5cae38-ccae-4e09-ba36-be2c6e8ed009",
   "metadata": {},
   "outputs": [],
   "source": [
    "bloch_sphere_feature_map_function_name = \"bloch_sphere_feature_map\"\n",
    "bloch_sphere_kwargs = {\"bloch_feature_dimension\": 2}"
   ]
  },
  {
   "cell_type": "markdown",
   "id": "50162836-27be-4a64-91a7-b0439fa66300",
   "metadata": {},
   "source": [
    "### Define the Data\n",
    "I addition to the feature map, we need to prepare our data.\n",
    "\n",
    "The `train_input` and `test_input` datasets consisting of data and its labels. The labels is a 1D array where the value of the label correspond to each data point and can be basically anything - such as (0, 1) , (3, 5) , or ('A', 'B').\n",
    "The `predict_input` consists only of data point (without labels).\n"
   ]
  },
  {
   "cell_type": "code",
   "execution_count": null,
   "id": "517c81ac-d8f0-4624-8654-a9455d3850fc",
   "metadata": {},
   "outputs": [],
   "source": [
    "# Prepare and define `train_input` and `test_input` datasets consisting of data and labels\n",
    "TRAIN_DATA, TRAIN_LABEL = data_dict_to_data_and_labels(training_input)\n",
    "TEST_DATA, TEST_LABEL = data_dict_to_data_and_labels(test_input)\n",
    "\n",
    "# Prepare and define `predict_input`\n",
    "PREDICT_DATA = predict_input"
   ]
  },
  {
   "cell_type": "markdown",
   "id": "1a8410eb-61f8-4934-afd6-64b1d341593f",
   "metadata": {},
   "source": [
    "### Construct a model\n",
    "We can now construct the QSVM model using the `construct_qsvm_model` function:"
   ]
  },
  {
   "cell_type": "code",
   "execution_count": null,
   "id": "ace245c5-58d5-437c-9809-8c5ef9f30fd7",
   "metadata": {},
   "outputs": [],
   "source": [
    "QSVM_BLOCH_SHPERE = construct_qsvm_model(\n",
    "    train_data=TRAIN_DATA.tolist(),\n",
    "    train_labels=TRAIN_LABEL.tolist(),\n",
    "    test_data=TEST_DATA.tolist(),\n",
    "    test_labels=TEST_LABEL.tolist(),\n",
    "    predict_data=PREDICT_DATA.tolist(),\n",
    "    feature_map_function_name=bloch_sphere_feature_map_function_name,\n",
    "    **bloch_sphere_kwargs\n",
    ")"
   ]
  },
  {
   "cell_type": "code",
   "execution_count": null,
   "id": "d9497b62-577d-4d27-bcdb-1be89bad4546",
   "metadata": {},
   "outputs": [],
   "source": [
    "with open(\"qsvm.qmod\", \"w\") as f:\n",
    "    f.write(QSVM_BLOCH_SHPERE)"
   ]
  },
  {
   "cell_type": "markdown",
   "id": "b29d8f67",
   "metadata": {},
   "source": [
    "### Synthesize our model and explore the generated quantum circuit\n",
    "Once we constructed our qsvm model - we synthesize and view the quantum circuit that encodes our data.\n",
    "For this we will use `classiq` built-in `synthesize` and `show` functions:"
   ]
  },
  {
   "cell_type": "code",
   "execution_count": null,
   "id": "c9cdefbe",
   "metadata": {},
   "outputs": [],
   "source": [
    "qprog = synthesize(QSVM_BLOCH_SHPERE)\n",
    "show(qprog)"
   ]
  },
  {
   "cell_type": "markdown",
   "id": "9106df09",
   "metadata": {},
   "source": [
    "### Execute QSVM\n",
    "The first step in QSVM is the training.\n",
    "The second step in QSVM is to test the training process.\n",
    "The last QSVM step, which may be applied multiple times on different datasets, is prediction: the prediction process takes unlabeled data, and returns its predicted labels.\n",
    "\n",
    "Executing QSVM is done though the `execute` function.\n",
    "The execution results will include the accuracy of the classification and the predicted labels for the predict data.\n"
   ]
  },
  {
   "cell_type": "code",
   "execution_count": null,
   "id": "48f3a4bd",
   "metadata": {},
   "outputs": [],
   "source": [
    "results = execute(qprog).result()"
   ]
  },
  {
   "cell_type": "markdown",
   "id": "519d20e6",
   "metadata": {},
   "source": [
    "We can view the classification accuracy through `test_score`"
   ]
  },
  {
   "cell_type": "code",
   "execution_count": null,
   "id": "6d4b68fc",
   "metadata": {},
   "outputs": [],
   "source": [
    "results[0].value[\"test_score\"]"
   ]
  },
  {
   "cell_type": "markdown",
   "id": "87b7a490-1d80-4c5f-8a59-d227fe8be03c",
   "metadata": {},
   "source": [
    "Since this data was previously generated, we also know the real labels, and can print them for comparison."
   ]
  },
  {
   "cell_type": "code",
   "execution_count": null,
   "id": "a0c29c77-fa68-4d74-87ae-10a40af9af31",
   "metadata": {},
   "outputs": [],
   "source": [
    "predicted_labels = results[0].value[\"predicted_labels\"]\n",
    "print(predicted_labels)\n",
    "print(predict_real_labels)"
   ]
  },
  {
   "cell_type": "markdown",
   "id": "39880a1f",
   "metadata": {},
   "source": [
    "We can even visualize the predicted results:"
   ]
  },
  {
   "cell_type": "code",
   "execution_count": null,
   "id": "00db178e-4d49-4e55-8144-ba424b3fe833",
   "metadata": {},
   "outputs": [],
   "source": [
    "# Plotting\n",
    "COLORS = [\"blue\", \"orange\"]\n",
    "plt.scatter(\n",
    "    *zip(*predict_input),\n",
    "    color=np.vectorize(COLORS.__getitem__)(predicted_labels),\n",
    ")\n",
    "plt.title(\"The predicted result\")\n",
    "plt.xlim(plot_range)\n",
    "plt.ylim(plot_range)\n",
    "plt.show()"
   ]
  },
  {
   "cell_type": "markdown",
   "id": "24a4042c-5565-4a04-92ff-ce5b48859304",
   "metadata": {},
   "source": [
    "# Putting it all together\n"
   ]
  },
  {
   "cell_type": "code",
   "execution_count": null,
   "id": "caecbf5e-b48a-42e2-a5d6-31605b75dcdd",
   "metadata": {},
   "outputs": [],
   "source": [
    "# Prepare and define `train_input` and `test_input` datasets consisting of data and labels\n",
    "TRAIN_DATA, TRAIN_LABEL = data_dict_to_data_and_labels(training_input)\n",
    "TEST_DATA, TEST_LABEL = data_dict_to_data_and_labels(test_input)\n",
    "\n",
    "# Prepare and define `predict_input`\n",
    "PREDICT_DATA = predict_input\n",
    "\n",
    "QSVM_BLOCH_SHPERE = construct_qsvm_model(\n",
    "    train_data=TRAIN_DATA.tolist(),\n",
    "    train_labels=TRAIN_LABEL.tolist(),\n",
    "    test_data=TEST_DATA.tolist(),\n",
    "    test_labels=TEST_LABEL.tolist(),\n",
    "    predict_data=PREDICT_DATA.tolist(),\n",
    "    feature_map_function_name=bloch_sphere_feature_map_function_name,\n",
    "    **bloch_sphere_kwargs\n",
    ")\n",
    "\n",
    "\n",
    "qprog = synthesize(QSVM_BLOCH_SHPERE)\n",
    "show(qprog)\n",
    "\n",
    "results = execute(qprog).result()"
   ]
  },
  {
   "cell_type": "markdown",
   "id": "d3601e89-ef0f-42ea-98a7-b09d79de3ed4",
   "metadata": {},
   "source": [
    "We may access the results of the different steps using:\n",
    "- `test` results: `results[0][1]['test_score']`\n",
    "- `predict` results: `results[0][1]['predicted_labels']`"
   ]
  },
  {
   "cell_type": "code",
   "execution_count": null,
   "id": "617e1dc4-9d49-4ecf-8bdd-b542fdcdd91a",
   "metadata": {},
   "outputs": [],
   "source": [
    "accuracy = results[0].value[\"test_score\"]\n",
    "print(accuracy)\n",
    "print()\n",
    "\n",
    "predicted_labels = results[0].value[\"predicted_labels\"]\n",
    "print(predicted_labels)\n",
    "print(predict_real_labels)"
   ]
  }
 ],
 "metadata": {
  "kernelspec": {
   "display_name": "Python 3 (ipykernel)",
   "language": "python",
   "name": "python3"
  },
  "language_info": {
   "codemirror_mode": {
    "name": "ipython",
    "version": 3
   },
   "file_extension": ".py",
   "mimetype": "text/x-python",
   "name": "python",
   "nbconvert_exporter": "python",
   "pygments_lexer": "ipython3",
   "version": "3.8.13"
  },
  "vscode": {
   "interpreter": {
    "hash": "a07aacdcc8a415e7643a2bc993226848ff70704ebef014f87460de9126b773d0"
   }
  }
 },
 "nbformat": 4,
 "nbformat_minor": 5
}
