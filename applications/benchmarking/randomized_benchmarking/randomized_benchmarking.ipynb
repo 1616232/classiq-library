{
 "cells": [
  {
   "cell_type": "markdown",
   "id": "ef42af46-1f6e-4a02-bc64-a39b4da46ffa",
   "metadata": {
    "pycharm": {
     "name": "#%% md\n"
    },
    "tags": []
   },
   "source": [
    "# Randomized Benchmarking\n",
    "\n",
    "In this notebook we perform a full, end to end performance of a randomized benchmarking (RB) experiment using the Classiq platform. The notebook is divided into several parts describing the different steps of the workflow with the Classiq program - Model Definition, Synthesis, Execution and Analysis.\n",
    "\n",
    "## 1) Model Definition\n",
    "We start by defining the model, the high level description of the function we want to run and the constraints to which it is subjected.\n",
    "\n",
    "a) Define the parameters of the problem. In this specific case we have 5 FunctionParams objects which will correspond to 5 different models. This part is hardware unaware.\n",
    "\n",
    "b) Define hardware settings for the problem to run on. Here, these are the basis gates necessary for execution on IBM Quantum machines, which we will do later.\n",
    "\n",
    "c) Create models from the results of the previous steps. In this step, we may add additional constraints to models (width, depth, etc.) Specifically for RB, the width is set by `num_of_qubits` and the depth by `num_of_cliffords`. Therefore the synthesis engine won't make use of these constraints, and they are omitted."
   ]
  },
  {
   "cell_type": "code",
   "execution_count": null,
   "id": "939556c9-e619-4c5e-8dd1-dd1dd50b6268",
   "metadata": {
    "pycharm": {
     "name": "#%%\n"
    }
   },
   "outputs": [],
   "source": [
    "from classiq import Model\n",
    "from classiq.builtin_functions import RandomizedBenchmarking\n",
    "from classiq.model import CustomHardwareSettings, Preferences\n",
    "\n",
    "# a) Params definition\n",
    "num_of_qubits = 1\n",
    "numbers_of_cliffords = [5, 10, 15, 20, 25]\n",
    "params_list = [\n",
    "    RandomizedBenchmarking(\n",
    "        num_of_qubits=num_of_qubits, num_of_cliffords=num_of_cliffords\n",
    "    )\n",
    "    for num_of_cliffords in numbers_of_cliffords\n",
    "]\n",
    "\n",
    "# b) Hardware definition\n",
    "ibmq_basis_gates = [\"id\", \"rz\", \"sx\", \"x\", \"cx\"]\n",
    "hw_settings = CustomHardwareSettings(basis_gates=ibmq_basis_gates)\n",
    "\n",
    "# c) Model creation\n",
    "preferences = Preferences(custom_hardware_settings=hw_settings)\n",
    "models = [Model(preferences=preferences) for _ in numbers_of_cliffords]\n",
    "for model, params in zip(models, params_list):\n",
    "    model.RandomizedBenchmarking(params)\n",
    "    model.sample()"
   ]
  },
  {
   "cell_type": "markdown",
   "id": "7d4f17a7-31ed-4e6c-813e-e9c801197708",
   "metadata": {},
   "source": [
    "## 2) Synthesis\n",
    "Continue to synthesize the constructed models using the `synthesize_async` command. This creates a circuit in the Classiq engine's `GeneratedCircuit` format for you to access in different low-level formats. This example shows the `transpiled_qasm` format, which takes into account the basis gates defined in the model. Then, prepare QuantumProgram objects ready to run on actual hardware."
   ]
  },
  {
   "cell_type": "code",
   "execution_count": null,
   "id": "84566159-0012-4195-a2b0-637e846c4bca",
   "metadata": {
    "pycharm": {
     "name": "#%%\n"
    }
   },
   "outputs": [],
   "source": [
    "import asyncio\n",
    "\n",
    "from classiq import GeneratedCircuit, synthesize_async\n",
    "from classiq.execution import QuantumInstructionSet, QuantumProgram\n",
    "\n",
    "\n",
    "async def synthesize_all_models(models):\n",
    "    return await asyncio.gather(\n",
    "        *[synthesize_async(model.get_model()) for model in models]\n",
    "    )\n",
    "\n",
    "\n",
    "quantum_programs = asyncio.run(synthesize_all_models(models))\n",
    "circuits = [GeneratedCircuit.from_qprog(qprog) for qprog in quantum_programs]\n",
    "\n",
    "programs = [\n",
    "    QuantumProgram(code=circ.transpiled_circuit.qasm, syntax=QuantumInstructionSet.QASM)\n",
    "    for circ in circuits\n",
    "]"
   ]
  },
  {
   "cell_type": "markdown",
   "id": "6d16ea7b-3dae-4482-9214-7ae7b1afdb6e",
   "metadata": {
    "pycharm": {
     "name": "#%% md\n"
    }
   },
   "source": [
    "## 3) Execution\n",
    "Once we have the programs we are ready to run. We allow running multiple programs on multiple backends in a single command. The hardwares to run are to be specified by the user, see the [executor user guide](https://docs.classiq.io/latest/user-guide/executor/index.html) for more details. Here we run on simulators IBM Quantum simulators. These may be replaced by any other hardware, with the proper access credentials. For IBM Quantum hardware access for example, simply replace the ibmq_access_t with an API token from [IBMQ's website](https://quantum-computing.ibm.com/) and specify the hardware name in the `backend_name` field of the desired `BackendPreferences` objects."
   ]
  },
  {
   "cell_type": "code",
   "execution_count": null,
   "id": "dc5b0e1e-b87f-4280-97c3-d5366b56f18a",
   "metadata": {
    "pycharm": {
     "name": "#%%\n"
    }
   },
   "outputs": [],
   "source": [
    "# Execution\n",
    "\n",
    "from itertools import product\n",
    "\n",
    "from classiq import execute_async, set_quantum_program_execution_preferences\n",
    "from classiq.execution import (\n",
    "    ExecutionDetails,\n",
    "    ExecutionPreferences,\n",
    "    IBMBackendPreferences,\n",
    ")\n",
    "\n",
    "ibmq_access_t = None\n",
    "\n",
    "backend_names = (\"aer_simulator_statevector\", \"aer_simulator\")\n",
    "backend_prefs = IBMBackendPreferences.batch_preferences(\n",
    "    backend_names=backend_names,\n",
    "    access_token=ibmq_access_t,\n",
    ")\n",
    "\n",
    "qprogs_with_preferences = list()\n",
    "for qprog, backend_pref in product(quantum_programs, backend_prefs):\n",
    "    preferences = ExecutionPreferences(backend_preferences=backend_pref)\n",
    "    qprogs_with_preferences.append(\n",
    "        set_quantum_program_execution_preferences(qprog, preferences)\n",
    "    )\n",
    "\n",
    "\n",
    "async def execute_program(qprog):\n",
    "    job = await execute_async(qprog)\n",
    "    return await job.result_async()\n",
    "\n",
    "\n",
    "async def execute_all_programs(qprogs):\n",
    "    return await asyncio.gather(*[execute_program(qprog) for qprog in qprogs])\n",
    "\n",
    "\n",
    "results = asyncio.run(execute_all_programs(qprogs_with_preferences))\n",
    "samples_results = [res[0].value for res in results]"
   ]
  },
  {
   "cell_type": "markdown",
   "id": "9d3676d0-6f76-46bb-b4ab-18abd4eebc8b",
   "metadata": {
    "pycharm": {
     "name": "#%% md\n"
    }
   },
   "source": [
    "## 4) Analysis\n",
    "The final part is the analysis of the RB data. While the last two steps where independent of the problem at hand, this part is RB unique. We start by reordering the data, which is given in a 'batch'. For RB analysis we need to match a program to the number of cliffords it represents, hence the `clifford_number_mapping` variable. Then we reorder the data according to hardware, call the RBAnalysis class present the hardware comparison histograms.\n",
    "\n",
    "Note - if the backends are not replaced to real hardware, expect the trivial result of 100% fidelity for both backends."
   ]
  },
  {
   "cell_type": "code",
   "execution_count": null,
   "id": "acb04522-0c86-4ee3-ab96-4bb31fe3e1d5",
   "metadata": {
    "pycharm": {
     "name": "#%%\n"
    }
   },
   "outputs": [],
   "source": [
    "from typing import Dict\n",
    "\n",
    "from classiq.analyzer.rb import RBAnalysis, order_executor_data_by_hardware\n",
    "\n",
    "clifford_number_mapping: Dict[str, int] = {\n",
    "    prog.code: num_clifford\n",
    "    for prog, num_clifford in zip(programs, numbers_of_cliffords)\n",
    "}\n",
    "mixed_data = tuple(\n",
    "    zip(backend_prefs * len(programs), programs * len(backend_names), samples_results)\n",
    ")\n",
    "rb_analysis_params = order_executor_data_by_hardware(\n",
    "    mixed_data=mixed_data, clifford_numbers_per_program=clifford_number_mapping\n",
    ")\n",
    "multiple_hardware_data = RBAnalysis(experiments_data=rb_analysis_params)\n",
    "total_data = asyncio.run(multiple_hardware_data.show_multiple_hardware_data_async())\n",
    "fig = multiple_hardware_data.plot_multiple_hardware_results()\n",
    "fig.show()"
   ]
  }
 ],
 "metadata": {
  "kernelspec": {
   "display_name": "Python 3 (ipykernel)",
   "language": "python",
   "name": "python3"
  },
  "language_info": {
   "codemirror_mode": {
    "name": "ipython",
    "version": 3
   },
   "file_extension": ".py",
   "mimetype": "text/x-python",
   "name": "python",
   "nbconvert_exporter": "python",
   "pygments_lexer": "ipython3",
   "version": "3.8.13"
  },
  "vscode": {
   "interpreter": {
    "hash": "a07aacdcc8a415e7643a2bc993226848ff70704ebef014f87460de9126b773d0"
   }
  }
 },
 "nbformat": 4,
 "nbformat_minor": 5
}
