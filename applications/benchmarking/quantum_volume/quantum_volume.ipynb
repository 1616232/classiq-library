{
 "cells": [
  {
   "cell_type": "markdown",
   "id": "eb58189e-0daf-4463-b572-bd86b3049ff9",
   "metadata": {},
   "source": [
    "# Quantum Volume\n",
    "\n",
    "Quantum volume is a measurement of the error amount characterizing a chosen quantum hardware. The quantum volume is a result of running a circuit based on principles of randomness and statistical analysis, which provides a single number to compare between different hardwares.\n",
    "\n",
    "The scheme of the quantum volume is as following [1]:\n",
    "1. For a given number of qubits $n$, a circuit is made of $n$ quantum layer.\n",
    "2. Each layer consist of unitary operation between pairing of the $n$ qubits. The pairs are chosen at random, and in the case $n$ is odd, one will not have operation.\n",
    "3. The unitary operation between each pair is the Haar random matrix, i.e SU(4) operation containing random complex number in such manner that the probability to measure a quantum state is kept with uniform distribution.\n",
    "4. For a single circuit made for $n$ qubits, a measurements are made, and the heavy output probability (i.e. the probability to measure the states above the median value) is calculated. Due to the nature of the distribution of random complex number, one can evaluate that for an ideal case (no noises), the heavy output probability should be ~0.85. For assessment of the quantum volume the demand is subsided to the following inequality: (1) P{heavy_outputs} >= 2/3 .\n",
    "5. For a given output, in order to get the quantum volume, one repeats steps 1-4 for increasing number of qubits until the inequality described in step 4 does not hold. In order to assure that, the circuits are created many times and the average and standard deviation are taken into account.\n",
    "6. The quantum volume will be the 2 to the power the number of qubits, such that pass inequality (1), under the procedure described in 1-5.\n",
    "\n",
    "The heavy output probability is a good measurement of the quality of the circuit, as noise will reduce the probabilities to the uniform distribution. While so, one needs to consider that there are many components to the results of the procedure - including the hardware noises, but also the connectivity map, the quality of the transpilation, and even the quantum software which translated the circuit into basis gates for the hardware, and thus contributes to the circuit's depth.\n",
    "\n",
    "In this demonstration we show the code to implement the steps to calculate the quantum volume using the Classiq platform, and show example to such calculation made for several quantum simulators and hardwares."
   ]
  },
  {
   "cell_type": "markdown",
   "id": "d9973f53-8fd9-4cb1-a285-11f9676ff3e1",
   "metadata": {},
   "source": [
    "### Step 1: create Haar random unitary matrix\n",
    "\n",
    "We hereby create a function with generate a (n,n) sized Haar random unitary matrix [2]. This matrix contains random complex number which distribute evenly in the $2^n$ space of quantum states. The Haar distribution tells us how to weight the elements of $𝑈(𝑁)$ such that such uniform distribution occurs in the parameter space."
   ]
  },
  {
   "cell_type": "code",
   "execution_count": null,
   "id": "4a618997-d7de-4edb-82b5-c8f40036f57c",
   "metadata": {
    "tags": []
   },
   "outputs": [],
   "source": [
    "import numpy as np\n",
    "from numpy.linalg import qr\n",
    "from scipy.stats import unitary_group\n",
    "\n",
    "\n",
    "def haar(n):\n",
    "    # n=4\n",
    "    u1 = unitary_group.rvs(n)\n",
    "    u2 = unitary_group.rvs(n)\n",
    "    Z = u1 + 1j * u2\n",
    "\n",
    "    Q, R = qr(Z)\n",
    "\n",
    "    Lambda = np.diag([R[i, i] / np.abs(R[i, i]) for i in range(n)])\n",
    "\n",
    "    return np.dot(Q, Lambda)"
   ]
  },
  {
   "cell_type": "markdown",
   "id": "4a347727-e521-4767-ba7e-dccf0d7d76bc",
   "metadata": {},
   "source": [
    "### step 2: create quantum volume circuit\n",
    "\n",
    "The function `qv_model` creates for given $N$ number of qubit the quantum volume model. For $N$ qubits, the circuit must include $N$ quantum volume layers. The layers are built using `qv_layer` function which create a random pairing between the $N$ qubits (for odd number, a random chosen qubit will not be operated). Between each pair, a unitary gate will be operated which consist of Haar random unitary matrix of size 4."
   ]
  },
  {
   "cell_type": "code",
   "execution_count": null,
   "id": "0cf575b2-61a2-42b6-a60e-00f34d7c3922",
   "metadata": {
    "tags": []
   },
   "outputs": [],
   "source": [
    "import math\n",
    "import random\n",
    "\n",
    "from classiq import Model, QReg, QUInt, RegisterUserInput\n",
    "from classiq.builtin_functions import UnitaryGate\n",
    "\n",
    "\n",
    "def qv_layer(N, model, qubit_to_wires, qubit_list):\n",
    "    for idx in range(math.floor(N / 2)):\n",
    "        # step 1: isolate the qubit pairs for the layers\n",
    "        a = qubit_list[idx]\n",
    "        b = qubit_list[math.floor(N / 2) + idx]\n",
    "\n",
    "        # step 2: generate the random matix : this need to change for the random matrix when its possible\n",
    "        gate_matrix = haar(4).tolist()\n",
    "        unitary_gate_params = UnitaryGate(data=gate_matrix)\n",
    "        uni_out = model.UnitaryGate(\n",
    "            unitary_gate_params,\n",
    "            in_wires=QReg.concat(qubit_to_wires[a], qubit_to_wires[b]),\n",
    "        )\n",
    "\n",
    "        # step 3: refresh the wiring map\n",
    "        qubit_to_wires[a], qubit_to_wires[b] = (\n",
    "            uni_out[\"TARGET\"][0],\n",
    "            uni_out[\"TARGET\"][1],\n",
    "        )\n",
    "\n",
    "    return (model, qubit_to_wires)"
   ]
  },
  {
   "cell_type": "code",
   "execution_count": null,
   "id": "a48dcb13-5726-46ad-86a0-357d87f23d27",
   "metadata": {
    "tags": []
   },
   "outputs": [],
   "source": [
    "def qv_model(N):\n",
    "    # step 1: create the qubit list\n",
    "    qubit_list = list(range(N))\n",
    "\n",
    "    # step 2: create the model, qubits and wiring map\n",
    "    inputs = RegisterUserInput(size=N)\n",
    "    model = Model()\n",
    "    input_dict = model.create_inputs({\"TARGET\": QReg[N]})\n",
    "    qubit_to_wires = [input_dict[\"TARGET\"][k] for k in range(N)]\n",
    "\n",
    "    # step 3: send the model to add layers\n",
    "    for idx in range(N):\n",
    "        model, qubit_to_wires = qv_layer(N, model, qubit_to_wires, qubit_list)\n",
    "        random.shuffle(qubit_list)\n",
    "\n",
    "    model.sample()\n",
    "    return model.get_model()"
   ]
  },
  {
   "cell_type": "markdown",
   "id": "7392eab8-bbc1-4170-869b-908106cd221b",
   "metadata": {},
   "source": [
    "### Step 3: execution and analysis\n",
    "\n",
    "\n",
    "The execution and analysis part consist of 2 functions:\n",
    "* `execute_qv` which send a given number of shots, circuit and preferences sends the circuit to execution in the quantum hardware specified in the preferences. This function returns the results of the execution from the hardware.\n",
    "* `heavy_outputs_prob` which analyze the results from execution, and returns the heavy output probability, i.e. the probability for a single state in the space to be greater then the median value (median = \"middle\" of a sorted list of numbers).\n",
    "\n",
    "The function`round_significant` rounds a number for one significant figure."
   ]
  },
  {
   "cell_type": "code",
   "execution_count": null,
   "id": "b5c9b1d5-9a52-4305-be41-299093013e9d",
   "metadata": {
    "tags": []
   },
   "outputs": [],
   "source": [
    "from classiq import execute, set_quantum_program_execution_preferences\n",
    "from classiq.execution import (\n",
    "    AzureBackendPreferences,\n",
    "    ExecutionDetails,\n",
    "    ExecutionPreferences,\n",
    "    IBMBackendPreferences,\n",
    ")\n",
    "\n",
    "\n",
    "def execute_qv(qprog, num_shots, preferences):\n",
    "    qprog = set_quantum_program_execution_preferences(\n",
    "        qprog,\n",
    "        ExecutionPreferences(num_shots=num_shots, backend_preferences=preferences),\n",
    "    )\n",
    "    results = execute(qprog).result()\n",
    "    return results[0].value"
   ]
  },
  {
   "cell_type": "code",
   "execution_count": null,
   "id": "4c7571be-115c-4f7b-8fd5-cd6bf23eb895",
   "metadata": {
    "tags": []
   },
   "outputs": [],
   "source": [
    "def heavy_outputs_prob(results):\n",
    "    d = list(results.counts.values())\n",
    "    med = np.median(d)\n",
    "    heavy_outputs_prob = 0\n",
    "    # print(med)\n",
    "    for count, item in enumerate(d):\n",
    "        if item >= med:\n",
    "            heavy_outputs_prob = heavy_outputs_prob + item\n",
    "    return heavy_outputs_prob"
   ]
  },
  {
   "cell_type": "code",
   "execution_count": null,
   "id": "d3879815-8515-46dc-a154-3d317be4cfb6",
   "metadata": {
    "tags": []
   },
   "outputs": [],
   "source": [
    "from math import floor, log10\n",
    "\n",
    "\n",
    "def round_significant(x):\n",
    "    return round(x, -int(floor(log10(abs(x)))))"
   ]
  },
  {
   "cell_type": "markdown",
   "id": "76638dca-b6fe-4721-99f1-956a617bdc27",
   "metadata": {},
   "source": [
    "### Step 4: find quantum volume algorithm\n",
    "\n",
    "Using the previously defined functions, `find_qv` finds the quantum volume value, for defined parameters including hardware definitions.\n",
    "The `find_qv` function, send for each number of qubits defined (between `min_qubit` and `max_qubits`) the value of heavy output probability. This is repeated `num_trials` times. Then, the heavy output probability is averaged, and the standard deviation is calculated. If the number of qubits chosen for the circuit is less than the number of qubits in the chosen hardware, the qubits will be randomly picked for run according to the rules of the hardware provider.\n",
    "\n",
    "The quantum volume qubits number is defined as the larger number of qubits for which the heavy output probability, decrease by two sigma (2 times the standard deviation), is more or equal to 2/3. The quantum volume will be 2 to the power the number of quantum volume qubits.\n",
    "\n",
    "One must note, that if the result given for the log2 of the quantum volume is the same as the chosen `max_qubits`, there is a possibility that the quantum volume is greater then found by the function, and we recommend to run the program for a greater span."
   ]
  },
  {
   "cell_type": "code",
   "execution_count": null,
   "id": "c8b7af0a-7560-4bfd-9437-52c9d858d807",
   "metadata": {
    "tags": []
   },
   "outputs": [],
   "source": [
    "from tqdm import tqdm\n",
    "\n",
    "from classiq import synthesize\n",
    "\n",
    "\n",
    "def find_qv(num_trials, num_shots, min_qubits, max_qubits, preferences):\n",
    "    ### initialization\n",
    "    qubit_num = range(min_qubits, max_qubits + 1)\n",
    "    heavy_list = np.zeros(max_qubits - min_qubits + 1)\n",
    "    std_list = np.zeros(max_qubits - min_qubits + 1)\n",
    "    qubit_v = 0\n",
    "\n",
    "    ### calculate the heavy outputs for each number of qubits\n",
    "    for num in tqdm(qubit_num):\n",
    "        heavy_outputs = 0\n",
    "        std = 0\n",
    "        heavytostd = np.zeros(num_trials)\n",
    "        for idx in tqdm(range(num_trials)):\n",
    "            model = qv_model(num)\n",
    "            qprog = synthesize(model)\n",
    "            results = execute_qv(qprog, num_shots, preferences)\n",
    "            heavy_temp = heavy_outputs_prob(results)\n",
    "            heavy_outputs = heavy_outputs + heavy_temp\n",
    "            heavytostd[idx] = heavy_temp\n",
    "        s = num - min_qubits\n",
    "        heavy_list[s] = heavy_outputs / (num_trials * num_shots)\n",
    "        temp_hl = heavy_outputs / (num_trials * num_shots)\n",
    "        std = np.std(heavytostd) / (num_trials * num_shots)\n",
    "        std_list[s] = std\n",
    "        temp_std = round_significant(std)\n",
    "        print(\n",
    "            \"for\",\n",
    "            num,\n",
    "            \"qubits the heavy outputs probability is:\",\n",
    "            temp_hl,\n",
    "            \"with\",\n",
    "            temp_std,\n",
    "            \"standard deviation\",\n",
    "        )\n",
    "\n",
    "    ###determine the quantum volume\n",
    "    for num in qubit_num:\n",
    "        s = num - min_qubits\n",
    "        heavy_is = heavy_list[s] - 2 * (std_list[s])\n",
    "        if heavy_is >= 2 / 3:\n",
    "            qubit_v = num\n",
    "        else:\n",
    "            break\n",
    "\n",
    "    qv = 2**qubit_v\n",
    "    print(\"##### The quantum volume is\", qv, \"#####\")\n",
    "\n",
    "    return qv"
   ]
  },
  {
   "cell_type": "markdown",
   "id": "6d678346-ec06-4562-85e7-79bcbaeae9e4",
   "metadata": {},
   "source": [
    "### Running examples\n",
    "\n",
    "We will hereby run the code to find the quantum volume of several quantum simulators and hardwares."
   ]
  },
  {
   "cell_type": "markdown",
   "id": "fe220794-001e-4e8f-8a64-970b42148853",
   "metadata": {},
   "source": [
    "#### 1. Running with IBM simulator"
   ]
  },
  {
   "cell_type": "code",
   "execution_count": null,
   "id": "bb5a50db-567f-42ca-a5e1-3cf40208bb5e",
   "metadata": {
    "tags": []
   },
   "outputs": [],
   "source": [
    "num_trials = 10  # number of times to run qv circuit for each number of qubits. best - 200 or more\n",
    "num_shots = 100  # number of runs for each execution. best - 1000 or more\n",
    "preferences = IBMBackendPreferences(backend_name=\"aer_simulator\")\n",
    "min_qubits = 3\n",
    "max_qubits = 6\n",
    "\n",
    "qv = find_qv(num_trials, num_shots, min_qubits, max_qubits, preferences)"
   ]
  },
  {
   "cell_type": "markdown",
   "id": "162c4f95-3fe8-47ce-818d-df961d9d9ff0",
   "metadata": {},
   "source": [
    "Since this is a simulator with no errors, we expact the heavy output probability for any number of qubits to be approximatly 0.85"
   ]
  },
  {
   "cell_type": "markdown",
   "id": "f01490fa-6624-430d-b56b-e5c30b0715b2",
   "metadata": {},
   "source": [
    "#### 2. Running with Rigetti Aspen M-3"
   ]
  },
  {
   "cell_type": "code",
   "execution_count": null,
   "id": "732226b4-ff31-4a56-97bf-581c59bfdffb",
   "metadata": {
    "tags": []
   },
   "outputs": [],
   "source": [
    "num_trials = 10  # number of times to run qv circuit for each number of qubits\n",
    "num_shots = 3  # number of runs for each execution\n",
    "preferences = AzureBackendPreferences(backend_name=\"Rigetti.Qpu.Aspen-M-3\")\n",
    "min_qubits = 2\n",
    "max_qubits = 3\n",
    "\n",
    "# qv = find_qv_trials, num_(numshots, min_qubits, max_qubits, preferences)"
   ]
  },
  {
   "cell_type": "markdown",
   "id": "3400fa07-4329-42b8-b580-46222b1e6762",
   "metadata": {},
   "source": [
    "#### 3. Running with IBM machines"
   ]
  },
  {
   "cell_type": "markdown",
   "id": "5ba00431-8658-46ac-8fe5-ac6f15977a17",
   "metadata": {},
   "source": [
    "We will attempt to run a few IBM machines: ibmq_lima with reported quantum volume of 8; ibmq_quito with reported quantum volume of 16; ibmq_manila with reported quantum volume of 32 [3]."
   ]
  },
  {
   "cell_type": "code",
   "execution_count": null,
   "id": "46ba9fe2-292d-4912-a3d8-9681fbff3e88",
   "metadata": {
    "tags": []
   },
   "outputs": [],
   "source": [
    "from classiq.execution import IBMBackendPreferences, IBMBackendProvider\n",
    "\n",
    "ibm_provider = IBMBackendProvider()\n",
    "\n",
    "preferences = IBMBackendPreferences(\n",
    "    backend_name=\"ibmq_lima\",\n",
    "    access_token=\"insert_token_number\",\n",
    "    provider=ibm_provider,\n",
    ")\n",
    "\n",
    "num_trials = 5  # number of times to run qv circuit for each number of qubits\n",
    "num_shots = 10  # number of runs for each execution\n",
    "min_qubits = 2\n",
    "max_qubits = 4\n",
    "\n",
    "# qv = find_qv(num_trials, num_shots, min_qubits, max_qubits, preferences)"
   ]
  },
  {
   "cell_type": "code",
   "execution_count": null,
   "id": "93838767-ec86-4790-b76e-ff6c2d17b21f",
   "metadata": {
    "tags": []
   },
   "outputs": [],
   "source": [
    "from classiq.execution import IBMBackendPreferences, IBMBackendProvider\n",
    "\n",
    "ibm_provider = IBMBackendProvider()\n",
    "\n",
    "preferences = IBMBackendPreferences(\n",
    "    backend_name=\"ibmq_quito\",\n",
    "    access_token=\"insert_token_number\",\n",
    "    provider=ibm_provider,\n",
    ")\n",
    "\n",
    "num_trials = 1  # number of times to run qv circuit for each number of qubits\n",
    "num_shots = 10  # number of runs for each execution\n",
    "min_qubits = 2\n",
    "max_qubits = 3\n",
    "\n",
    "# qv = find_qv(num_trials, num_shots, min_qubits, max_qubits, preferences)"
   ]
  },
  {
   "cell_type": "code",
   "execution_count": null,
   "id": "fd035d07-2d2e-4df0-8f3c-5e91824718d3",
   "metadata": {
    "tags": []
   },
   "outputs": [],
   "source": [
    "from classiq.execution import IBMBackendPreferences, IBMBackendProvider\n",
    "\n",
    "ibm_provider = IBMBackendProvider()\n",
    "\n",
    "preferences = IBMBackendPreferences(\n",
    "    backend_name=\"ibmq_manila\",\n",
    "    access_token=\"insert_token_number\",\n",
    "    provider=ibm_provider,\n",
    ")\n",
    "\n",
    "num_trials = 1  # number of times to run qv circuit for each number of qubits\n",
    "num_shots = 10  # number of runs for each execution\n",
    "min_qubits = 2\n",
    "max_qubits = 3\n",
    "\n",
    "# qv = find_qv(num_trials, num_shots, min_qubits, max_qubits, preferences)"
   ]
  },
  {
   "cell_type": "markdown",
   "id": "0141348c-d63f-46c6-90e2-ae6b11308947",
   "metadata": {},
   "source": [
    "### References\n",
    "\n",
    "[1] https://arxiv.org/pdf/1811.12926.pdf\n",
    "\n",
    "[2] How to generate a random unitary matrix by Maris Ozols - http://home.lu.lv/~sd20008/papers/essays/Random%20unitary%20[paper].pdf\n",
    "\n",
    "[3] Computer resources from IBM official website - https://quantum-computing.ibm.com/services/resources?tab=yours"
   ]
  }
 ],
 "metadata": {
  "kernelspec": {
   "display_name": "Python 3 (ipykernel)",
   "language": "python",
   "name": "python3"
  },
  "language_info": {
   "codemirror_mode": {
    "name": "ipython",
    "version": 3
   },
   "file_extension": ".py",
   "mimetype": "text/x-python",
   "name": "python",
   "nbconvert_exporter": "python",
   "pygments_lexer": "ipython3",
   "version": "3.11.4"
  }
 },
 "nbformat": 4,
 "nbformat_minor": 5
}
