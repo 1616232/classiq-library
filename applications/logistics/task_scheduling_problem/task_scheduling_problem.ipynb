{
 "cells": [
  {
   "cell_type": "markdown",
   "id": "fd7fec99-68b4-4646-a2cd-2e2045424678",
   "metadata": {
    "tags": []
   },
   "source": [
    "# Workflow Scheduling Problem"
   ]
  },
  {
   "cell_type": "markdown",
   "id": "d948036d",
   "metadata": {},
   "source": [
    "## Introduction\n",
    "We consider the following optimization problem (based on the formulation in [[1](#TaskWorkflow)]) : we have $W(t)$ available workers or resources and $N$ jobs that each job $j$ requires $T(j)$ time, and takes $r(j)$ resources to be completed. Given a set of dependencies for each job, where we know which job depends on the completion of others before starting, we need to determine the order of job completion that minimizes the total execution time.\n",
    "### Assumptions\n",
    "- a job may occupy only a single time slot at most: $\\forall j \\,\\,\\, T(j) = 1$\n",
    "- given sufficient resources, jobs can be started in the same time slot\n",
    "- all resources are identical and the amount of available resources at a current time step is given by the number $W(t)$\n",
    "- jobs can only be started if all parent jobs are completed.\n",
    "\n",
    "### Possible extensions\n",
    "- Separate resources into multiple categories with jobs requiring different types\n",
    "- Jobs that take more than one operation"
   ]
  },
  {
   "cell_type": "markdown",
   "id": "966c9605-c442-436f-b01a-a76004bbd9b2",
   "metadata": {
    "tags": []
   },
   "source": [
    "## Mathematical Modeling\n",
    "\n",
    "The input of the model is\n",
    "\n",
    "\n",
    "We define a binary variable for the optimization problem: an $t_{max}\\times N$ matrix $x$ such that\n",
    "$\\begin{aligned}\n",
    "x_{tj} =\n",
    "\\begin{cases}\n",
    "      1 & \\text{job } j \\text{ is done on the } t_\\text{th} \\text{ time slot} \\\\\n",
    "      0 & \\text{else}\n",
    "\\end{cases}\\\\\n",
    "\\end{aligned}$\n",
    "\n",
    "We have 3 constraints:\n",
    "\n",
    "(1) All jobs must be completed exactly once: $\\forall j\\in[1,N] \\,\\,\\, \\sum_t x_{tj}=1$\n",
    "\n",
    "(2) All jobs may use no more than the available resources: $\\forall t\\in[0,t_{max}] \\,\\,\\, \\sum_j x_{tj} r_j \\leq W_t$\n",
    "\n",
    "(3) All dependent jobs must have parent jobs completed before starting $x_{t_1j_1} x_{t_2j_2} = 0 \\,\\,\\, \\forall j_1, t_1\\leq t_2, j_2 \\text{ depends on } j_1$\n",
    "\n",
    "\n",
    "The objective function to minimize is the total cost function:\n",
    "$$\n",
    "\\min_{x} \\sum_{t} x_{tN}\\cdot t\n",
    "$$\n",
    "which favors schedules that are done early."
   ]
  },
  {
   "cell_type": "markdown",
   "id": "83fdb0b4-8144-4d08-be3c-8c3c195b2913",
   "metadata": {},
   "source": [
    "### Necessary Packages\n",
    "\n",
    "In this demo, besides the `classiq` package, we'll use the following packages:"
   ]
  },
  {
   "cell_type": "code",
   "execution_count": null,
   "id": "8455a3cc-02b8-4240-a339-3bd2c4e0a742",
   "metadata": {
    "tags": []
   },
   "outputs": [],
   "source": [
    "! pip install networkx\n",
    "! pip install pyomo\n",
    "! pip install pandas\n",
    "! pip install matplotlib"
   ]
  },
  {
   "cell_type": "markdown",
   "id": "66dfdc09-4920-4966-a738-d8a8e7b4dc4e",
   "metadata": {
    "tags": []
   },
   "source": [
    "## Defining the optimization model"
   ]
  },
  {
   "cell_type": "code",
   "execution_count": null,
   "id": "dd946990-d0dc-4f29-aa15-949819b8d09f",
   "metadata": {
    "tags": []
   },
   "outputs": [],
   "source": [
    "from typing import List, Tuple, cast  # noqa\n",
    "\n",
    "import matplotlib.pyplot as plt\n",
    "import networkx as nx\n",
    "import numpy as np  # noqa\n",
    "import pandas as pd\n",
    "import pyomo.environ as pyo\n",
    "from IPython.display import Markdown, display"
   ]
  },
  {
   "cell_type": "code",
   "execution_count": null,
   "id": "c731afb0-f94b-43b1-9cdb-1de8bb3a1f46",
   "metadata": {
    "tags": []
   },
   "outputs": [],
   "source": [
    "def define_workflow_problem(\n",
    "    G, num_timeslots, available_capacities, work_loads\n",
    ") -> pyo.ConcreteModel:\n",
    "    model = pyo.ConcreteModel(\"task_scheduling\")\n",
    "\n",
    "    timeslots = range(num_timeslots)\n",
    "    assert len(timeslots) == len(available_capacities)\n",
    "    works = range(len(G.nodes))\n",
    "    assert len(works) == len(work_loads)\n",
    "\n",
    "    last_works = [node for node in G.nodes if G.out_degree(node) == 0]\n",
    "    assert len(last_works) == 1\n",
    "    last_work = last_works[0]\n",
    "    # works with no dependancies\n",
    "    root_works = [node for node in G.nodes if G.in_degree(node) == 0]\n",
    "\n",
    "    model.x = pyo.Var(timeslots, works, domain=pyo.Binary)\n",
    "\n",
    "    @model.Constraint(works)\n",
    "    def all_works_are_done(model, i):  # constraint (1)\n",
    "        return sum(model.x[t, i] for t in timeslots) == 1\n",
    "\n",
    "    @model.Constraint(timeslots)\n",
    "    def capacity_is_valid(model, t):  # constraint(2)\n",
    "        return (\n",
    "            sum(model.x[t, i] * work_loads[i] for i in works) <= available_capacities[t]\n",
    "        )\n",
    "\n",
    "    @model.Constraint(works, works, timeslots, timeslots)\n",
    "    def works_done_by_their_order(model, i, j, t1, t2):  # constraint (3)\n",
    "        if G.has_edge(i, j) and t1 >= t2:\n",
    "            return model.x[t1, i] * model.x[t2, j] == 0\n",
    "        return pyo.Constraint.Feasible\n",
    "\n",
    "    # eliminate all timeslots that are not possible for the task in order to save qubits\n",
    "    distances_from_ends = nx.floyd_warshall_numpy(G)\n",
    "    distances_from_roots = nx.floyd_warshall_numpy(G.reverse())\n",
    "\n",
    "    @model.Constraint(works, timeslots)\n",
    "    def eliminating_rule(model, i, t):\n",
    "        end_distance = int(np.min(distances_from_ends[i, last_works]))\n",
    "        start_distance = int(np.min(distances_from_roots[i, root_works]))\n",
    "        if (t < start_distance) or (t >= len(timeslots) - end_distance):\n",
    "            return model.x[t, i] == 0\n",
    "        return pyo.Constraint.Feasible\n",
    "\n",
    "    # minimize the end time of the last work\n",
    "    model.cost = pyo.Objective(\n",
    "        expr=sum(model.x[t, last_work] * (t + 1) for t in timeslots), sense=pyo.minimize\n",
    "    )\n",
    "\n",
    "    return model"
   ]
  },
  {
   "cell_type": "markdown",
   "id": "9c415675-cc07-48bd-8b93-333d8f2a6787",
   "metadata": {
    "tags": []
   },
   "source": [
    "### Visualization helper functions"
   ]
  },
  {
   "cell_type": "code",
   "execution_count": null,
   "id": "abb38448",
   "metadata": {
    "tags": []
   },
   "outputs": [],
   "source": [
    "import random\n",
    "\n",
    "\n",
    "def plot_graph(solution=None, ax=None):\n",
    "    if solution is not None:\n",
    "        # determine how many tasks start in each timeslot\n",
    "        num_tasks = [sum(solution[t]) for t in range(num_timeslots)]\n",
    "        max_tasks = max(num_tasks)\n",
    "\n",
    "        pos = {}\n",
    "\n",
    "        # find all the tasks that start in particular start time\n",
    "        for start in np.nonzero(solution.sum(axis=1))[0]:\n",
    "            locations = solution[start].nonzero()[0]\n",
    "            pos.update(\n",
    "                {\n",
    "                    n: (start, i + (max_tasks - num_tasks[start]) / 2)\n",
    "                    for i, n in enumerate(locations)\n",
    "                }\n",
    "            )\n",
    "    else:\n",
    "        pos = {\n",
    "            node: (order, random.random())\n",
    "            for order, node in enumerate((nx.topological_sort(G)))\n",
    "        }\n",
    "\n",
    "    options = {\n",
    "        \"font_size\": 12,\n",
    "        \"node_size\": 1000,\n",
    "        \"node_color\": \"white\",\n",
    "        \"edgecolors\": \"black\",\n",
    "        \"linewidths\": 3,\n",
    "        \"width\": 3,\n",
    "    }\n",
    "    # G = nx.DiGraph(edges)\n",
    "    nx.draw_networkx(G, pos, ax=ax, **options)\n",
    "\n",
    "    # Set margins for the axes so that nodes aren't clipped\n",
    "    if ax is None:\n",
    "        ax = plt.subplot()\n",
    "    ax.margins(0.20)\n",
    "    if solution is not None:\n",
    "        ax.set_title(\"Suggested sequence\")\n",
    "    ax.set_xlabel(\"Timeslot\")\n",
    "\n",
    "\n",
    "def plot_assignments(solution, ax=None):\n",
    "    if ax is None:\n",
    "        ax = plt.subplot()\n",
    "    ax.pcolormesh(solution.T, edgecolors=\"w\", linewidth=4, cmap=\"OrRd\")\n",
    "    ax.set_aspect(0.8)\n",
    "    ax.set_xlabel(\"Timeslot\")\n",
    "    ax.set_ylabel(\"Task Number\")\n",
    "    ax.set_title(\"Task assignment\")\n",
    "\n",
    "\n",
    "def plot_resource_graph(solution=None, ax=None):\n",
    "    if ax is None:\n",
    "        fig, ax = plt.subplots()\n",
    "\n",
    "    x_pos = np.arange(len(capacities))\n",
    "    if solution is not None:\n",
    "        ax.set_title(\"Utilization\")\n",
    "        num_resources = [np.dot(solution[t], workloads) for t in range(num_timeslots)]\n",
    "        ax.bar(x_pos + 0.1, num_resources, label=\"used resources\", color=\"r\", width=0.5)\n",
    "    ax.bar(x_pos, capacities, label=\"available_resources\", color=\"g\", width=0.5)\n",
    "    ax.set_xticks(x_pos)\n",
    "    ax.legend()\n",
    "    ax.set_xlabel(\"Timeslot\")\n",
    "    ax.set_ylabel(\"Resources\")\n",
    "\n",
    "\n",
    "def plot_workloads(ax=None):\n",
    "    if ax is None:\n",
    "        fig, ax = plt.subplots()\n",
    "    ax.set_title(\"Work Loads\")\n",
    "    x_pos = np.arange(len(workloads))\n",
    "    ax.bar(x_pos, workloads, width=0.5)\n",
    "    ax.set_xticks(x_pos)\n",
    "    ax.set_xlabel(\"Jobs\")\n",
    "    ax.set_ylabel(\"Required Resources\")\n",
    "\n",
    "\n",
    "def is_printable_solution(solution):\n",
    "    return np.array_equal(solution.sum(axis=0), np.ones(solution.shape[1]))\n",
    "\n",
    "\n",
    "def plot_workflow(solution=None):\n",
    "    if solution is None:\n",
    "        fig, axes = plt.subplots(1, 3, figsize=(18, 5))\n",
    "        plot_resource_graph(ax=axes[0])\n",
    "        plot_graph(ax=axes[1])\n",
    "        plot_workloads(ax=axes[2])\n",
    "\n",
    "    else:\n",
    "        if is_printable_solution(solution):\n",
    "            fig, axes = plt.subplots(2, 2, figsize=(12, 10))\n",
    "            plot_resource_graph(solution, axes[0, 0])\n",
    "            plot_workloads(axes[0, 1])\n",
    "            plot_assignments(solution, axes[1, 1])\n",
    "            plot_graph(solution, axes[1, 0])\n",
    "        else:\n",
    "            # illegal solution\n",
    "            fig, axes = plt.subplots(1, 3, figsize=(18, 5))\n",
    "            plot_resource_graph(solution, axes[0])\n",
    "            plot_workloads(axes[1])\n",
    "            plot_assignments(solution, axes[2])"
   ]
  },
  {
   "cell_type": "markdown",
   "id": "6cd4aeaa-1724-4c27-a905-73ec10dee863",
   "metadata": {},
   "source": [
    "## Initialize specific problem instance"
   ]
  },
  {
   "cell_type": "markdown",
   "id": "8b25ea7c-6c33-4215-8ae3-370d2bca0fb3",
   "metadata": {},
   "source": [
    "We create a workflow dependecies graph. For the small instance, all timeslots capacities and work loads are equal to each other."
   ]
  },
  {
   "cell_type": "code",
   "execution_count": null,
   "id": "829468eb",
   "metadata": {
    "tags": []
   },
   "outputs": [],
   "source": [
    "def small_example():\n",
    "    G = nx.DiGraph()\n",
    "\n",
    "    nodes = range(4)\n",
    "    edges = [(0, 1), (1, 3), (2, 3)]\n",
    "    G.add_nodes_from(nodes)\n",
    "    G.add_edges_from(edges)\n",
    "    num_timeslots = len(G.nodes) - 1\n",
    "    capacities = 3 * np.ones(num_timeslots)\n",
    "    workloads = np.ones(len(nodes))\n",
    "\n",
    "    return (\n",
    "        define_workflow_problem(\n",
    "            G, num_timeslots, available_capacities=capacities, work_loads=workloads\n",
    "        ),\n",
    "        G,\n",
    "        num_timeslots,\n",
    "        capacities,\n",
    "        workloads,\n",
    "    )\n",
    "\n",
    "\n",
    "def large_example():\n",
    "    G = nx.DiGraph()\n",
    "\n",
    "    nodes = range(6)\n",
    "    edges = [(0, 1), (0, 3), (0, 2), (2, 4), (3, 4), (1, 5), (4, 5)]\n",
    "    workloads = [1, 3, 2, 2, 1, 1]\n",
    "    capacities = [1, 3, 4, 3, 1]\n",
    "    G.add_nodes_from(nodes)\n",
    "    G.add_edges_from(edges)\n",
    "\n",
    "    num_timeslots = len(capacities)\n",
    "\n",
    "    return (\n",
    "        define_workflow_problem(\n",
    "            G, num_timeslots, available_capacities=capacities, work_loads=workloads\n",
    "        ),\n",
    "        G,\n",
    "        num_timeslots,\n",
    "        capacities,\n",
    "        workloads,\n",
    "    )"
   ]
  },
  {
   "cell_type": "code",
   "execution_count": null,
   "id": "033c592e-01fe-48b1-9358-ae0305bc7d26",
   "metadata": {
    "tags": []
   },
   "outputs": [],
   "source": [
    "tasks_model, G, num_timeslots, capacities, workloads = small_example()\n",
    "plot_workflow()"
   ]
  },
  {
   "cell_type": "markdown",
   "id": "74179056-f8a7-4a9a-8afe-8055c1e93107",
   "metadata": {},
   "source": [
    "### The resulting Pyomo model"
   ]
  },
  {
   "cell_type": "code",
   "execution_count": null,
   "id": "ca3c505d-0392-4311-a586-295a92390972",
   "metadata": {
    "tags": []
   },
   "outputs": [],
   "source": [
    "tasks_model.pprint()"
   ]
  },
  {
   "cell_type": "markdown",
   "id": "2c8e1b4a-f44e-4cc3-a33f-b28e2af0b0a1",
   "metadata": {},
   "source": [
    "# Solve the optimization model with hybrid classical/quantum QAOA (Quantum Approximate Optimization Algorithm)"
   ]
  },
  {
   "cell_type": "markdown",
   "id": "00699d83-11d2-4cc5-893c-064a3dc5e671",
   "metadata": {
    "tags": []
   },
   "source": [
    "## Setting Up the Classiq Problem Instance\n",
    "\n",
    "In order to solve the Pyomo model defined above, we use the Classiq combinatorial optimization engine. For the quantum part of the QAOA algorithm (`QAOAConfig`) - define the number of repetitions (`num_layers`):"
   ]
  },
  {
   "cell_type": "code",
   "execution_count": null,
   "id": "ae6cb113-f759-45dc-9ec9-a6cb7a1266fb",
   "metadata": {
    "tags": []
   },
   "outputs": [],
   "source": [
    "from classiq import construct_combinatorial_optimization_model\n",
    "from classiq.applications.combinatorial_optimization import OptimizerConfig, QAOAConfig\n",
    "\n",
    "qaoa_config = QAOAConfig(num_layers=8, penalty_energy=20)"
   ]
  },
  {
   "cell_type": "markdown",
   "id": "15df86cd-50fc-43b4-a8b6-4b89e0fc8dc5",
   "metadata": {},
   "source": [
    "For the classical optimization part of the QAOA algorithm we define the maximum number of classical iterations (`max_iteration`) and the $\\alpha$-parameter (`alpha_cvar`) for running CVaR-QAOA, an improved variation of the QAOA algorithm [[3](#cvar)]:"
   ]
  },
  {
   "cell_type": "code",
   "execution_count": null,
   "id": "242ecd0f-ed55-4aa6-b1da-c81a269c7670",
   "metadata": {
    "pycharm": {
     "name": "#%%\n"
    },
    "tags": []
   },
   "outputs": [],
   "source": [
    "optimizer_config = OptimizerConfig(max_iteration=20.0, alpha_cvar=0.3)"
   ]
  },
  {
   "cell_type": "markdown",
   "id": "bf1b3dab-f1ec-4b91-a152-0b23c38dcff3",
   "metadata": {},
   "source": [
    "Lastly, we load the model, based on the problem and algorithm parameters, which we can use to solve the problem:"
   ]
  },
  {
   "cell_type": "code",
   "execution_count": null,
   "id": "a80f90af-35d8-409b-a83c-00235d7aed62",
   "metadata": {
    "pycharm": {
     "name": "#%%\n"
    },
    "tags": []
   },
   "outputs": [],
   "source": [
    "qmod = construct_combinatorial_optimization_model(\n",
    "    pyo_model=tasks_model,\n",
    "    qaoa_config=qaoa_config,\n",
    "    optimizer_config=optimizer_config,\n",
    ")"
   ]
  },
  {
   "cell_type": "markdown",
   "id": "28b15ffa-e385-462d-a4d5-35b1b313d050",
   "metadata": {},
   "source": [
    "We also set the quantum backend we want to execute on:"
   ]
  },
  {
   "cell_type": "code",
   "execution_count": null,
   "id": "a6381873-f619-4b2f-a19f-bdc63c31a633",
   "metadata": {
    "tags": []
   },
   "outputs": [],
   "source": [
    "from classiq import set_execution_preferences\n",
    "from classiq.execution import ClassiqBackendPreferences, ExecutionPreferences\n",
    "\n",
    "backend_preferences = ExecutionPreferences(\n",
    "    backend_preferences=ClassiqBackendPreferences(backend_name=\"aer_simulator\")\n",
    ")\n",
    "\n",
    "qmod = set_execution_preferences(qmod, backend_preferences)"
   ]
  },
  {
   "cell_type": "code",
   "execution_count": null,
   "id": "7b91d6e9-54e4-4461-8fe8-cb233342a074",
   "metadata": {},
   "outputs": [],
   "source": [
    "with open(\"task_scheduling_problem.qmod\", \"w\") as f:\n",
    "    f.write(qmod)"
   ]
  },
  {
   "cell_type": "markdown",
   "id": "5403bf21-87c4-47af-bbaa-bb48c8ffd309",
   "metadata": {
    "tags": []
   },
   "source": [
    "## Synthesizing the QAOA Circuit and Solving the Problem\n",
    "\n",
    "We can now synthesize and view the QAOA circuit (ansatz) used to solve the optimization problem:"
   ]
  },
  {
   "cell_type": "code",
   "execution_count": null,
   "id": "64ca1eba-a882-489c-bfd0-c3949ab7b3a5",
   "metadata": {
    "pycharm": {
     "name": "#%%\n"
    },
    "tags": []
   },
   "outputs": [],
   "source": [
    "from classiq import show, synthesize\n",
    "\n",
    "qprog = synthesize(qmod)\n",
    "show(qprog)"
   ]
  },
  {
   "cell_type": "markdown",
   "id": "9c692172-a935-454e-a874-629ff28183f4",
   "metadata": {},
   "source": [
    "We now solve the problem using the generated circuit by using the `execute` method:"
   ]
  },
  {
   "cell_type": "code",
   "execution_count": null,
   "id": "971b1d10-53db-4347-92a4-f662476648af",
   "metadata": {
    "tags": []
   },
   "outputs": [],
   "source": [
    "from classiq import execute\n",
    "\n",
    "res = execute(qprog).result()"
   ]
  },
  {
   "cell_type": "markdown",
   "id": "00c496ee-65ba-4852-a35c-0e9515afe1ac",
   "metadata": {},
   "source": [
    "## Analyzing the results"
   ]
  },
  {
   "cell_type": "markdown",
   "id": "31245571-1951-4c3f-a917-c5193ed815c4",
   "metadata": {},
   "source": [
    "We can check the convergence of the run:"
   ]
  },
  {
   "cell_type": "code",
   "execution_count": null,
   "id": "491b81a0-4813-4e4b-bed9-6248441b20dd",
   "metadata": {
    "tags": []
   },
   "outputs": [],
   "source": [
    "from classiq.execution import VQESolverResult\n",
    "\n",
    "vqe_result = res[1].value\n",
    "vqe_result.convergence_graph"
   ]
  },
  {
   "cell_type": "markdown",
   "id": "43cd98b0-1ca6-4585-add5-f26880709705",
   "metadata": {},
   "source": [
    "And print the optimization results:"
   ]
  },
  {
   "cell_type": "code",
   "execution_count": null,
   "id": "5c3ea8fa-2c67-47e1-9904-41b9b1365980",
   "metadata": {
    "tags": []
   },
   "outputs": [],
   "source": [
    "import pandas as pd\n",
    "\n",
    "optimization_result = pd.DataFrame.from_records(res[0].value)\n",
    "optimization_result.sort_values(by=\"cost\", ascending=True).head(5)"
   ]
  },
  {
   "cell_type": "code",
   "execution_count": null,
   "id": "fdfaa673-443b-4277-8c65-9d079b85a010",
   "metadata": {
    "tags": []
   },
   "outputs": [],
   "source": [
    "idx = optimization_result.cost.idxmin()\n",
    "print(\n",
    "    \"x =\", optimization_result.solution[idx], \", cost =\", optimization_result.cost[idx]\n",
    ")"
   ]
  },
  {
   "cell_type": "markdown",
   "id": "b58c28f9-ab0f-4f8a-8bb4-0a219648a6b1",
   "metadata": {},
   "source": [
    "And the histogram:"
   ]
  },
  {
   "cell_type": "code",
   "execution_count": null,
   "id": "14f22e03-a818-4f75-b545-54d1b504623f",
   "metadata": {
    "tags": []
   },
   "outputs": [],
   "source": [
    "optimization_result.hist(\"cost\", weights=optimization_result[\"probability\"])"
   ]
  },
  {
   "cell_type": "markdown",
   "id": "23e0b13e-d912-444d-9ccf-f26433db44e8",
   "metadata": {
    "tags": []
   },
   "source": [
    "### Best solution"
   ]
  },
  {
   "cell_type": "code",
   "execution_count": null,
   "id": "40610214-93a8-421c-899f-4f30fa4040c4",
   "metadata": {
    "tags": []
   },
   "outputs": [],
   "source": [
    "qaoa_solution = np.array(\n",
    "    optimization_result.solution[optimization_result.cost.idxmin()]\n",
    ").reshape(num_timeslots, len(G.nodes))\n",
    "plot_workflow(qaoa_solution)"
   ]
  },
  {
   "cell_type": "markdown",
   "id": "0ec48797-9039-4580-9bab-57c36ed29159",
   "metadata": {
    "tags": []
   },
   "source": [
    "## Compare to a classical optimizer result"
   ]
  },
  {
   "cell_type": "code",
   "execution_count": null,
   "id": "0fc36dce-f0ae-4f27-beb1-dd84f2f7e5fb",
   "metadata": {
    "tags": []
   },
   "outputs": [],
   "source": [
    "from pyomo.opt import SolverFactory\n",
    "\n",
    "solver = SolverFactory(\"couenne\")\n",
    "solver.solve(tasks_model)\n",
    "\n",
    "tasks_model.display()"
   ]
  },
  {
   "cell_type": "code",
   "execution_count": null,
   "id": "05d8716c-38ba-495c-89a8-8cc8127de211",
   "metadata": {
    "tags": []
   },
   "outputs": [],
   "source": [
    "classical_solution = np.array(\n",
    "    [\n",
    "        int(pyo.value(tasks_model.x[idx]))\n",
    "        for idx in np.ndindex(num_timeslots, len(G.nodes))\n",
    "    ]\n",
    ").reshape(num_timeslots, len(G.nodes))\n",
    "plot_workflow(classical_solution)"
   ]
  },
  {
   "cell_type": "markdown",
   "id": "afe79330-144e-469f-a342-060b884fd072",
   "metadata": {
    "tags": []
   },
   "source": [
    "# Large Example"
   ]
  },
  {
   "cell_type": "markdown",
   "id": "a3662eed-a27d-4b3a-a1a1-38ab4b91c61d",
   "metadata": {},
   "source": [
    "We will try a more elaborate example, involving more works with non-uniform workloads and resources."
   ]
  },
  {
   "cell_type": "code",
   "execution_count": null,
   "id": "d55211cd-8ad1-4814-aa53-046a1cb4ccbf",
   "metadata": {
    "tags": []
   },
   "outputs": [],
   "source": [
    "tasks_model_large, G, num_timeslots, capacities, workloads = large_example()\n",
    "plot_workflow()"
   ]
  },
  {
   "cell_type": "code",
   "execution_count": null,
   "id": "174bf1b6-c7b4-4767-865b-4092cc3b7b7f",
   "metadata": {
    "tags": []
   },
   "outputs": [],
   "source": [
    "tasks_model_large.pprint()"
   ]
  },
  {
   "cell_type": "code",
   "execution_count": null,
   "id": "ecad1485-a5b6-411f-ade0-95777ca32978",
   "metadata": {
    "tags": []
   },
   "outputs": [],
   "source": [
    "from classiq import (\n",
    "    construct_combinatorial_optimization_model,\n",
    "    execute,\n",
    "    set_execution_preferences,\n",
    "    show,\n",
    "    synthesize,\n",
    ")\n",
    "from classiq.applications.combinatorial_optimization import OptimizerConfig, QAOAConfig\n",
    "from classiq.execution import ExecutionPreferences, IBMBackendPreferences\n",
    "\n",
    "qaoa_config = QAOAConfig(num_layers=8, penalty_energy=20.0)\n",
    "\n",
    "optimizer_config = OptimizerConfig(max_iteration=1, alpha_cvar=0.6)\n",
    "\n",
    "qmod = construct_combinatorial_optimization_model(\n",
    "    pyo_model=tasks_model_large,\n",
    "    qaoa_config=qaoa_config,\n",
    "    optimizer_config=optimizer_config,\n",
    ")\n",
    "\n",
    "backend_preferences = ExecutionPreferences(\n",
    "    backend_preferences=ClassiqBackendPreferences(backend_name=\"aer_simulator\")\n",
    ")\n",
    "\n",
    "qmod = set_execution_preferences(qmod, backend_preferences)"
   ]
  },
  {
   "cell_type": "code",
   "execution_count": null,
   "id": "16b36025-9e47-4401-9c19-ab3ea07a342c",
   "metadata": {},
   "outputs": [],
   "source": [
    "with open(\"task_scheduling_problem_large.qmod\", \"w\") as f:\n",
    "    f.write(qmod)"
   ]
  },
  {
   "cell_type": "code",
   "execution_count": null,
   "id": "b112b6a7-2b80-4d4e-ad00-214afca35d73",
   "metadata": {
    "pycharm": {
     "name": "#%%\n"
    },
    "tags": []
   },
   "outputs": [],
   "source": [
    "qprog = synthesize(qmod)\n",
    "show(qprog)"
   ]
  },
  {
   "cell_type": "code",
   "execution_count": null,
   "id": "4332e206-5381-41bc-a149-c7571195a600",
   "metadata": {
    "tags": []
   },
   "outputs": [],
   "source": [
    "res = execute(qprog).result()"
   ]
  },
  {
   "cell_type": "markdown",
   "id": "4e5cc31f-7f51-45cc-b1de-88a7ee57fcbc",
   "metadata": {},
   "source": [
    "As the search space here is much larger and involving many qubits, the optimizer takes much more time and might not converge to a legal solution"
   ]
  },
  {
   "cell_type": "markdown",
   "id": "ec39e7b8-6b2d-43e2-8f6f-14cdd064b7b5",
   "metadata": {},
   "source": [
    "And print the optimization results:"
   ]
  },
  {
   "cell_type": "code",
   "execution_count": null,
   "id": "1beec214-9c5d-4759-a195-31adb5e0c4dc",
   "metadata": {
    "tags": []
   },
   "outputs": [],
   "source": [
    "import pandas as pd\n",
    "\n",
    "optimization_result = pd.DataFrame.from_records(res[0].value)\n",
    "optimization_result.sort_values(by=\"cost\", ascending=True).head(5)"
   ]
  },
  {
   "cell_type": "code",
   "execution_count": null,
   "id": "3efad6e6-c4e3-4b48-85df-417b3425a52f",
   "metadata": {
    "tags": []
   },
   "outputs": [],
   "source": [
    "idx = optimization_result.cost.idxmin()\n",
    "print(\n",
    "    \"x =\", optimization_result.solution[idx], \", cost =\", optimization_result.cost[idx]\n",
    ")"
   ]
  },
  {
   "cell_type": "markdown",
   "id": "958fb9fa-a657-42e5-8b31-a0a0888879ca",
   "metadata": {},
   "source": [
    "And the histogram:"
   ]
  },
  {
   "cell_type": "code",
   "execution_count": null,
   "id": "f93885e1-9ceb-4874-b366-2d432d9ba2a1",
   "metadata": {
    "tags": []
   },
   "outputs": [],
   "source": [
    "optimization_result.hist(\"cost\", weights=optimization_result[\"probability\"])"
   ]
  },
  {
   "cell_type": "markdown",
   "id": "144dd535-38c3-4976-9f9c-21df694fe8ed",
   "metadata": {
    "tags": []
   },
   "source": [
    "### Best solution"
   ]
  },
  {
   "cell_type": "code",
   "execution_count": null,
   "id": "a641e263-61a6-46a1-90e6-e3e3ccd0c10f",
   "metadata": {
    "tags": []
   },
   "outputs": [],
   "source": [
    "qaoa_solution_large = np.array(\n",
    "    optimization_result.solution[optimization_result.cost.idxmin()]\n",
    ").reshape(num_timeslots, len(G.nodes))\n",
    "plot_workflow(qaoa_solution_large)"
   ]
  },
  {
   "cell_type": "markdown",
   "id": "a0afce92-dd77-4c41-88ba-8047305efe00",
   "metadata": {},
   "source": [
    "## Classical solution for the large problem"
   ]
  },
  {
   "cell_type": "code",
   "execution_count": null,
   "id": "e4b8015d-4086-4c71-a52e-d0d6ad7c6c63",
   "metadata": {
    "tags": []
   },
   "outputs": [],
   "source": [
    "from pyomo.opt import SolverFactory\n",
    "\n",
    "solver = SolverFactory(\"couenne\")\n",
    "solver.solve(tasks_model_large)\n",
    "\n",
    "tasks_model_large.display()"
   ]
  },
  {
   "cell_type": "code",
   "execution_count": null,
   "id": "f993e7f2-24f7-4865-93d3-dc6885f0e2c3",
   "metadata": {
    "tags": []
   },
   "outputs": [],
   "source": [
    "classical_solution = np.array(\n",
    "    [\n",
    "        int(pyo.value(tasks_model_large.x[idx]))\n",
    "        for idx in np.ndindex(num_timeslots, len(G.nodes))\n",
    "    ]\n",
    ").reshape(num_timeslots, len(G.nodes))\n",
    "plot_workflow(classical_solution)"
   ]
  },
  {
   "cell_type": "markdown",
   "id": "d21e2517-6b83-4f03-8498-77205ba46af9",
   "metadata": {
    "tags": []
   },
   "source": [
    "## References\n",
    "\n",
    "<a id='TaskWorkflow'>[1]</a>: [Pakhomchik et. al. \"Solving workflow scheduling problems with QUBO modeling.\" arXiv preprint arXiv:2205.04844 (2022).](https://arxiv.org/pdf/2205.04844.pdf)"
   ]
  }
 ],
 "metadata": {
  "kernelspec": {
   "display_name": "Python 3 (ipykernel)",
   "language": "python",
   "name": "python3"
  },
  "language_info": {
   "codemirror_mode": {
    "name": "ipython",
    "version": 3
   },
   "file_extension": ".py",
   "mimetype": "text/x-python",
   "name": "python",
   "nbconvert_exporter": "python",
   "pygments_lexer": "ipython3",
   "version": "3.11.4"
  },
  "vscode": {
   "interpreter": {
    "hash": "a07aacdcc8a415e7643a2bc993226848ff70704ebef014f87460de9126b773d0"
   }
  }
 },
 "nbformat": 4,
 "nbformat_minor": 5
}
