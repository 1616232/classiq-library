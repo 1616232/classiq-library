{
 "cells": [
  {
   "cell_type": "markdown",
   "id": "fd7fec99-68b4-4646-a2cd-2e2045424678",
   "metadata": {
    "tags": []
   },
   "source": [
    "# Travelling Salesman Problem\n",
    "\n",
    "## Introduction\n",
    "\n",
    "The \"Travelling Salesperson Problem\" [[1](#TSPWiki)] refers to finding the shortest route between cities, given their relative distances. In a more general sense, given a weighted directed graph, one shall find the shortest route along the graph that goes through all the cities, where the weights correspond to the distance between cities. For example, in the following graph\n"
   ]
  },
  {
   "cell_type": "code",
   "execution_count": null,
   "id": "51df6235-e46c-45d0-ba63-505f203e5183",
   "metadata": {
    "lines_to_next_cell": 2,
    "tags": []
   },
   "outputs": [],
   "source": [
    "import networkx as nx  # noqa\n",
    "\n",
    "nonedge = 5\n",
    "graph = nx.DiGraph()\n",
    "graph.add_nodes_from([0, 1, 2, 3])\n",
    "graph.add_edges_from([(0, 1), (1, 2), (2, 1), (2, 3)], weight=1)\n",
    "graph.add_edges_from([(0, 2), (1, 3)], weight=2)\n",
    "pos = nx.planar_layout(graph)\n",
    "nx.draw_networkx(graph, pos=pos)\n",
    "\n",
    "labels = nx.get_edge_attributes(graph, \"weight\")\n",
    "nx.draw_networkx_edge_labels(graph, pos, edge_labels=labels)\n",
    "distance_matrix = nx.convert_matrix.to_numpy_array(graph, nonedge=nonedge)"
   ]
  },
  {
   "cell_type": "markdown",
   "id": "28baf985-aea6-4b00-95ab-fd091206c7f1",
   "metadata": {
    "tags": []
   },
   "source": [
    "one can see that the route which goes along $0\\rightarrow 1\\rightarrow 2\\rightarrow 3$ yields a total distance 3, which is the shortest.\n",
    "\n",
    "As many other real world problems, this task may be cast into a combinatorial optimization problem. In this demo, we will show how the Quantum Approximate Optimization Algorithm [[2](#QAOA)] can be employed on the Classiq platform to solve the Travelling Salesperson Problem.\n",
    "\n"
   ]
  },
  {
   "cell_type": "markdown",
   "id": "903019b9-044b-4340-821a-3d8b77abae69",
   "metadata": {
    "tags": []
   },
   "source": [
    "## Mathematical formulation\n",
    "\n",
    "As a first step, we have to model the problem mathematically. The input is the set of distances between the cities: this is given by a matrix $w$, whose $(i,j)$ entry refers to the distance between city $i$ to city $j$. The output of the model is an optimized route. Any route can be captured by a binary matrix $x$ which states at each step (row) which city was visited (column):\n",
    "$\\begin{aligned}\n",
    "x_{ij} =\n",
    "\\begin{cases}\n",
    "      1 & \\text{at time step } i \\text{ the route is in city } j \\\\\n",
    "      0 & \\text{else}\n",
    "\\end{cases}\\\\\n",
    "\\end{aligned}$\n",
    "\n",
    "For example:\n",
    "$\\begin{aligned}\n",
    "x=\\begin{pmatrix}\n",
    "0 & 1 & 0 & 0 \\\\\n",
    "0 & 0 & 0 & 1 \\\\\n",
    "0 & 0 & 1 & 0 \\\\\n",
    "1 & 0 & 0 & 0\n",
    "\\end{pmatrix}\n",
    "\\end{aligned}$ means that we start from city 1 go to city 3 then to city 2 and end at city 0.\n",
    "\n",
    "#### The constrained optimization problem is thus defined as follows:\n",
    "\n",
    "- find x, that minimizes the path distance -\n",
    "  $\\begin{aligned}\n",
    "\\min_{x_{i, p} \\in \\{0, 1\\}}  \\Sigma_{i, j} w_{i, j} \\Sigma_p x_{i, p} x_{j, p + 1}\\\\\n",
    "\\end{aligned}$\n",
    "\n",
    "(note that the inner sum over $p$ is simply an indicator for whether we go from city $i$ to city $j$)\n",
    "\n",
    "such that:\n",
    "\n",
    "- each point is visited once -\n",
    "  $\\begin{aligned}\n",
    "\\forall i, \\hspace{0.2cm} \\Sigma_p x_{i, p} = 1\\\\\n",
    "\\end{aligned}$\n",
    "\n",
    "- in each step only a single point is visited -\n",
    "  $\\begin{aligned}\n",
    "\\forall p, \\hspace{0.2cm} \\Sigma_i x_{i, p} = 1\\\\\n",
    "\\end{aligned}$\n",
    "\n",
    "#### Directed graph\n",
    "\n",
    "In some cases, as in the graph above, not all cities are connected, and it is more proper to describe the problem with a weighted, directed graph. In that case, since we would like to find the shortest path, unconnected cities are assumed to have an infinite distance between them. For example, the graph above corresponds to the matrix\n",
    "\n",
    "$\\begin{aligned}\n",
    "w=\\begin{pmatrix}\n",
    "\\infty & 1 & 2 & \\infty \\\\\n",
    "\\infty & \\infty & 1 & 2 \\\\\n",
    "\\infty & 1 & \\infty & 1 \\\\\n",
    "\\infty & \\infty & \\infty & \\infty\n",
    "\\end{pmatrix}\n",
    "\\end{aligned}$\n",
    "\n",
    "In practice we will choose a large enough weight rather than infinity.\n"
   ]
  },
  {
   "cell_type": "markdown",
   "id": "2c8d2493-525d-4aa9-8b93-dd10263a4749",
   "metadata": {},
   "source": [
    "# Solving with the Classiq platform\n",
    "\n",
    "We go through the steps of solving the problem with the Classiq platform, using QAOA algorithm. The solution is based on defining a pyomo model for the optimization problem we would like to solve.\n"
   ]
  },
  {
   "cell_type": "markdown",
   "id": "66dfdc09-4920-4966-a738-d8a8e7b4dc4e",
   "metadata": {
    "tags": []
   },
   "source": [
    "## Building the Pyomo model from a matrix of distances input\n"
   ]
  },
  {
   "cell_type": "code",
   "execution_count": null,
   "id": "dd946990-d0dc-4f29-aa15-949819b8d09f",
   "metadata": {
    "tags": []
   },
   "outputs": [],
   "source": [
    "from typing import List, Tuple, cast  # noqa\n",
    "\n",
    "import numpy as np  # noqa\n",
    "import pyomo.core as pyo"
   ]
  },
  {
   "cell_type": "code",
   "execution_count": null,
   "id": "c731afb0-f94b-43b1-9cdb-1de8bb3a1f46",
   "metadata": {
    "lines_to_next_cell": 2,
    "tags": []
   },
   "outputs": [],
   "source": [
    "## We define a function which gets the matrix of distances and returns a Pyomo model\n",
    "\n",
    "\n",
    "def PyomoTSP(dis_mat: np.ndarray) -> pyo.ConcreteModel:\n",
    "    model = pyo.ConcreteModel(\"TSP\")\n",
    "\n",
    "    assert dis_mat.shape[0] == dis_mat.shape[1], \"error distance matrix is not square\"\n",
    "\n",
    "    NofCities = dis_mat.shape[0]  # total number of cities\n",
    "    cities = range(NofCities)  # list of cities\n",
    "\n",
    "    # we define our variable, which is the binary matrix x: x[i, j] = 1 indicates that point i is visited at step j\n",
    "    model.x = pyo.Var(cities, cities, domain=pyo.Binary)\n",
    "\n",
    "    # we add constraints\n",
    "    @model.Constraint(cities)\n",
    "    def each_step_visits_one_point_rule(model, ii):\n",
    "        return sum(model.x[ii, jj] for jj in range(NofCities)) == 1\n",
    "\n",
    "    @model.Constraint(cities)\n",
    "    def each_point_visited_once_rule(model, jj):\n",
    "        return sum(model.x[ii, jj] for ii in range(NofCities)) == 1\n",
    "\n",
    "    # we define our Objective function\n",
    "    def is_connected(i1: int, i2: int):\n",
    "        return sum(model.x[i1, kk] * model.x[i2, kk + 1] for kk in cities[:-1])\n",
    "\n",
    "    model.cost = pyo.Objective(\n",
    "        expr=sum(\n",
    "            dis_mat[i1, i2] * is_connected(i1, i2) for i1, i2 in model.x.index_set()\n",
    "        )\n",
    "    )\n",
    "\n",
    "    return model"
   ]
  },
  {
   "cell_type": "markdown",
   "id": "83a39488-ddbd-4e1a-930d-5a9c1b307185",
   "metadata": {
    "tags": []
   },
   "source": [
    "## Generating a specific problem\n",
    "\n",
    "Let us pick a specific problem: the graph introduced above.\n"
   ]
  },
  {
   "cell_type": "code",
   "execution_count": null,
   "id": "f860b99c-61cd-4071-964b-6971570b5fc6",
   "metadata": {
    "tags": []
   },
   "outputs": [],
   "source": [
    "# We generate a graph which defines our problem\n",
    "import networkx as nx  # noqa\n",
    "\n",
    "graph = nx.DiGraph()\n",
    "graph.add_nodes_from([0, 1, 2, 3])\n",
    "graph.add_edges_from([(0, 1), (1, 2), (2, 1), (2, 3)], weight=1)\n",
    "graph.add_edges_from([(0, 2), (1, 3)], weight=2)\n",
    "pos = nx.planar_layout(graph)\n",
    "nx.draw_networkx(graph, pos=pos)\n",
    "\n",
    "labels = nx.get_edge_attributes(graph, \"weight\")\n",
    "nx.draw_networkx_edge_labels(graph, pos, edge_labels=labels);"
   ]
  },
  {
   "cell_type": "markdown",
   "id": "236ed658-b452-4bf9-bea9-a75f7e80c478",
   "metadata": {},
   "source": [
    "We convert the graph object into a matrix of distances and then generate a pyomo model for this example"
   ]
  },
  {
   "cell_type": "code",
   "execution_count": null,
   "id": "38a2d5cc-fd5e-4f84-9eee-67a5133daf29",
   "metadata": {
    "lines_to_next_cell": 2,
    "tags": []
   },
   "outputs": [],
   "source": [
    "nonedge = 5  # this variable refers to how much we penalize for unconnected points\n",
    "distance_matrix = nx.convert_matrix.to_numpy_array(graph, nonedge=nonedge)\n",
    "tsp_model = PyomoTSP(distance_matrix)"
   ]
  },
  {
   "cell_type": "markdown",
   "id": "a645544e-b083-4d03-9b1b-9348c80c3cbb",
   "metadata": {
    "tags": []
   },
   "source": [
    "## Setting Up the Classiq Problem Instance\n",
    "\n",
    "In order to solve the Pyomo model defined above, we use the Classiq combinatorial optimization engine. For the quantum part of the QAOA algorithm (`QAOAConfig`) - define the number of repetitions (`num_layers`):"
   ]
  },
  {
   "cell_type": "code",
   "execution_count": null,
   "id": "f52a988f-5b72-4faa-b122-6099113fb60e",
   "metadata": {
    "tags": []
   },
   "outputs": [],
   "source": [
    "from classiq import construct_combinatorial_optimization_model\n",
    "from classiq.applications.combinatorial_optimization import OptimizerConfig, QAOAConfig\n",
    "\n",
    "qaoa_config = QAOAConfig(num_layers=10)"
   ]
  },
  {
   "cell_type": "markdown",
   "id": "ad8e668b-eb6b-4d2c-ba85-16a0ea519731",
   "metadata": {},
   "source": [
    "For the classical optimization part of the QAOA algorithm we define the maximum number of classical iterations (`max_iteration`) and the $\\alpha$-parameter (`alpha_cvar`) for running CVaR-QAOA, an improved variation of the QAOA algorithm [[3](#cvar)]:"
   ]
  },
  {
   "cell_type": "code",
   "execution_count": null,
   "id": "970d4e26-0bf0-489a-94cf-e26fef47e89f",
   "metadata": {
    "pycharm": {
     "name": "#%%\n"
    },
    "tags": []
   },
   "outputs": [],
   "source": [
    "optimizer_config = OptimizerConfig(max_iteration=50, alpha_cvar=0.4)"
   ]
  },
  {
   "cell_type": "markdown",
   "id": "aff2a1af-b0d8-44fe-9e95-fb0b151e5818",
   "metadata": {},
   "source": [
    "Lastly, we load the model, based on the problem and algorithm parameters, which we can use to solve the problem:"
   ]
  },
  {
   "cell_type": "code",
   "execution_count": null,
   "id": "cb125a5d-13ec-451b-bcd7-64e49df69bc0",
   "metadata": {
    "pycharm": {
     "name": "#%%\n"
    },
    "tags": []
   },
   "outputs": [],
   "source": [
    "qmod = construct_combinatorial_optimization_model(\n",
    "    pyo_model=tsp_model,\n",
    "    qaoa_config=qaoa_config,\n",
    "    optimizer_config=optimizer_config,\n",
    ")"
   ]
  },
  {
   "cell_type": "markdown",
   "id": "2c1f31ad-e71b-473f-acb5-2b49d2230410",
   "metadata": {},
   "source": [
    "We also set the quantum backend we want to execute on:"
   ]
  },
  {
   "cell_type": "code",
   "execution_count": null,
   "id": "bf05d235-d298-438e-beb0-be1175fcd982",
   "metadata": {
    "tags": []
   },
   "outputs": [],
   "source": [
    "from classiq import set_execution_preferences\n",
    "from classiq.execution import ClassiqBackendPreferences, ExecutionPreferences\n",
    "\n",
    "backend_preferences = ExecutionPreferences(\n",
    "    backend_preferences=ClassiqBackendPreferences(backend_name=\"aer_simulator\")\n",
    ")\n",
    "\n",
    "qmod = set_execution_preferences(qmod, backend_preferences)"
   ]
  },
  {
   "cell_type": "code",
   "execution_count": null,
   "id": "a72ae181-d30d-4435-aea6-484b49217640",
   "metadata": {},
   "outputs": [],
   "source": [
    "with open(\"traveling_saleman_problem.qmod\", \"w\") as f:\n",
    "    f.write(qmod)"
   ]
  },
  {
   "cell_type": "markdown",
   "id": "80bb20df-ca97-402f-9083-8b500612ae2a",
   "metadata": {},
   "source": [
    "## Synthesizing the QAOA Circuit and Solving the Problem\n",
    "\n",
    "We can now synthesize and view the QAOA circuit (ansatz) used to solve the optimization problem:"
   ]
  },
  {
   "cell_type": "code",
   "execution_count": null,
   "id": "33a41523-99e2-4669-bf55-2d19b66f4f2f",
   "metadata": {
    "pycharm": {
     "name": "#%%\n"
    },
    "tags": []
   },
   "outputs": [],
   "source": [
    "from classiq import show, synthesize\n",
    "\n",
    "qprog = synthesize(qmod)\n",
    "show(qprog)"
   ]
  },
  {
   "cell_type": "markdown",
   "id": "0b696e21-8caf-4f14-b345-88771d052dc0",
   "metadata": {},
   "source": [
    "We now solve the problem using the generated circuit by using the `execute` method:"
   ]
  },
  {
   "cell_type": "code",
   "execution_count": null,
   "id": "1bf1079f-a37c-4b08-a7a8-53f675570a23",
   "metadata": {
    "tags": []
   },
   "outputs": [],
   "source": [
    "from classiq import execute\n",
    "\n",
    "res = execute(qprog).result()"
   ]
  },
  {
   "cell_type": "markdown",
   "id": "bc744bff-31cf-49f8-a94d-b4b7235e18bb",
   "metadata": {},
   "source": [
    "We can check the convergence of the run:"
   ]
  },
  {
   "cell_type": "code",
   "execution_count": null,
   "id": "146044ba-d173-4f75-8715-2deeb7813a4d",
   "metadata": {
    "tags": []
   },
   "outputs": [],
   "source": [
    "from classiq.execution import VQESolverResult\n",
    "\n",
    "vqe_result = res[1].value\n",
    "vqe_result.convergence_graph"
   ]
  },
  {
   "cell_type": "markdown",
   "id": "051a5b91-d17c-4477-a416-6bfd47032954",
   "metadata": {
    "tags": []
   },
   "source": [
    "# Optimization Results"
   ]
  },
  {
   "cell_type": "markdown",
   "id": "ed429305-36cd-4703-8993-15568d7fd44d",
   "metadata": {},
   "source": [
    "We can also examine the statistics of the algorithm:"
   ]
  },
  {
   "cell_type": "code",
   "execution_count": null,
   "id": "31c4f692-2847-4232-8ca5-6253ff0b797d",
   "metadata": {
    "tags": []
   },
   "outputs": [],
   "source": [
    "import pandas as pd\n",
    "\n",
    "optimization_result = pd.DataFrame.from_records(res[0].value)\n",
    "optimization_result.sort_values(by=\"cost\", ascending=True).head(5)"
   ]
  },
  {
   "cell_type": "markdown",
   "id": "34a15955-0a09-481c-a997-ecd3ffa09a44",
   "metadata": {},
   "source": [
    "And the histogram:"
   ]
  },
  {
   "cell_type": "code",
   "execution_count": null,
   "id": "786019a7-5c89-4fd2-90bc-da4e4aa42214",
   "metadata": {
    "tags": []
   },
   "outputs": [],
   "source": [
    "optimization_result.hist(\"cost\", weights=optimization_result[\"probability\"])"
   ]
  },
  {
   "cell_type": "markdown",
   "id": "1a103578-5993-4d08-94f1-8cc93973b0df",
   "metadata": {},
   "source": [
    "Lastly, we can compare to the classical solution of the problem:"
   ]
  },
  {
   "cell_type": "code",
   "execution_count": null,
   "id": "c309c6c1-a494-4ee1-88cb-5a1d8a582d4d",
   "metadata": {
    "pycharm": {
     "name": "#%%\n"
    },
    "tags": []
   },
   "outputs": [],
   "source": [
    "from pyomo.opt import SolverFactory\n",
    "\n",
    "solver = SolverFactory(\"couenne\")\n",
    "solver.solve(tsp_model)\n",
    "\n",
    "tsp_model.display()"
   ]
  },
  {
   "cell_type": "markdown",
   "id": "d8f3d6b0-5de9-42c9-b52a-4c31ef2d30a7",
   "metadata": {},
   "source": [
    "If we get the right solution we plot it:"
   ]
  },
  {
   "cell_type": "code",
   "execution_count": null,
   "id": "e3ce696d-9534-44f8-b57d-5694b6132e32",
   "metadata": {
    "tags": []
   },
   "outputs": [],
   "source": [
    "best_classical_solution = np.array(\n",
    "    [int(pyo.value(tsp_model.x[idx])) for idx in np.ndindex(distance_matrix.shape)]\n",
    ")"
   ]
  },
  {
   "cell_type": "code",
   "execution_count": null,
   "id": "aa902ddb-a27c-4137-825e-c7e5173659a0",
   "metadata": {
    "tags": []
   },
   "outputs": [],
   "source": [
    "best_quantum_solution = np.array(\n",
    "    optimization_result.solution[optimization_result.cost.idxmin()]\n",
    ")"
   ]
  },
  {
   "cell_type": "code",
   "execution_count": null,
   "id": "4c97d27d-c76f-44a2-9e6b-a1e43d78a286",
   "metadata": {
    "tags": []
   },
   "outputs": [],
   "source": [
    "if (best_classical_solution == best_quantum_solution).all():\n",
    "    routesol = np.zeros(4, dtype=int)\n",
    "    for k in range(4):\n",
    "        routesol[k] = np.where(\n",
    "            best_quantum_solution.reshape(distance_matrix.shape)[k, :] == 1\n",
    "        )[0]\n",
    "    edgesol = list(nx.utils.pairwise(routesol))\n",
    "    nx.draw_networkx(\n",
    "        graph,\n",
    "        pos,\n",
    "        with_labels=True,\n",
    "        edgelist=edgesol,\n",
    "        edge_color=\"red\",\n",
    "        node_size=200,\n",
    "        width=3,\n",
    "    )\n",
    "    nx.draw_networkx(graph, pos=pos)\n",
    "\n",
    "    labels = nx.get_edge_attributes(graph, \"weight\")\n",
    "    nx.draw_networkx_edge_labels(graph, pos, edge_labels=labels)\n",
    "    print(\"The route of the traveller is:\", routesol)"
   ]
  },
  {
   "cell_type": "markdown",
   "id": "28fdd4b2-7aad-43ca-a3d0-bb32df703d16",
   "metadata": {
    "pycharm": {
     "name": "#%% md\n"
    },
    "tags": []
   },
   "source": [
    "\n",
    "## References\n",
    "\n",
    "<a id='TSPWiki'>[1]</a>: [Travelling Salesperson Problem (Wikipedia)](https://en.wikipedia.org/wiki/Travelling_salesman_problem)\n",
    "\n",
    "<a id='QAOA'>[2]</a>: [Farhi, Edward, Jeffrey Goldstone, and Sam Gutmann. \"A quantum approximate optimization algorithm.\" arXiv preprint arXiv:1411.4028 (2014).](https://arxiv.org/abs/1411.4028)\n",
    "\n",
    "<a id='cvar'>[3]</a>: [Barkoutsos, Panagiotis Kl, et al. \"Improving variational quantum optimization using CVaR.\" Quantum 4 (2020): 256.](https://arxiv.org/abs/1907.04769)\n"
   ]
  }
 ],
 "metadata": {
  "kernelspec": {
   "display_name": "Python 3 (ipykernel)",
   "language": "python",
   "name": "python3"
  },
  "language_info": {
   "codemirror_mode": {
    "name": "ipython",
    "version": 3
   },
   "file_extension": ".py",
   "mimetype": "text/x-python",
   "name": "python",
   "nbconvert_exporter": "python",
   "pygments_lexer": "ipython3",
   "version": "3.8.13"
  }
 },
 "nbformat": 4,
 "nbformat_minor": 5
}
