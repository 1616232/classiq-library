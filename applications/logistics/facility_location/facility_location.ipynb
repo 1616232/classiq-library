{
 "cells": [
  {
   "cell_type": "markdown",
   "id": "fd7fec99-68b4-4646-a2cd-2e2045424678",
   "metadata": {
    "tags": []
   },
   "source": [
    "# Facility Location Problem (P-median)"
   ]
  },
  {
   "cell_type": "markdown",
   "id": "4ab3247e-1452-47d8-9fae-dbc8894c4df5",
   "metadata": {
    "tags": []
   },
   "source": [
    "We consider the following optimization problem: we have a set of $M$ customers and a set of $N$ potential locations for opening a facility. Given transportation costs between facilities and customers and how many facilities we would like to open ($P$), we need to determine which facilities to open such that the total transportation cost between facilities and customers is minimal, under the constraint that each customer is allocated to only one facility.\n",
    "\n",
    "### Possible extensions:\n",
    "\n",
    "$\\bullet$ Add different demand for each customer.\n",
    "\n",
    "$\\bullet$ Add cost for opening a facility at each location.\n",
    "\n",
    "$\\bullet$ Different categories of facilities, and customer can have multiple allocations for different facilities."
   ]
  },
  {
   "cell_type": "markdown",
   "id": "966c9605-c442-436f-b01a-a76004bbd9b2",
   "metadata": {
    "tags": []
   },
   "source": [
    "## Mathematical Modeling\n",
    "\n",
    "The input of the model is a set of $M$ customers $\\{1,\\dots,M\\}$, a set of $N$ potential locations for facilities $\\{1,\\dots,N\\}$, an $N\\times M$ matrix $d$ where $d_{nm}$ is the cost of customer $m$ buying from facility $n$, and the total number of facilities we want to open $P$.\n",
    "\n",
    "We define a binary variable for the optimization problem: an $N\\times M$ matrix $x$ such that $x_{nm}=1$ if customer $m$ is allocated to facility $n$.\n",
    "\n",
    "The objective function to minimize is the total cost function:\n",
    "$$\n",
    "\\min_{x} \\sum_{n,m} d_{nm}x_{nm}\n",
    "$$\n",
    "We have 2 constraints:\n",
    "\n",
    "(1) Each customer is supplied: $\\forall m\\in[0,M] \\,\\,\\, \\sum_n x_{nm}=1$\n",
    "\n",
    "(2) Total number of opened facilities is $P$: $\\sum_n\\Pi_m (1-x_{nm})=N-P$ (The inner product is zero if the $n-$th facility is not open)."
   ]
  },
  {
   "cell_type": "markdown",
   "id": "533588ad-0bf0-4f80-9178-1d9de6fda916",
   "metadata": {},
   "source": [
    "### Alternative modeling\n",
    "We note that there is an alternative modeling, in which one adds another variable to the model: a binary vector $y$ of size $N$ which indicates which facilities are open. In this formulation the second constraint can be written as $\\sum_n y_n=P$ together with an inequality constraint $\\forall n,m:\\, x_{nm} \\leq y_n$. A model which combines equality and inequality constraints will be available in the future.\n",
    "\n",
    "Note that in this alternative modeling we have a QUBO problem (compared to the formulation above where constraint (2) is polynomial of degree $m$). However, the alternative modelling has more variables to minimize on, and thus refers to more qubits."
   ]
  },
  {
   "cell_type": "markdown",
   "id": "3bfe6389-752a-4a31-9190-dfc4cd20fd1a",
   "metadata": {},
   "source": [
    "### An Example\n",
    "\n",
    "Let us say we can open facilities in Japan, USA, and France, and we have 4 customers whose costs for buying from these three locations are given. We would like to open in total $P=2$ facilities. The optimization problem is to find where to open the facilities and which customer is allocated to which facility.\n",
    "\n",
    "We now draw this specific example on a graph. We have $N=3$ locations and $M=4$ customers, where the weights of the edges between them signify the costs:"
   ]
  },
  {
   "cell_type": "markdown",
   "id": "9b0dd32d",
   "metadata": {},
   "source": [
    "*Suggestions:*\n",
    "- Give general problem description and then givens, or provide givens after each mention.\n",
    "- Standardize writing numbers appearing in sentences out when less than 10. \"4\" vs \"four\"."
   ]
  },
  {
   "cell_type": "markdown",
   "id": "4d377ec1-86d9-4008-a474-30470d4f0f7a",
   "metadata": {},
   "source": [
    "### Necessary Packages\n",
    "\n",
    "In this demo, besides the `classiq` package, we'll use the following packages:"
   ]
  },
  {
   "cell_type": "code",
   "execution_count": null,
   "id": "f3a0cf2f-b113-4a64-8c8e-2ced5163cc9b",
   "metadata": {
    "tags": []
   },
   "outputs": [],
   "source": [
    "%%capture\n",
    "! pip install networkx\n",
    "! pip install pyomo\n",
    "! pip install matplotlib"
   ]
  },
  {
   "cell_type": "code",
   "execution_count": null,
   "id": "562161d9-5c43-476f-9b97-e6f83eeb9751",
   "metadata": {
    "tags": []
   },
   "outputs": [],
   "source": [
    "# Import relevant packages\n",
    "\n",
    "from itertools import product\n",
    "\n",
    "import matplotlib.pyplot as plt\n",
    "import networkx as nx  # noqa\n",
    "import numpy as np\n",
    "import pandas as pd\n",
    "\n",
    "# Declare givens from problem statement\n",
    "\n",
    "Facilities = [\"Japan\", \"USA\", \"France\"]\n",
    "Customers = [\"A\", \"B\", \"C\", \"D\"]\n",
    "\n",
    "N = len(Facilities)  # potential facility count\n",
    "M = len(Customers)  # customer count\n",
    "P = 2  # allocated facility count\n",
    "\n",
    "# costs of customers using facilities\n",
    "d = np.array(\n",
    "    [[0.02, 0.14, 0.62, 0.11], [0.99, 0.22, 0.91, 0.09], [0.4, 0.76, 0.95, 0.61]]\n",
    ")\n",
    "\n",
    "\n",
    "graph = nx.DiGraph()\n",
    "graph.add_nodes_from(Facilities + Customers)\n",
    "for n, m in product(range(N), range(M)):\n",
    "    graph.add_edges_from([(Facilities[n], Customers[m])], weight=d[n, m])\n",
    "\n",
    "\n",
    "# Plot the graph\n",
    "plt.figure(figsize=(6, 5))\n",
    "left = nx.bipartite.sets(graph)[0]\n",
    "pos = nx.bipartite_layout(graph, left)\n",
    "\n",
    "nx.draw_networkx(graph, pos=pos, nodelist=Customers, font_size=22, font_color=\"None\")\n",
    "nx.draw_networkx_nodes(\n",
    "    graph, pos, nodelist=Customers, node_color=\"#119DA4\", node_size=500\n",
    ")\n",
    "for fa in Facilities:\n",
    "    x, y = pos[fa]\n",
    "    plt.text(\n",
    "        x,\n",
    "        y,\n",
    "        s=fa,\n",
    "        bbox=dict(facecolor=\"#F43764\", alpha=1),\n",
    "        horizontalalignment=\"center\",\n",
    "        fontsize=15,\n",
    "    )\n",
    "\n",
    "nx.draw_networkx_edges(graph, pos, width=2)\n",
    "labels = nx.get_edge_attributes(graph, \"weight\")\n",
    "nx.draw_networkx_edge_labels(graph, pos, edge_labels=labels, font_size=12)\n",
    "nx.draw_networkx_labels(\n",
    "    graph,\n",
    "    pos,\n",
    "    labels={co: co for co in Customers},\n",
    "    font_size=22,\n",
    "    font_color=\"#F4F9E9\",\n",
    ")\n",
    "\n",
    "plt.tight_layout()\n",
    "plt.axis(\"off\")\n",
    "plt.show()"
   ]
  },
  {
   "cell_type": "markdown",
   "id": "66dfdc09-4920-4966-a738-d8a8e7b4dc4e",
   "metadata": {
    "tags": []
   },
   "source": [
    "## Building the Pyomo model from a matrix of distances input"
   ]
  },
  {
   "cell_type": "code",
   "execution_count": null,
   "id": "dd946990-d0dc-4f29-aa15-949819b8d09f",
   "metadata": {
    "tags": []
   },
   "outputs": [],
   "source": [
    "from typing import List, Tuple, cast  # noqa\n",
    "\n",
    "import pyomo.environ as pyo\n",
    "from IPython.display import Markdown, display"
   ]
  },
  {
   "cell_type": "code",
   "execution_count": null,
   "id": "c731afb0-f94b-43b1-9cdb-1de8bb3a1f46",
   "metadata": {
    "tags": []
   },
   "outputs": [],
   "source": [
    "## We define a function which gets a matrix of costs between customers and potential facilities\n",
    "## and the number of facilities to open.\n",
    "\n",
    "\n",
    "def pmedian(cost_mat: np.ndarray, P: int) -> pyo.ConcreteModel:\n",
    "    model = pyo.ConcreteModel(\"pmedian\")\n",
    "\n",
    "    N = cost_mat.shape[0]  # potential facility amount\n",
    "    M = cost_mat.shape[1]  # customer count\n",
    "    Locations = range(N)\n",
    "    Customers = range(M)\n",
    "\n",
    "    model.x = pyo.Var(Locations, Customers, domain=pyo.Binary)\n",
    "\n",
    "    @model.Constraint(Customers)\n",
    "    def each_customer_is_supplied_rule(model, m):  # constraint (1)\n",
    "        return sum(model.x[n, m] for n in Locations) == 1\n",
    "\n",
    "    def is_location_alocated(n):  # constraint (2)\n",
    "        return np.prod([(1 - model.x[n, m]) for m in Customers])\n",
    "\n",
    "    model.num_facilities = pyo.Constraint(\n",
    "        expr=sum(is_location_alocated(n) for n in Locations) == N - P\n",
    "    )\n",
    "\n",
    "    model.cost = pyo.Objective(\n",
    "        expr=sum(cost_mat[n, m] * model.x[n, m] for n in Locations for m in Customers),\n",
    "        sense=pyo.minimize,\n",
    "    )\n",
    "\n",
    "    return model"
   ]
  },
  {
   "cell_type": "markdown",
   "id": "156b2d20-b5cc-4a2c-8b95-fa8fa811783e",
   "metadata": {},
   "source": [
    "## Solving with Classiq"
   ]
  },
  {
   "cell_type": "markdown",
   "id": "ad95a642-4ffe-486d-9d9b-e744530a3aed",
   "metadata": {},
   "source": [
    "We take a specific example: the one outlined above"
   ]
  },
  {
   "cell_type": "code",
   "execution_count": null,
   "id": "4ac5a185-7de9-4450-bb08-c6d4a7983b87",
   "metadata": {
    "tags": []
   },
   "outputs": [],
   "source": [
    "pmedian_model = pmedian(d, P)"
   ]
  },
  {
   "cell_type": "code",
   "execution_count": null,
   "id": "645e7adc-8e9a-4e5d-af9e-bf15ad6271b8",
   "metadata": {
    "pycharm": {
     "name": "#%%\n"
    },
    "tags": []
   },
   "outputs": [],
   "source": [
    "from classiq import construct_combinatorial_optimization_model\n",
    "from classiq.applications.combinatorial_optimization import OptimizerConfig, QAOAConfig\n",
    "\n",
    "qaoa_config = QAOAConfig(num_layers=5, penalty_energy=10)"
   ]
  },
  {
   "cell_type": "markdown",
   "id": "721834d5-89fd-4859-8765-5205620dae71",
   "metadata": {},
   "source": [
    "For the classical optimization part of the QAOA algorithm (`CombinatorialConfig`) we define the maximum number of classical iterations (`max_iteration`) and the $\\alpha$-parameter (`alpha_cvar`) for running CVaR-QAOA, an improved variation of the QAOA algorithm [[3](#cvar)]:"
   ]
  },
  {
   "cell_type": "code",
   "execution_count": null,
   "id": "85a4d376-7bb0-4f57-bfee-03e3a7fa2335",
   "metadata": {
    "pycharm": {
     "name": "#%%\n"
    },
    "tags": []
   },
   "outputs": [],
   "source": [
    "optimizer_config = OptimizerConfig(\n",
    "    max_iteration=30,\n",
    "    alpha_cvar=1,\n",
    ")"
   ]
  },
  {
   "cell_type": "markdown",
   "id": "639a861c-8599-499d-abac-6d4d31668e38",
   "metadata": {},
   "source": [
    "Lastly, we define the `CombinatorialOptimization` instance which we can use to solve the problem:"
   ]
  },
  {
   "cell_type": "code",
   "execution_count": null,
   "id": "9a4c197e-86cb-41cc-b51d-d0f6d85c10b9",
   "metadata": {
    "lines_to_next_cell": 2,
    "pycharm": {
     "name": "#%%\n"
    },
    "tags": []
   },
   "outputs": [],
   "source": [
    "qmod = construct_combinatorial_optimization_model(\n",
    "    pyo_model=pmedian_model,\n",
    "    qaoa_config=qaoa_config,\n",
    "    optimizer_config=optimizer_config,\n",
    ")"
   ]
  },
  {
   "cell_type": "markdown",
   "id": "dac1fe29-cdc8-486f-84f4-628a7abb7cea",
   "metadata": {},
   "source": [
    "We also set the quantum backend we want to execute on:"
   ]
  },
  {
   "cell_type": "code",
   "execution_count": null,
   "id": "77ed14c8-e3f9-4078-a838-7c679e8c37b1",
   "metadata": {
    "tags": []
   },
   "outputs": [],
   "source": [
    "from classiq import set_execution_preferences\n",
    "from classiq.execution import ClassiqBackendPreferences, ExecutionPreferences\n",
    "\n",
    "backend_preferences = ExecutionPreferences(\n",
    "    backend_preferences=ClassiqBackendPreferences(backend_name=\"aer_simulator\")\n",
    ")\n",
    "\n",
    "qmod = set_execution_preferences(qmod, backend_preferences)"
   ]
  },
  {
   "cell_type": "code",
   "execution_count": null,
   "id": "ebf3341e-d1ee-481d-a20d-381fd9203316",
   "metadata": {},
   "outputs": [],
   "source": [
    "with open(\"facility_location.qmod\", \"w\") as f:\n",
    "    f.write(qmod)"
   ]
  },
  {
   "cell_type": "markdown",
   "id": "5d36fc4a-5e6c-437e-9e91-fd45474264cb",
   "metadata": {},
   "source": [
    "We define a function that plot solutions"
   ]
  },
  {
   "cell_type": "code",
   "execution_count": null,
   "id": "5ad2f559-5797-4d1b-ad4e-132ee629d898",
   "metadata": {
    "tags": []
   },
   "outputs": [],
   "source": [
    "# This function plots the solution in a table and a graph\n",
    "\n",
    "\n",
    "def plotting_sol(x_sol, cost, is_classic: bool):\n",
    "    x_sol_to_mat = np.reshape(np.array(x_sol), [N, M])  # vector to matrix\n",
    "    # opened facilities will be marked in red\n",
    "    opened_fac_dict = {}\n",
    "    for fa in range(N):\n",
    "        if sum(x_sol_to_mat[fa, m] for m in range(M)) > 0:\n",
    "            opened_fac_dict.update({Facilities[fa]: \"background-color: #F43764\"})\n",
    "\n",
    "    # classical or quantum\n",
    "    if is_classic == True:\n",
    "        display(Markdown(\"**CLASSICAL SOLUTION**\"))\n",
    "        print(\"total cost= \", cost)\n",
    "    else:\n",
    "        display(Markdown(\"**QAOA SOLUTION**\"))\n",
    "        print(\"total cost= \", cost)\n",
    "\n",
    "    # plotting in a table\n",
    "    df = pd.DataFrame(x_sol_to_mat)\n",
    "    df.columns = Customers\n",
    "    df.index = Facilities\n",
    "    plotable = df.style.apply(lambda x: x.index.map(opened_fac_dict))\n",
    "    display(plotable)\n",
    "\n",
    "    # plotting in a graph\n",
    "    graph_sol = nx.DiGraph()\n",
    "    graph_sol.add_nodes_from(Facilities + Customers)\n",
    "    for n, m in product(range(N), range(M)):\n",
    "        if x_sol_to_mat[n, m] > 0:\n",
    "            graph_sol.add_edges_from([(Facilities[n], Customers[m])], weight=d[n, m])\n",
    "\n",
    "    plt.figure(figsize=(6, 5))\n",
    "    left = nx.bipartite.sets(graph_sol, top_nodes=Facilities)[0]\n",
    "    pos = nx.bipartite_layout(graph_sol, left)\n",
    "\n",
    "    nx.draw_networkx(\n",
    "        graph_sol, pos=pos, nodelist=Customers, font_size=22, font_color=\"None\"\n",
    "    )\n",
    "    nx.draw_networkx_nodes(\n",
    "        graph_sol, pos, nodelist=Customers, node_color=\"#119DA4\", node_size=500\n",
    "    )\n",
    "    for fa in Facilities:\n",
    "        x, y = pos[fa]\n",
    "        if fa in opened_fac_dict.keys():\n",
    "            plt.text(\n",
    "                x,\n",
    "                y,\n",
    "                s=fa,\n",
    "                bbox=dict(facecolor=\"#F43764\", alpha=1),\n",
    "                horizontalalignment=\"center\",\n",
    "                fontsize=15,\n",
    "            )\n",
    "        else:\n",
    "            plt.text(\n",
    "                x,\n",
    "                y,\n",
    "                s=fa,\n",
    "                bbox=dict(facecolor=\"#F4F9E9\", alpha=1),\n",
    "                horizontalalignment=\"center\",\n",
    "                fontsize=15,\n",
    "            )\n",
    "\n",
    "    nx.draw_networkx_edges(graph_sol, pos, width=2)\n",
    "    labels = nx.get_edge_attributes(graph_sol, \"weight\")\n",
    "    nx.draw_networkx_edge_labels(graph, pos, edge_labels=labels, font_size=12)\n",
    "    nx.draw_networkx_labels(\n",
    "        graph_sol,\n",
    "        pos,\n",
    "        labels={co: co for co in Customers},\n",
    "        font_size=22,\n",
    "        font_color=\"#F4F9E9\",\n",
    "    )\n",
    "\n",
    "    plt.tight_layout()\n",
    "    plt.axis(\"off\")\n",
    "    plt.show()"
   ]
  },
  {
   "cell_type": "markdown",
   "id": "0f07f4cf-c464-4127-bac9-5ffa79137693",
   "metadata": {},
   "source": [
    "Now we can create a quantum circuit using the `synthesize` command and show it"
   ]
  },
  {
   "cell_type": "code",
   "execution_count": null,
   "id": "a8cb1946-703d-46ca-ba06-7692cadbac29",
   "metadata": {
    "pycharm": {
     "name": "#%%\n"
    },
    "tags": []
   },
   "outputs": [],
   "source": [
    "from classiq import show, synthesize\n",
    "\n",
    "qprog = synthesize(qmod)\n",
    "show(qprog)"
   ]
  },
  {
   "cell_type": "markdown",
   "id": "c521b854-3745-4a5c-bd93-c8d893337bf1",
   "metadata": {},
   "source": [
    "We now solve the problem using the generated circuit by using the `execute` method:"
   ]
  },
  {
   "cell_type": "code",
   "execution_count": null,
   "id": "3ab8659a-aef7-4b30-ac47-d096c83df6b4",
   "metadata": {
    "tags": []
   },
   "outputs": [],
   "source": [
    "from classiq import execute\n",
    "\n",
    "res = execute(qprog).result()"
   ]
  },
  {
   "cell_type": "markdown",
   "id": "18dd745f-9798-4b7b-8e52-3ea43f339391",
   "metadata": {},
   "source": [
    "We can check the convergence of the run:"
   ]
  },
  {
   "cell_type": "code",
   "execution_count": null,
   "id": "4b130728-299f-44b6-b738-09b2c781f173",
   "metadata": {
    "tags": []
   },
   "outputs": [],
   "source": [
    "from classiq.execution import VQESolverResult\n",
    "\n",
    "vqe_result = res[1].value\n",
    "vqe_result.convergence_graph"
   ]
  },
  {
   "cell_type": "markdown",
   "id": "63ee5889-2a3a-4cae-8804-e3afcfc2be00",
   "metadata": {},
   "source": [
    "## Optimizer statistics"
   ]
  },
  {
   "cell_type": "code",
   "execution_count": null,
   "id": "02e7222d-0bbc-446f-a92a-ac1637f69830",
   "metadata": {
    "tags": []
   },
   "outputs": [],
   "source": [
    "import pandas as pd\n",
    "\n",
    "optimization_result = pd.DataFrame.from_records(res[0].value)\n",
    "optimization_result.sort_values(by=\"cost\", ascending=True).head(5)"
   ]
  },
  {
   "cell_type": "code",
   "execution_count": null,
   "id": "02a0a251-71cf-4b0d-b248-289b78d744e6",
   "metadata": {
    "tags": []
   },
   "outputs": [],
   "source": [
    "optimization_result.hist(\"cost\", weights=optimization_result[\"probability\"])"
   ]
  },
  {
   "cell_type": "markdown",
   "id": "500bdeb1-4f07-411f-888f-61d61ff2a432",
   "metadata": {
    "tags": []
   },
   "source": [
    "## Best solution"
   ]
  },
  {
   "cell_type": "markdown",
   "id": "68bcb057-0e49-4861-8b2a-6c54bd926eda",
   "metadata": {},
   "source": [
    "We plot the quantum result only if we get the right solution (to avoid problems with printing table and graph)."
   ]
  },
  {
   "cell_type": "code",
   "execution_count": null,
   "id": "da11d871-4f3d-4de2-827f-a3ac9f6f0277",
   "metadata": {
    "tags": []
   },
   "outputs": [],
   "source": [
    "best_solution = optimization_result.loc[optimization_result.cost.idxmin()]\n",
    "\n",
    "plotting_sol(best_solution.solution, best_solution.cost, is_classic=False)"
   ]
  },
  {
   "cell_type": "markdown",
   "id": "8118b194-6180-4481-835a-20abfb231bd2",
   "metadata": {},
   "source": [
    "### Compare to a classical solver"
   ]
  },
  {
   "cell_type": "code",
   "execution_count": null,
   "id": "cae4f9c8-8898-4088-a68a-8f05142fdead",
   "metadata": {
    "tags": []
   },
   "outputs": [],
   "source": [
    "from pyomo.opt import SolverFactory\n",
    "\n",
    "solver = SolverFactory(\"couenne\")\n",
    "solver.solve(pmedian_model)\n",
    "\n",
    "pmedian_model.display()"
   ]
  },
  {
   "cell_type": "code",
   "execution_count": null,
   "id": "8208fe7b-4033-4f96-830d-f81b113ff624",
   "metadata": {
    "tags": []
   },
   "outputs": [],
   "source": [
    "best_classical_solution = np.array(\n",
    "    [pyo.value(pmedian_model.x[idx]) for idx in np.ndindex(d.shape)]\n",
    ").reshape(d.shape)\n",
    "\n",
    "plotting_sol(best_classical_solution, pyo.value(pmedian_model.cost), is_classic=True)"
   ]
  }
 ],
 "metadata": {
  "kernelspec": {
   "display_name": "Python 3 (ipykernel)",
   "language": "python",
   "name": "python3"
  },
  "language_info": {
   "codemirror_mode": {
    "name": "ipython",
    "version": 3
   },
   "file_extension": ".py",
   "mimetype": "text/x-python",
   "name": "python",
   "nbconvert_exporter": "python",
   "pygments_lexer": "ipython3",
   "version": "3.11.4"
  },
  "vscode": {
   "interpreter": {
    "hash": "a07aacdcc8a415e7643a2bc993226848ff70704ebef014f87460de9126b773d0"
   }
  }
 },
 "nbformat": 4,
 "nbformat_minor": 5
}
