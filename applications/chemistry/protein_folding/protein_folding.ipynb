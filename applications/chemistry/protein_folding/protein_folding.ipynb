{
 "cells": [
  {
   "cell_type": "markdown",
   "id": "6f3527c6-f83e-41d4-aae0-935f7d08ad88",
   "metadata": {},
   "source": [
    "# Protein Folding Algorithm\n",
    "\n",
    "Protein folding is the descriptions of a three-dimensional structure of amino-acids chain, arranged in space to become the biologically functional protein.\n",
    "Understanding the structure of protein is highly valuable for various application within medicine.\n",
    "While so, discovering the structure of proteins is an highly intricate problem, as each protein is constructed of a chain of hundreds to thousands amino acids, and the number of configurations is roughly evaluated to be $3^{2(N-1)}$ with N the number of amino acid [1]. The exponential growth of conformations with the chain length N makes the problem very complex for classical computers. For a quantum computer, we algorithm which grows linearly with the number of amino acids N were conceived, as the one simulated hereby.\n",
    "\n",
    "In this demo, we present a method of achieving a folding geometry for a given amino acid sequence. Following paper [2], we create a Pyomo optimization model, and send it to Classiq's Quantum approximated optimization algorithm (QAOA) which finds the configuration with the minimal energy. The results are later visualized and compared to a classical solution."
   ]
  },
  {
   "cell_type": "markdown",
   "id": "b14abd2e-e9a4-4dc4-b44e-947aeb864f21",
   "metadata": {},
   "source": [
    "## 0. Pre-requirments\n",
    "\n",
    "The model is using several Classiq's libraries in addition to basic python tools."
   ]
  },
  {
   "cell_type": "code",
   "execution_count": null,
   "id": "3e3f14af-05d5-45b5-8048-d79165450cd3",
   "metadata": {
    "tags": []
   },
   "outputs": [],
   "source": [
    "import numpy as np\n",
    "import pandas as pd\n",
    "import plotly.graph_objects as go\n",
    "import pyomo.core as pyo\n",
    "from sympy import *"
   ]
  },
  {
   "cell_type": "markdown",
   "id": "8f8991fd-759f-484d-924a-68a649516fb4",
   "metadata": {},
   "source": [
    "## 1. Define the Optimization Problem\n",
    "\n",
    "Follow the paper [2] we created a python pyomo model to describe an optimization problem where a pramatrized cost expression characterise the geometrical configuration of a protein (amino acid sequence).\n",
    "\n",
    "Without too many details, the paper places the protein on a grid of tetrahedral lattice. Each amino acid can be located in any vertex of the lattice, and an index is set to each amino acid. Since each vertex has four neighbours, after locating an index in space, the next location will be set by pointing one of the four directions indicated by an integer $[0,1,2,3]$. In order to do ascribe a direction, we assign each amino acid 2 qubits, thus mapping each index to a direction:\n",
    "$[00] \\rightarrow 0$ ;\n",
    "$[01] \\rightarrow 1$ ;\n",
    "$[10] \\rightarrow 2$ ;\n",
    "$[11] \\rightarrow 3$ .\n",
    "For convenance of the coding, each even and odd index of amino acid, has an opposite meaning in space. I.e., \"0\" will mean \"left\" for odd index, but \"right\" for even index.\n",
    "\n",
    "For Protein of $N$ amino acids, we have $N-1$ directions (or edges). However, since the first two direction only set the orientation of the molecule in space, but do not determine the relative location of the amino acids, we are left with $N-3$ directions (since in thethrader lattice, there is an equal angle between each three vertices, the relations will be the same for the first three regardless of the chosen direction). Thus, the needed number of qubits to describe the directions in the lattice  is $2(N-3)$, and the two first directions are set arbitrarily.\n",
    "\n",
    "Next, we need to set the Hamiltonian, i.e. the cost function that will be sent to minimization. The Hamiltonian consists of two terms: $H_{gc}$ describing geometrical constraints, and $H_{int}$ describing the interactions between the amino acids (the paper also discusses a third, chirality constraint which is only relevant to side chains, which were not considered in the scope of this algorithm):\n",
    "\n",
    "* $H_{gc}$ - prevents two consecutive direction to fold back. Since we used a convention where odd and even index has an opposite meaning in space, it is sufficient to add large penalty term if two consecutive direction are the same.\n",
    "\n",
    "* $H_{int}$ - For the interaction, we define extra qubits, which determine if the interaction is \"turned on\". If so, they add negative (beneficial) energy term $epsilon$, which indicates the interaction between amino acids. $epsilon$ is a nearest neighbor (NN) interaction tern, relevant for distance 1 only, therefore we add a penalty for other distances. Note that currently, we are taking the interaction to be constant value ($epsilon$) regurdless of the type of amino acids interaction. This can be easly modified by insering the Miyazawa & Jernigan table [3].\n",
    "\n",
    "Since it is trivial that following amino acid in the sequence will be nearest neighbors its irrelevant to calculate the contributing energy from such interaction (it will add a constant number regardless of the qubit’s value). In fact, due to the structure of the tetrahedral lattice, only amino acids further than 5 in the sequence might have non-trivial interaction. Thus, the number of possible interactions (and thus the number of interaction qubits) is (N-5)*(N-4)/2 (calculated via arithmetic progression).\n",
    "\n",
    "In addition, we prevent folding back into the chain, while encouraging distance 1 interactions, by making sure that the indices following the two interacting amino acids, do not overlaps with the interacting amino acid themselves. In other words,  for NN $(i,j)$,  {i-1,i+1} must be at distance 2 (else, they will be at distance 0, i.e. overlapping). To account for that, a penalty is added to the interaction term."
   ]
  },
  {
   "cell_type": "code",
   "execution_count": null,
   "id": "f0168ddf-cbe2-430c-a429-41e6d4677201",
   "metadata": {
    "tags": []
   },
   "outputs": [],
   "source": [
    "def folding_hamiltonian(main_chain: str) -> pyo.ConcreteModel:\n",
    "    model = pyo.ConcreteModel(\"protein_folding\")\n",
    "    N = len(main_chain)  # number of amino acids\n",
    "\n",
    "    # Calc number of possible interactions:\n",
    "    Ninteraction = 0\n",
    "    if N > 5:\n",
    "        Ninteraction = int((N - 5) * (N - 4) / 2)\n",
    "\n",
    "    # Define the variables:\n",
    "    model.f = pyo.Var(range(2 * (N - 3)), domain=pyo.Binary)\n",
    "    model.interaction = pyo.Var(range(Ninteraction), domain=pyo.Binary)\n",
    "    f_array = np.array(list(model.f.values()))\n",
    "    interaction_array = np.array(list(model.interaction.values()))\n",
    "\n",
    "    # Setting the two locations:\n",
    "    a = np.array([1, 0, 0, 1])\n",
    "    full_f_array = np.append(a, f_array)\n",
    "\n",
    "    # Define Hgc:\n",
    "    T = lambda i, j: (1 - (full_f_array[2 * i] - full_f_array[2 * j]) ** 2) * (\n",
    "        1 - (full_f_array[2 * i + 1] - full_f_array[2 * j + 1]) ** 2\n",
    "    )\n",
    "    L = 500\n",
    "    model.Hgc = 0\n",
    "    for i in range(N - 2):\n",
    "        model.Hgc = model.Hgc + L * T(\n",
    "            i, i + 1\n",
    "        )  # adds panelty if two consecutive index has the opposite direction\n",
    "\n",
    "    # convert {0,1}^2 to 4 functions, each giving 1 for one vector and 0 for the others:\n",
    "    fun0 = lambda i, j: (1 - full_f_array[i]) * (1 - full_f_array[j])\n",
    "    fun1 = lambda i, j: full_f_array[i] * (1 - full_f_array[j])\n",
    "    fun2 = lambda i, j: full_f_array[j] * (1 - full_f_array[i])\n",
    "    fun3 = lambda i, j: full_f_array[i] * full_f_array[j]\n",
    "\n",
    "    # calculate distance between i,j amino acids:\n",
    "    d_units_0 = lambda i, j: sum(\n",
    "        [((-1) ** k) * fun0(2 * k, 2 * k + 1) for k in range(i, j, 1)]\n",
    "    )\n",
    "    d_units_1 = lambda i, j: sum(\n",
    "        [((-1) ** k) * fun1(2 * k, 2 * k + 1) for k in range(i, j, 1)]\n",
    "    )\n",
    "    d_units_2 = lambda i, j: sum(\n",
    "        [((-1) ** k) * fun2(2 * k, 2 * k + 1) for k in range(i, j, 1)]\n",
    "    )\n",
    "    d_units_3 = lambda i, j: sum(\n",
    "        [((-1) ** k) * fun3(2 * k, 2 * k + 1) for k in range(i, j, 1)]\n",
    "    )\n",
    "    d = lambda i, j: (\n",
    "        (d_units_0(i, j)) ** 2\n",
    "        + (d_units_1(i, j)) ** 2\n",
    "        + (d_units_2(i, j)) ** 2\n",
    "        + (d_units_3(i, j)) ** 2\n",
    "    )\n",
    "\n",
    "    # define Hint:\n",
    "    epsilon = -5000\n",
    "    L2 = 300\n",
    "    L1 = 500\n",
    "    h = lambda i, j: interaction_array[\n",
    "        sum([N - 5 - k for k in range(0, i + 1, 1)]) - (N - j)\n",
    "    ] * (\n",
    "        epsilon\n",
    "        + L1 * (d(i, j) - 1) ** 2\n",
    "        + L2\n",
    "        * (\n",
    "            (2 - d(j - 1, i)) ** 2\n",
    "            + (2 - d(j + 1, i)) ** 2\n",
    "            + (2 - d(i - 1, j)) ** 2\n",
    "            + (2 - d(i + 1, j)) ** 2\n",
    "        )\n",
    "    )\n",
    "    model.Hint = 0\n",
    "    for i in range(N - 5):\n",
    "        j = i + 5\n",
    "        while j < N:\n",
    "            model.Hint = model.Hint + h(i, j)\n",
    "            j = j + 1\n",
    "\n",
    "    # setting the objective:\n",
    "    model.cost = pyo.Objective(expr=model.Hint + model.Hgc, sense=pyo.minimize)\n",
    "\n",
    "    return model"
   ]
  },
  {
   "cell_type": "markdown",
   "id": "4dd25098-1db7-4652-8ba0-d2d57252f3d2",
   "metadata": {},
   "source": [
    "## 2. Create your Protein Sequance\n",
    "The user defines the amino acid sequance as a string, which is sent to the `folding_hamiltonian()` function in order to create an optimization model for the sequance."
   ]
  },
  {
   "cell_type": "code",
   "execution_count": null,
   "id": "050be8de-01c2-4cd3-bf45-a5760205673a",
   "metadata": {
    "tags": []
   },
   "outputs": [],
   "source": [
    "my_protein = \"ABCDEF\"  # ABCDEFG\"\n",
    "protein_model = folding_hamiltonian(my_protein)"
   ]
  },
  {
   "cell_type": "markdown",
   "id": "918c08a7-0eb8-490a-9d0b-14e711caff33",
   "metadata": {},
   "source": [
    "## 3. Optimize Using to Quantum Optimization Algorithm\n",
    "\n",
    "We will now create a QAOA model for the optimization problem. The results of the model is the sequance of qubit values giving the minimized energy for the protein. In order to optimize the results, we recommend the user to explore the number of repatitions for the model (`num_layers`) and the number of iterations for the optimizer (`max_iteration`)."
   ]
  },
  {
   "cell_type": "code",
   "execution_count": null,
   "id": "ab51bfe3-6678-4e5a-bbeb-a1f77d13e439",
   "metadata": {
    "tags": []
   },
   "outputs": [],
   "source": [
    "from classiq import construct_combinatorial_optimization_model\n",
    "from classiq.applications.combinatorial_optimization import OptimizerConfig, QAOAConfig\n",
    "\n",
    "qaoa_config = QAOAConfig(num_layers=5)\n",
    "\n",
    "optimizer_config = OptimizerConfig(\n",
    "    max_iteration=100,\n",
    "    alpha_cvar=0.7,\n",
    ")\n",
    "\n",
    "qmod = construct_combinatorial_optimization_model(\n",
    "    pyo_model=protein_model,\n",
    "    qaoa_config=qaoa_config,\n",
    "    optimizer_config=optimizer_config,\n",
    ")"
   ]
  },
  {
   "cell_type": "markdown",
   "id": "0793f1a5-4efd-4fb8-8c2d-4518b6fac00d",
   "metadata": {},
   "source": [
    "We also set the quantum backend we want to execute on:"
   ]
  },
  {
   "cell_type": "code",
   "execution_count": null,
   "id": "39bbd2f6-3aeb-4844-8143-ef639fdb5f22",
   "metadata": {
    "tags": []
   },
   "outputs": [],
   "source": [
    "from classiq import set_execution_preferences\n",
    "from classiq.execution import ClassiqBackendPreferences, ExecutionPreferences\n",
    "\n",
    "backend_preferences = ExecutionPreferences(\n",
    "    backend_preferences=ClassiqBackendPreferences(backend_name=\"aer_simulator\")\n",
    ")\n",
    "\n",
    "qmod = set_execution_preferences(qmod, backend_preferences)"
   ]
  },
  {
   "cell_type": "code",
   "execution_count": null,
   "id": "f27ef260-7d45-49b6-9a1b-8b321125af2a",
   "metadata": {},
   "outputs": [],
   "source": [
    "with open(\"protein_folding.qmod\", \"w\") as f:\n",
    "    f.write(qmod)"
   ]
  },
  {
   "cell_type": "markdown",
   "id": "3b05f8f5-705d-4aa4-8737-5cc38ffa843e",
   "metadata": {},
   "source": [
    "Now we can create a quantum circuit using the `synthesize` command and show it"
   ]
  },
  {
   "cell_type": "code",
   "execution_count": null,
   "id": "161ef9d0-83d6-4ffc-b05a-e444e4c956ff",
   "metadata": {
    "pycharm": {
     "name": "#%%\n"
    },
    "tags": []
   },
   "outputs": [],
   "source": [
    "from classiq import show, synthesize\n",
    "\n",
    "qprog = synthesize(qmod)\n",
    "show(qprog)"
   ]
  },
  {
   "cell_type": "markdown",
   "id": "fd7e7f4a-388d-4ef1-90e5-029db6909f0c",
   "metadata": {},
   "source": [
    "We now solve the problem using the generated circuit by using the `execute` method:"
   ]
  },
  {
   "cell_type": "code",
   "execution_count": null,
   "id": "9b9935cf-ed32-40db-9866-7e8a43945950",
   "metadata": {
    "tags": []
   },
   "outputs": [],
   "source": [
    "from classiq import execute\n",
    "\n",
    "res = execute(qprog).result()"
   ]
  },
  {
   "cell_type": "markdown",
   "id": "349dfe2e-e469-4f6e-a421-12fe1ba61e1a",
   "metadata": {},
   "source": [
    "We can check the convergence of the run:"
   ]
  },
  {
   "cell_type": "code",
   "execution_count": null,
   "id": "f48d9e64-211d-4615-b948-137e72c6558d",
   "metadata": {
    "tags": []
   },
   "outputs": [],
   "source": [
    "from classiq.execution import VQESolverResult\n",
    "\n",
    "vqe_result = res[1].value\n",
    "vqe_result.convergence_graph"
   ]
  },
  {
   "cell_type": "markdown",
   "id": "b962f156-8080-4536-952f-63603d15e2f7",
   "metadata": {},
   "source": [
    "## 4. Present Quantum Results\n",
    "\n",
    "We hereby present the optimization results. Since this is a quantum solution with probablistic results, there is a defined probability to each results (presented by an histogram), where the solution is chosen to be the most probable one. Below, we translate the solution in terms of qubits, to location in space of the amino acids, thus creating a sketch of the protein folding for the sequence."
   ]
  },
  {
   "cell_type": "code",
   "execution_count": null,
   "id": "60c1710b-fc69-4866-aaa4-dddc8827e899",
   "metadata": {
    "tags": []
   },
   "outputs": [],
   "source": [
    "import pandas as pd\n",
    "\n",
    "optimization_result = pd.DataFrame.from_records(res[0].value)\n",
    "optimization_result.sort_values(by=\"cost\", ascending=True).head(5)"
   ]
  },
  {
   "cell_type": "code",
   "execution_count": null,
   "id": "6b50045b-3a84-4f70-a417-a321ca938869",
   "metadata": {
    "tags": []
   },
   "outputs": [],
   "source": [
    "optimization_result.hist(\"cost\", weights=optimization_result[\"probability\"])"
   ]
  },
  {
   "cell_type": "code",
   "execution_count": null,
   "id": "304ed28b-ab09-4a70-9c9b-e6985cb4dbc3",
   "metadata": {
    "tags": []
   },
   "outputs": [],
   "source": [
    "best_solution = optimization_result.solution[optimization_result.cost.idxmin()]\n",
    "\n",
    "a = np.array([1, 0, 0, 1])\n",
    "N = len(my_protein)\n",
    "R = np.append(a, list(best_solution[0 : 2 * (N - 3)]))\n",
    "\n",
    "x = [0]\n",
    "y = [0]\n",
    "z = [0]\n",
    "for i in range(N - 1):\n",
    "    if (1 - R[2 * i]) * (1 - R[2 * i + 1]) == 1:\n",
    "        x.append(x[i] + (-1) ** (i + 1))\n",
    "        y.append(y[i] + (-1) ** (i))\n",
    "        z.append(z[i] + (-1) ** (i + 1))\n",
    "    if R[2 * i] * (1 - R[2 * i + 1]) == 1:\n",
    "        x.append(x[i] + (-1) ** (i + 1))\n",
    "        y.append(y[i] + (-1) ** (i + 1))\n",
    "        z.append(z[i] + (-1) ** (i))\n",
    "    if R[2 * i + 1] * (1 - R[2 * i]) == 1:\n",
    "        x.append(x[i] + (-1) ** (i))\n",
    "        y.append(y[i] + (-1) ** (i + 1))\n",
    "        z.append(z[i] + (-1) ** (i + 1))\n",
    "    if R[2 * i] * R[2 * i + 1] == 1:\n",
    "        x.append(x[i] + (-1) ** (i))\n",
    "        y.append(y[i] + (-1) ** (i))\n",
    "        z.append(z[i] + (-1) ** (i))\n",
    "\n",
    "fig = go.Figure(data=[go.Scatter3d(x=x, y=y, z=z)])\n",
    "fig.update_scenes(xaxis_visible=False, yaxis_visible=False, zaxis_visible=False)\n",
    "fig.show()"
   ]
  },
  {
   "cell_type": "markdown",
   "id": "008bc051-0032-4852-97cd-8fb8ad158c31",
   "metadata": {},
   "source": [
    "## 5. Compare to Classical Results\n",
    "This section solves the optimization model for the defined amino squance by classical optimization, and presents the results, in order to compare to our QAOA performance. Mismatch of the classical and quantum solution might indicate the need to tune the QAOA parameters."
   ]
  },
  {
   "cell_type": "code",
   "execution_count": null,
   "id": "2697bed1-ee01-465d-8b7c-547afc1ecd42",
   "metadata": {
    "tags": []
   },
   "outputs": [],
   "source": [
    "from pyomo.opt import SolverFactory\n",
    "\n",
    "solver = SolverFactory(\"couenne\")\n",
    "solver.solve(protein_model)\n",
    "\n",
    "protein_model.display()"
   ]
  },
  {
   "cell_type": "code",
   "execution_count": null,
   "id": "e254fc0d-83b2-4b4f-b0b7-e710a952cb11",
   "metadata": {
    "tags": []
   },
   "outputs": [],
   "source": [
    "best_classical_solution = [pyo.value(protein_model.f[i]) for i in range(2 * (N - 3))]\n",
    "\n",
    "a = np.array([1, 0, 0, 1])\n",
    "N = len(my_protein)\n",
    "R_c = np.append(a, best_classical_solution)\n",
    "\n",
    "x = [0]\n",
    "y = [0]\n",
    "z = [0]\n",
    "for i in range(N - 1):\n",
    "    if (1 - R_c[2 * i]) * (1 - R_c[2 * i + 1]) == 1:\n",
    "        x.append(x[i] + (-1) ** (i + 1))\n",
    "        y.append(y[i] + (-1) ** (i))\n",
    "        z.append(z[i] + (-1) ** (i + 1))\n",
    "    if R_c[2 * i] * (1 - R_c[2 * i + 1]) == 1:\n",
    "        x.append(x[i] + (-1) ** (i + 1))\n",
    "        y.append(y[i] + (-1) ** (i + 1))\n",
    "        z.append(z[i] + (-1) ** (i))\n",
    "    if R_c[2 * i + 1] * (1 - R_c[2 * i]) == 1:\n",
    "        x.append(x[i] + (-1) ** (i))\n",
    "        y.append(y[i] + (-1) ** (i + 1))\n",
    "        z.append(z[i] + (-1) ** (i + 1))\n",
    "    if R_c[2 * i] * R_c[2 * i + 1] == 1:\n",
    "        x.append(x[i] + (-1) ** (i))\n",
    "        y.append(y[i] + (-1) ** (i))\n",
    "        z.append(z[i] + (-1) ** (i))\n",
    "\n",
    "fig = go.Figure(data=[go.Scatter3d(x=x, y=y, z=z)])\n",
    "fig.update_scenes(xaxis_visible=False, yaxis_visible=False, zaxis_visible=False)\n",
    "fig.show()"
   ]
  },
  {
   "cell_type": "markdown",
   "id": "3eebbb0b-33ee-4075-ab5b-9323ce413bb1",
   "metadata": {},
   "source": [
    "## References\n",
    "[1] Levinthal's paradox https://en.wikipedia.org/wiki/Levinthal%27s_paradox\n",
    "\n",
    "[2] Robert, Anton, Panagiotis Kl Barkoutsos, Stefan Woerner, and Ivano Tavernelli. \"Resource-efficient quantum algorithm for protein folding.\" npj Quantum Information 7, no. 1 (2021): 1-5.\n",
    "\n",
    "[3] Miyazawa, S. & Jernigan, R. L. Residue-residue potentials with a favorable contact\n",
    "pair term and an unfavorable high packing density term, for simulation and\n",
    "threading. J. Mol. Biol. 256, 623–644 (1996)."
   ]
  }
 ],
 "metadata": {
  "kernelspec": {
   "display_name": "Python 3 (ipykernel)",
   "language": "python",
   "name": "python3"
  },
  "language_info": {
   "codemirror_mode": {
    "name": "ipython",
    "version": 3
   },
   "file_extension": ".py",
   "mimetype": "text/x-python",
   "name": "python",
   "nbconvert_exporter": "python",
   "pygments_lexer": "ipython3",
   "version": "3.11.4"
  },
  "vscode": {
   "interpreter": {
    "hash": "a07aacdcc8a415e7643a2bc993226848ff70704ebef014f87460de9126b773d0"
   }
  }
 },
 "nbformat": 4,
 "nbformat_minor": 5
}
