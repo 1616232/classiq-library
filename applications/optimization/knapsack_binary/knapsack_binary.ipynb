{
 "cells": [
  {
   "cell_type": "markdown",
   "id": "13d83b59-57f7-48ee-8bff-deda7d28edc5",
   "metadata": {
    "tags": []
   },
   "source": [
    "\n",
    "# Binary Knapsack\n"
   ]
  },
  {
   "cell_type": "markdown",
   "id": "6d56bb6d-9f3b-45db-8e98-b50f27af7505",
   "metadata": {},
   "source": [
    "## Background\n",
    "\n",
    "Given a set of items, determine how many items to put in the knapsack to maximize their summed value.\n",
    "\n",
    "#### Define:\n",
    "\n",
    "- $x_i$ is the number of items from each type.\n",
    "\n",
    "- $v_i$ is the value of each item.\n",
    "\n",
    "- $w_i$ is the weight of each item.\n",
    "\n",
    "- $D$ is the range of $x$.\n",
    "\n",
    "Find $x$ that maximizes the value: $\\begin{aligned}\n",
    "\\max_{x_i \\in D} \\Sigma_i v_i x_i\\\\\n",
    "\\end{aligned}$\n",
    "\n",
    "and constrained by the weight: $\\begin{aligned}\n",
    "\\Sigma_i w_i x_i = C\n",
    "\\end{aligned}$\n",
    "\n",
    "## Problem Versions\n",
    "\n",
    "**Binary Knapsack**\n",
    "\n",
    "Range: $D = \\{0, 1\\}$\n",
    "\n",
    "**Integer Knapsack**\n",
    "\n",
    "Range: $D = [0, b]$\n"
   ]
  },
  {
   "cell_type": "markdown",
   "id": "fdbcef63-3c8e-4f0a-a4fb-9058807fa3a8",
   "metadata": {
    "tags": []
   },
   "source": [
    "## Knapsack with binary variables and equality constraint\n"
   ]
  },
  {
   "cell_type": "markdown",
   "id": "0bdc4e6a-199b-44b3-bd3f-fd24722b616b",
   "metadata": {},
   "source": [
    "### Define the optimization problem"
   ]
  },
  {
   "cell_type": "code",
   "execution_count": null,
   "id": "83ddbd07-f7ab-4d80-b357-3890622d395f",
   "metadata": {
    "tags": []
   },
   "outputs": [],
   "source": [
    "import numpy as np\n",
    "import pyomo.environ as pyo\n",
    "\n",
    "\n",
    "def define_knapsack_model(weights, values, max_weight):\n",
    "    model = pyo.ConcreteModel()\n",
    "    num_items = len(weights)\n",
    "\n",
    "    model.x = pyo.Var(range(num_items), domain=pyo.Binary)\n",
    "\n",
    "    x_variables = np.array(list(model.x.values()))\n",
    "\n",
    "    model.weight_constraint = pyo.Constraint(expr=x_variables @ weights == max_weight)\n",
    "\n",
    "    model.value = pyo.Objective(expr=x_variables @ values, sense=pyo.maximize)\n",
    "\n",
    "    return model"
   ]
  },
  {
   "cell_type": "markdown",
   "id": "3496c5d6-7df6-49fb-b5b9-5ba48d2b7d62",
   "metadata": {},
   "source": [
    "### Initialize the model with parameters"
   ]
  },
  {
   "cell_type": "code",
   "execution_count": null,
   "id": "62a98e1c-5dbe-42f9-989e-83ee1df7196b",
   "metadata": {
    "tags": []
   },
   "outputs": [],
   "source": [
    "knapsack_model = define_knapsack_model(\n",
    "    weights=[2, 3, 2.1, 1, 1, 2], values=[3, 5, 2, 1.5, 1.2, 2.7], max_weight=5\n",
    ")"
   ]
  },
  {
   "cell_type": "markdown",
   "id": "c78b22a0-9420-44bf-a60d-a7ce136dcaaf",
   "metadata": {
    "tags": []
   },
   "source": [
    "## Setting Up the Classiq Problem Instance\n",
    "\n",
    "In order to solve the Pyomo model defined above, we use the Classiq combinatorial optimization engine. For the quantum part of the QAOA algorithm (`QAOAConfig`) - define the number of repetitions (`num_layers`):"
   ]
  },
  {
   "cell_type": "code",
   "execution_count": null,
   "id": "947293d1-ac9d-41aa-a162-f60ee16608dd",
   "metadata": {
    "tags": []
   },
   "outputs": [],
   "source": [
    "from classiq import construct_combinatorial_optimization_model\n",
    "from classiq.applications.combinatorial_optimization import OptimizerConfig, QAOAConfig\n",
    "\n",
    "qaoa_config = QAOAConfig(num_layers=5)"
   ]
  },
  {
   "cell_type": "markdown",
   "id": "fdfcb551-77c3-40f4-a54e-4231c7775f19",
   "metadata": {},
   "source": [
    "For the classical optimization part of the QAOA algorithm we define the maximum number of classical iterations (`max_iteration`) and the $\\alpha$-parameter (`alpha_cvar`) for running CVaR-QAOA, an improved variation of the QAOA algorithm [[3](#cvar)]:"
   ]
  },
  {
   "cell_type": "code",
   "execution_count": null,
   "id": "311e4855-403b-4f3d-a64e-7147be629470",
   "metadata": {
    "pycharm": {
     "name": "#%%\n"
    },
    "tags": []
   },
   "outputs": [],
   "source": [
    "optimizer_config = OptimizerConfig(max_iteration=60, alpha_cvar=0.7)"
   ]
  },
  {
   "cell_type": "markdown",
   "id": "0f153f82-829a-44df-98c3-47f693d984df",
   "metadata": {},
   "source": [
    "Lastly, we load the model, based on the problem and algorithm parameters, which we can use to solve the problem:"
   ]
  },
  {
   "cell_type": "code",
   "execution_count": null,
   "id": "fb32b921-1a7d-4c79-9cb0-6993b0eb6b6c",
   "metadata": {
    "pycharm": {
     "name": "#%%\n"
    },
    "tags": []
   },
   "outputs": [],
   "source": [
    "qmod = construct_combinatorial_optimization_model(\n",
    "    pyo_model=knapsack_model,\n",
    "    qaoa_config=qaoa_config,\n",
    "    optimizer_config=optimizer_config,\n",
    ")"
   ]
  },
  {
   "cell_type": "markdown",
   "id": "78d21bb2-0ac5-471e-a1c9-fb77df0400e7",
   "metadata": {},
   "source": [
    "We also set the quantum backend we want to execute on:"
   ]
  },
  {
   "cell_type": "code",
   "execution_count": null,
   "id": "cc69a9e9-38d5-4c91-93dd-ad43bab0ca6d",
   "metadata": {
    "tags": []
   },
   "outputs": [],
   "source": [
    "from classiq import set_execution_preferences\n",
    "from classiq.execution import ClassiqBackendPreferences, ExecutionPreferences\n",
    "\n",
    "backend_preferences = ExecutionPreferences(\n",
    "    backend_preferences=ClassiqBackendPreferences(backend_name=\"aer_simulator\")\n",
    ")\n",
    "\n",
    "qmod = set_execution_preferences(qmod, backend_preferences)"
   ]
  },
  {
   "cell_type": "code",
   "execution_count": null,
   "id": "a0ee5250-26c9-4329-a69e-d8075d05ebc6",
   "metadata": {},
   "outputs": [],
   "source": [
    "with open(\"knapsack_binary.qmod\", \"w\") as f:\n",
    "    f.write(qmod)"
   ]
  },
  {
   "cell_type": "markdown",
   "id": "1a47c1c9-1b39-4c3a-b291-7e2082fb592e",
   "metadata": {},
   "source": [
    "## Synthesizing the QAOA Circuit and Solving the Problem\n",
    "\n",
    "We can now synthesize and view the QAOA circuit (ansatz) used to solve the optimization problem:"
   ]
  },
  {
   "cell_type": "code",
   "execution_count": null,
   "id": "10f219ca-2836-4573-9764-70f39b685fca",
   "metadata": {
    "pycharm": {
     "name": "#%%\n"
    },
    "tags": []
   },
   "outputs": [],
   "source": [
    "from classiq import show, synthesize\n",
    "\n",
    "qprog = synthesize(qmod)\n",
    "show(qprog)"
   ]
  },
  {
   "cell_type": "markdown",
   "id": "ce31eb36-c7df-4a0d-9e89-5ef477cc1a8c",
   "metadata": {},
   "source": [
    "We now solve the problem using the generated circuit by using the `execute` method:"
   ]
  },
  {
   "cell_type": "code",
   "execution_count": null,
   "id": "c862d5d4-6d4a-4251-a0e1-d2d55b3a37f3",
   "metadata": {
    "tags": []
   },
   "outputs": [],
   "source": [
    "from classiq import execute\n",
    "\n",
    "res = execute(qprog).result()"
   ]
  },
  {
   "cell_type": "markdown",
   "id": "d2da3c33-14fe-42c3-ac39-6d4e412ceb74",
   "metadata": {},
   "source": [
    "We can check the convergence of the run:"
   ]
  },
  {
   "cell_type": "code",
   "execution_count": null,
   "id": "9172ab29-cfd7-4451-a992-02e50e2ec0ff",
   "metadata": {
    "tags": []
   },
   "outputs": [],
   "source": [
    "from classiq.execution import VQESolverResult\n",
    "\n",
    "vqe_result = res[1].value\n",
    "vqe_result.convergence_graph"
   ]
  },
  {
   "cell_type": "markdown",
   "id": "2d1824ea-80be-4f20-b7ce-d4836483c33f",
   "metadata": {
    "tags": []
   },
   "source": [
    "# Optimization Results"
   ]
  },
  {
   "cell_type": "markdown",
   "id": "2736d59a-20db-4d26-9880-affa35b1e4ef",
   "metadata": {},
   "source": [
    "We can also examine the statistics of the algorithm:"
   ]
  },
  {
   "cell_type": "code",
   "execution_count": null,
   "id": "8b90f0c5-da3a-467e-be89-509ce00ccaea",
   "metadata": {
    "tags": []
   },
   "outputs": [],
   "source": [
    "import pandas as pd\n",
    "\n",
    "optimization_result = pd.DataFrame.from_records(res[0].value)\n",
    "optimization_result.sort_values(by=\"cost\", ascending=False).head(5)"
   ]
  },
  {
   "cell_type": "markdown",
   "id": "b5c79c0e-6be3-4a27-97dd-3da93dbae5e6",
   "metadata": {},
   "source": [
    "And the histogram:"
   ]
  },
  {
   "cell_type": "code",
   "execution_count": null,
   "id": "2709135d-366d-4f27-8eff-4dd28a4545e5",
   "metadata": {
    "tags": []
   },
   "outputs": [],
   "source": [
    "optimization_result.hist(\"cost\", weights=optimization_result[\"probability\"])"
   ]
  },
  {
   "cell_type": "markdown",
   "id": "2004e2d2-bcdb-43f8-b068-b8cf5b2beb95",
   "metadata": {},
   "source": [
    "Lastly, we can compare to the classical solution of the problem:"
   ]
  },
  {
   "cell_type": "code",
   "execution_count": null,
   "id": "777c97cb-00c6-46e5-a145-a22f511d66c0",
   "metadata": {
    "pycharm": {
     "name": "#%%\n"
    },
    "tags": []
   },
   "outputs": [],
   "source": [
    "from pyomo.opt import SolverFactory\n",
    "\n",
    "solver = SolverFactory(\"couenne\")\n",
    "solver.solve(knapsack_model)\n",
    "\n",
    "knapsack_model.display()"
   ]
  }
 ],
 "metadata": {
  "kernelspec": {
   "display_name": "Python 3 (ipykernel)",
   "language": "python",
   "name": "python3"
  },
  "language_info": {
   "codemirror_mode": {
    "name": "ipython",
    "version": 3
   },
   "file_extension": ".py",
   "mimetype": "text/x-python",
   "name": "python",
   "nbconvert_exporter": "python",
   "pygments_lexer": "ipython3",
   "version": "3.8.13"
  },
  "vscode": {
   "interpreter": {
    "hash": "a07aacdcc8a415e7643a2bc993226848ff70704ebef014f87460de9126b773d0"
   }
  }
 },
 "nbformat": 4,
 "nbformat_minor": 5
}
