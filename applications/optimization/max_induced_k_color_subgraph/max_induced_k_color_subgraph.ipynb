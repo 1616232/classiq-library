{
 "cells": [
  {
   "cell_type": "markdown",
   "id": "13d83b59-57f7-48ee-8bff-deda7d28edc5",
   "metadata": {
    "tags": []
   },
   "source": [
    "\n",
    "# Max Colorable Induced Subgraph Problem\n",
    "\n"
   ]
  },
  {
   "cell_type": "markdown",
   "id": "7a1e6d16-3076-4e94-a090-2ee17af45290",
   "metadata": {
    "tags": []
   },
   "source": [
    "## Background\n",
    "\n",
    "Given a graph $G = (V,E)$ and number of colors K, find the **largest induced subgraph that can be colored using up to K colors**.\n",
    "\n",
    "A coloring is legal if:\n",
    "\n",
    "- each vetrex ${v_i}$ is assigned with a color $k_i \\in \\{0, 1, ..., k-1\\}$\n",
    "- adajecnt vertex have different colors: for each $v_i, v_j$ such that $(v_i, v_j) \\in E$, $k_i \\neq k_j$.\n",
    "\n",
    "An induced subgraph of a graph $G = (V,E)$ is a graph $G'=(V', E')$ such that $V'\\subset V$ and $E' = \\{(v_1, v_2) \\in E\\ |\\ v_1, v_2 \\in V'\\}$.\n"
   ]
  },
  {
   "cell_type": "markdown",
   "id": "fff84f7d-4c7b-4604-8a4e-8d6394985670",
   "metadata": {},
   "source": [
    "### Necessary Packages\n",
    "\n",
    "In this demo, besides the `classiq` package, we'll use the following packages:"
   ]
  },
  {
   "cell_type": "code",
   "execution_count": null,
   "id": "fb15ccf9-b714-4e46-85c4-b2281dd6f2a3",
   "metadata": {
    "tags": []
   },
   "outputs": [],
   "source": [
    "! pip install 'networkx[default]'\n",
    "! pip install pyomo\n",
    "! pip install matplotlib"
   ]
  },
  {
   "cell_type": "markdown",
   "id": "0bdc4e6a-199b-44b3-bd3f-fd24722b616b",
   "metadata": {},
   "source": [
    "## Define the optimization problem"
   ]
  },
  {
   "cell_type": "code",
   "execution_count": null,
   "id": "83ddbd07-f7ab-4d80-b357-3890622d395f",
   "metadata": {
    "tags": []
   },
   "outputs": [],
   "source": [
    "import networkx as nx\n",
    "import numpy as np\n",
    "import pyomo.environ as pyo\n",
    "\n",
    "\n",
    "def define_max_k_colorable_model(graph, K):\n",
    "    model = pyo.ConcreteModel()\n",
    "\n",
    "    nodes = list(graph.nodes())\n",
    "    colors = range(0, K)\n",
    "\n",
    "    # each x_i states if node i belongs to the cliques\n",
    "    model.x = pyo.Var(colors, nodes, domain=pyo.Binary)\n",
    "    x_variables = np.array(list(model.x.values()))\n",
    "\n",
    "    adjacency_matrix = nx.convert_matrix.to_numpy_array(graph, nonedge=0)\n",
    "    adjacency_matrix_block_diagonal = np.kron(np.eye(K), adjacency_matrix)\n",
    "\n",
    "    # constraint that 2 nodes sharing an edge mustn't have the same color\n",
    "    model.conflicting_color_constraint = pyo.Constraint(\n",
    "        expr=x_variables @ adjacency_matrix_block_diagonal @ x_variables == 0\n",
    "    )\n",
    "\n",
    "    # each node should be colored\n",
    "    @model.Constraint(nodes)\n",
    "    def each_node_is_colored_once_or_zero(model, node):\n",
    "        return sum(model.x[color, node] for color in colors) <= 1\n",
    "\n",
    "    def is_node_colored(node):\n",
    "        is_colored = np.prod([(1 - model.x[color, node]) for color in colors])\n",
    "        return 1 - is_colored\n",
    "\n",
    "    # maximize the number of nodes in the chosen clique\n",
    "    model.value = pyo.Objective(\n",
    "        expr=sum(is_node_colored(node) for node in nodes), sense=pyo.maximize\n",
    "    )\n",
    "\n",
    "    return model"
   ]
  },
  {
   "cell_type": "markdown",
   "id": "3496c5d6-7df6-49fb-b5b9-5ba48d2b7d62",
   "metadata": {},
   "source": [
    "### Initialize the model with parameters"
   ]
  },
  {
   "cell_type": "code",
   "execution_count": null,
   "id": "bc9871c1-224e-4206-b39e-af7e448aca70",
   "metadata": {
    "tags": []
   },
   "outputs": [],
   "source": [
    "graph = nx.erdos_renyi_graph(6, 0.5, seed=7)\n",
    "nx.draw_kamada_kawai(graph, with_labels=True)\n",
    "\n",
    "NUM_COLORS = 2\n",
    "\n",
    "coloring_model = define_max_k_colorable_model(graph, NUM_COLORS)"
   ]
  },
  {
   "cell_type": "markdown",
   "id": "958deac9-b057-485e-bea0-52b95664ae6b",
   "metadata": {},
   "source": [
    "### print the resulting pyomo model"
   ]
  },
  {
   "cell_type": "code",
   "execution_count": null,
   "id": "e5ba50c9-5d89-4ebf-9475-830da3ce5539",
   "metadata": {
    "tags": []
   },
   "outputs": [],
   "source": [
    "coloring_model.pprint()"
   ]
  },
  {
   "cell_type": "markdown",
   "id": "8a108c16-e77f-4dc5-89f1-4cbbed06bff5",
   "metadata": {
    "tags": []
   },
   "source": [
    "## Setting Up the Classiq Problem Instance\n",
    "\n",
    "In order to solve the Pyomo model defined above, we use the Classiq combinatorial optimization engine. For the quantum part of the QAOA algorithm (`QAOAConfig`) - define the number of repetitions (`num_layers`):"
   ]
  },
  {
   "cell_type": "code",
   "execution_count": null,
   "id": "6d1db79c-4d99-49a8-9347-5d6ad67353e3",
   "metadata": {
    "tags": []
   },
   "outputs": [],
   "source": [
    "from classiq import construct_combinatorial_optimization_model\n",
    "from classiq.applications.combinatorial_optimization import OptimizerConfig, QAOAConfig\n",
    "\n",
    "qaoa_config = QAOAConfig(num_layers=8)"
   ]
  },
  {
   "cell_type": "markdown",
   "id": "3ed22929-18cf-47e6-9c2a-ad635365a48a",
   "metadata": {},
   "source": [
    "For the classical optimization part of the QAOA algorithm we define the maximum number of classical iterations (`max_iteration`) and the $\\alpha$-parameter (`alpha_cvar`) for running CVaR-QAOA, an improved variation of the QAOA algorithm [[3](#cvar)]:"
   ]
  },
  {
   "cell_type": "code",
   "execution_count": null,
   "id": "13247459-f1c8-48cf-83f0-f13eb66365ca",
   "metadata": {
    "pycharm": {
     "name": "#%%\n"
    },
    "tags": []
   },
   "outputs": [],
   "source": [
    "optimizer_config = OptimizerConfig(max_iteration=20, alpha_cvar=0.7)"
   ]
  },
  {
   "cell_type": "markdown",
   "id": "31c98d00-ed27-4eb9-86c3-580825ac9677",
   "metadata": {},
   "source": [
    "Lastly, we load the model, based on the problem and algorithm parameters, which we can use to solve the problem:"
   ]
  },
  {
   "cell_type": "code",
   "execution_count": null,
   "id": "46f35710-d7b3-49d0-ae25-5e36f1f6dd95",
   "metadata": {
    "pycharm": {
     "name": "#%%\n"
    },
    "tags": []
   },
   "outputs": [],
   "source": [
    "qmod = construct_combinatorial_optimization_model(\n",
    "    pyo_model=coloring_model,\n",
    "    qaoa_config=qaoa_config,\n",
    "    optimizer_config=optimizer_config,\n",
    ")"
   ]
  },
  {
   "cell_type": "markdown",
   "id": "011b8c25-00b5-4099-9079-eb46f640343d",
   "metadata": {},
   "source": [
    "We also set the quantum backend we want to execute on:"
   ]
  },
  {
   "cell_type": "code",
   "execution_count": null,
   "id": "c87b4cd7-a780-4d78-8335-f78b38584d80",
   "metadata": {
    "tags": []
   },
   "outputs": [],
   "source": [
    "from classiq import set_execution_preferences\n",
    "from classiq.execution import ExecutionPreferences, IBMBackendPreferences\n",
    "\n",
    "backend_preferences = ExecutionPreferences(\n",
    "    backend_preferences=IBMBackendPreferences(backend_name=\"aer_simulator\")\n",
    ")\n",
    "\n",
    "qmod = set_execution_preferences(qmod, backend_preferences)"
   ]
  },
  {
   "cell_type": "code",
   "execution_count": null,
   "id": "96507f00-8d76-4ca3-b0dd-0b20d44c1e80",
   "metadata": {},
   "outputs": [],
   "source": [
    "with open(\"max_induced_k_color_subgraph.qmod\", \"w\") as f:\n",
    "    f.write(qmod)"
   ]
  },
  {
   "cell_type": "markdown",
   "id": "e63e8272-cfd5-4a7d-9ce9-73486dab643a",
   "metadata": {},
   "source": [
    "## Synthesizing the QAOA Circuit and Solving the Problem\n",
    "\n",
    "We can now synthesize and view the QAOA circuit (ansatz) used to solve the optimization problem:"
   ]
  },
  {
   "cell_type": "code",
   "execution_count": null,
   "id": "1b3e64a1-eae5-4ffc-9a08-1d5131401422",
   "metadata": {
    "pycharm": {
     "name": "#%%\n"
    },
    "tags": []
   },
   "outputs": [],
   "source": [
    "from classiq import show, synthesize\n",
    "\n",
    "qprog = synthesize(qmod)\n",
    "show(qprog)"
   ]
  },
  {
   "cell_type": "markdown",
   "id": "e99f6361-a9ac-48d1-a7b1-c77a0f09adfe",
   "metadata": {},
   "source": [
    "We now solve the problem using the generated circuit by using the `execute` method:"
   ]
  },
  {
   "cell_type": "code",
   "execution_count": null,
   "id": "d7520962-de83-42de-928b-34e72cc01caf",
   "metadata": {
    "tags": []
   },
   "outputs": [],
   "source": [
    "from classiq import execute\n",
    "\n",
    "res = execute(qprog).result()"
   ]
  },
  {
   "cell_type": "markdown",
   "id": "56a8d4c5-4f22-4107-999f-2eaa147e52d1",
   "metadata": {},
   "source": [
    "We can check the convergence of the run:"
   ]
  },
  {
   "cell_type": "code",
   "execution_count": null,
   "id": "58e49053-f2c6-40f9-9865-9f9e79df6eeb",
   "metadata": {
    "tags": []
   },
   "outputs": [],
   "source": [
    "from classiq.execution import VQESolverResult\n",
    "\n",
    "vqe_result = res[1].value\n",
    "vqe_result.convergence_graph"
   ]
  },
  {
   "cell_type": "markdown",
   "id": "ccd880e2-9dd0-44c2-8d9e-1d892ed5faec",
   "metadata": {
    "tags": []
   },
   "source": [
    "# Optimization Results"
   ]
  },
  {
   "cell_type": "markdown",
   "id": "6716ab8d-ed59-49ce-a866-b0d344c421dd",
   "metadata": {},
   "source": [
    "We can also examine the statistics of the algorithm:"
   ]
  },
  {
   "cell_type": "code",
   "execution_count": null,
   "id": "1631190c-308e-4300-9984-021fef022f2d",
   "metadata": {
    "tags": []
   },
   "outputs": [],
   "source": [
    "import pandas as pd\n",
    "\n",
    "optimization_result = pd.DataFrame.from_records(res[0].value)\n",
    "optimization_result.sort_values(by=\"cost\", ascending=False).head(5)"
   ]
  },
  {
   "cell_type": "markdown",
   "id": "1de0dda7-16f4-40a8-91f6-d65eb9e73565",
   "metadata": {},
   "source": [
    "And the histogram:"
   ]
  },
  {
   "cell_type": "code",
   "execution_count": null,
   "id": "f57b11fe-d3de-4226-9b1e-f2d82ccb51ef",
   "metadata": {
    "tags": []
   },
   "outputs": [],
   "source": [
    "optimization_result.hist(\"cost\", weights=optimization_result[\"probability\"])"
   ]
  },
  {
   "cell_type": "markdown",
   "id": "4a1aff9e-e2a2-4ce1-b882-362ce6502736",
   "metadata": {},
   "source": [
    "Let us plot the best solution:"
   ]
  },
  {
   "cell_type": "code",
   "execution_count": null,
   "id": "b8994248-1c5a-4959-8845-e325755833d4",
   "metadata": {
    "tags": []
   },
   "outputs": [],
   "source": [
    "import matplotlib.pyplot as plt\n",
    "\n",
    "best_solution = optimization_result.solution[optimization_result.cost.idxmax()]\n",
    "\n",
    "one_hot_solution = np.array(best_solution).reshape([NUM_COLORS, len(graph.nodes)])\n",
    "integer_solution = np.argmax(one_hot_solution, axis=0)\n",
    "\n",
    "colored_nodes = np.array(graph.nodes)[one_hot_solution.sum(axis=0) != 0]\n",
    "colors = integer_solution[colored_nodes]\n",
    "\n",
    "pos = nx.kamada_kawai_layout(graph)\n",
    "nx.draw(graph, pos=pos, with_labels=True, alpha=0.3, node_color=\"k\")\n",
    "nx.draw(graph.subgraph(colored_nodes), pos=pos, node_color=colors, cmap=plt.cm.rainbow)"
   ]
  },
  {
   "cell_type": "markdown",
   "id": "2333c7d2-cf8c-46db-a9b5-23802a54f395",
   "metadata": {},
   "source": [
    "## Classical optimizer results"
   ]
  },
  {
   "cell_type": "markdown",
   "id": "a280c3a8-4dbe-420f-9bdd-da2d34ddae4d",
   "metadata": {},
   "source": [
    "Lastly, we can compare to the classical solution of the problem:"
   ]
  },
  {
   "cell_type": "code",
   "execution_count": null,
   "id": "73d2b211-52e7-4c29-9c46-8153129aba79",
   "metadata": {
    "pycharm": {
     "name": "#%%\n"
    },
    "tags": []
   },
   "outputs": [],
   "source": [
    "from pyomo.common.errors import ApplicationError\n",
    "from pyomo.opt import SolverFactory\n",
    "\n",
    "solver = SolverFactory(\"couenne\")\n",
    "result = None\n",
    "try:\n",
    "    result = solver.solve(coloring_model)\n",
    "except ApplicationError:\n",
    "    print(\"Solver might have not exited normally. Try again\")\n",
    "\n",
    "coloring_model.display()"
   ]
  },
  {
   "cell_type": "code",
   "execution_count": null,
   "id": "c4a11618-40ae-4174-b296-a37afa65adce",
   "metadata": {
    "tags": []
   },
   "outputs": [],
   "source": [
    "if result:\n",
    "    classical_solution = [\n",
    "        pyo.value(coloring_model.x[i, j])\n",
    "        for i in range(NUM_COLORS)\n",
    "        for j in range(len(graph.nodes))\n",
    "    ]\n",
    "    one_hot_solution = np.array(classical_solution).reshape(\n",
    "        [NUM_COLORS, len(graph.nodes)]\n",
    "    )\n",
    "    integer_solution = np.argmax(one_hot_solution, axis=0)\n",
    "\n",
    "    colored_nodes = np.array(graph.nodes)[one_hot_solution.sum(axis=0) != 0]\n",
    "    colors = integer_solution[colored_nodes]\n",
    "\n",
    "    pos = nx.kamada_kawai_layout(graph)\n",
    "    nx.draw(graph, pos=pos, with_labels=True, alpha=0.3, node_color=\"k\")\n",
    "    nx.draw(\n",
    "        graph.subgraph(colored_nodes), pos=pos, node_color=colors, cmap=plt.cm.rainbow\n",
    "    )"
   ]
  }
 ],
 "metadata": {
  "kernelspec": {
   "display_name": "Python 3 (ipykernel)",
   "language": "python",
   "name": "python3"
  },
  "language_info": {
   "codemirror_mode": {
    "name": "ipython",
    "version": 3
   },
   "file_extension": ".py",
   "mimetype": "text/x-python",
   "name": "python",
   "nbconvert_exporter": "python",
   "pygments_lexer": "ipython3",
   "version": "3.11.4"
  },
  "vscode": {
   "interpreter": {
    "hash": "a07aacdcc8a415e7643a2bc993226848ff70704ebef014f87460de9126b773d0"
   }
  }
 },
 "nbformat": 4,
 "nbformat_minor": 5
}
