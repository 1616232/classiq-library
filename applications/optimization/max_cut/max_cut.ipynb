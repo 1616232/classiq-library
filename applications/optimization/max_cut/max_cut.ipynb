{
 "cells": [
  {
   "cell_type": "markdown",
   "id": "6a264eba-42cc-4800-8369-24b0891d167d",
   "metadata": {
    "tags": []
   },
   "source": [
    "\n",
    "# Maximum Cut Problem\n"
   ]
  },
  {
   "cell_type": "markdown",
   "id": "f393b1d7-0ecd-4b99-9940-2ed55283c6b0",
   "metadata": {},
   "source": [
    "## Introduction\n",
    "\n",
    "The \"Maximum Cut Problem\" (MaxCut) [[1](#MaxCutWiki)] is an example of combinatorial optimization problem. It refers to finding a partition of a graph into two sets, such that the number of edges between the two sets is maximal. This optimization problem is the cardinal example in the context of Quantum Approximate Optimization Algorithm [[2](#QAOA)], since it is an unconstrained problem whose objective function in terms quantum gates can be derived easily. With the Classiq platform, things are even simpler, as the objective function is inserted in its arithmetic form.\n",
    "\n",
    "## Mathematical formulation\n",
    "\n",
    "Given a graph $G=(V,E)$ with $|V|=n$ nodes and $E$ edges, a cut is defined as a partition of the graph into two complementary subsets of nodes. In the MaxCut problem we are looking for a cut where the number of edges between the two subsets is maximal. We can represent a cut of the graph by a binary vector $x$ of size $n$, where we assign 0 and 1 to nodes in the first and second subsets, respectively. The number of connecting edges for a given cut is simply given by summing over $x_i (1-x_j)+x_j (1-x_i)$ for every pair of connected nodes $(i,j)$.\n",
    "\n",
    "# Solving with the Classiq platform\n",
    "\n",
    "We go through the steps of solving the problem with the Classiq platform, using QAOA algorithm [[2](#QAOA)]. The solution is based on defining a pyomo model for the optimization problem we would like to solve."
   ]
  },
  {
   "cell_type": "code",
   "execution_count": null,
   "id": "952d49b3-5dc6-41a1-8822-0622df536cf7",
   "metadata": {
    "tags": []
   },
   "outputs": [],
   "source": [
    "from typing import cast\n",
    "\n",
    "import networkx as nx\n",
    "import numpy as np\n",
    "import pyomo.core as pyo\n",
    "from IPython.display import Markdown, display\n",
    "from matplotlib import pyplot as plt"
   ]
  },
  {
   "cell_type": "markdown",
   "id": "60d446c0-15fb-4b1b-bc4f-f4ecd477168e",
   "metadata": {},
   "source": [
    "## Building the Pyomo model from a graph input\n",
    "\n",
    "We proceed by defining the pyomo model that will be used on the Classiq platform, using the mathematical formulation defined above:"
   ]
  },
  {
   "cell_type": "code",
   "execution_count": null,
   "id": "dc40bd2c-9a94-4a7c-bd3d-2533a6bd21d7",
   "metadata": {
    "lines_to_next_cell": 2,
    "tags": []
   },
   "outputs": [],
   "source": [
    "# we define a function which returns 1 if two connected nodes are on a different subset, and 0 otherwise\n",
    "\n",
    "\n",
    "def arithmetic_eq(x1: int, x2: int) -> int:\n",
    "    return x1 * (1 - x2) + x2 * (1 - x1)\n",
    "\n",
    "\n",
    "# we define a function which returns the pyomo model for a graph input\n",
    "def maxcut(graph: nx.Graph) -> pyo.ConcreteModel:\n",
    "    model = pyo.ConcreteModel()\n",
    "    model.x = pyo.Var(graph.nodes, domain=pyo.Binary)\n",
    "\n",
    "    model.cost = pyo.Objective(\n",
    "        expr=sum(\n",
    "            arithmetic_eq(model.x[node1], model.x[node2])\n",
    "            for (node1, node2) in graph.edges\n",
    "        ),\n",
    "        sense=pyo.maximize,\n",
    "    )\n",
    "\n",
    "    return model"
   ]
  },
  {
   "cell_type": "markdown",
   "id": "b5650177-cb88-4328-a581-ef2712e79dd8",
   "metadata": {
    "tags": []
   },
   "source": [
    "## Generating a specific problem\n",
    "\n",
    "Let us pick a specific problem:\n"
   ]
  },
  {
   "cell_type": "code",
   "execution_count": null,
   "id": "6212e51c",
   "metadata": {
    "pycharm": {
     "name": "#%%\n"
    },
    "tags": []
   },
   "outputs": [],
   "source": [
    "# Create graph\n",
    "G = nx.Graph()\n",
    "G.add_nodes_from([0, 1, 2, 3, 4])\n",
    "G.add_edges_from([(0, 1), (0, 2), (1, 2), (1, 3), (2, 4), (3, 4)])\n",
    "pos = nx.planar_layout(G)\n",
    "nx.draw_networkx(G, pos=pos, with_labels=True, alpha=0.8, node_size=500)\n",
    "maxcut_model = maxcut(G)"
   ]
  },
  {
   "cell_type": "markdown",
   "id": "c546e02b-ed1b-4385-be65-5e20854bcc77",
   "metadata": {
    "tags": []
   },
   "source": [
    "## Setting Up the Classiq Problem Instance\n",
    "\n",
    "In order to solve the Pyomo model defined above, we use the Classiq combinatorial optimization engine. For the quantum part of the QAOA algorithm (`QAOAConfig`) - define the number of repetitions (`num_layers`):"
   ]
  },
  {
   "cell_type": "code",
   "execution_count": null,
   "id": "4321c06c-235d-4313-a635-6b743a4e4858",
   "metadata": {
    "tags": []
   },
   "outputs": [],
   "source": [
    "from classiq import construct_combinatorial_optimization_model\n",
    "from classiq.applications.combinatorial_optimization import OptimizerConfig, QAOAConfig\n",
    "\n",
    "qaoa_config = QAOAConfig(num_layers=4)"
   ]
  },
  {
   "cell_type": "markdown",
   "id": "a604f53f-355a-4591-b6b3-4fb1d05a4bf9",
   "metadata": {},
   "source": [
    "For the classical optimization part of the QAOA algorithm we define the maximum number of classical iterations (`max_iteration`) and the $\\alpha$-parameter (`alpha_cvar`) for running CVaR-QAOA, an improved variation of the QAOA algorithm [[3](#cvar)]:"
   ]
  },
  {
   "cell_type": "code",
   "execution_count": null,
   "id": "0df30f52-9c65-4ecb-bfc1-62a3b2c96cd7",
   "metadata": {
    "pycharm": {
     "name": "#%%\n"
    },
    "tags": []
   },
   "outputs": [],
   "source": [
    "optimizer_config = OptimizerConfig(max_iteration=60, alpha_cvar=0.7)"
   ]
  },
  {
   "cell_type": "markdown",
   "id": "028d688e-9089-414b-9f7b-8421068642cc",
   "metadata": {},
   "source": [
    "Lastly, we load the model, based on the problem and algorithm parameters, which we can use to solve the problem:"
   ]
  },
  {
   "cell_type": "code",
   "execution_count": null,
   "id": "01bc439b-94cb-4bb6-90ce-4f29639779d0",
   "metadata": {
    "pycharm": {
     "name": "#%%\n"
    },
    "tags": []
   },
   "outputs": [],
   "source": [
    "qmod = construct_combinatorial_optimization_model(\n",
    "    pyo_model=maxcut_model,\n",
    "    qaoa_config=qaoa_config,\n",
    "    optimizer_config=optimizer_config,\n",
    ")"
   ]
  },
  {
   "cell_type": "markdown",
   "id": "de903871-3483-4ad4-90d3-e5ca1b9d6722",
   "metadata": {},
   "source": [
    "We also set the quantum backend we want to execute on:"
   ]
  },
  {
   "cell_type": "code",
   "execution_count": null,
   "id": "345fa189-05af-49e7-abbe-3d3a4890aa8c",
   "metadata": {
    "tags": []
   },
   "outputs": [],
   "source": [
    "from classiq import set_execution_preferences\n",
    "from classiq.execution import ExecutionPreferences, IBMBackendPreferences\n",
    "\n",
    "backend_preferences = ExecutionPreferences(\n",
    "    backend_preferences=IBMBackendPreferences(backend_name=\"aer_simulator\")\n",
    ")\n",
    "\n",
    "qmod = set_execution_preferences(qmod, backend_preferences)"
   ]
  },
  {
   "cell_type": "code",
   "execution_count": null,
   "id": "5a8d9402-7edb-4ae9-9536-95561df455e7",
   "metadata": {},
   "outputs": [],
   "source": [
    "with open(\"max_cut.qmod\", \"w\") as f:\n",
    "    f.write(qmod)"
   ]
  },
  {
   "cell_type": "markdown",
   "id": "0398f8d3-d9d4-4f03-92b4-d34e20766767",
   "metadata": {},
   "source": [
    "## Synthesizing the QAOA Circuit and Solving the Problem\n",
    "\n",
    "We can now synthesize and view the QAOA circuit (ansatz) used to solve the optimization problem:"
   ]
  },
  {
   "cell_type": "code",
   "execution_count": null,
   "id": "3cab4848-bd66-4099-94b1-84c88e7a586c",
   "metadata": {
    "pycharm": {
     "name": "#%%\n"
    },
    "tags": []
   },
   "outputs": [],
   "source": [
    "from classiq import show, synthesize\n",
    "\n",
    "qprog = synthesize(qmod)\n",
    "show(qprog)"
   ]
  },
  {
   "cell_type": "markdown",
   "id": "c7fdcaff-2d30-4f4f-a338-6b73ef8dc284",
   "metadata": {},
   "source": [
    "We now solve the problem using the generated circuit by using the `execute` method:"
   ]
  },
  {
   "cell_type": "code",
   "execution_count": null,
   "id": "5d2ab2da-f452-45db-9abe-f5b919ccdad3",
   "metadata": {
    "tags": []
   },
   "outputs": [],
   "source": [
    "from classiq import execute\n",
    "\n",
    "res = execute(qprog).result()"
   ]
  },
  {
   "cell_type": "markdown",
   "id": "5dd7082a-7f61-47c4-a1c2-ef972583ab9b",
   "metadata": {},
   "source": [
    "We can check the convergence of the run:"
   ]
  },
  {
   "cell_type": "code",
   "execution_count": null,
   "id": "aa6542a6-3334-46ad-803a-ce4368686a63",
   "metadata": {
    "tags": []
   },
   "outputs": [],
   "source": [
    "from classiq.execution import VQESolverResult\n",
    "\n",
    "vqe_result = res[1].value\n",
    "vqe_result.convergence_graph"
   ]
  },
  {
   "cell_type": "markdown",
   "id": "38caaf41-152e-4c20-a0b8-418df875fc61",
   "metadata": {
    "tags": []
   },
   "source": [
    "# Optimization Results"
   ]
  },
  {
   "cell_type": "markdown",
   "id": "50561ce0-f50f-4408-bd13-be795f077da1",
   "metadata": {},
   "source": [
    "We can also examine the statistics of the algorithm:"
   ]
  },
  {
   "cell_type": "code",
   "execution_count": null,
   "id": "81f03001-116c-4a5e-bbaf-b99390a93a6f",
   "metadata": {
    "tags": []
   },
   "outputs": [],
   "source": [
    "import pandas as pd\n",
    "\n",
    "optimization_result = pd.DataFrame.from_records(res[0].value)\n",
    "optimization_result.sort_values(by=\"cost\", ascending=False).head(5)"
   ]
  },
  {
   "cell_type": "markdown",
   "id": "b9c0f654-5a4e-439b-b4a7-b363ed8f7d4b",
   "metadata": {},
   "source": [
    "And the histogram:"
   ]
  },
  {
   "cell_type": "code",
   "execution_count": null,
   "id": "5c0cfa66-7e4d-49c8-8aa7-772f3b8ec59f",
   "metadata": {
    "tags": []
   },
   "outputs": [],
   "source": [
    "optimization_result.hist(\"cost\", weights=optimization_result[\"probability\"])"
   ]
  },
  {
   "cell_type": "markdown",
   "id": "849aec45-d701-4ff8-bae3-005ef8e3df6e",
   "metadata": {},
   "source": [
    "Let us plot the solution:"
   ]
  },
  {
   "cell_type": "code",
   "execution_count": null,
   "id": "6f946baa-8922-4901-ab1d-430d68712975",
   "metadata": {
    "tags": []
   },
   "outputs": [],
   "source": [
    "best_solution = optimization_result.solution[optimization_result.cost.idxmax()]\n",
    "\n",
    "colors = [\"r\" if best_solution[i] == 0 else \"g\" for i in range(5)]\n",
    "nx.draw_networkx(\n",
    "    G, pos=pos, with_labels=True, alpha=0.8, node_size=500, node_color=colors\n",
    ")"
   ]
  },
  {
   "cell_type": "markdown",
   "id": "831bcd2b-0def-4c6c-a52d-c06aba0cc3e2",
   "metadata": {},
   "source": [
    "## Classical optimizer results"
   ]
  },
  {
   "cell_type": "markdown",
   "id": "762a3309-d73c-405b-a4a1-7442ab752245",
   "metadata": {},
   "source": [
    "Lastly, we can compare to the classical solution of the problem:"
   ]
  },
  {
   "cell_type": "code",
   "execution_count": null,
   "id": "19694867-7c19-4f15-90cd-2b8ea2179e46",
   "metadata": {
    "pycharm": {
     "name": "#%%\n"
    },
    "tags": []
   },
   "outputs": [],
   "source": [
    "from pyomo.opt import SolverFactory\n",
    "\n",
    "solver = SolverFactory(\"couenne\")\n",
    "solver.solve(maxcut_model)\n",
    "\n",
    "maxcut_model.display()"
   ]
  },
  {
   "cell_type": "code",
   "execution_count": null,
   "id": "524d8a2f-a7a3-4a9d-8533-5b2f556455f9",
   "metadata": {
    "tags": []
   },
   "outputs": [],
   "source": [
    "solution = [pyo.value(maxcut_model.x[i]) for i in G.nodes]\n",
    "colors = [\"r\" if best_solution[i] == 0 else \"g\" for i in range(5)]\n",
    "nx.draw_networkx(\n",
    "    G, pos=pos, with_labels=True, alpha=0.8, node_size=500, node_color=colors\n",
    ")"
   ]
  },
  {
   "cell_type": "markdown",
   "id": "32714940-bc95-4cdb-98d1-904dcc80d00d",
   "metadata": {
    "pycharm": {
     "name": "#%% md\n"
    },
    "tags": []
   },
   "source": [
    "\n",
    "## References\n",
    "\n",
    "<a id='MaxCutWiki'>[1]</a>: [Maximum Cut Problem (Wikipedia)](https://en.wikipedia.org/wiki/Maximum_cut)\n",
    "\n",
    "<a id='QAOA'>[2]</a>: [Farhi, Edward, Jeffrey Goldstone, and Sam Gutmann. \"A quantum approximate optimization algorithm.\" arXiv preprint arXiv:1411.4028 (2014).](https://arxiv.org/abs/1411.4028)\n",
    "\n",
    "<a id='cvar'>[3]</a>: [Barkoutsos, Panagiotis Kl, et al. \"Improving variational quantum optimization using CVaR.\" Quantum 4 (2020): 256.](https://arxiv.org/abs/1907.04769)\n"
   ]
  }
 ],
 "metadata": {
  "kernelspec": {
   "display_name": "Python 3 (ipykernel)",
   "language": "python",
   "name": "python3"
  },
  "language_info": {
   "codemirror_mode": {
    "name": "ipython",
    "version": 3
   },
   "file_extension": ".py",
   "mimetype": "text/x-python",
   "name": "python",
   "nbconvert_exporter": "python",
   "pygments_lexer": "ipython3",
   "version": "3.11.4"
  }
 },
 "nbformat": 4,
 "nbformat_minor": 5
}
