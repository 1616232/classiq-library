{
 "cells": [
  {
   "cell_type": "markdown",
   "id": "13d83b59-57f7-48ee-8bff-deda7d28edc5",
   "metadata": {
    "tags": []
   },
   "source": [
    "\n",
    "# Integer Knapsack\n"
   ]
  },
  {
   "cell_type": "markdown",
   "id": "6d56bb6d-9f3b-45db-8e98-b50f27af7505",
   "metadata": {},
   "source": [
    "## Background\n",
    "\n",
    "Given a set of items, determine how many items to put in the knapsack to maximize their summed value.\n",
    "\n",
    "#### Define:\n",
    "\n",
    "- $x_i$ is the number of items from each type.\n",
    "\n",
    "- $v_i$ is the value of each item.\n",
    "\n",
    "- $w_i$ is the weight of each item.\n",
    "\n",
    "- $D$ is the range of $x$.\n",
    "\n",
    "Find $x$ that maximizes the value: $\\begin{aligned}\n",
    "\\max_{x_i \\in D} \\Sigma_i v_i x_i\\\\\n",
    "\\end{aligned}$\n",
    "\n",
    "and constrained by the weight: $\\begin{aligned}\n",
    "\\Sigma_i w_i x_i = C\n",
    "\\end{aligned}$\n"
   ]
  },
  {
   "cell_type": "markdown",
   "id": "064a5428-2587-44b4-8f59-fc46773e20c0",
   "metadata": {
    "tags": []
   },
   "source": [
    "## Problem Versions\n"
   ]
  },
  {
   "cell_type": "markdown",
   "id": "b3cec06e-609c-4223-a959-72b518155491",
   "metadata": {},
   "source": [
    "**Binary Knapsack**\n",
    "\n",
    "Range: $D = \\{0, 1\\}$\n",
    "\n",
    "**Integer Knapsack**\n",
    "\n",
    "Range: $D = [0, b]$\n"
   ]
  },
  {
   "cell_type": "markdown",
   "id": "fdbcef63-3c8e-4f0a-a4fb-9058807fa3a8",
   "metadata": {
    "tags": []
   },
   "source": [
    "## Knapsack with integer variables and inequality constraint\n"
   ]
  },
  {
   "cell_type": "markdown",
   "id": "0bdc4e6a-199b-44b3-bd3f-fd24722b616b",
   "metadata": {},
   "source": [
    "### Define the optimization problem"
   ]
  },
  {
   "cell_type": "code",
   "execution_count": null,
   "id": "83ddbd07-f7ab-4d80-b357-3890622d395f",
   "metadata": {
    "tags": []
   },
   "outputs": [],
   "source": [
    "import numpy as np\n",
    "import pyomo.environ as pyo\n",
    "\n",
    "\n",
    "def define_knapsack_model(weights, values, max_weight, item_bound):\n",
    "    model = pyo.ConcreteModel(\"knapsack\")\n",
    "    num_items = len(weights)\n",
    "\n",
    "    model.x = pyo.Var(\n",
    "        range(num_items), domain=pyo.NonNegativeIntegers, bounds=(0, item_bound)\n",
    "    )\n",
    "\n",
    "    x_variables = np.array(list(model.x.values()))\n",
    "\n",
    "    model.weight_constraint = pyo.Constraint(expr=x_variables @ weights <= max_weight)\n",
    "\n",
    "    model.value = pyo.Objective(expr=x_variables @ values, sense=pyo.maximize)\n",
    "\n",
    "    return model"
   ]
  },
  {
   "cell_type": "markdown",
   "id": "3496c5d6-7df6-49fb-b5b9-5ba48d2b7d62",
   "metadata": {},
   "source": [
    "### Initialize the model with parameters"
   ]
  },
  {
   "cell_type": "code",
   "execution_count": null,
   "id": "62a98e1c-5dbe-42f9-989e-83ee1df7196b",
   "metadata": {
    "tags": []
   },
   "outputs": [],
   "source": [
    "knapsack_model = define_knapsack_model(\n",
    "    weights=[2, 3], values=[3, 5], max_weight=12, item_bound=3\n",
    ")"
   ]
  },
  {
   "cell_type": "markdown",
   "id": "35588b31-eba4-445b-bb39-e1c74ba6c71f",
   "metadata": {
    "tags": []
   },
   "source": [
    "## Setting Up the Classiq Problem Instance\n",
    "\n",
    "In order to solve the Pyomo model defined above, we use the Classiq combinatorial optimization engine. For the quantum part of the QAOA algorithm (`QAOAConfig`) - define the number of repetitions (`num_layers`):"
   ]
  },
  {
   "cell_type": "code",
   "execution_count": null,
   "id": "726424db-c61a-465f-af29-3f739d379989",
   "metadata": {
    "tags": []
   },
   "outputs": [],
   "source": [
    "from classiq import construct_combinatorial_optimization_model\n",
    "from classiq.applications.combinatorial_optimization import OptimizerConfig, QAOAConfig\n",
    "\n",
    "qaoa_config = QAOAConfig(num_layers=5, penalty_energy=20.0)"
   ]
  },
  {
   "cell_type": "markdown",
   "id": "14d12f81-d8fc-4e48-9ddc-59dd63f4c6be",
   "metadata": {},
   "source": [
    "For the classical optimization part of the QAOA algorithm we define the maximum number of classical iterations (`max_iteration`) and the $\\alpha$-parameter (`alpha_cvar`) for running CVaR-QAOA, an improved variation of the QAOA algorithm [[3](#cvar)]:"
   ]
  },
  {
   "cell_type": "code",
   "execution_count": null,
   "id": "2a0c7071-ec6c-4309-a01a-da7e9d3e9161",
   "metadata": {
    "pycharm": {
     "name": "#%%\n"
    },
    "tags": []
   },
   "outputs": [],
   "source": [
    "optimizer_config = OptimizerConfig(max_iteration=60, alpha_cvar=0.7)"
   ]
  },
  {
   "cell_type": "markdown",
   "id": "82520e92-4e1a-438c-ae33-1d3fa51a8fb6",
   "metadata": {},
   "source": [
    "Lastly, we load the model, based on the problem and algorithm parameters, which we can use to solve the problem:"
   ]
  },
  {
   "cell_type": "code",
   "execution_count": null,
   "id": "393de0f0-704f-4240-a2de-50fb647470b3",
   "metadata": {
    "pycharm": {
     "name": "#%%\n"
    },
    "tags": []
   },
   "outputs": [],
   "source": [
    "qmod = construct_combinatorial_optimization_model(\n",
    "    pyo_model=knapsack_model,\n",
    "    qaoa_config=qaoa_config,\n",
    "    optimizer_config=optimizer_config,\n",
    ")"
   ]
  },
  {
   "cell_type": "markdown",
   "id": "9b0c18d8-9ea0-45b1-b6f2-70ea87996bf7",
   "metadata": {},
   "source": [
    "We also set the quantum backend we want to execute on:"
   ]
  },
  {
   "cell_type": "code",
   "execution_count": null,
   "id": "e5993972-bbc0-4350-ae3f-201b10f3e538",
   "metadata": {
    "tags": []
   },
   "outputs": [],
   "source": [
    "from classiq import set_execution_preferences\n",
    "from classiq.execution import ClassiqBackendPreferences, ExecutionPreferences\n",
    "\n",
    "backend_preferences = ExecutionPreferences(\n",
    "    backend_preferences=ClassiqBackendPreferences(backend_name=\"aer_simulator\")\n",
    ")\n",
    "\n",
    "qmod = set_execution_preferences(qmod, backend_preferences)"
   ]
  },
  {
   "cell_type": "markdown",
   "id": "e04769db-fb88-4fcf-aa9a-baf252e1b1fd",
   "metadata": {},
   "source": [
    "## Synthesizing the QAOA Circuit and Solving the Problem\n",
    "\n",
    "We can now synthesize and view the QAOA circuit (ansatz) used to solve the optimization problem:"
   ]
  },
  {
   "cell_type": "code",
   "execution_count": null,
   "id": "83d3d505-c96e-480a-b977-9dd643968033",
   "metadata": {},
   "outputs": [],
   "source": [
    "with open(\"knapsack_integer.qmod\", \"w\") as f:\n",
    "    f.write(qmod)"
   ]
  },
  {
   "cell_type": "code",
   "execution_count": null,
   "id": "47db129e-2770-413d-b17d-bef2a2797802",
   "metadata": {
    "pycharm": {
     "name": "#%%\n"
    },
    "tags": []
   },
   "outputs": [],
   "source": [
    "from classiq import show, synthesize\n",
    "\n",
    "qprog = synthesize(qmod)\n",
    "show(qprog)"
   ]
  },
  {
   "cell_type": "markdown",
   "id": "ed67ddd7-0d0a-4c28-b39d-a9cc7540ac12",
   "metadata": {},
   "source": [
    "We now solve the problem using the generated circuit by using the `execute` method:"
   ]
  },
  {
   "cell_type": "code",
   "execution_count": null,
   "id": "a1dc0d76-169b-44df-a97f-e7f607d97735",
   "metadata": {
    "tags": []
   },
   "outputs": [],
   "source": [
    "from classiq import execute\n",
    "\n",
    "res = execute(qprog).result()"
   ]
  },
  {
   "cell_type": "markdown",
   "id": "a84dd23b-4a3c-48ed-8cee-ec673ae9774a",
   "metadata": {},
   "source": [
    "We can check the convergence of the run:"
   ]
  },
  {
   "cell_type": "code",
   "execution_count": null,
   "id": "4234b965-602a-4087-a6d8-05c2f5407df2",
   "metadata": {
    "tags": []
   },
   "outputs": [],
   "source": [
    "from classiq.execution import VQESolverResult\n",
    "\n",
    "vqe_result = res[1].value\n",
    "vqe_result.convergence_graph"
   ]
  },
  {
   "cell_type": "markdown",
   "id": "51a8a8a9-dbe5-433f-a8c0-f7adb959b27e",
   "metadata": {
    "tags": []
   },
   "source": [
    "# Optimization Results"
   ]
  },
  {
   "cell_type": "markdown",
   "id": "60ed540c-35ae-499a-b682-458e69d79652",
   "metadata": {},
   "source": [
    "We can also examine the statistics of the algorithm:"
   ]
  },
  {
   "cell_type": "code",
   "execution_count": null,
   "id": "5a25edea-7281-4255-a6ff-38c8cecf280a",
   "metadata": {
    "tags": []
   },
   "outputs": [],
   "source": [
    "import pandas as pd\n",
    "\n",
    "optimization_result = pd.DataFrame.from_records(res[0].value)\n",
    "optimization_result.sort_values(by=\"cost\", ascending=False).head(5)"
   ]
  },
  {
   "cell_type": "markdown",
   "id": "2d654d5e-f064-4820-82e8-2b090a4bd72f",
   "metadata": {},
   "source": [
    "And the histogram:"
   ]
  },
  {
   "cell_type": "code",
   "execution_count": null,
   "id": "1f8e36b4-a949-475b-b415-5a27a84037f7",
   "metadata": {
    "tags": []
   },
   "outputs": [],
   "source": [
    "optimization_result.hist(\"cost\", weights=optimization_result[\"probability\"])"
   ]
  },
  {
   "cell_type": "markdown",
   "id": "7ef94f22-e503-464c-b996-773c989511b4",
   "metadata": {},
   "source": [
    "Lastly, we can compare to the classical solution of the problem:"
   ]
  },
  {
   "cell_type": "code",
   "execution_count": null,
   "id": "f3d175f1-ce3b-4a00-8e53-ea6220e9e4ff",
   "metadata": {
    "pycharm": {
     "name": "#%%\n"
    },
    "tags": []
   },
   "outputs": [],
   "source": [
    "from pyomo.opt import SolverFactory\n",
    "\n",
    "solver = SolverFactory(\"couenne\")\n",
    "solver.solve(knapsack_model)\n",
    "\n",
    "knapsack_model.display()"
   ]
  }
 ],
 "metadata": {
  "kernelspec": {
   "display_name": "Python 3 (ipykernel)",
   "language": "python",
   "name": "python3"
  },
  "language_info": {
   "codemirror_mode": {
    "name": "ipython",
    "version": 3
   },
   "file_extension": ".py",
   "mimetype": "text/x-python",
   "name": "python",
   "nbconvert_exporter": "python",
   "pygments_lexer": "ipython3",
   "version": "3.11.4"
  }
 },
 "nbformat": 4,
 "nbformat_minor": 5
}
