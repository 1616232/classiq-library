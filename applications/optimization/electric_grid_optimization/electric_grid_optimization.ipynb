{
 "cells": [
  {
   "cell_type": "markdown",
   "id": "995dbe81-afbd-4f7a-a302-b26e2e5891cf",
   "metadata": {},
   "source": [
    "# Electric Grid Optimization using QAOA"
   ]
  },
  {
   "cell_type": "markdown",
   "id": "b3941323-c9cd-4b67-a7df-bdcf7c595aaf",
   "metadata": {},
   "source": [
    "We have a set of N power plants (sources), and M consumers. The goal is to supply power to all consumers, meeting the constraints of the power plants, and minimize the total cost of supplying power. The presented model has small variation from [[1](#OpPwer)]."
   ]
  },
  {
   "cell_type": "markdown",
   "id": "ec1fe927-a34b-4d76-b729-3a9c109a4f87",
   "metadata": {},
   "source": [
    "Mathematical model, minimize the objective function:\n",
    "\n",
    "$$z = \\sum_{i=1}^{n} \\sum_{j=1}^{m} Z_{ij}x_{ij}$$\n",
    "\n",
    "where $x_{ij}$ is the required values of the transmitted power from source $A_i$ to consumer $B_j$.\n",
    "\n",
    "The unit cost of transmitting power from node $A_i$ to node $B_j$ is $Z_{ij}$.\n",
    "\n",
    "Constraint to:\n",
    "\n",
    "The sum of powers flowing from power plant transmission lines to all customer nodes must be up to the power of the source $A_i$\n",
    "\n",
    "$$ \\sum_{j=1}^{M} x_{ij} \\leq A_{i}   \\quad    i=1,2,...,N$$\n",
    "\n",
    "Each consumer recieve power $B_{j}$:\n",
    "\n",
    "$$ \\sum_{i=1}^{N} x_{ij} = B_{j}   \\quad    j=1,2,...,M$$\n",
    "\n",
    "We take $B_{j} = 1$ and $A_{i} = 2$ in the following example.\n",
    "\n",
    "Notice that we use 2 kinds of constraints, equality and inequality."
   ]
  },
  {
   "cell_type": "markdown",
   "id": "dbc5db45-6d1d-4a61-8596-ffcc4bae978a",
   "metadata": {},
   "source": [
    "## Building the problem"
   ]
  },
  {
   "cell_type": "code",
   "execution_count": null,
   "id": "dfdf4e93-c86f-47b0-9ced-7e4c6a2447f1",
   "metadata": {},
   "outputs": [],
   "source": [
    "from itertools import product\n",
    "\n",
    "import matplotlib.pyplot as plt\n",
    "import networkx as nx  # noqa\n",
    "import numpy as np\n",
    "import pandas as pd\n",
    "\n",
    "# building data matrix, it doesn't need to be a symmetric matrix.\n",
    "cost_matrix = np.array(\n",
    "    [[0.5, 1.0, 1.0, 2.1], [1.0, 0.6, 1.4, 1.0], [1.0, 1.4, 0.4, 2.3]]\n",
    ")\n",
    "\n",
    "Sources = [\"A1\", \"A2\", \"A3\"]\n",
    "Consumers = [\"B1\", \"B2\", \"B3\", \"B4\"]\n",
    "\n",
    "# number of sources\n",
    "N = len(Sources)\n",
    "# number of consumers\n",
    "M = len(Consumers)\n",
    "\n",
    "graph = nx.DiGraph()\n",
    "graph.add_nodes_from(Sources + Consumers)\n",
    "for n, m in product(range(N), range(M)):\n",
    "    graph.add_edges_from([(Sources[n], Consumers[m])], weight=cost_matrix[n, m])\n",
    "\n",
    "\n",
    "# Plot the graph\n",
    "plt.figure(figsize=(6, 5))\n",
    "left = nx.bipartite.sets(graph)[0]\n",
    "pos = nx.bipartite_layout(graph, left)\n",
    "\n",
    "nx.draw_networkx(graph, pos=pos, nodelist=Consumers, font_size=22, font_color=\"None\")\n",
    "nx.draw_networkx_nodes(\n",
    "    graph, pos, nodelist=Consumers, node_color=\"#119DA4\", node_size=500\n",
    ")\n",
    "for fa in Sources:\n",
    "    x, y = pos[fa]\n",
    "    plt.text(\n",
    "        x,\n",
    "        y,\n",
    "        s=fa,\n",
    "        bbox=dict(facecolor=\"#F43764\", alpha=1),\n",
    "        horizontalalignment=\"center\",\n",
    "        fontsize=15,\n",
    "    )\n",
    "\n",
    "nx.draw_networkx_edges(graph, pos, width=2)\n",
    "labels = nx.get_edge_attributes(graph, \"weight\")\n",
    "nx.draw_networkx_edge_labels(graph, pos, edge_labels=labels, font_size=12)\n",
    "nx.draw_networkx_labels(\n",
    "    graph,\n",
    "    pos,\n",
    "    labels={co: co for co in Consumers},\n",
    "    font_size=15,\n",
    "    font_color=\"#F4F9E9\",\n",
    ")\n",
    "\n",
    "plt.tight_layout()\n",
    "plt.axis(\"off\")\n",
    "plt.show()"
   ]
  },
  {
   "cell_type": "markdown",
   "id": "8feca70d-5a26-41d0-847d-04a97c61137e",
   "metadata": {},
   "source": [
    "### building the pyomo model - classical combinatorial optimization problem"
   ]
  },
  {
   "cell_type": "code",
   "execution_count": null,
   "id": "7cd709da-2feb-43da-b45c-b99c299b4b8b",
   "metadata": {},
   "outputs": [],
   "source": [
    "from typing import List, Tuple, cast  # noqa\n",
    "\n",
    "import pyomo.environ as pyo\n",
    "from IPython.display import Markdown, display\n",
    "\n",
    "opt_model = pyo.ConcreteModel()\n",
    "\n",
    "sources_lst = range(N)\n",
    "consumers_lst = range(M)\n",
    "\n",
    "opt_model.x = pyo.Var(sources_lst, consumers_lst, domain=pyo.Binary)\n",
    "\n",
    "\n",
    "@opt_model.Constraint(sources_lst)\n",
    "def source_supply_rule(model, n):  # constraint (1)\n",
    "    return sum(model.x[n, m] for m in consumers_lst) <= 2\n",
    "\n",
    "\n",
    "@opt_model.Constraint(consumers_lst)\n",
    "def each_consumer_is_supplied_rule(model, m):  # constraint (2)\n",
    "    return sum(model.x[n, m] for n in sources_lst) == 1\n",
    "\n",
    "\n",
    "opt_model.cost = pyo.Objective(\n",
    "    expr=sum(\n",
    "        cost_matrix[n, m] * opt_model.x[n, m]\n",
    "        for n in sources_lst\n",
    "        for m in consumers_lst\n",
    "    ),\n",
    "    sense=pyo.minimize,\n",
    ")"
   ]
  },
  {
   "cell_type": "markdown",
   "id": "206fee15-6c22-443d-af0a-9251c499bebc",
   "metadata": {},
   "source": [
    "Printing the classical optimization problem"
   ]
  },
  {
   "cell_type": "code",
   "execution_count": null,
   "id": "adbe0aaf-b592-41d0-936d-72f60164142e",
   "metadata": {},
   "outputs": [],
   "source": [
    "# opt_model.pprint()"
   ]
  },
  {
   "cell_type": "markdown",
   "id": "a79756d9-0cbd-4417-97b7-869ba7732989",
   "metadata": {},
   "source": [
    "## Solving with Classiq\n",
    "We take a specific example: the one outlined above.\n",
    "\n",
    "### First generating parameters for the qauntum circuit"
   ]
  },
  {
   "cell_type": "code",
   "execution_count": null,
   "id": "65d37686-873e-4f04-a207-8f04dab7fc23",
   "metadata": {},
   "outputs": [],
   "source": [
    "from classiq import (\n",
    "    Preferences,\n",
    "    construct_combinatorial_optimization_model,\n",
    "    set_preferences,\n",
    ")\n",
    "from classiq.applications.combinatorial_optimization import OptimizerConfig, QAOAConfig\n",
    "\n",
    "qaoa_config = QAOAConfig(num_layers=5, penalty_energy=3.0)\n",
    "# the penalty_energy influence the convergence to the right solution."
   ]
  },
  {
   "cell_type": "markdown",
   "id": "8b78c9d7-3cac-4f5d-ba57-6bb0b04cac07",
   "metadata": {},
   "source": [
    "For the classical optimization part of the QAOA algorithm (`OptimizerConfig`) we define the maximum number of iterations of the hybrid algorithm(`max_iteration`) and the $\\alpha$-parameter (`alpha_cvar`) for running CVaR-QAOA, an improved variation of the QAOA algorithm:"
   ]
  },
  {
   "cell_type": "code",
   "execution_count": null,
   "id": "4923e39f-c497-413d-a832-1656594b6ada",
   "metadata": {},
   "outputs": [],
   "source": [
    "optimizer_config = OptimizerConfig(\n",
    "    max_iteration=100,\n",
    "    alpha_cvar=1,\n",
    ")"
   ]
  },
  {
   "cell_type": "markdown",
   "id": "ec0491fb-fbe5-4b5e-845a-a4ed48dab919",
   "metadata": {},
   "source": [
    "Combining all the parts together using `construct_combinatorial_optimization_model` to get a `SeralizedModel` which include `pyomo.ConcreteModel`, `QAOAConfig`, and `OptimizerConfig`."
   ]
  },
  {
   "cell_type": "code",
   "execution_count": null,
   "id": "8972cb39-3dd2-4930-9f57-a448eae0e7fe",
   "metadata": {},
   "outputs": [],
   "source": [
    "qmod = construct_combinatorial_optimization_model(\n",
    "    pyo_model=opt_model,\n",
    "    qaoa_config=qaoa_config,\n",
    "    optimizer_config=optimizer_config,\n",
    ")\n",
    "\n",
    "# defining cosntraint such as computer and parameters for a quicker and more optimized circuit.\n",
    "preferences = Preferences(transpilation_option=\"none\", timeout_seconds=3000)\n",
    "\n",
    "qmod = set_preferences(qmod, preferences)"
   ]
  },
  {
   "cell_type": "markdown",
   "id": "2ad2070e-3d16-4b2c-a9e8-a68506ba6430",
   "metadata": {},
   "source": [
    "Now we can create a quantum circuit using the `synthesize` command and show it"
   ]
  },
  {
   "cell_type": "code",
   "execution_count": null,
   "id": "1032fb02-17ce-4534-8845-b75d149e8fb4",
   "metadata": {},
   "outputs": [],
   "source": [
    "with open(\"electric_grid_optimization.qmod\", \"w\") as f:\n",
    "    f.write(qmod)"
   ]
  },
  {
   "cell_type": "code",
   "execution_count": null,
   "id": "4e057ddc-1f99-464e-99e4-cb31e885a07b",
   "metadata": {},
   "outputs": [],
   "source": [
    "from classiq import show, synthesize\n",
    "\n",
    "qprog = synthesize(qmod)\n",
    "show(qprog)"
   ]
  },
  {
   "cell_type": "markdown",
   "id": "6a3f6f40-1b5b-4c48-9508-115096a948f2",
   "metadata": {},
   "source": [
    "We now execute the problem iteratively using the generated circuit by using the `execute` method:"
   ]
  },
  {
   "cell_type": "code",
   "execution_count": null,
   "id": "f0e5e58a-f97c-47bc-b16b-1185e0a17b96",
   "metadata": {},
   "outputs": [],
   "source": [
    "from classiq import execute\n",
    "\n",
    "res = execute(qprog).result()"
   ]
  },
  {
   "cell_type": "markdown",
   "id": "954c7a4f-ec86-46cb-93ea-d04dfcf0d985",
   "metadata": {},
   "source": [
    "We can check the convergence of the run:"
   ]
  },
  {
   "cell_type": "code",
   "execution_count": null,
   "id": "af2b4f18-b829-47a8-82ac-c3e0fb4a6894",
   "metadata": {},
   "outputs": [],
   "source": [
    "from classiq.execution import VQESolverResult\n",
    "\n",
    "vqe_result = res[1].value\n",
    "vqe_result.convergence_graph"
   ]
  },
  {
   "cell_type": "markdown",
   "id": "6d92f27a-6e9c-44ac-8fd2-63928cdd3161",
   "metadata": {},
   "source": [
    "## Get best solution statistics"
   ]
  },
  {
   "cell_type": "code",
   "execution_count": null,
   "id": "d2d48631-eba8-42e1-b2e1-6de68084cbdc",
   "metadata": {},
   "outputs": [],
   "source": [
    "import pandas as pd\n",
    "\n",
    "optimization_result = pd.DataFrame.from_records(res[0].value)\n",
    "optimization_result.sort_values(by=\"cost\", ascending=True).head(5)"
   ]
  },
  {
   "cell_type": "code",
   "execution_count": null,
   "id": "21c3056d-6475-40a4-88dc-9e3703510827",
   "metadata": {},
   "outputs": [],
   "source": [
    "optimization_result[\"cost\"].plot(\n",
    "    kind=\"hist\", bins=30, edgecolor=\"black\", weights=optimization_result[\"probability\"]\n",
    ")\n",
    "plt.ylabel(\"Probability\", fontsize=16)\n",
    "plt.xlabel(\"cost\", fontsize=16)\n",
    "plt.tick_params(axis=\"both\", labelsize=14)"
   ]
  },
  {
   "cell_type": "markdown",
   "id": "54b9fe66-3413-4ec2-8234-f5c048dccb18",
   "metadata": {},
   "source": [
    "## Best solution visulalization"
   ]
  },
  {
   "cell_type": "code",
   "execution_count": null,
   "id": "a6c01f4d-ca8a-40ca-8ce3-8d969c9aa42a",
   "metadata": {},
   "outputs": [],
   "source": [
    "# This function plots the solution in a table and a graph\n",
    "\n",
    "\n",
    "def plotting_sol(x_sol, cost, is_classic: bool):\n",
    "    x_sol_to_mat = np.reshape(np.array(x_sol), [N, M])  # vector to matrix\n",
    "    # opened facilities will be marked in red\n",
    "    opened_fac_dict = {}\n",
    "    for fa in range(N):\n",
    "        if sum(x_sol_to_mat[fa, m] for m in range(M)) > 0:\n",
    "            opened_fac_dict.update({Sources[fa]: \"background-color: #F43764\"})\n",
    "\n",
    "    # classical or quantum\n",
    "    if is_classic == True:\n",
    "        display(Markdown(\"**CLASSICAL SOLUTION**\"))\n",
    "        print(\"total cost= \", cost)\n",
    "    else:\n",
    "        display(Markdown(\"**QAOA SOLUTION**\"))\n",
    "        print(\"total cost= \", cost)\n",
    "\n",
    "    # plotting in a table\n",
    "    df = pd.DataFrame(x_sol_to_mat)\n",
    "    df.columns = Consumers\n",
    "    df.index = Sources\n",
    "    plotable = df.style.apply(lambda x: x.index.map(opened_fac_dict))\n",
    "    display(plotable)\n",
    "\n",
    "    # plotting in a graph\n",
    "    graph_sol = nx.DiGraph()\n",
    "    graph_sol.add_nodes_from(Sources + Consumers)\n",
    "    for n, m in product(range(N), range(M)):\n",
    "        if x_sol_to_mat[n, m] > 0:\n",
    "            graph_sol.add_edges_from(\n",
    "                [(Sources[n], Consumers[m])], weight=cost_matrix[n, m]\n",
    "            )\n",
    "\n",
    "    plt.figure(figsize=(6, 5))\n",
    "    left = nx.bipartite.sets(graph_sol, top_nodes=Sources)[0]\n",
    "    pos = nx.bipartite_layout(graph_sol, left)\n",
    "\n",
    "    nx.draw_networkx(\n",
    "        graph_sol, pos=pos, nodelist=Consumers, font_size=22, font_color=\"None\"\n",
    "    )\n",
    "    nx.draw_networkx_nodes(\n",
    "        graph_sol, pos, nodelist=Consumers, node_color=\"#119DA4\", node_size=500\n",
    "    )\n",
    "    for fa in Sources:\n",
    "        x, y = pos[fa]\n",
    "        if fa in opened_fac_dict.keys():\n",
    "            plt.text(\n",
    "                x,\n",
    "                y,\n",
    "                s=fa,\n",
    "                bbox=dict(facecolor=\"#F43764\", alpha=1),\n",
    "                horizontalalignment=\"center\",\n",
    "                fontsize=15,\n",
    "            )\n",
    "        else:\n",
    "            plt.text(\n",
    "                x,\n",
    "                y,\n",
    "                s=fa,\n",
    "                bbox=dict(facecolor=\"#F4F9E9\", alpha=1),\n",
    "                horizontalalignment=\"center\",\n",
    "                fontsize=15,\n",
    "            )\n",
    "\n",
    "    nx.draw_networkx_edges(graph_sol, pos, width=2)\n",
    "    labels = nx.get_edge_attributes(graph_sol, \"weight\")\n",
    "    nx.draw_networkx_edge_labels(graph, pos, edge_labels=labels, font_size=12)\n",
    "    nx.draw_networkx_labels(\n",
    "        graph_sol,\n",
    "        pos,\n",
    "        labels={co: co for co in Consumers},\n",
    "        font_size=15,\n",
    "        font_color=\"#F4F9E9\",\n",
    "    )\n",
    "\n",
    "    plt.tight_layout()\n",
    "    plt.axis(\"off\")\n",
    "    plt.show()\n",
    "\n",
    "\n",
    "best_solution = optimization_result.loc[optimization_result.cost.idxmin()]\n",
    "\n",
    "plotting_sol(best_solution.solution, best_solution.cost, is_classic=False)"
   ]
  },
  {
   "cell_type": "markdown",
   "id": "9900c91e-23dd-47b8-9699-ae75f3013db2",
   "metadata": {},
   "source": [
    "### Compare to a classical solver"
   ]
  },
  {
   "cell_type": "code",
   "execution_count": null,
   "id": "1eb5cf32-d8a4-4020-ab5b-39f19d9bd1bb",
   "metadata": {},
   "outputs": [],
   "source": [
    "from pyomo.opt import SolverFactory\n",
    "\n",
    "solver = SolverFactory(\"couenne\")\n",
    "solver.solve(opt_model)\n",
    "\n",
    "# opt_model.display()"
   ]
  },
  {
   "cell_type": "code",
   "execution_count": null,
   "id": "1585aef7-d330-4c54-8d26-dae6434c5573",
   "metadata": {},
   "outputs": [],
   "source": [
    "best_classical_solution = np.array(\n",
    "    [pyo.value(opt_model.x[idx]) for idx in np.ndindex(cost_matrix.shape)]\n",
    ").reshape(cost_matrix.shape)\n",
    "\n",
    "plotting_sol(\n",
    "    np.round([pyo.value(opt_model.x[idx]) for idx in np.ndindex(cost_matrix.shape)]),\n",
    "    pyo.value(opt_model.cost),\n",
    "    is_classic=True,\n",
    ")"
   ]
  },
  {
   "cell_type": "markdown",
   "id": "2fa6c00e-18b1-4415-a538-3d9d80cf9aaa",
   "metadata": {},
   "source": [
    "<a id='OpPower'>[1]</a>: Solving optimization problems when designing power supply circuits. https://www.e3s-conferences.org/articles/e3sconf/pdf/2019/50/e3sconf_ses18_04011.pdf\n"
   ]
  }
 ],
 "metadata": {
  "kernelspec": {
   "display_name": "Python 3 (ipykernel)",
   "language": "python",
   "name": "python3"
  },
  "language_info": {
   "codemirror_mode": {
    "name": "ipython",
    "version": 3
   },
   "file_extension": ".py",
   "mimetype": "text/x-python",
   "name": "python",
   "nbconvert_exporter": "python",
   "pygments_lexer": "ipython3",
   "version": "3.11.4"
  }
 },
 "nbformat": 4,
 "nbformat_minor": 5
}
