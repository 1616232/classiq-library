{
 "cells": [
  {
   "cell_type": "markdown",
   "id": "13d83b59-57f7-48ee-8bff-deda7d28edc5",
   "metadata": {
    "tags": []
   },
   "source": [
    "\n",
    "# Max Clique Problem\n",
    "\n"
   ]
  },
  {
   "cell_type": "markdown",
   "id": "6d56bb6d-9f3b-45db-8e98-b50f27af7505",
   "metadata": {
    "tags": []
   },
   "source": [
    "## Background\n",
    "\n",
    "The problem is in graph theory. A clique is a subset of vertices in a graph such each pair of them is adjacent to each other.\n",
    "\n",
    "The max clique problem is given a graph $G = (V,E)$, find the maximal clique in the graph. It is known to be in the NP-hard complexity class.\n"
   ]
  },
  {
   "cell_type": "markdown",
   "id": "3b5fbdb8-373b-4629-8ca1-51ef9be82edd",
   "metadata": {},
   "source": [
    "## Solving the problem with classiq\n",
    "\n",
    "### Necessary Packages\n",
    "\n",
    "In this demo, besides the `classiq` package, we'll use the following packages:"
   ]
  },
  {
   "cell_type": "code",
   "execution_count": null,
   "id": "978b10ae-6484-4b9d-9c20-c9ca19d8ee6f",
   "metadata": {
    "tags": []
   },
   "outputs": [],
   "source": [
    "%%capture\n",
    "! pip install 'networkx[default]'\n",
    "! pip install pyomo"
   ]
  },
  {
   "cell_type": "markdown",
   "id": "0bdc4e6a-199b-44b3-bd3f-fd24722b616b",
   "metadata": {},
   "source": [
    "## Define the optimization problem\n",
    "\n",
    "We encode each node"
   ]
  },
  {
   "cell_type": "code",
   "execution_count": null,
   "id": "83ddbd07-f7ab-4d80-b357-3890622d395f",
   "metadata": {
    "tags": []
   },
   "outputs": [],
   "source": [
    "import networkx as nx\n",
    "import numpy as np\n",
    "import pyomo.environ as pyo\n",
    "\n",
    "\n",
    "def define_max_clique_model(graph):\n",
    "    model = pyo.ConcreteModel()\n",
    "\n",
    "    # each x_i states if node i belongs to the cliques\n",
    "    model.x = pyo.Var(graph.nodes, domain=pyo.Binary)\n",
    "    x_variables = np.array(list(model.x.values()))\n",
    "\n",
    "    # define the complement adjacency matrix as the matrix where 1 exists for each non-existing edge\n",
    "    adjacency_matrix = nx.convert_matrix.to_numpy_array(graph, nonedge=0)\n",
    "    complement_adjacency_matrix = (\n",
    "        1\n",
    "        - nx.convert_matrix.to_numpy_array(graph, nonedge=0)\n",
    "        - np.identity(len(model.x))\n",
    "    )\n",
    "\n",
    "    # constraint that 2 nodes without edge in the graph cannot be chosen together\n",
    "    model.clique_constraint = pyo.Constraint(\n",
    "        expr=x_variables @ complement_adjacency_matrix @ x_variables == 0\n",
    "    )\n",
    "\n",
    "    # maximize the number of nodes in the chosen clique\n",
    "    model.value = pyo.Objective(expr=sum(x_variables), sense=pyo.maximize)\n",
    "\n",
    "    return model"
   ]
  },
  {
   "cell_type": "markdown",
   "id": "3496c5d6-7df6-49fb-b5b9-5ba48d2b7d62",
   "metadata": {},
   "source": [
    "### Initialize the model with parameters"
   ]
  },
  {
   "cell_type": "code",
   "execution_count": null,
   "id": "bc9871c1-224e-4206-b39e-af7e448aca70",
   "metadata": {
    "tags": []
   },
   "outputs": [],
   "source": [
    "graph = nx.erdos_renyi_graph(7, 0.6, seed=79)\n",
    "nx.draw_kamada_kawai(graph, with_labels=True)\n",
    "max_clique_model = define_max_clique_model(graph)"
   ]
  },
  {
   "cell_type": "markdown",
   "id": "abd17e36-857b-4101-9188-1be70206177e",
   "metadata": {
    "tags": []
   },
   "source": [
    "## Setting Up the Classiq Problem Instance\n",
    "\n",
    "In order to solve the Pyomo model defined above, we use the Classiq combinatorial optimization engine. For the quantum part of the QAOA algorithm (`QAOAConfig`) - define the number of repetitions (`num_layers`):"
   ]
  },
  {
   "cell_type": "code",
   "execution_count": null,
   "id": "4233341d-139c-493b-b4af-210f71e3354a",
   "metadata": {
    "tags": []
   },
   "outputs": [],
   "source": [
    "from classiq import construct_combinatorial_optimization_model\n",
    "from classiq.applications.combinatorial_optimization import OptimizerConfig, QAOAConfig\n",
    "\n",
    "qaoa_config = QAOAConfig(num_layers=20)"
   ]
  },
  {
   "cell_type": "markdown",
   "id": "e8e4f132-55d7-4a46-846c-b4d4b5edac57",
   "metadata": {},
   "source": [
    "For the classical optimization part of the QAOA algorithm we define the maximum number of classical iterations (`max_iteration`) and the $\\alpha$-parameter (`alpha_cvar`) for running CVaR-QAOA, an improved variation of the QAOA algorithm [[3](#cvar)]:"
   ]
  },
  {
   "cell_type": "code",
   "execution_count": null,
   "id": "7384872d-a28f-49e3-918d-a5749c70d873",
   "metadata": {
    "pycharm": {
     "name": "#%%\n"
    },
    "tags": []
   },
   "outputs": [],
   "source": [
    "optimizer_config = OptimizerConfig(max_iteration=1, alpha_cvar=1)"
   ]
  },
  {
   "cell_type": "markdown",
   "id": "01c3df80-5e78-4cf6-9429-4ef0eaafed78",
   "metadata": {},
   "source": [
    "Lastly, we load the model, based on the problem and algorithm parameters, which we can use to solve the problem:"
   ]
  },
  {
   "cell_type": "code",
   "execution_count": null,
   "id": "3f848bc5-1ded-440a-b426-2f40e21949aa",
   "metadata": {
    "pycharm": {
     "name": "#%%\n"
    },
    "tags": []
   },
   "outputs": [],
   "source": [
    "qmod = construct_combinatorial_optimization_model(\n",
    "    pyo_model=max_clique_model,\n",
    "    qaoa_config=qaoa_config,\n",
    "    optimizer_config=optimizer_config,\n",
    ")"
   ]
  },
  {
   "cell_type": "markdown",
   "id": "4e28c1f5-d1df-4600-a364-0ef54dab8209",
   "metadata": {},
   "source": [
    "We also set the quantum backend we want to execute on:"
   ]
  },
  {
   "cell_type": "code",
   "execution_count": null,
   "id": "794a44cd-6d2a-47b1-9e71-fb2d05a8442b",
   "metadata": {
    "tags": []
   },
   "outputs": [],
   "source": [
    "from classiq import set_execution_preferences\n",
    "from classiq.execution import ClassiqBackendPreferences, ExecutionPreferences\n",
    "\n",
    "backend_preferences = ExecutionPreferences(\n",
    "    backend_preferences=ClassiqBackendPreferences(backend_name=\"aer_simulator\")\n",
    ")\n",
    "\n",
    "qmod = set_execution_preferences(qmod, backend_preferences)"
   ]
  },
  {
   "cell_type": "code",
   "execution_count": null,
   "id": "1acdcc28-3101-4a80-9b36-87cd5780abbb",
   "metadata": {},
   "outputs": [],
   "source": [
    "with open(\"max_clique.qmod\", \"w\") as f:\n",
    "    f.write(qmod)"
   ]
  },
  {
   "cell_type": "markdown",
   "id": "6e3057bc-33bc-4a2c-818e-b967598c2141",
   "metadata": {},
   "source": [
    "## Synthesizing the QAOA Circuit and Solving the Problem\n",
    "\n",
    "We can now synthesize and view the QAOA circuit (ansatz) used to solve the optimization problem:"
   ]
  },
  {
   "cell_type": "code",
   "execution_count": null,
   "id": "ad8e435d-4482-4d5f-ad53-886581d4fea0",
   "metadata": {
    "pycharm": {
     "name": "#%%\n"
    },
    "tags": []
   },
   "outputs": [],
   "source": [
    "from classiq import show, synthesize\n",
    "\n",
    "qprog = synthesize(qmod)\n",
    "show(qprog)"
   ]
  },
  {
   "cell_type": "markdown",
   "id": "1f78ae22-4ab8-4890-ad74-227dedcbde75",
   "metadata": {},
   "source": [
    "We now solve the problem using the generated circuit by using the `execute` method:"
   ]
  },
  {
   "cell_type": "code",
   "execution_count": null,
   "id": "27afef0a-52a4-4930-8a3a-f509bd5956bd",
   "metadata": {
    "tags": []
   },
   "outputs": [],
   "source": [
    "from classiq import execute\n",
    "\n",
    "res = execute(qprog).result()"
   ]
  },
  {
   "cell_type": "markdown",
   "id": "f4f0b68a-e56f-4d11-b9f8-fe3b9bdab697",
   "metadata": {
    "tags": []
   },
   "source": [
    "# Optimization Results"
   ]
  },
  {
   "cell_type": "markdown",
   "id": "bdacb755-5cdc-45c2-95d5-037efe20f9d6",
   "metadata": {},
   "source": [
    "We can also examine the statistics of the algorithm:"
   ]
  },
  {
   "cell_type": "code",
   "execution_count": null,
   "id": "0134df1a-8894-4a1f-b6da-dc1883a49599",
   "metadata": {
    "tags": []
   },
   "outputs": [],
   "source": [
    "import pandas as pd\n",
    "\n",
    "optimization_result = pd.DataFrame.from_records(res[0].value)\n",
    "optimization_result.sort_values(by=\"cost\", ascending=False).head(5)"
   ]
  },
  {
   "cell_type": "markdown",
   "id": "2724dafb-eb26-4756-8086-e415cecb0e78",
   "metadata": {},
   "source": [
    "## Resulting Clique"
   ]
  },
  {
   "cell_type": "code",
   "execution_count": null,
   "id": "4d99764d-8ff1-4397-9dac-c5e584862bfb",
   "metadata": {
    "tags": []
   },
   "outputs": [],
   "source": [
    "solution = optimization_result.solution[optimization_result.cost.idxmax()]\n",
    "solution_nodes = [v for v in graph.nodes if solution[v]]\n",
    "solution_edges = [\n",
    "    (u, v) for u, v in graph.edges if u in solution_nodes and v in solution_nodes\n",
    "]\n",
    "nx.draw_kamada_kawai(graph, with_labels=True)\n",
    "nx.draw_kamada_kawai(\n",
    "    graph,\n",
    "    with_labels=True,\n",
    "    nodelist=solution_nodes,\n",
    "    edgelist=solution_edges,\n",
    "    node_color=\"r\",\n",
    "    edge_color=\"r\",\n",
    ")"
   ]
  },
  {
   "cell_type": "markdown",
   "id": "d4d30ce4-f2b3-4049-b0e0-3cdc7b4897a1",
   "metadata": {},
   "source": [
    "And the histogram:"
   ]
  },
  {
   "cell_type": "code",
   "execution_count": null,
   "id": "c3233840-123c-4e29-8368-87ea3c135863",
   "metadata": {
    "tags": []
   },
   "outputs": [],
   "source": [
    "optimization_result.hist(\"cost\", weights=optimization_result[\"probability\"])"
   ]
  },
  {
   "cell_type": "markdown",
   "id": "896bd3ad-ac54-4e21-b654-ba00743ece86",
   "metadata": {},
   "source": [
    "Lastly, we can compare to the classical solution of the problem:"
   ]
  },
  {
   "cell_type": "markdown",
   "id": "c9b54c5b-10e5-4f9c-9e00-44ac2cf24a33",
   "metadata": {},
   "source": [
    "## Classical optimizer results"
   ]
  },
  {
   "cell_type": "code",
   "execution_count": null,
   "id": "dd5a1911-0eea-47fc-82f6-8942c8a4eac8",
   "metadata": {
    "pycharm": {
     "name": "#%%\n"
    },
    "tags": []
   },
   "outputs": [],
   "source": [
    "from pyomo.opt import SolverFactory\n",
    "\n",
    "solver = SolverFactory(\"couenne\")\n",
    "solver.solve(max_clique_model)\n",
    "\n",
    "max_clique_model.display()"
   ]
  },
  {
   "cell_type": "code",
   "execution_count": null,
   "id": "5fccfe7a-4567-4c2c-8287-1cae1b75e875",
   "metadata": {
    "tags": []
   },
   "outputs": [],
   "source": [
    "solution = [int(pyo.value(max_clique_model.x[i])) for i in graph.nodes]\n",
    "solution_nodes = [v for v in graph.nodes if solution[v]]\n",
    "solution_edges = [\n",
    "    (u, v) for u, v in graph.edges if u in solution_nodes and v in solution_nodes\n",
    "]\n",
    "nx.draw_kamada_kawai(graph, with_labels=True)\n",
    "nx.draw_kamada_kawai(\n",
    "    graph,\n",
    "    with_labels=True,\n",
    "    nodelist=solution_nodes,\n",
    "    edgelist=solution_edges,\n",
    "    node_color=\"r\",\n",
    "    edge_color=\"r\",\n",
    ")"
   ]
  }
 ],
 "metadata": {
  "kernelspec": {
   "display_name": "Python 3 (ipykernel)",
   "language": "python",
   "name": "python3"
  },
  "language_info": {
   "codemirror_mode": {
    "name": "ipython",
    "version": 3
   },
   "file_extension": ".py",
   "mimetype": "text/x-python",
   "name": "python",
   "nbconvert_exporter": "python",
   "pygments_lexer": "ipython3",
   "version": "3.11.4"
  }
 },
 "nbformat": 4,
 "nbformat_minor": 5
}
