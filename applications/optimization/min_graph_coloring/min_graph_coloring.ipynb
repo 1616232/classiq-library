{
 "cells": [
  {
   "cell_type": "markdown",
   "id": "13d83b59-57f7-48ee-8bff-deda7d28edc5",
   "metadata": {
    "tags": []
   },
   "source": [
    "\n",
    "# Min Graph Coloring Problem\n"
   ]
  },
  {
   "cell_type": "markdown",
   "id": "6d56bb6d-9f3b-45db-8e98-b50f27af7505",
   "metadata": {
    "jp-MarkdownHeadingCollapsed": true,
    "lines_to_next_cell": 2,
    "tags": []
   },
   "source": [
    "\n",
    "## Background\n",
    "\n",
    "Given a graph $G = (V,E)$, find the minimal number of colors k required to properly color it.\n",
    "A coloring is legal if:\n",
    "\n",
    "- each vetrex ${v_i}$ is assigned with a color $k_i \\in \\{0, 1, ..., k-1\\}$\n",
    "- adajecnt vertex have different colors: for each $v_i, v_j$ such that $(v_i, v_j) \\in E$, $k_i \\neq k_j$.\n",
    "A graph which is k-colorable but not (k−1)-colorable is said to have chromatic number k. The maximum bound on the chromatic number is $D_G + 1$, where $D_G$ is the maximum vertex degree. The graph coloring problem is known to be in the NP-hard complexity class."
   ]
  },
  {
   "cell_type": "markdown",
   "id": "0bdc4e6a-199b-44b3-bd3f-fd24722b616b",
   "metadata": {
    "tags": []
   },
   "source": [
    "## Solving the problem with classiq\n",
    "\n"
   ]
  },
  {
   "cell_type": "markdown",
   "id": "adae0368-70e7-4083-be65-bbe902c0d307",
   "metadata": {
    "tags": []
   },
   "source": [
    "### Necessary Packages\n",
    "\n",
    "In this demo, besides the `classiq` package, we'll use the following packages:\n"
   ]
  },
  {
   "cell_type": "code",
   "execution_count": null,
   "id": "83ed6807-a530-4400-9a84-b62b73479da1",
   "metadata": {
    "lines_to_next_cell": 2,
    "tags": []
   },
   "outputs": [],
   "source": [
    "! pip install 'networkx[default]'\n",
    "! pip install pyomo\n",
    "! pip install matplotlib"
   ]
  },
  {
   "cell_type": "markdown",
   "id": "5eeb0034-b0e0-4aa4-93f5-7172437c5cdd",
   "metadata": {
    "tags": []
   },
   "source": [
    "### Define the optimization problem\n"
   ]
  },
  {
   "cell_type": "markdown",
   "id": "b80625e0-9c9c-4ed2-9109-0493521ac310",
   "metadata": {},
   "source": [
    "We encode the graph coloring with a matrix of variables `X` with dimensions $k \\times |V|$ using one-hot encoding, such that a $X_{ki} = 1$ means that vertex i is colored by color k.\n",
    "\n",
    "We require that each vertex is colored by exactly one color and that 2 adjacent vertices have different colors."
   ]
  },
  {
   "cell_type": "code",
   "execution_count": null,
   "id": "83ddbd07-f7ab-4d80-b357-3890622d395f",
   "metadata": {
    "tags": []
   },
   "outputs": [],
   "source": [
    "import networkx as nx\n",
    "import numpy as np\n",
    "import pyomo.environ as pyo\n",
    "\n",
    "\n",
    "def define_min_graph_coloring_model(graph, max_num_colors):\n",
    "    model = pyo.ConcreteModel()\n",
    "\n",
    "    nodes = list(graph.nodes())\n",
    "    colors = range(0, max_num_colors)\n",
    "\n",
    "    model.x = pyo.Var(colors, nodes, domain=pyo.Binary)\n",
    "    x_variables = np.array(list(model.x.values()))\n",
    "\n",
    "    adjacency_matrix = nx.convert_matrix.to_numpy_array(graph, nonedge=0)\n",
    "    adjacency_matrix_block_diagonal = np.kron(np.eye(degree_max), adjacency_matrix)\n",
    "\n",
    "    model.conflicting_color_constraint = pyo.Constraint(\n",
    "        expr=x_variables @ adjacency_matrix_block_diagonal @ x_variables == 0\n",
    "    )\n",
    "\n",
    "    @model.Constraint(nodes)\n",
    "    def each_vertex_is_colored(model, node):\n",
    "        return sum(model.x[color, node] for color in colors) == 1\n",
    "\n",
    "    def is_color_used(color):\n",
    "        is_color_not_used = np.prod([(1 - model.x[color, node]) for node in nodes])\n",
    "        return 1 - is_color_not_used\n",
    "\n",
    "    # minimize the number of colors in use\n",
    "    model.value = pyo.Objective(\n",
    "        expr=sum(is_color_used(color) for color in colors), sense=pyo.minimize\n",
    "    )\n",
    "\n",
    "    return model"
   ]
  },
  {
   "cell_type": "markdown",
   "id": "3496c5d6-7df6-49fb-b5b9-5ba48d2b7d62",
   "metadata": {},
   "source": [
    "### Initialize the model with example graph"
   ]
  },
  {
   "cell_type": "code",
   "execution_count": null,
   "id": "bc9871c1-224e-4206-b39e-af7e448aca70",
   "metadata": {
    "tags": []
   },
   "outputs": [],
   "source": [
    "graph = nx.erdos_renyi_graph(5, 0.3, seed=79)\n",
    "nx.draw_kamada_kawai(graph, with_labels=True)\n",
    "\n",
    "degree_sequence = sorted((d for n, d in graph.degree()), reverse=True)\n",
    "degree_max = max(degree_sequence)\n",
    "max_num_colors = degree_max\n",
    "\n",
    "coloring_model = define_min_graph_coloring_model(graph, max_num_colors)"
   ]
  },
  {
   "cell_type": "markdown",
   "id": "958deac9-b057-485e-bea0-52b95664ae6b",
   "metadata": {},
   "source": [
    "### show the resulting pyomo model"
   ]
  },
  {
   "cell_type": "code",
   "execution_count": null,
   "id": "e5ba50c9-5d89-4ebf-9475-830da3ce5539",
   "metadata": {
    "tags": []
   },
   "outputs": [],
   "source": [
    "coloring_model.pprint()"
   ]
  },
  {
   "cell_type": "markdown",
   "id": "fed74b17-0343-410f-b061-f4f8e422c3ab",
   "metadata": {},
   "source": [
    "### Initialize classiq QAOA solver"
   ]
  },
  {
   "cell_type": "markdown",
   "id": "ccba58ac-beef-47cd-8e55-fa84d652eb65",
   "metadata": {
    "tags": []
   },
   "source": [
    "## Setting Up the Classiq Problem Instance\n",
    "\n",
    "In order to solve the Pyomo model defined above, we use the Classiq combinatorial optimization engine. For the quantum part of the QAOA algorithm (`QAOAConfig`) - define the number of repetitions (`num_layers`):"
   ]
  },
  {
   "cell_type": "code",
   "execution_count": null,
   "id": "bcf6b25c-d91a-418d-9de7-9bfbe5d8a42a",
   "metadata": {
    "tags": []
   },
   "outputs": [],
   "source": [
    "from classiq import construct_combinatorial_optimization_model\n",
    "from classiq.applications.combinatorial_optimization import OptimizerConfig, QAOAConfig\n",
    "\n",
    "qaoa_config = QAOAConfig(num_layers=6, penalty_energy=10.0)"
   ]
  },
  {
   "cell_type": "markdown",
   "id": "e7de6b8d-bb0e-4d01-9259-59340b2f1e83",
   "metadata": {},
   "source": [
    "For the classical optimization part of the QAOA algorithm we define the maximum number of classical iterations (`max_iteration`) and the $\\alpha$-parameter (`alpha_cvar`) for running CVaR-QAOA, an improved variation of the QAOA algorithm [[3](#cvar)]:"
   ]
  },
  {
   "cell_type": "code",
   "execution_count": null,
   "id": "37b4ee2f-3be3-4431-961b-83f7daa619fb",
   "metadata": {
    "pycharm": {
     "name": "#%%\n"
    },
    "tags": []
   },
   "outputs": [],
   "source": [
    "optimizer_config = OptimizerConfig(alpha_cvar=0.3)"
   ]
  },
  {
   "cell_type": "markdown",
   "id": "beb4daac-5567-4d30-9f7a-2c7255807f85",
   "metadata": {},
   "source": [
    "Lastly, we load the model, based on the problem and algorithm parameters, which we can use to solve the problem:"
   ]
  },
  {
   "cell_type": "code",
   "execution_count": null,
   "id": "94aa17c5-439d-4dc6-9470-74993d9c9fd5",
   "metadata": {
    "pycharm": {
     "name": "#%%\n"
    },
    "tags": []
   },
   "outputs": [],
   "source": [
    "qmod = construct_combinatorial_optimization_model(\n",
    "    pyo_model=coloring_model,\n",
    "    qaoa_config=qaoa_config,\n",
    "    optimizer_config=optimizer_config,\n",
    ")"
   ]
  },
  {
   "cell_type": "markdown",
   "id": "7433de86-94d3-4ab2-96d8-c6e22f8f7133",
   "metadata": {},
   "source": [
    "We also set the quantum backend we want to execute on:"
   ]
  },
  {
   "cell_type": "code",
   "execution_count": null,
   "id": "a7d86d74-2f1c-49c4-af90-878295ceb55b",
   "metadata": {
    "tags": []
   },
   "outputs": [],
   "source": [
    "from classiq import set_execution_preferences\n",
    "from classiq.execution import ClassiqBackendPreferences, ExecutionPreferences\n",
    "\n",
    "backend_preferences = ExecutionPreferences(\n",
    "    backend_preferences=ClassiqBackendPreferences(backend_name=\"aer_simulator\")\n",
    ")\n",
    "\n",
    "qmod = set_execution_preferences(qmod, backend_preferences)"
   ]
  },
  {
   "cell_type": "code",
   "execution_count": null,
   "id": "17ed6f20-f1e7-4305-86ad-91f3e6939e0b",
   "metadata": {},
   "outputs": [],
   "source": [
    "with open(\"min_graph_coloring.qmod\", \"w\") as f:\n",
    "    f.write(qmod)"
   ]
  },
  {
   "cell_type": "markdown",
   "id": "8f1a08a1-2ed6-46c6-9083-afd3d8b4e268",
   "metadata": {},
   "source": [
    "## Synthesizing the QAOA Circuit and Solving the Problem\n",
    "\n",
    "We can now synthesize and view the QAOA circuit (ansatz) used to solve the optimization problem:"
   ]
  },
  {
   "cell_type": "code",
   "execution_count": null,
   "id": "3a99384f-c835-44a5-811c-bc69b5c60aae",
   "metadata": {
    "pycharm": {
     "name": "#%%\n"
    },
    "tags": []
   },
   "outputs": [],
   "source": [
    "from classiq import show, synthesize\n",
    "\n",
    "qprog = synthesize(qmod)\n",
    "show(qprog)"
   ]
  },
  {
   "cell_type": "markdown",
   "id": "bd7640ce-3bed-4d79-97e8-fce32d29e720",
   "metadata": {},
   "source": [
    "We now solve the problem using the generated circuit by using the `execute` method:"
   ]
  },
  {
   "cell_type": "code",
   "execution_count": null,
   "id": "9c5fc0fc-3f9c-457e-9a7f-97d21290c67b",
   "metadata": {
    "tags": []
   },
   "outputs": [],
   "source": [
    "from classiq import execute\n",
    "\n",
    "res = execute(qprog).result()"
   ]
  },
  {
   "cell_type": "markdown",
   "id": "1e7b9756-2703-41ae-a7b6-0ad3ce270330",
   "metadata": {},
   "source": [
    "We can check the convergence of the run:"
   ]
  },
  {
   "cell_type": "code",
   "execution_count": null,
   "id": "0d3191c7-ea88-4888-a1b7-aeed6cc65cf2",
   "metadata": {
    "tags": []
   },
   "outputs": [],
   "source": [
    "from classiq.execution import VQESolverResult\n",
    "\n",
    "vqe_result = res[1].value\n",
    "vqe_result.convergence_graph"
   ]
  },
  {
   "cell_type": "markdown",
   "id": "8e75fc5d-29fe-4392-a6fb-64a76ca4c0b8",
   "metadata": {
    "tags": []
   },
   "source": [
    "# Optimization Results"
   ]
  },
  {
   "cell_type": "markdown",
   "id": "6224908a-8b94-4f43-a73f-b647f6bcd56f",
   "metadata": {},
   "source": [
    "We can also examine the statistics of the algorithm:"
   ]
  },
  {
   "cell_type": "code",
   "execution_count": null,
   "id": "50ce011c-6ad5-4ef8-b23b-0f009f464bad",
   "metadata": {
    "tags": []
   },
   "outputs": [],
   "source": [
    "import pandas as pd\n",
    "\n",
    "optimization_result = pd.DataFrame.from_records(res[0].value)\n",
    "optimization_result.sort_values(by=\"cost\", ascending=False).head(5)"
   ]
  },
  {
   "cell_type": "markdown",
   "id": "dc772380-e47e-4ce7-9ed9-c62879911c09",
   "metadata": {},
   "source": [
    "And the histogram:"
   ]
  },
  {
   "cell_type": "code",
   "execution_count": null,
   "id": "9793d479-62f9-4a4b-92bc-439eb1ef9ba5",
   "metadata": {
    "tags": []
   },
   "outputs": [],
   "source": [
    "optimization_result.hist(\"cost\", weights=optimization_result[\"probability\"])"
   ]
  },
  {
   "cell_type": "markdown",
   "id": "2ba86406-7487-449d-a790-0c8fcec11b73",
   "metadata": {},
   "source": [
    "Let us plot the best solution:"
   ]
  },
  {
   "cell_type": "code",
   "execution_count": null,
   "id": "da924ee8-2a38-470b-9175-37a05c22f7ed",
   "metadata": {
    "tags": []
   },
   "outputs": [],
   "source": [
    "import matplotlib.pyplot as plt\n",
    "\n",
    "best_solution = optimization_result.solution[optimization_result.cost.idxmin()]\n",
    "\n",
    "one_hot_solution = np.array(best_solution).reshape([max_num_colors, len(graph.nodes)])\n",
    "integer_solution = np.argmax(one_hot_solution, axis=0)\n",
    "nx.draw_kamada_kawai(\n",
    "    graph, with_labels=True, node_color=integer_solution, cmap=plt.cm.rainbow\n",
    ")"
   ]
  },
  {
   "cell_type": "markdown",
   "id": "df8a97c2-e473-4744-965a-f48a6a383a70",
   "metadata": {},
   "source": [
    "## Classical optimizer results"
   ]
  },
  {
   "cell_type": "markdown",
   "id": "e0e5afa5-f3bb-4770-9d33-f24872a531b6",
   "metadata": {},
   "source": [
    "Lastly, we can compare to the classical solution of the problem:"
   ]
  },
  {
   "cell_type": "code",
   "execution_count": null,
   "id": "d964d750-4792-4fa9-b037-089babb25c76",
   "metadata": {
    "pycharm": {
     "name": "#%%\n"
    },
    "tags": []
   },
   "outputs": [],
   "source": [
    "from pyomo.common.errors import ApplicationError\n",
    "from pyomo.opt import SolverFactory\n",
    "\n",
    "solver = SolverFactory(\"couenne\")\n",
    "result = None\n",
    "try:\n",
    "    result = solver.solve(coloring_model)\n",
    "except ApplicationError:\n",
    "    print(\"Solver might have not exited normally. Try again\")\n",
    "\n",
    "coloring_model.display()"
   ]
  },
  {
   "cell_type": "code",
   "execution_count": null,
   "id": "c356a469-b506-457d-b442-f368be978d13",
   "metadata": {
    "tags": []
   },
   "outputs": [],
   "source": [
    "if result:\n",
    "    classical_solution = [\n",
    "        pyo.value(coloring_model.x[i, j])\n",
    "        for i in range(max_num_colors)\n",
    "        for j in range(len(graph.nodes))\n",
    "    ]\n",
    "    one_hot_solution = np.array(classical_solution).reshape(\n",
    "        [max_num_colors, len(graph.nodes)]\n",
    "    )\n",
    "    integer_solution = np.argmax(one_hot_solution, axis=0)\n",
    "    nx.draw_kamada_kawai(\n",
    "        graph, with_labels=True, node_color=integer_solution, cmap=plt.cm.rainbow\n",
    "    )"
   ]
  }
 ],
 "metadata": {
  "kernelspec": {
   "display_name": "Python 3 (ipykernel)",
   "language": "python",
   "name": "python3"
  },
  "language_info": {
   "codemirror_mode": {
    "name": "ipython",
    "version": 3
   },
   "file_extension": ".py",
   "mimetype": "text/x-python",
   "name": "python",
   "nbconvert_exporter": "python",
   "pygments_lexer": "ipython3",
   "version": "3.11.4"
  }
 },
 "nbformat": 4,
 "nbformat_minor": 5
}
