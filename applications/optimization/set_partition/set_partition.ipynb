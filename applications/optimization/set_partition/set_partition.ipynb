{
 "cells": [
  {
   "cell_type": "markdown",
   "id": "11d8810e-c1b2-458c-bf28-ecab44a01cc2",
   "metadata": {
    "tags": []
   },
   "source": [
    "\n",
    "# Number Partition Problem\n"
   ]
  },
  {
   "cell_type": "markdown",
   "id": "877ae3cf-10cc-4e51-a428-eb57687d8d18",
   "metadata": {},
   "source": [
    "## Introduction\n",
    "\n",
    "In the Number Partitioning Problem [[1](#PartitionWiki)] we need to find how to partition a set of integers into two subsets of equal sums. In case such a partition does not exist, we can ask for a partition where the difference between the sums is minimal.\n",
    "\n",
    "## Mathematical formulation\n",
    "\n",
    "Given a set of numbers $S=\\{s_1,s_2,...,s_n\\}$, a partition is defined as $P_1,P_2 \\subset \\{1,...,n\\}$, with $P_1\\cup P_2=\\{1,...,n\\}$ and $P_1\\cap P_2=\\emptyset$. In the Number Partitioning Problem we need to determine a partition such that $|\\sum_{j\\in P_1}s_j-\\sum_{j\\in P_2}s_j|$ is minimal. A partition can be represented by a binary vector $x$ of size $n$, where we assign 0 or 1 for being in $P_1$ or $P_2$, respectively. The quantity we ask to minimize is $|\\vec{x}\\cdot \\vec{s}-(1-\\vec{x})\\cdot\\vec{s}|=|(2\\vec{x}-1)\\cdot\\vec{s}|$. In practice we will minimize the square of this expression.\n",
    "\n",
    "# Solving with the Classiq platform\n",
    "\n",
    "We go through the steps of solving the problem with the Classiq platform, using QAOA algorithm [[2](#QAOA)]. The solution is based on defining a pyomo model for the optimization problem we would like to solve."
   ]
  },
  {
   "cell_type": "code",
   "execution_count": null,
   "id": "49a9588b-e79e-4813-b7c5-ac068d7b930c",
   "metadata": {
    "tags": []
   },
   "outputs": [],
   "source": [
    "from typing import cast\n",
    "\n",
    "import networkx as nx\n",
    "import numpy as np\n",
    "import pyomo.core as pyo\n",
    "from IPython.display import Markdown, display\n",
    "from matplotlib import pyplot as plt"
   ]
  },
  {
   "cell_type": "markdown",
   "id": "8517ef73-faf6-4fd8-9db8-4088551398e0",
   "metadata": {},
   "source": [
    "## Building the Pyomo model from a graph input\n",
    "\n",
    "We proceed by defining the pyomo model that will be used on the Classiq platform, using the mathematical formulation defined above:"
   ]
  },
  {
   "cell_type": "code",
   "execution_count": null,
   "id": "48889b21-557b-481c-80c5-3c0b5c91adb6",
   "metadata": {
    "tags": []
   },
   "outputs": [],
   "source": [
    "# we define a matrix which gets a set of integers s and returns a pyomo model for the partitioning problem\n",
    "\n",
    "\n",
    "def partite(s) -> pyo.ConcreteModel:\n",
    "    model = pyo.ConcreteModel()\n",
    "    SetSize = len(s)  # the set size\n",
    "    model.x = pyo.Var(\n",
    "        range(SetSize), domain=pyo.Binary\n",
    "    )  # our variable is a binary vector\n",
    "\n",
    "    # we define a cost function\n",
    "    model.cost = pyo.Objective(\n",
    "        expr=sum(((2 * model.x[i] - 1) * s[i]) for i in range(SetSize)) ** 2,\n",
    "        sense=pyo.minimize,\n",
    "    )\n",
    "\n",
    "    return model"
   ]
  },
  {
   "cell_type": "code",
   "execution_count": null,
   "id": "69359e3e-ed85-4b56-9afb-9dd4b9997ada",
   "metadata": {
    "tags": []
   },
   "outputs": [],
   "source": [
    "Myset = np.random.randint(1, 12, 10)\n",
    "mylist = [int(x) for x in Myset]\n",
    "print(\"This is my list: \", mylist)\n",
    "set_partition_model = partite(mylist)"
   ]
  },
  {
   "cell_type": "code",
   "execution_count": null,
   "id": "4a985b32-0670-42f3-ba50-5c0097eb75f5",
   "metadata": {
    "tags": []
   },
   "outputs": [],
   "source": [
    "set_partition_model.pprint()"
   ]
  },
  {
   "cell_type": "markdown",
   "id": "17ea14ec-dbb7-487c-b4f1-cabc8d5e3c29",
   "metadata": {
    "tags": []
   },
   "source": [
    "## Setting Up the Classiq Problem Instance\n",
    "\n",
    "In order to solve the Pyomo model defined above, we use the Classiq combinatorial optimization engine. For the quantum part of the QAOA algorithm (`QAOAConfig`) - define the number of repetitions (`num_layers`):"
   ]
  },
  {
   "cell_type": "code",
   "execution_count": null,
   "id": "816b468f-a59f-4f2f-8337-4a9d66548425",
   "metadata": {
    "tags": []
   },
   "outputs": [],
   "source": [
    "from classiq import construct_combinatorial_optimization_model\n",
    "from classiq.applications.combinatorial_optimization import OptimizerConfig, QAOAConfig\n",
    "\n",
    "qaoa_config = QAOAConfig(num_layers=3)"
   ]
  },
  {
   "cell_type": "markdown",
   "id": "db34d5ac-6877-4285-8dec-7bf7b37eb783",
   "metadata": {},
   "source": [
    "For the classical optimization part of the QAOA algorithm we define the maximum number of classical iterations (`max_iteration`) and the $\\alpha$-parameter (`alpha_cvar`) for running CVaR-QAOA, an improved variation of the QAOA algorithm [[3](#cvar)]:"
   ]
  },
  {
   "cell_type": "code",
   "execution_count": null,
   "id": "e41d0dd3-4135-4330-9ba3-c1b30c339a74",
   "metadata": {
    "pycharm": {
     "name": "#%%\n"
    },
    "tags": []
   },
   "outputs": [],
   "source": [
    "optimizer_config = OptimizerConfig(max_iteration=60, alpha_cvar=0.7)"
   ]
  },
  {
   "cell_type": "markdown",
   "id": "214d6051-43b8-4b9d-8454-f9cdb62b4cf0",
   "metadata": {},
   "source": [
    "Lastly, we load the model, based on the problem and algorithm parameters, which we can use to solve the problem:"
   ]
  },
  {
   "cell_type": "code",
   "execution_count": null,
   "id": "0243019c-6fc3-435f-b6ec-8b4355d6660c",
   "metadata": {
    "pycharm": {
     "name": "#%%\n"
    },
    "tags": []
   },
   "outputs": [],
   "source": [
    "qmod = construct_combinatorial_optimization_model(\n",
    "    pyo_model=set_partition_model,\n",
    "    qaoa_config=qaoa_config,\n",
    "    optimizer_config=optimizer_config,\n",
    ")"
   ]
  },
  {
   "cell_type": "markdown",
   "id": "1fcc3812-c9d0-421c-84bb-38047297b33f",
   "metadata": {},
   "source": [
    "We also set the quantum backend we want to execute on:"
   ]
  },
  {
   "cell_type": "code",
   "execution_count": null,
   "id": "53bc041f-065c-44d2-b220-dafd9d0504ac",
   "metadata": {
    "tags": []
   },
   "outputs": [],
   "source": [
    "from classiq import set_execution_preferences\n",
    "from classiq.execution import ClassiqBackendPreferences, ExecutionPreferences\n",
    "\n",
    "backend_preferences = ExecutionPreferences(\n",
    "    backend_preferences=ClassiqBackendPreferences(backend_name=\"aer_simulator\")\n",
    ")\n",
    "\n",
    "qmod = set_execution_preferences(qmod, backend_preferences)"
   ]
  },
  {
   "cell_type": "code",
   "execution_count": null,
   "id": "7738571f-3a9f-498f-9a15-9c874f3c3dfd",
   "metadata": {},
   "outputs": [],
   "source": [
    "with open(\"set_partition.qmod\", \"w\") as f:\n",
    "    f.write(qmod)"
   ]
  },
  {
   "cell_type": "markdown",
   "id": "943291f0-6a9f-4286-a69d-ef13a0a12ef6",
   "metadata": {},
   "source": [
    "## Synthesizing the QAOA Circuit and Solving the Problem\n",
    "\n",
    "We can now synthesize and view the QAOA circuit (ansatz) used to solve the optimization problem:"
   ]
  },
  {
   "cell_type": "code",
   "execution_count": null,
   "id": "1d71e29a-5d53-49c4-84b2-45f59be4da31",
   "metadata": {
    "pycharm": {
     "name": "#%%\n"
    },
    "tags": []
   },
   "outputs": [],
   "source": [
    "from classiq import show, synthesize\n",
    "\n",
    "qprog = synthesize(qmod)\n",
    "show(qprog)"
   ]
  },
  {
   "cell_type": "markdown",
   "id": "80238cf9-d7bd-46e5-9d48-b7cf23a6b304",
   "metadata": {},
   "source": [
    "We now solve the problem using the generated circuit by using the `execute` method:"
   ]
  },
  {
   "cell_type": "code",
   "execution_count": null,
   "id": "62d12d20-1c80-4a9e-bb6b-b1fddc6cbe40",
   "metadata": {
    "tags": []
   },
   "outputs": [],
   "source": [
    "from classiq import execute\n",
    "\n",
    "res = execute(qprog).result()"
   ]
  },
  {
   "cell_type": "markdown",
   "id": "620ea6a0-cd05-41a9-a2ed-9631c680d2e6",
   "metadata": {},
   "source": [
    "We can check the convergence of the run:"
   ]
  },
  {
   "cell_type": "code",
   "execution_count": null,
   "id": "02454398-b229-403c-824a-b1eb539fbc1f",
   "metadata": {
    "tags": []
   },
   "outputs": [],
   "source": [
    "from classiq.execution import VQESolverResult\n",
    "\n",
    "vqe_result = res[1].value\n",
    "vqe_result.convergence_graph"
   ]
  },
  {
   "cell_type": "markdown",
   "id": "615ed612-b835-4bf0-aa92-92d30ef8006d",
   "metadata": {
    "tags": []
   },
   "source": [
    "# Optimization Results"
   ]
  },
  {
   "cell_type": "markdown",
   "id": "670eddd3-2da7-4a88-b571-7884ef24f60c",
   "metadata": {},
   "source": [
    "We can also examine the statistics of the algorithm:"
   ]
  },
  {
   "cell_type": "code",
   "execution_count": null,
   "id": "516d78ba-2951-46eb-b1af-efe877513556",
   "metadata": {
    "tags": []
   },
   "outputs": [],
   "source": [
    "import pandas as pd\n",
    "\n",
    "optimization_result = pd.DataFrame.from_records(res[0].value)\n",
    "optimization_result.sort_values(by=\"cost\", ascending=True).head(5)"
   ]
  },
  {
   "cell_type": "markdown",
   "id": "687f492b-a4a5-49c6-964c-8959b035bb93",
   "metadata": {},
   "source": [
    "And the histogram:"
   ]
  },
  {
   "cell_type": "code",
   "execution_count": null,
   "id": "31a4e74d-b2b8-42e0-826d-de7b51de1fe8",
   "metadata": {
    "tags": []
   },
   "outputs": [],
   "source": [
    "optimization_result.hist(\"cost\", weights=optimization_result[\"probability\"])"
   ]
  },
  {
   "cell_type": "markdown",
   "id": "a3a890a1-c5d4-409d-b9a3-d7ffd4fdd6c0",
   "metadata": {},
   "source": [
    "Let us plot the solution:"
   ]
  },
  {
   "cell_type": "code",
   "execution_count": null,
   "id": "4326e84b-26f6-4ea9-a53b-090fb3658b8c",
   "metadata": {
    "tags": []
   },
   "outputs": [],
   "source": [
    "best_solution = optimization_result.solution[optimization_result.cost.idxmin()]"
   ]
  },
  {
   "cell_type": "code",
   "execution_count": null,
   "id": "f349d9fb-132e-4ca0-8433-db1e2d61efa1",
   "metadata": {
    "tags": []
   },
   "outputs": [],
   "source": [
    "p1 = [mylist[i] for i in range(len(mylist)) if best_solution[i] == 0]\n",
    "p2 = [mylist[i] for i in range(len(mylist)) if best_solution[i] == 1]\n",
    "print(\"P1=\", p1, \", total sum: \", sum(p1))\n",
    "print(\"P2=\", p2, \", total sum: \", sum(p2))\n",
    "print(\"difference= \", abs(sum(p1) - sum(p2)))"
   ]
  },
  {
   "cell_type": "markdown",
   "id": "dde1905d-aeff-4297-a9d3-ad14910e6161",
   "metadata": {},
   "source": [
    "Lastly, we can compare to the classical solution of the problem:"
   ]
  },
  {
   "cell_type": "code",
   "execution_count": null,
   "id": "5a7ca4b6-25a0-46dd-b5cc-de6a639a6f57",
   "metadata": {
    "pycharm": {
     "name": "#%%\n"
    },
    "tags": []
   },
   "outputs": [],
   "source": [
    "from pyomo.opt import SolverFactory\n",
    "\n",
    "solver = SolverFactory(\"couenne\")\n",
    "solver.solve(set_partition_model)\n",
    "\n",
    "set_partition_model.display()"
   ]
  },
  {
   "cell_type": "code",
   "execution_count": null,
   "id": "2e5c1b07-6060-455d-81ed-e48a2207c81b",
   "metadata": {
    "tags": []
   },
   "outputs": [],
   "source": [
    "classical_solution = [pyo.value(set_partition_model.x[i]) for i in range(len(mylist))]"
   ]
  },
  {
   "cell_type": "code",
   "execution_count": null,
   "id": "a7524894-b5c5-42d4-8f92-a019bef5e7da",
   "metadata": {
    "tags": []
   },
   "outputs": [],
   "source": [
    "p1 = [mylist[i] for i in range(len(mylist)) if classical_solution[i] == 0]\n",
    "p2 = [mylist[i] for i in range(len(mylist)) if classical_solution[i] == 1]\n",
    "print(\"P1=\", p1, \", total sum: \", sum(p1))\n",
    "print(\"P2=\", p2, \", total sum: \", sum(p2))\n",
    "print(\"difference= \", abs(sum(p1) - sum(p2)))"
   ]
  },
  {
   "cell_type": "markdown",
   "id": "e82b5953-122a-4707-8ab6-f741f14f13a5",
   "metadata": {
    "pycharm": {
     "name": "#%% md\n"
    },
    "tags": []
   },
   "source": [
    "\n",
    "## References\n",
    "\n",
    "<a id='PartitionWiki'>[1]</a>: [Number Partitioning Problem (Wikipedia)](https://en.wikipedia.org/wiki/Partition_problem)\n",
    "\n",
    "<a id='QAOA'>[2]</a>: [Farhi, Edward, Jeffrey Goldstone, and Sam Gutmann. \"A quantum approximate optimization algorithm.\" arXiv preprint arXiv:1411.4028 (2014).](https://arxiv.org/abs/1411.4028)\n",
    "\n",
    "<a id='cvar'>[3]</a>: [Barkoutsos, Panagiotis Kl, et al. \"Improving variational quantum optimization using CVaR.\" Quantum 4 (2020): 256.](https://arxiv.org/abs/1907.04769)\n"
   ]
  }
 ],
 "metadata": {
  "kernelspec": {
   "display_name": "Python 3 (ipykernel)",
   "language": "python",
   "name": "python3"
  },
  "language_info": {
   "codemirror_mode": {
    "name": "ipython",
    "version": 3
   },
   "file_extension": ".py",
   "mimetype": "text/x-python",
   "name": "python",
   "nbconvert_exporter": "python",
   "pygments_lexer": "ipython3",
   "version": "3.11.4"
  },
  "vscode": {
   "interpreter": {
    "hash": "a07aacdcc8a415e7643a2bc993226848ff70704ebef014f87460de9126b773d0"
   }
  }
 },
 "nbformat": 4,
 "nbformat_minor": 5
}
