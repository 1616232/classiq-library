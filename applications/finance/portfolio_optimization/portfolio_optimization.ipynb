{
 "cells": [
  {
   "cell_type": "markdown",
   "id": "6a264eba-42cc-4800-8369-24b0891d167d",
   "metadata": {},
   "source": [
    "# Portfolio Optimization with the Quantum Approximate Optimization Algorithm (QAOA)\n",
    "\n",
    "## Introduction\n",
    "\n",
    "Portfolio optimization [[1](#PortfolioWiki)] is the process of allocating a portfolio of financial assets optimally, according to some predetermined goal. Usually, the goal is to maximize the potential return while minimizing the financial risk of the portfolio. One can express this problem as a combinatorial optimization problem like many other real-world problems. In this demo, we'll show how the Quantum Approximate Optimization Algorithm (QAOA) [[2](#QAOA)] can be employed on the Classiq platform to solve the problem of portfolio optimization.\n",
    "\n",
    "### Modeling the Portfolio Optimization Problem\n",
    "\n",
    "As a first step, we have to model the problem mathematically. We will use a simple yet powerful model, which captures the essence of portfolio optimization:\n",
    "\n",
    "- A portfolio is built from a pool of $n$ financial assets, each asset labeled $i \\in \\{1,\\ldots,n\\}$.\n",
    "- Every asset's return is a random variable, with expected value $\\mu_i$ and variance $\\Sigma_i$ (modeling the financial risk involved in the asset).\n",
    "- Every two assets $i \\neq j$ have covariance $\\Sigma_{ij}$ (modeling market correlation between assets).\n",
    "- Every asset $i$ has a weight $w_i \\in D_i = \\{0,\\ldots,b_i\\}$ in the portfolio, with $b_i$ defined as the budget for asset $i$ (modeling the maximum allowed weight of the asset).\n",
    "- The return vector $\\mu$, the covariance matrix $\\Sigma$ and the weight vector $w$ are defined naturally from the above (with the domain $D = D_1 \\times D_2 \\times \\ldots \\times D_n$ for $w$).\n",
    "\n",
    "With the above definitions, the total expected return of the portfolio is $\\mu^T w$ and the total risk is $w^T \\Sigma w$. We'll use a simple difference of the two as our cost function, with the additional constraint that the total sum of assets does not exceed a predefined budget $B$. We note that there are many other possibilities for defining a cost function (e.g. add a scaling factor to the risk/return or even some non-linear relation). For reasons of simplicity we select the model below, and we assume all constants and variables are dimensionless.\n",
    "Thus, the problem is, given the constant inputs $\\mu, \\Sigma, D, B$, to find optimal variable $w$ as follows:\n",
    "\n",
    "$\\begin{equation*}\n",
    "\\min_{w \\in D}  w^T \\Sigma w - \\mu^T w,\n",
    "\\end{equation*}$\n",
    "subject to $\\Sigma_{i} w_i \\leq B$.\n",
    "\n",
    "The case presented above is called integer portfolio optimization, since the domains $D_i$ are over the (positive) integers.\n",
    "Another variation of this problem defines weights over binary domains, and will not be discussed here.\n"
   ]
  },
  {
   "cell_type": "markdown",
   "id": "8abc22a4-3c75-4d1a-a77f-dee7f1ac3fe9",
   "metadata": {
    "tags": []
   },
   "source": [
    "## Setup\n",
    "\n",
    "With the mathematical definition in place, we begin the implementation by importing necessary packages and classes. We will use the following external dependencies:\n",
    "\n",
    "1. NumPy\n",
    "2. Matplotlib\n",
    "3. Pyomo - a python framework for modeling optimization problems, which the Classiq platform uses as an interface to these types of problems.\n",
    "\n",
    "From the `classiq` package, we require classes related to combinatorial optimization and QAOA.\n"
   ]
  },
  {
   "cell_type": "code",
   "execution_count": null,
   "id": "952d49b3-5dc6-41a1-8822-0622df536cf7",
   "metadata": {
    "tags": []
   },
   "outputs": [],
   "source": [
    "import numpy as np\n",
    "import pyomo.core as pyo"
   ]
  },
  {
   "cell_type": "markdown",
   "id": "e8e9ec0e",
   "metadata": {},
   "source": [
    "# The Portfolio Optimization Problem Parameters\n",
    "\n",
    "First we define the parameters of the optimization problem, which include the expected return vector, the covariance matrix, the total budget and the asset-specific budgets:"
   ]
  },
  {
   "cell_type": "code",
   "execution_count": null,
   "id": "6212e51c",
   "metadata": {
    "pycharm": {
     "name": "#%%\n"
    },
    "tags": []
   },
   "outputs": [],
   "source": [
    "returns = np.array([3, 4, -1])\n",
    "# fmt: off\n",
    "covariances = np.array(\n",
    "    [\n",
    "        [ 0.9,  0.5, -0.7],\n",
    "        [ 0.5,  0.9, -0.2],\n",
    "        [-0.7, -0.2,  0.9],\n",
    "    ]\n",
    ")\n",
    "# fmt: on\n",
    "total_budget = 6\n",
    "specific_budgets = [2, 2, 2]"
   ]
  },
  {
   "cell_type": "markdown",
   "id": "c181f72c-d233-4567-ae61-44f475689797",
   "metadata": {},
   "source": [
    "## The Pyomo Model for the Problem\n",
    "\n",
    "We proceed by defining the Pyomo model that will be used on the Classiq platform, using the problem parameters defined above:"
   ]
  },
  {
   "cell_type": "code",
   "execution_count": null,
   "id": "42650f31-8efe-4ca9-8ed6-f5d9d440bee4",
   "metadata": {
    "tags": []
   },
   "outputs": [],
   "source": [
    "portfolio_model = pyo.ConcreteModel(\"portfolio_optimization\")\n",
    "num_assets = len(returns)\n",
    "\n",
    "# setting the variables\n",
    "portfolio_model.w = pyo.Var(\n",
    "    range(num_assets),\n",
    "    domain=pyo.Integers,\n",
    "    bounds=lambda _, idx: (0, specific_budgets[idx]),\n",
    ")\n",
    "w_array = list(portfolio_model.w.values())\n",
    "\n",
    "# setting the constraint\n",
    "portfolio_model.budget_rule = pyo.Constraint(expr=(sum(w_array) <= total_budget))\n",
    "\n",
    "# setting the expected return and risk\n",
    "portfolio_model.expected_return = returns @ w_array\n",
    "portfolio_model.risk = w_array @ covariances @ w_array\n",
    "\n",
    "# setting the cost function to minimize\n",
    "portfolio_model.cost = pyo.Objective(\n",
    "    expr=portfolio_model.risk - portfolio_model.expected_return, sense=pyo.minimize\n",
    ")"
   ]
  },
  {
   "cell_type": "markdown",
   "id": "c671eeac-5b61-4ab4-9e92-cfcb2ed8170b",
   "metadata": {
    "tags": []
   },
   "source": [
    "## Setting Up the Classiq Problem Instance\n",
    "\n",
    "In order to solve the Pyomo model defined above, we use the Classiq combinatorial optimization engine. For the quantum part of the QAOA algorithm (`QAOAConfig`) - define the number of repetitions (`num_layers`):"
   ]
  },
  {
   "cell_type": "code",
   "execution_count": null,
   "id": "c044e30f-2b4f-41ef-9bc0-11b951cb88db",
   "metadata": {
    "tags": []
   },
   "outputs": [],
   "source": [
    "from classiq import construct_combinatorial_optimization_model\n",
    "from classiq.applications.combinatorial_optimization import OptimizerConfig, QAOAConfig\n",
    "\n",
    "qaoa_config = QAOAConfig(num_layers=1)"
   ]
  },
  {
   "cell_type": "markdown",
   "id": "dce2689a-d47f-42c0-9468-5faa4da21d20",
   "metadata": {},
   "source": [
    "For the classical optimization part of the QAOA algorithm we define the maximum number of classical iterations (`max_iteration`) and the $\\alpha$-parameter (`alpha_cvar`) for running CVaR-QAOA, an improved variation of the QAOA algorithm [[3](#cvar)]:"
   ]
  },
  {
   "cell_type": "code",
   "execution_count": null,
   "id": "7c4a6a91-aece-4a3b-9fa2-e7f76c90f296",
   "metadata": {
    "pycharm": {
     "name": "#%%\n"
    },
    "tags": []
   },
   "outputs": [],
   "source": [
    "optimizer_config = OptimizerConfig(max_iteration=60, alpha_cvar=0.7)"
   ]
  },
  {
   "cell_type": "markdown",
   "id": "a78aeea0-246b-4a58-9d7f-94cded812348",
   "metadata": {},
   "source": [
    "Lastly, we load the model, based on the problem and algorithm parameters, which we can use to solve the problem:"
   ]
  },
  {
   "cell_type": "code",
   "execution_count": null,
   "id": "d3988443-adff-4196-981f-d22307de17c9",
   "metadata": {
    "pycharm": {
     "name": "#%%\n"
    },
    "tags": []
   },
   "outputs": [],
   "source": [
    "qmod = construct_combinatorial_optimization_model(\n",
    "    pyo_model=portfolio_model,\n",
    "    qaoa_config=qaoa_config,\n",
    "    optimizer_config=optimizer_config,\n",
    ")"
   ]
  },
  {
   "cell_type": "markdown",
   "id": "0d64c135-ec3b-490e-ae60-2d72f0ff633c",
   "metadata": {},
   "source": [
    "We also set the quantum backend we want to execute on:"
   ]
  },
  {
   "cell_type": "code",
   "execution_count": null,
   "id": "e0b0013d-5152-4221-a8d5-d35820c3a878",
   "metadata": {
    "tags": []
   },
   "outputs": [],
   "source": [
    "from classiq import set_execution_preferences\n",
    "from classiq.execution import ExecutionPreferences, IBMBackendPreferences\n",
    "\n",
    "backend_preferences = ExecutionPreferences(\n",
    "    backend_preferences=IBMBackendPreferences(backend_name=\"aer_simulator\")\n",
    ")\n",
    "\n",
    "qmod = set_execution_preferences(qmod, backend_preferences)"
   ]
  },
  {
   "cell_type": "code",
   "execution_count": null,
   "id": "804e8e99-2e63-43df-9168-f1cb8497bdad",
   "metadata": {},
   "outputs": [],
   "source": [
    "with open(\"portfolio_optimization.qmod\", \"w\") as f:\n",
    "    f.write(qmod)"
   ]
  },
  {
   "cell_type": "markdown",
   "id": "b098aa8a-e47f-474a-b5a4-75f3b98d2628",
   "metadata": {},
   "source": [
    "## Synthesizing the QAOA Circuit and Solving the Problem\n",
    "\n",
    "We can now synthesize and view the QAOA circuit (ansatz) used to solve the optimization problem:"
   ]
  },
  {
   "cell_type": "code",
   "execution_count": null,
   "id": "73cccd8c",
   "metadata": {
    "pycharm": {
     "name": "#%%\n"
    },
    "tags": []
   },
   "outputs": [],
   "source": [
    "from classiq import show, synthesize\n",
    "\n",
    "qprog = synthesize(qmod)\n",
    "show(qprog)"
   ]
  },
  {
   "cell_type": "markdown",
   "id": "45f19792-d1ec-48b4-bc15-0fe881e48cd9",
   "metadata": {},
   "source": [
    "We now solve the problem using the generated circuit by using the `execute` method:"
   ]
  },
  {
   "cell_type": "code",
   "execution_count": null,
   "id": "c6607c43-7b33-44dd-9e38-b90c2db888e5",
   "metadata": {
    "tags": []
   },
   "outputs": [],
   "source": [
    "from classiq import execute\n",
    "\n",
    "res = execute(qprog).result()"
   ]
  },
  {
   "cell_type": "markdown",
   "id": "90c622a1-d8ae-47ac-a924-86d5b73bbd45",
   "metadata": {},
   "source": [
    "We can check the convergence of the run:"
   ]
  },
  {
   "cell_type": "code",
   "execution_count": null,
   "id": "7cff5dd0-312b-45b3-8af3-0fd6fa04b6e9",
   "metadata": {
    "tags": []
   },
   "outputs": [],
   "source": [
    "from classiq.execution import VQESolverResult\n",
    "\n",
    "vqe_result = res[1].value\n",
    "vqe_result.convergence_graph"
   ]
  },
  {
   "cell_type": "markdown",
   "id": "a5a26d5c-ffc0-40bc-9964-e9fb6e16f232",
   "metadata": {},
   "source": [
    "And print the optimization results:"
   ]
  },
  {
   "cell_type": "code",
   "execution_count": null,
   "id": "9e5789ba-f1a5-4108-a0fa-a1b90870da1f",
   "metadata": {
    "tags": []
   },
   "outputs": [],
   "source": [
    "import pandas as pd\n",
    "\n",
    "optimization_result = pd.DataFrame.from_records(res[0].value)\n",
    "optimization_result.sort_values(by=\"cost\", ascending=True).head(5)"
   ]
  },
  {
   "cell_type": "code",
   "execution_count": null,
   "id": "05449034-19e5-4b5d-80ea-7b2ba7ccd877",
   "metadata": {
    "tags": []
   },
   "outputs": [],
   "source": [
    "idx = optimization_result.cost.idxmin()\n",
    "print(\n",
    "    \"x =\", optimization_result.solution[idx], \", cost =\", optimization_result.cost[idx]\n",
    ")"
   ]
  },
  {
   "cell_type": "markdown",
   "id": "b170b0ef-1e3f-4680-a7d4-82b4e537d785",
   "metadata": {},
   "source": [
    "And the histogram:"
   ]
  },
  {
   "cell_type": "code",
   "execution_count": null,
   "id": "f48034c6-8000-4bcf-83b0-e3a76a38d9c7",
   "metadata": {
    "tags": []
   },
   "outputs": [],
   "source": [
    "optimization_result.hist(\"cost\", weights=optimization_result[\"probability\"])"
   ]
  },
  {
   "cell_type": "markdown",
   "id": "6c093ae6",
   "metadata": {},
   "source": [
    "Lastly, we can compare to the classical solution of the problem:"
   ]
  },
  {
   "cell_type": "code",
   "execution_count": null,
   "id": "324c9a09",
   "metadata": {
    "pycharm": {
     "name": "#%%\n"
    },
    "tags": []
   },
   "outputs": [],
   "source": [
    "from pyomo.opt import SolverFactory\n",
    "\n",
    "solver = SolverFactory(\"couenne\")\n",
    "solver.solve(portfolio_model)\n",
    "\n",
    "portfolio_model.display()"
   ]
  },
  {
   "cell_type": "markdown",
   "id": "71ac0d67",
   "metadata": {},
   "source": [
    "We can see that most of the solutions obtained by running QAOA are close to the minimal solution obtained classically, demonstrating the effectiveness of the algorithm. Also, note the non-trivial solution which includes a non-zero weight for the asset with negative expected return, demonstrating that it sometimes makes sense to include such assets in the portfolio as a risk-mitigation strategy - especially if they are highly anti-correlated with the rest of the assets."
   ]
  },
  {
   "cell_type": "markdown",
   "id": "61370cf4",
   "metadata": {
    "pycharm": {
     "name": "#%% md\n"
    }
   },
   "source": [
    "\n",
    "## References\n",
    "\n",
    "<a id='PortfolioWiki'>[1]</a>: [Portfolio Optimization (Wikipedia)](https://en.wikipedia.org/wiki/Portfolio_optimization)\n",
    "\n",
    "<a id='QAOA'>[2]</a>: [Farhi, Edward, Jeffrey Goldstone, and Sam Gutmann. \"A quantum approximate optimization algorithm.\" arXiv preprint arXiv:1411.4028 (2014).](https://arxiv.org/abs/1411.4028)\n",
    "\n",
    "<a id='cvar'>[3]</a>: [Barkoutsos, Panagiotis Kl, et al. \"Improving variational quantum optimization using CVaR.\" Quantum 4 (2020): 256.](https://arxiv.org/abs/1907.04769)\n"
   ]
  }
 ],
 "metadata": {
  "kernelspec": {
   "display_name": "Python 3 (ipykernel)",
   "language": "python",
   "name": "python3"
  },
  "language_info": {
   "codemirror_mode": {
    "name": "ipython",
    "version": 3
   },
   "file_extension": ".py",
   "mimetype": "text/x-python",
   "name": "python",
   "nbconvert_exporter": "python",
   "pygments_lexer": "ipython3",
   "version": "3.8.13"
  },
  "vscode": {
   "interpreter": {
    "hash": "a07aacdcc8a415e7643a2bc993226848ff70704ebef014f87460de9126b773d0"
   }
  }
 },
 "nbformat": 4,
 "nbformat_minor": 5
}
