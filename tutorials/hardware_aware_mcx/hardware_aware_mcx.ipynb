{
 "cells": [
  {
   "cell_type": "markdown",
   "id": "73d719d7-cc7f-4f3d-bb83-7dcaad948af3",
   "metadata": {},
   "source": [
    "# HW-aware Synthesis of MCx\n",
    "\n",
    "This example shows that implementation of multiple control-x (MCX) logic, using the Classiq synthesis engine, yields different circuit results for different quantum hardware.\n",
    "\n",
    "The fictitious hardware created here demonstrates how to insert your own custom-designed machine. For comparison, create two types of hardware with `cx, u` basis gates. The difference between them manifests in the connectivity map: one has linear connectivity while the other has all-to-all connectivity."
   ]
  },
  {
   "cell_type": "code",
   "execution_count": 1,
   "id": "4c890c8a-2c53-4fc8-a62f-fa45093ee00c",
   "metadata": {
    "execution": {
     "iopub.execute_input": "2023-12-06T03:23:38.066721Z",
     "iopub.status.busy": "2023-12-06T03:23:38.065360Z",
     "iopub.status.idle": "2023-12-06T03:23:57.764305Z",
     "shell.execute_reply": "2023-12-06T03:23:57.763593Z"
    },
    "tags": []
   },
   "outputs": [
    {
     "name": "stdout",
     "output_type": "stream",
     "text": [
      "Opening: https://platform.classiq.io/circuit/1d0bbb60-ad11-46f0-b555-44d87610ba3b?version=0.34.0.dev0%2B124706fb0e\n",
      "Opening: https://platform.classiq.io/circuit/812a9496-625b-4cae-a1f2-41f27adf9a75?version=0.34.0.dev0%2B124706fb0e\n"
     ]
    }
   ],
   "source": [
    "from classiq import Model, show, synthesize\n",
    "from classiq.builtin_functions import Mcx\n",
    "from classiq.model import Constraints, CustomHardwareSettings, Preferences\n",
    "\n",
    "# define the Mcx parameters\n",
    "\n",
    "mcx_params = Mcx(num_ctrl_qubits=15)\n",
    "max_width = 18\n",
    "\n",
    "# define the hardware parameters\n",
    "\n",
    "linear_connectivity = [[qubit, qubit + 1] for qubit in range(max_width - 1)]\n",
    "\n",
    "preferences_linear = Preferences(\n",
    "    custom_hardware_settings=CustomHardwareSettings(\n",
    "        basis_gates=[\"cx\", \"u\"],\n",
    "        connectivity_map=linear_connectivity,\n",
    "    ),\n",
    "    random_seed=-1,\n",
    ")\n",
    "preferences_all_to_all = Preferences(\n",
    "    custom_hardware_settings=CustomHardwareSettings(basis_gates=[\"cx\", \"u\"]),\n",
    "    random_seed=-1,\n",
    ")\n",
    "\n",
    "# create the quantum circuits\n",
    "model_linear = Model(\n",
    "    preferences=preferences_linear,\n",
    "    constraints=Constraints(optimization_parameter=\"depth\", max_width=max_width),\n",
    ")\n",
    "model_linear.Mcx(mcx_params)\n",
    "\n",
    "model_all_to_all = Model(\n",
    "    preferences=preferences_all_to_all,\n",
    "    constraints=Constraints(optimization_parameter=\"depth\", max_width=max_width),\n",
    ")\n",
    "model_all_to_all.Mcx(mcx_params)\n",
    "\n",
    "# synthesize and present the circuit results\n",
    "\n",
    "qmod_linear = model_linear.get_model()\n",
    "with open(\"hardware_aware_mcx_linear.qmod\", \"w\") as f:\n",
    "    f.write(qmod_linear)\n",
    "linear_result = synthesize(qmod_linear)\n",
    "\n",
    "qmod_all_to_all = model_all_to_all.get_model()\n",
    "with open(\"hardware_aware_mcx_all_to_all.qmod\", \"w\") as f:\n",
    "    f.write(qmod_all_to_all)\n",
    "all_to_all_result = synthesize(qmod_all_to_all)\n",
    "\n",
    "show(linear_result)\n",
    "show(all_to_all_result)"
   ]
  },
  {
   "cell_type": "markdown",
   "id": "5c69ffae-c478-4c80-8a94-021ff3322ed7",
   "metadata": {},
   "source": [
    "Comparison of the two circuits shows that applying MCx using different connectivity maps yields different implementation.\n",
    "\n",
    "Using \"all-to-all\" connectivity, the synthesis engine chooses as the best implementation a recourse based on \"Maslov2015\" [[1](#Maslov)] that was written on the Classiq platform. Using that, the manufactured circuit has 18 qubits; i.e., it uses two auxiliary qubits. The total depth of the circuit is 828.\n",
    "\n",
    "When using linear connectivity, the best implementation chosen by the synthesis engine is, in fact, different: an algorithm developed by Classiq, which is better suited for this map. Here, the manufactured circuit uses 17 qubits with only one auxiliary and has a depth of 1679 gates."
   ]
  },
  {
   "cell_type": "markdown",
   "id": "80a870e7-00f0-464c-997e-5e2ea83c3def",
   "metadata": {},
   "source": [
    "## References\n",
    "\n",
    "<a id='Maslov'>[1]</a>: [Maslov, D., 2016. Advantages of using relative-phase Toffoli gates with an application to multiple control Toffoli optimization. Physical Review A, 93(2), p.022311.](https://arxiv.org/pdf/1508.03273.pdf)"
   ]
  }
 ],
 "metadata": {
  "kernelspec": {
   "display_name": "Python 3 (ipykernel)",
   "language": "python",
   "name": "python3"
  },
  "language_info": {
   "codemirror_mode": {
    "name": "ipython",
    "version": 3
   },
   "file_extension": ".py",
   "mimetype": "text/x-python",
   "name": "python",
   "nbconvert_exporter": "python",
   "pygments_lexer": "ipython3",
   "version": "3.11.6"
  }
 },
 "nbformat": 4,
 "nbformat_minor": 5
}
