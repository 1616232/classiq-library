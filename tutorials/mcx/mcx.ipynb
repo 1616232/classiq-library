{
 "cells": [
  {
   "cell_type": "markdown",
   "metadata": {
    "pycharm": {
     "name": "#%% md\n"
    }
   },
   "source": [
    "# OPTIMIZING MCX GATES - PREPARING FOR FUTURE HARDWARE TODAY\n",
    "\n",
    "This note describes how to use the Classiq platform to create MCX gates, including one with 14 controls. Then, it demonstrates a much more complex example with 50 control qubits."
   ]
  },
  {
   "cell_type": "markdown",
   "metadata": {
    "pycharm": {
     "name": "#%% md\n"
    }
   },
   "source": [
    "## QUANTUM RESOURCES ARE VALUABLE, YET LIMITED\n",
    "\n",
    "Quantum computers offer tantalizing promises to those who can harness their power. And though today’s computers are not quite able to solve real-world problems, those who are able to optimize for the hardware available will be able to reap rewards sooner than those who wait. The MCX gate is an important quantum gate used in a variety of circuits, such as the Grover Operator, logical AND operator, various state preparation algorithms, and arithmetic comparators. The ability to adapt implementations of MCX gates to meet the hardware constraints - limited qubit count, fidelities, gate count, and so on - is not trivial."
   ]
  },
  {
   "cell_type": "markdown",
   "metadata": {
    "pycharm": {
     "name": "#%% md\n"
    }
   },
   "source": [
    "## 1. HOW TO CREATE A 14-CONTROL MCX GATE WITH CLASSIQ\n",
    "\n",
    "To create an MCX gate with 14 control qubits using Classiq, we will first define a quantum function called `my_mcx`, whose arguments are an array of qubits (of any size) to be used as `control`, and a single qubit argument to be used as the `target`. "
   ]
  },
  {
   "cell_type": "code",
   "execution_count": 2,
   "metadata": {},
   "outputs": [],
   "source": [
    "from math import pi\n",
    "\n",
    "from classiq import (\n",
    "    GeneratedCircuit,\n",
    "    Output,\n",
    "    QArray,\n",
    "    QBit,\n",
    "    QFunc,\n",
    "    X,\n",
    "    allocate,\n",
    "    control,\n",
    "    create_model,\n",
    "    set_constraints,\n",
    "    set_preferences,\n",
    "    show,\n",
    "    synthesize,\n",
    ")\n",
    "from classiq.model import (\n",
    "    Constraints,\n",
    "    CustomHardwareSettings,\n",
    "    OptimizationParameter,\n",
    "    Preferences,\n",
    ")"
   ]
  },
  {
   "cell_type": "code",
   "execution_count": 3,
   "metadata": {},
   "outputs": [],
   "source": [
    "@QFunc\n",
    "def my_mcx(cntrl: QArray[QBit], target: QBit) -> None:\n",
    "    control(lambda: X(target), cntrl)"
   ]
  },
  {
   "cell_type": "markdown",
   "metadata": {},
   "source": [
    "Then, to create an MCX gate with 14 control qubits we will create a quantum `main` function that will simply execute our `my_mcx` function with 14 qubits allocated to the `control` argument.   "
   ]
  },
  {
   "cell_type": "code",
   "execution_count": 4,
   "metadata": {},
   "outputs": [],
   "source": [
    "@QFunc\n",
    "def main(cntrl: Output[QArray[QBit]], target: Output[QBit]) -> None:\n",
    "    allocate(14, cntrl)\n",
    "    allocate(1, target)\n",
    "    my_mcx(cntrl, target)"
   ]
  },
  {
   "cell_type": "markdown",
   "metadata": {},
   "source": [
    "To build our model we will use the `create_model` function: "
   ]
  },
  {
   "cell_type": "code",
   "execution_count": 5,
   "metadata": {},
   "outputs": [],
   "source": [
    "model = create_model(main)"
   ]
  },
  {
   "cell_type": "markdown",
   "metadata": {},
   "source": [
    "To constrain a circuit to only 20 qubits and optimize for circuit depth, we pass the max width and optimization parameter to a `Constraints` object and update our model"
   ]
  },
  {
   "cell_type": "code",
   "execution_count": 6,
   "metadata": {},
   "outputs": [],
   "source": [
    "constraints = Constraints(\n",
    "    max_width=20, optimization_parameter=OptimizationParameter.DEPTH\n",
    ")\n",
    "model = set_constraints(model, constraints)\n",
    "\n",
    "with open(\"mcx_14_ctrl_depth.qmod\", \"w\") as f:\n",
    "    f.write(model)"
   ]
  },
  {
   "cell_type": "markdown",
   "metadata": {},
   "source": [
    "We can now synthesize our model, create a quantum program and view it: "
   ]
  },
  {
   "cell_type": "code",
   "execution_count": 7,
   "metadata": {},
   "outputs": [],
   "source": [
    "qprog = synthesize(model)\n",
    "show(qprog)"
   ]
  },
  {
   "cell_type": "markdown",
   "metadata": {},
   "source": [
    "Additionally, To get the transpiled circuit from our `qprog` object and print its depth: "
   ]
  },
  {
   "cell_type": "code",
   "execution_count": 8,
   "metadata": {},
   "outputs": [
    {
     "name": "stdout",
     "output_type": "stream",
     "text": [
      "Synthesized MCX depth is 283\n"
     ]
    }
   ],
   "source": [
    "circuit = GeneratedCircuit.from_qprog(qprog)\n",
    "print(f\"Synthesized MCX depth is {circuit.transpiled_circuit.depth}\")"
   ]
  },
  {
   "cell_type": "markdown",
   "metadata": {
    "pycharm": {
     "name": "#%% md\n"
    }
   },
   "source": [
    "## 2. AN MCX FOR EVERY OCCASION\n",
    "\n",
    "Classiq automatically optimizes the quantum circuit and each MCX gate to a plethora of possible situations. To characterize each setting we pass our constraints and preferences to the synthesis request using the `Constraints` and `Preferences` objects."
   ]
  },
  {
   "cell_type": "markdown",
   "metadata": {
    "pycharm": {
     "name": "#%% md\n"
    }
   },
   "source": [
    "### 2.1 OPTIMIZING FOR DIFFERENT HARDWARE"
   ]
  },
  {
   "cell_type": "code",
   "execution_count": 9,
   "metadata": {
    "pycharm": {
     "is_executing": true,
     "name": "#%%\n"
    },
    "tags": []
   },
   "outputs": [
    {
     "name": "stdout",
     "output_type": "stream",
     "text": [
      "Synthesized MCX depth is 424\n"
     ]
    }
   ],
   "source": [
    "model = create_model(main)\n",
    "constraints = Constraints(\n",
    "    optimization_parameter=OptimizationParameter.DEPTH, max_width=21\n",
    ")\n",
    "preferences = Preferences(\n",
    "    backend_service_provider=\"IBM Quantum\", backend_name=\"ibmq_kolkata\"\n",
    ")\n",
    "model = set_constraints(model, constraints)\n",
    "model = set_preferences(model, preferences)\n",
    "\n",
    "with open(\"mcx_14_ctrl_hardware.qmod\", \"w\") as f:\n",
    "    f.write(model)\n",
    "\n",
    "\n",
    "qprog = synthesize(model)\n",
    "circuit = GeneratedCircuit.from_qprog(qprog)\n",
    "\n",
    "print(f\"Synthesized MCX depth is {circuit.transpiled_circuit.depth}\")\n",
    "circuit.show()"
   ]
  },
  {
   "cell_type": "markdown",
   "metadata": {
    "pycharm": {
     "name": "#%% md\n"
    }
   },
   "source": [
    "### 2.2 OPTIMIZING FOR CX GATES"
   ]
  },
  {
   "cell_type": "code",
   "execution_count": 10,
   "metadata": {
    "pycharm": {
     "is_executing": true,
     "name": "#%%\n"
    },
    "tags": []
   },
   "outputs": [
    {
     "name": "stdout",
     "output_type": "stream",
     "text": [
      "Synthesized MCX cx-count is 393\n"
     ]
    }
   ],
   "source": [
    "model = create_model(main)\n",
    "constraints = Constraints(max_width=19, optimization_parameter=\"cx\")\n",
    "preferences = Preferences(\n",
    "    custom_hardware_settings=CustomHardwareSettings(basis_gates=[\"cx\", \"u\"])\n",
    ")\n",
    "model = set_constraints(model, constraints)\n",
    "model = set_preferences(model, preferences)\n",
    "\n",
    "with open(\"mcx_14_ctrl_cx.qmod\", \"w\") as f:\n",
    "    f.write(model)\n",
    "\n",
    "\n",
    "qprog = synthesize(model)\n",
    "circuit = GeneratedCircuit.from_qprog(qprog)\n",
    "\n",
    "print(f\"Synthesized MCX cx-count is {circuit.transpiled_circuit.count_ops['cx']}\")\n",
    "circuit.show()"
   ]
  },
  {
   "cell_type": "markdown",
   "metadata": {
    "pycharm": {
     "name": "#%% md\n"
    }
   },
   "source": [
    "## 3. BEYOND 14 CONTROLS\n",
    "\n",
    "The power of the Classiq synthesis engine is far greater than creating optimized, 14-control MCX gates in an instant. Take the following code, where we create an MCX gate with 50 control qubits."
   ]
  },
  {
   "cell_type": "code",
   "execution_count": 11,
   "metadata": {
    "pycharm": {
     "name": "#%%\n"
    },
    "tags": []
   },
   "outputs": [],
   "source": [
    "@QFunc\n",
    "def main(cntrl: Output[QArray[QBit]], target: Output[QBit]) -> None:\n",
    "    allocate(50, cntrl)\n",
    "    allocate(1, target)\n",
    "    my_mcx(cntrl, target)\n",
    "\n",
    "\n",
    "model = create_model(main)\n",
    "\n",
    "with open(\"mcx_50_ctrl.qmod\", \"w\") as f:\n",
    "    f.write(model)\n",
    "\n",
    "qprog = synthesize(model)\n",
    "show(qprog)"
   ]
  },
  {
   "cell_type": "markdown",
   "metadata": {
    "pycharm": {
     "name": "#%% md\n"
    }
   },
   "source": [
    "![MCX depth](../../../resources/images/MCX_graph_1_dec_22.png)\n"
   ]
  }
 ],
 "metadata": {
  "kernelspec": {
   "display_name": "Python 3 (ipykernel)",
   "language": "python",
   "name": "python3"
  },
  "language_info": {
   "codemirror_mode": {
    "name": "ipython",
    "version": 3
   },
   "file_extension": ".py",
   "mimetype": "text/x-python",
   "name": "python",
   "nbconvert_exporter": "python",
   "pygments_lexer": "ipython3",
   "version": "3.11.4"
  }
 },
 "nbformat": 4,
 "nbformat_minor": 4
}
