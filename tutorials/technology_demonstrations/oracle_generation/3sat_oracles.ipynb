{
 "cells": [
  {
   "cell_type": "markdown",
   "id": "6a3b75db-2a98-4777-beaa-c6e45329e74a",
   "metadata": {},
   "source": [
    "# Oracle generation for 3-SAT problems"
   ]
  },
  {
   "cell_type": "markdown",
   "id": "e1cbc658-28e8-4dbf-b6e2-b75fa4202594",
   "metadata": {},
   "source": [
    "This notebook demonstrates Classiq's capabilities in the framework of phase oracles. The focus is 3-SAT problems on a growing number of variables. To highlight the advantage of generation times, we skip transpilation for the synthesis output."
   ]
  },
  {
   "cell_type": "markdown",
   "id": "4f1e9b60-25ae-48d8-ae4e-7ed4d33099da",
   "metadata": {},
   "source": [
    "The following function generates random 3-SAT problems for $N$ boolean variables, consisting of $N$ clauses."
   ]
  },
  {
   "cell_type": "code",
   "execution_count": 2,
   "id": "87974a7e-1aca-48a3-a2fe-629bb8f63363",
   "metadata": {},
   "outputs": [],
   "source": [
    "import numpy as np\n",
    "\n",
    "\n",
    "def generate_3sat_expression(num_qubits, max_iter=1000):\n",
    "    \"\"\"\n",
    "    A function that generates 3sat expression with num_qubits clauses on num_qubits variables.\n",
    "    We generate num_qubits triplets of the form (x_k or ~x_s1(k) or x_s2(k)), where s1, s2 are permutations\n",
    "    \"\"\"\n",
    "\n",
    "    direct_arr = np.array([k for k in range(num_qubits)])\n",
    "    vars = [\"x\" + str(k) for k in range(num_qubits)]\n",
    "    negative_vars = [\"~x\" + str(k) for k in range(num_qubits)]\n",
    "\n",
    "    for k in range(max_iter):\n",
    "        permut1 = np.random.permutation(num_qubits)\n",
    "        permut2 = np.random.permutation(num_qubits)\n",
    "        if (\n",
    "            (0 not in permut2 - direct_arr)\n",
    "            and (0 not in permut1 - direct_arr)\n",
    "            and (0 not in permut1 - permut2)\n",
    "        ):\n",
    "            break\n",
    "\n",
    "    if k < max_iter:\n",
    "        my_str = \"\"\n",
    "        for k in range(num_qubits):\n",
    "            my_str += (\n",
    "                \"(\"\n",
    "                + vars[direct_arr[k]]\n",
    "                + \" or \"\n",
    "                + negative_vars[permut1[k]]\n",
    "                + \" or \"\n",
    "                + vars[permut2[k]]\n",
    "                + \")and\"\n",
    "            )\n",
    "\n",
    "        return my_str[0 : len(my_str) - 3]\n",
    "    else:\n",
    "        return \"\""
   ]
  },
  {
   "cell_type": "markdown",
   "id": "9f70e5ac-adf7-480b-a635-e21d2cf70cf4",
   "metadata": {},
   "source": [
    "## 1. Generating Phase Oracles"
   ]
  },
  {
   "cell_type": "markdown",
   "id": "817f5bd4-5a60-4da6-ae9e-5ef92192aa3b",
   "metadata": {},
   "source": [
    "For each 3-SAT problem we generate an oracle with Classiq and save the generation time. "
   ]
  },
  {
   "cell_type": "code",
   "execution_count": null,
   "id": "1b05a367-6ce5-4289-ab5e-712ab58a28f3",
   "metadata": {},
   "outputs": [],
   "source": [
    "def get_generation_time_classiq(expression, num_qubits):\n",
    "    start_cl = time.time()\n",
    "    params = ArithmeticOracle(\n",
    "        expression=expression,\n",
    "        definitions={vars[k]: RegisterUserInput(size=1) for k in range(num_qubits)},\n",
    "        uncomputation_method=\"optimized\",\n",
    "    )\n",
    "    model = Model(preferences=Preferences(transpilation_option=\"none\"))\n",
    "    model.ArithmeticOracle(params)\n",
    "    quantum_program = synthesize(model.get_model())\n",
    "\n",
    "    return time.time() - start_cl"
   ]
  },
  {
   "cell_type": "code",
   "execution_count": null,
   "id": "ac97d11a-dea7-4733-ac6e-2bb410b03e0f",
   "metadata": {},
   "outputs": [],
   "source": [
    "def get_generation_time_qiskit(expression, num_qubits):\n",
    "    start_qs = time.time()\n",
    "    oracle = PhaseOracle(expression)\n",
    "    q = QuantumRegister(num_qubits)\n",
    "    qc = QuantumCircuit(q)\n",
    "    qc.append(oracle, q[:])\n",
    "\n",
    "    return time.time() - start_qs"
   ]
  },
  {
   "cell_type": "markdown",
   "id": "2605e66c-67cb-47dd-b96a-6bef3782c983",
   "metadata": {},
   "source": [
    "*For generating the same data with Qiskit please uncomment the commented lines (including the `pip install command`).* "
   ]
  },
  {
   "cell_type": "code",
   "execution_count": 3,
   "id": "068d534e-4c91-4d05-aad5-4c15ec155390",
   "metadata": {},
   "outputs": [],
   "source": [
    "import time\n",
    "\n",
    "from qiskit import QuantumCircuit, QuantumRegister, transpile\n",
    "from qiskit.circuit.library import PhaseOracle\n",
    "\n",
    "from classiq import GeneratedCircuit, Model, RegisterUserInput, synthesize\n",
    "from classiq.builtin_functions import ArithmeticOracle\n",
    "from classiq.model import CustomHardwareSettings, Preferences"
   ]
  },
  {
   "cell_type": "markdown",
   "id": "c532edaa-0fa8-4a59-b487-dca996bcdbb5",
   "metadata": {},
   "source": [
    "We generate two seperated lists for the number of variables, one with less than 23 variables and another with more. For the second list we could not generate data with Qiskit as generation times exponentially diverge with the number of variables.  "
   ]
  },
  {
   "cell_type": "code",
   "execution_count": 25,
   "id": "4ba6bda7-efdd-49ba-a922-7921bc19d1e4",
   "metadata": {},
   "outputs": [],
   "source": [
    "np.random.seed(128)\n",
    "cl_times = []\n",
    "num_qubits_list1 = [k for k in range(10, 23)]\n",
    "num_qubits_list2 = [int(l) for l in np.logspace(np.log2(24), np.log2(90), 10, base=2)]"
   ]
  },
  {
   "cell_type": "code",
   "execution_count": 8,
   "id": "2ab265da-36d3-44ea-86f6-54a4cbaf3ebd",
   "metadata": {},
   "outputs": [],
   "source": [
    "# ! pip install tweedledum\n",
    "# qs_times = []\n",
    "for l in num_qubits_list1:\n",
    "    num_qubits = l\n",
    "    print(\"num_qubits:\", num_qubits)\n",
    "    vars = [\"x\" + str(k) for k in range(num_qubits)]\n",
    "    expression = generate_3sat_expression(num_qubits, max_iter=1000)\n",
    "\n",
    "    classiq_generation_time = get_generation_time_classiq(expression, num_qubits)\n",
    "    cl_times.append(classiq_generation_time)\n",
    "    print(\"classiq_time:\", classiq_generation_time)\n",
    "\n",
    "    # qiskit_generation_time = get_generation_time_qiskit(expression, num_qubits)\n",
    "    # qs_times.append(qiskit_generation_time)\n",
    "    # print(\"qiskit_time:\", qiskit_generation_time)\n",
    "\n",
    "\n",
    "for l in num_qubits_list2:\n",
    "    num_qubits = l\n",
    "    print(\"num_qubits:\", num_qubits)\n",
    "    vars = [\"x\" + str(k) for k in range(num_qubits)]\n",
    "    expression = generate_3sat_expression(num_qubits, max_iter=1000)\n",
    "\n",
    "    classiq_generation_time = get_generation_time_classiq(expression, num_qubits)\n",
    "    cl_times.append(classiq_generation_time)\n",
    "    print(\"classiq_time:\", classiq_generation_time)"
   ]
  },
  {
   "cell_type": "markdown",
   "id": "7989178b-c5e2-459e-aa14-6706e71d3929",
   "metadata": {},
   "source": [
    "## 2. Plotting the Data"
   ]
  },
  {
   "cell_type": "markdown",
   "id": "c0229906-6bae-4cd2-a45a-9ec1089c3f67",
   "metadata": {},
   "source": [
    "Since generating the data takes time we hard-coded the qiskit results in the notebook. If you run this notebook by yourself please comment out the following cell."
   ]
  },
  {
   "cell_type": "code",
   "execution_count": null,
   "id": "542b49f3-ddfa-4009-8c4d-e4303754698e",
   "metadata": {},
   "outputs": [],
   "source": [
    "qs_times = [\n",
    "    0.23147010803222656,\n",
    "    0.2850170135498047,\n",
    "    2.6256730556488037,\n",
    "    0.75693678855896,\n",
    "    5.783859968185425,\n",
    "    3.3723957538604736,\n",
    "    3.9280269145965576,\n",
    "    39.92809295654297,\n",
    "    60.67643904685974,\n",
    "    16.551968097686768,\n",
    "    31.536834955215454,\n",
    "    31.086618900299072,\n",
    "    794.9081449508667,\n",
    "]"
   ]
  },
  {
   "cell_type": "code",
   "execution_count": 12,
   "id": "ccfd2c91-49fc-4ba0-b66f-c18db8354e82",
   "metadata": {},
   "outputs": [
    {
     "data": {
      "text/plain": [
       "(array([1.e-01, 1.e+00, 1.e+01, 1.e+02, 1.e+03, 1.e+04]),\n",
       " [Text(0.1, 0, '$\\\\mathdefault{10^{-1}}$'),\n",
       "  Text(1.0, 0, '$\\\\mathdefault{10^{0}}$'),\n",
       "  Text(10.0, 0, '$\\\\mathdefault{10^{1}}$'),\n",
       "  Text(100.0, 0, '$\\\\mathdefault{10^{2}}$'),\n",
       "  Text(1000.0, 0, '$\\\\mathdefault{10^{3}}$'),\n",
       "  Text(10000.0, 0, '$\\\\mathdefault{10^{4}}$')])"
      ]
     },
     "execution_count": 12,
     "metadata": {},
     "output_type": "execute_result"
    },
    {
     "data": {
      "image/png": "[encoded data removed]",
      "text/plain": [
       "<Figure size 640x480 with 1 Axes>"
      ]
     },
     "metadata": {},
     "output_type": "display_data"
    }
   ],
   "source": [
    "import matplotlib.pyplot as plt\n",
    "\n",
    "classiq_color = \"#D7F75B\"\n",
    "qiskit_color = \"#6FA4FF\"\n",
    "plt.rc(\"text\", usetex=True)\n",
    "plt.rcParams[\"font.family\"] = \"serif\"\n",
    "plt.rc(\"savefig\", dpi=300)\n",
    "\n",
    "plt.rcParams[\"axes.linewidth\"] = 1\n",
    "plt.rcParams[\"xtick.major.size\"] = 5\n",
    "plt.rcParams[\"xtick.minor.size\"] = 5\n",
    "plt.rcParams[\"ytick.major.size\"] = 5\n",
    "plt.rcParams[\"ytick.minor.size\"] = 5\n",
    "\n",
    "\n",
    "plt.loglog(\n",
    "    num_qubits_list1,\n",
    "    qs_times,\n",
    "    \"s\",\n",
    "    label=\"qiskit\",\n",
    "    markerfacecolor=qiskit_color,\n",
    "    markeredgecolor=\"k\",\n",
    "    markersize=7,\n",
    "    markeredgewidth=1.5,\n",
    "    linewidth=1.5,\n",
    "    color=qiskit_color,\n",
    ")\n",
    "plt.loglog(\n",
    "    num_qubits_list1 + num_qubits_list2,\n",
    "    cl_times,\n",
    "    \"o\",\n",
    "    label=\"classiq\",\n",
    "    markerfacecolor=classiq_color,\n",
    "    markeredgecolor=\"k\",\n",
    "    markersize=8.5,\n",
    "    markeredgewidth=1.5,\n",
    "    linewidth=1.5,\n",
    "    color=classiq_color,\n",
    ")\n",
    "\n",
    "plt.legend(fontsize=16, loc=\"upper right\")\n",
    "\n",
    "\n",
    "plt.ylabel(\"generation time [sec]\", fontsize=16)\n",
    "plt.xlabel(\"number of variables\", fontsize=16)\n",
    "plt.yticks(fontsize=16)\n",
    "plt.xticks(fontsize=16)"
   ]
  }
 ],
 "metadata": {
  "kernelspec": {
   "display_name": "Python 3 (ipykernel)",
   "language": "python",
   "name": "python3"
  },
  "language_info": {
   "codemirror_mode": {
    "name": "ipython",
    "version": 3
   },
   "file_extension": ".py",
   "mimetype": "text/x-python",
   "name": "python",
   "nbconvert_exporter": "python",
   "pygments_lexer": "ipython3",
   "version": "3.11.4"
  }
 },
 "nbformat": 4,
 "nbformat_minor": 5
}
