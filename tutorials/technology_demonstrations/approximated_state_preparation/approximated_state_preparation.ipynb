{
 "cells": [
  {
   "cell_type": "markdown",
   "id": "03473fbd-7f0c-4ece-9639-ed73a7c33aba",
   "metadata": {},
   "source": [
    "# Approximated State Preparation"
   ]
  },
  {
   "cell_type": "markdown",
   "id": "475ba3de-99df-4be9-b327-fe6d5e79a8fb",
   "metadata": {},
   "source": [
    "This tutorial demonstrates an approximated quantum function: a state preparation. Depending on the given functional error, the synthesis engine automatically chooses implementation with fewer resources. The demonstration is on a random state vector, of size $2^6$."
   ]
  },
  {
   "cell_type": "code",
   "execution_count": 2,
   "id": "b0914a0f-115e-4593-8f78-8694126f3e14",
   "metadata": {},
   "outputs": [],
   "source": [
    "import numpy as np\n",
    "\n",
    "NUM_QUBITS = 6\n",
    "np.random.seed(12)\n",
    "amplitudes = 1 - 2 * np.random.rand(2**NUM_QUBITS)\n",
    "amplitudes = (amplitudes / np.linalg.norm(amplitudes)).tolist()"
   ]
  },
  {
   "cell_type": "code",
   "execution_count": 3,
   "id": "a5f845ce-ea00-4e73-979d-22a037f45e0e",
   "metadata": {},
   "outputs": [
    {
     "name": "stdout",
     "output_type": "stream",
     "text": [
      "The upper bounds: [0.         0.03333333 0.06666667 0.1        0.13333333 0.16666667\n",
      " 0.2        0.23333333 0.26666667 0.3       ]\n"
     ]
    }
   ],
   "source": [
    "bounds = np.linspace(0.0, 0.3, 10)\n",
    "print(\"The upper bounds:\", bounds)"
   ]
  },
  {
   "cell_type": "code",
   "execution_count": 4,
   "id": "6b9a9dbb-e730-44f8-8dc8-db51266c727f",
   "metadata": {},
   "outputs": [],
   "source": [
    "from classiq import (\n",
    "    GeneratedCircuit,\n",
    "    QArray,\n",
    "    QFunc,\n",
    "    create_model,\n",
    "    prepare_amplitudes,\n",
    "    set_constraints,\n",
    "    set_preferences,\n",
    "    show,\n",
    "    synthesize,\n",
    ")\n",
    "from classiq.model import (\n",
    "    Constraints,\n",
    "    CustomHardwareSettings,\n",
    "    OptimizationParameter,\n",
    "    Preferences,\n",
    ")\n",
    "\n",
    "preferences = Preferences(\n",
    "    custom_hardware_settings=CustomHardwareSettings(basis_gates=[\"cx\", \"u\"]),\n",
    "    random_seed=1235,\n",
    "    optimization_timeout_seconds=100,\n",
    "    transpilation_option=\"custom\",\n",
    ")\n",
    "\n",
    "\n",
    "depths = []\n",
    "cx_counts = []\n",
    "\n",
    "\n",
    "for b in bounds:\n",
    "\n",
    "    @QFunc\n",
    "    def main() -> None:\n",
    "        out = QArray(\"out\")\n",
    "        prepare_amplitudes(amplitudes=amplitudes, bound=b, out=out)\n",
    "\n",
    "    qmod = create_model(main)\n",
    "    qmod = set_preferences(qmod, preferences)\n",
    "    qprog = synthesize(qmod)\n",
    "\n",
    "    circuit = GeneratedCircuit.from_qprog(qprog)\n",
    "    depths.append(circuit.transpiled_circuit.depth)\n",
    "    cx_counts.append(circuit.transpiled_circuit.count_ops[\"cx\"])"
   ]
  },
  {
   "cell_type": "code",
   "execution_count": 5,
   "id": "c560f667-7bf0-4282-b258-9a87e5db485e",
   "metadata": {},
   "outputs": [
    {
     "name": "stdout",
     "output_type": "stream",
     "text": [
      "classiq depths: [9874, 8721, 8259, 7908, 7677, 7447, 6986, 6755, 6525, 6295]\n",
      "cx-counts depths: [6548, 5748, 5428, 5196, 5036, 4876, 4556, 4396, 4236, 4076]\n"
     ]
    }
   ],
   "source": [
    "print(\"classiq depths:\", depths)\n",
    "print(\"cx-counts depths:\", cx_counts)"
   ]
  },
  {
   "cell_type": "code",
   "execution_count": 11,
   "id": "9f67d9f0-47b5-4064-936e-3a5271949e8c",
   "metadata": {},
   "outputs": [
    {
     "data": {
      "text/plain": [
       "(array([-0.05,  0.  ,  0.05,  0.1 ,  0.15,  0.2 ,  0.25,  0.3 ,  0.35]),\n",
       " [Text(-0.05, 0, '$\\\\mathdefault{−0.05}$'),\n",
       "  Text(0.0, 0, '$\\\\mathdefault{0.00}$'),\n",
       "  Text(0.05, 0, '$\\\\mathdefault{0.05}$'),\n",
       "  Text(0.10000000000000002, 0, '$\\\\mathdefault{0.10}$'),\n",
       "  Text(0.15000000000000002, 0, '$\\\\mathdefault{0.15}$'),\n",
       "  Text(0.2, 0, '$\\\\mathdefault{0.20}$'),\n",
       "  Text(0.25000000000000006, 0, '$\\\\mathdefault{0.25}$'),\n",
       "  Text(0.30000000000000004, 0, '$\\\\mathdefault{0.30}$'),\n",
       "  Text(0.35000000000000003, 0, '$\\\\mathdefault{0.35}$')])"
      ]
     },
     "execution_count": 11,
     "metadata": {},
     "output_type": "execute_result"
    },
    {
     "data": {
      "image/png": "[encoded data removed]",
      "text/plain": [
       "<Figure size 640x480 with 1 Axes>"
      ]
     },
     "metadata": {},
     "output_type": "display_data"
    }
   ],
   "source": [
    "import matplotlib.pyplot as plt\n",
    "\n",
    "classiq_color = \"#D7F75B\"\n",
    "plt.rc(\"text\", usetex=True)\n",
    "plt.rcParams[\"font.family\"] = \"serif\"\n",
    "plt.rc(\"savefig\", dpi=300)\n",
    "\n",
    "plt.rcParams[\"axes.linewidth\"] = 1\n",
    "plt.rcParams[\"xtick.major.size\"] = 5\n",
    "plt.rcParams[\"xtick.minor.size\"] = 5\n",
    "plt.rcParams[\"ytick.major.size\"] = 5\n",
    "plt.rcParams[\"ytick.minor.size\"] = 5\n",
    "\n",
    "\n",
    "plt.plot(\n",
    "    np.round(bounds, 2),\n",
    "    depths,\n",
    "    \"o\",\n",
    "    label=\"classiq depth\",\n",
    "    markerfacecolor=classiq_color,\n",
    "    markeredgecolor=\"k\",\n",
    "    markersize=8,\n",
    "    markeredgewidth=1.5,\n",
    ")\n",
    "plt.plot(\n",
    "    np.round(bounds, 2),\n",
    "    cx_counts,\n",
    "    \"*\",\n",
    "    label=\"classiq cx-counts\",\n",
    "    markerfacecolor=classiq_color,\n",
    "    markeredgecolor=\"k\",\n",
    "    markersize=12,\n",
    "    markeredgewidth=1.5,\n",
    ")\n",
    "\n",
    "\n",
    "plt.legend(fontsize=16, loc=\"upper right\")\n",
    "\n",
    "\n",
    "plt.ylabel(\"Depth, CX-count\", fontsize=16)\n",
    "plt.xlabel(\"error bound ($L_2$ metric)\", fontsize=16)\n",
    "plt.yticks(fontsize=16)\n",
    "plt.xticks(fontsize=16)"
   ]
  }
 ],
 "metadata": {
  "kernelspec": {
   "display_name": "Python 3 (ipykernel)",
   "language": "python",
   "name": "python3"
  },
  "language_info": {
   "codemirror_mode": {
    "name": "ipython",
    "version": 3
   },
   "file_extension": ".py",
   "mimetype": "text/x-python",
   "name": "python",
   "nbconvert_exporter": "python",
   "pygments_lexer": "ipython3",
   "version": "3.11.4"
  }
 },
 "nbformat": 4,
 "nbformat_minor": 5
}
