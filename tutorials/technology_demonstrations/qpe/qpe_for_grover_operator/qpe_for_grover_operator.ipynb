{
 "cells": [
  {
   "cell_type": "markdown",
   "id": "dcc748a4-73fc-485c-a3d7-8c310c175dab",
   "metadata": {},
   "source": [
    "# Quantum Phase Estimation on a Grover Operator"
   ]
  },
  {
   "cell_type": "markdown",
   "id": "4207600f-f894-4d1a-975a-b2ea0f853de9",
   "metadata": {},
   "source": [
    "This notebook demonstrates the capability of Classiq's QPE function, focusing on a case where it is applied on a Grover Operator. This is the core of the Amplitude Estimation algorithm.t\n",
    "\n",
    "The demonstration done for a toy model, where the Grover operator is constructed for a \"good state\" on 5 qubits $|\\psi\\rangle_{\\rm good}\\propto (|2\\rangle+|3\\rangle+|5\\rangle+|7\\rangle+|11\\rangle+|13\\rangle$."
   ]
  },
  {
   "cell_type": "markdown",
   "id": "4961f424-89d2-4d7a-91a2-c5a6ad0dcf1d",
   "metadata": {},
   "source": [
    "## 1. Building a model with Classiq"
   ]
  },
  {
   "cell_type": "code",
   "execution_count": 2,
   "id": "52b8179b-ad39-469d-bc31-1d55fd5b0eb5",
   "metadata": {},
   "outputs": [],
   "source": [
    "from classiq import ControlState, FunctionGenerator, FunctionLibrary, QReg, QUInt\n",
    "from classiq.builtin_functions import HGate, Mcx, RYGate, UGate, XGate, ZGate"
   ]
  },
  {
   "cell_type": "code",
   "execution_count": 3,
   "id": "ba549e78-d739-462a-ac65-c4ddb177de2c",
   "metadata": {},
   "outputs": [
    {
     "name": "stdout",
     "output_type": "stream",
     "text": [
      "precisions: [1, 2, 3, 4, 5]\n"
     ]
    }
   ],
   "source": [
    "import numpy as np\n",
    "\n",
    "NUM_QUBITS = 5\n",
    "states_to_flip = [np.binary_repr(k, 4) for k in [2, 3, 5, 7, 11, 13]]\n",
    "precisions = [l for l in range(1, 6)]\n",
    "print(\"precisions:\", precisions)"
   ]
  },
  {
   "cell_type": "code",
   "execution_count": 4,
   "id": "775e46ee-881d-4e32-a0dc-c481c93fdd1b",
   "metadata": {},
   "outputs": [],
   "source": [
    "transpilation_options = {\"classiq\": \"custom\", \"qiskit\": 3}\n",
    "# transpilation_options = {\"classiq\": \"auto optimize\", \"qiskit\": 1}"
   ]
  },
  {
   "cell_type": "code",
   "execution_count": 5,
   "id": "d9bfa8c2-fd71-4a2b-9522-75068d91fb5d",
   "metadata": {},
   "outputs": [],
   "source": [
    "qmci_library = FunctionLibrary()"
   ]
  },
  {
   "cell_type": "code",
   "execution_count": 6,
   "id": "4ed8f0be-9ab4-4f5d-a3ae-baefffd79cc2",
   "metadata": {},
   "outputs": [],
   "source": [
    "# Composite for specific state preparation\n",
    "\n",
    "fg = FunctionGenerator(function_name=\"my_state_preparation\")\n",
    "wires_dict = fg.create_inputs({\"io\": QUInt[NUM_QUBITS]})\n",
    "\n",
    "for state in states_to_flip:\n",
    "    control_states = ControlState(ctrl_state=state, name=\"control\")\n",
    "    out = fg.XGate(\n",
    "        params=XGate(),\n",
    "        control_states=control_states,\n",
    "        in_wires={\n",
    "            \"control\": wires_dict[\"io\"][0 : NUM_QUBITS - 1],\n",
    "            \"TARGET\": wires_dict[\"io\"][NUM_QUBITS - 1],\n",
    "        },\n",
    "    )\n",
    "    wires_dict = {\"io\": QReg.concat(out[\"control\"], out[\"TARGET\"])}\n",
    "\n",
    "fg.set_outputs(wires_dict)\n",
    "\n",
    "qmci_library.add_function(fg.to_function_definition())"
   ]
  },
  {
   "cell_type": "code",
   "execution_count": 7,
   "id": "e53eceb6-939f-47f4-b09e-a5cd2f7849d2",
   "metadata": {},
   "outputs": [],
   "source": [
    "# Composite for good state oracle\n",
    "\n",
    "fg = FunctionGenerator(function_name=\"my_oracle\")\n",
    "\n",
    "wires_dict = fg.create_inputs({\"io\": QUInt[NUM_QUBITS]})\n",
    "\n",
    "out = fg.ZGate(ZGate(), in_wires={\"TARGET\": wires_dict[\"io\"][NUM_QUBITS - 1]})\n",
    "wires_dict = {\"io\": QReg.concat(wires_dict[\"io\"][0 : NUM_QUBITS - 1], out[\"TARGET\"])}\n",
    "\n",
    "fg.set_outputs(wires_dict)\n",
    "\n",
    "qmci_library.add_function(fg.to_function_definition())"
   ]
  },
  {
   "cell_type": "code",
   "execution_count": 8,
   "id": "74eb6870-63f9-470b-ab02-557ba7642977",
   "metadata": {},
   "outputs": [],
   "source": [
    "# Composite for zero_oracle\n",
    "\n",
    "function_generator = FunctionGenerator(function_name=\"zero_oracle\")\n",
    "\n",
    "input_dict = function_generator.create_inputs({\"mcz_io\": QUInt[NUM_QUBITS]})\n",
    "\n",
    "\n",
    "x_out = function_generator.XGate(\n",
    "    params=XGate(),\n",
    "    in_wires={\"TARGET\": input_dict[\"mcz_io\"][0]},\n",
    "    should_control=False,\n",
    ")\n",
    "h_out = function_generator.HGate(\n",
    "    params=HGate(),\n",
    "    in_wires={\"TARGET\": x_out[\"TARGET\"][0]},\n",
    "    should_control=False,\n",
    ")\n",
    "\n",
    "\n",
    "mcx_out = function_generator.Mcx(\n",
    "    params=Mcx(num_ctrl_qubits=NUM_QUBITS - 1, ctrl_state=\"0\" * (NUM_QUBITS - 1)),\n",
    "    in_wires={\n",
    "        \"TARGET_QUBIT\": h_out[\"TARGET\"],\n",
    "        \"CTRL_IN\": input_dict[\"mcz_io\"][1:NUM_QUBITS],\n",
    "    },\n",
    ")\n",
    "\n",
    "\n",
    "h_out = function_generator.HGate(\n",
    "    params=HGate(), in_wires={\"TARGET\": mcx_out[\"TARGET_QUBIT\"]}, should_control=False\n",
    ")\n",
    "x_out = function_generator.XGate(\n",
    "    params=XGate(), in_wires={\"TARGET\": h_out[\"TARGET\"]}, should_control=False\n",
    ")\n",
    "\n",
    "function_generator.set_outputs(\n",
    "    {\"mcz_io\": QReg.concat(x_out[\"TARGET\"], mcx_out[\"CTRL_IN\"])}\n",
    ")\n",
    "\n",
    "qmci_library.add_function(function_generator.to_function_definition())"
   ]
  },
  {
   "cell_type": "code",
   "execution_count": 9,
   "id": "d53b8c19-f4c5-42a8-b600-9f84fdda8a31",
   "metadata": {},
   "outputs": [],
   "source": [
    "function_generator = FunctionGenerator(function_name=\"my_grover\")\n",
    "function_generator.include_library(qmci_library)\n",
    "\n",
    "\n",
    "in_wires = function_generator.create_inputs({\"io\": QUInt[NUM_QUBITS]})\n",
    "\n",
    "oracle_out = function_generator.my_oracle(in_wires=in_wires)\n",
    "\n",
    "sps_inverse_out = function_generator.my_state_preparation(\n",
    "    in_wires={\"io\": oracle_out[\"io\"]},\n",
    "    is_inverse=True,\n",
    "    should_control=False,\n",
    ")\n",
    "\n",
    "zero_oracle_out = function_generator.zero_oracle(\n",
    "    in_wires={\"mcz_io\": sps_inverse_out[\"io\"]}\n",
    ")\n",
    "\n",
    "\n",
    "sps_out = function_generator.my_state_preparation(\n",
    "    in_wires={\"io\": zero_oracle_out[\"mcz_io\"]},\n",
    "    should_control=False,\n",
    ")\n",
    "\n",
    "\n",
    "global_phase_out = function_generator.UGate(\n",
    "    UGate(theta=0, phi=0, lam=0, gam=np.pi), in_wires={\"TARGET\": sps_out[\"io\"][0]}\n",
    ")\n",
    "\n",
    "\n",
    "function_generator.set_outputs(\n",
    "    {\"io\": QReg.concat(sps_out[\"io\"][1:NUM_QUBITS], global_phase_out[\"TARGET\"])}\n",
    ")\n",
    "\n",
    "\n",
    "qmci_library.add_function(function_generator.to_function_definition())"
   ]
  },
  {
   "cell_type": "code",
   "execution_count": 10,
   "id": "9cd7c98f-3474-42fb-9c60-d37cdce0b057",
   "metadata": {},
   "outputs": [],
   "source": [
    "from classiq.model import CustomHardwareSettings, Preferences\n",
    "\n",
    "preferences = Preferences(\n",
    "    custom_hardware_settings=CustomHardwareSettings(basis_gates=[\"cx\", \"u\"]),\n",
    "    transpilation_option=transpilation_options[\"classiq\"],\n",
    ")"
   ]
  },
  {
   "cell_type": "markdown",
   "id": "021b8f86-fcad-445b-b959-fd46aee827aa",
   "metadata": {},
   "source": [
    "### 1.1 Width Optimization"
   ]
  },
  {
   "cell_type": "code",
   "execution_count": 11,
   "id": "00788a42-54fe-4f03-b144-3cab846750e1",
   "metadata": {},
   "outputs": [
    {
     "name": "stdout",
     "output_type": "stream",
     "text": [
      "classiq depths: [870, 2606, 6078, 13022, 26910]\n",
      "classiq cx_counts: [513, 1544, 3600, 7713, 15929]\n",
      "classiq widths: [6, 7, 8, 9, 10]\n"
     ]
    }
   ],
   "source": [
    "from classiq import (\n",
    "    GeneratedCircuit,\n",
    "    Model,\n",
    "    set_constraints,\n",
    "    set_preferences,\n",
    "    synthesize,\n",
    ")\n",
    "from classiq.builtin_functions import PhaseEstimation\n",
    "from classiq.model import Constraints, OptimizationParameter\n",
    "\n",
    "classiq_depths_ae_opt_width = []\n",
    "classiq_cx_counts_ae_opt_width = []\n",
    "classiq_widths_ae_opt_width = []\n",
    "\n",
    "constraints = Constraints(\n",
    "    optimization_parameter=OptimizationParameter.WIDTH,\n",
    ")\n",
    "\n",
    "\n",
    "for precision in precisions:\n",
    "    model = Model()\n",
    "    model.include_library(qmci_library)\n",
    "\n",
    "    qpe_out = model.PhaseEstimation(\n",
    "        params=PhaseEstimation(\n",
    "            size=precision,\n",
    "            unitary_params=qmci_library.get_function(\"my_grover\"),\n",
    "            unitary=\"my_grover\",\n",
    "        ),\n",
    "    )\n",
    "\n",
    "    qmod = model.get_model()\n",
    "    qmod = set_constraints(qmod, constraints=constraints)\n",
    "    qmod = set_preferences(qmod, preferences=preferences)\n",
    "    quantum_program = synthesize(qmod)\n",
    "    circuit = GeneratedCircuit.from_qprog(quantum_program)\n",
    "    classiq_widths_ae_opt_width.append(circuit.data.width)\n",
    "    classiq_depths_ae_opt_width.append(circuit.transpiled_circuit.depth)\n",
    "    classiq_cx_counts_ae_opt_width.append(circuit.transpiled_circuit.count_ops[\"cx\"])\n",
    "\n",
    "print(\"classiq depths:\", classiq_depths_ae_opt_width)\n",
    "print(\"classiq cx_counts:\", classiq_cx_counts_ae_opt_width)\n",
    "print(\"classiq widths:\", classiq_widths_ae_opt_width)"
   ]
  },
  {
   "cell_type": "markdown",
   "id": "6f3dcf4f-bc8b-4cc9-b391-5b68bf49504d",
   "metadata": {},
   "source": [
    "### 1.3 Depth Optimization with a Constrained Width"
   ]
  },
  {
   "cell_type": "code",
   "execution_count": 12,
   "id": "1c50ed71-96fd-4f22-9771-144dadfbdcea",
   "metadata": {},
   "outputs": [
    {
     "name": "stdout",
     "output_type": "stream",
     "text": [
      "classiq depths: [418, 1247, 2902, 6213, 12873]\n",
      "classiq cx_counts: [237, 713, 1663, 3560, 7369]\n",
      "classiq widths: [15, 18, 21, 24, 27]\n"
     ]
    }
   ],
   "source": [
    "classiq_cx_counts_ae_opt_depth_max_width = []\n",
    "classiq_depths_ae_opt_depth_max_width = []\n",
    "classiq_widths_ae_opt_depth_max_width = []\n",
    "\n",
    "\n",
    "for precision in precisions:\n",
    "    constraints = Constraints(\n",
    "        optimization_parameter=OptimizationParameter.DEPTH,\n",
    "        max_width=15 + 3 * (precision - 1),  # setting some bound\n",
    "    )\n",
    "\n",
    "    model = Model()\n",
    "    model.include_library(qmci_library)\n",
    "\n",
    "    qpe_out = model.PhaseEstimation(\n",
    "        params=PhaseEstimation(\n",
    "            size=precision,\n",
    "            unitary_params=qmci_library.get_function(\"my_grover\"),\n",
    "            unitary=\"my_grover\",\n",
    "        ),\n",
    "    )\n",
    "\n",
    "    qmod = model.get_model()\n",
    "    qmod = set_constraints(qmod, constraints=constraints)\n",
    "    qmod = set_preferences(qmod, preferences=preferences)\n",
    "    quantum_program = synthesize(qmod)\n",
    "    circuit = GeneratedCircuit.from_qprog(quantum_program)\n",
    "    classiq_widths_ae_opt_depth_max_width.append(circuit.data.width)\n",
    "    classiq_depths_ae_opt_depth_max_width.append(circuit.transpiled_circuit.depth)\n",
    "    classiq_cx_counts_ae_opt_depth_max_width.append(\n",
    "        circuit.transpiled_circuit.count_ops[\"cx\"]\n",
    "    )\n",
    "\n",
    "print(\"classiq depths:\", classiq_depths_ae_opt_depth_max_width)\n",
    "print(\"classiq cx_counts:\", classiq_cx_counts_ae_opt_depth_max_width)\n",
    "print(\"classiq widths:\", classiq_widths_ae_opt_depth_max_width)"
   ]
  },
  {
   "cell_type": "markdown",
   "id": "93bace92-54e9-4688-9d36-b292a94d94e0",
   "metadata": {},
   "source": [
    "## 2. Comparing to Qiskit Implementation"
   ]
  },
  {
   "cell_type": "code",
   "execution_count": 13,
   "id": "7bb63fe2-8006-433a-8a8f-0cf11f3e9efb",
   "metadata": {},
   "outputs": [],
   "source": [
    "import numpy as np\n",
    "from qiskit import QuantumCircuit, QuantumRegister, transpile\n",
    "from qiskit.circuit.library import GroverOperator, PhaseEstimation, XGate\n",
    "\n",
    "# building the state preparation circuit, the last qubit is the indicator of good/bad state\n",
    "state_preparation = QuantumCircuit(NUM_QUBITS)\n",
    "for q in range(NUM_QUBITS - 1):\n",
    "    state_preparation.h(q)\n",
    "\n",
    "for states in states_to_flip:\n",
    "    mcx = XGate().control(num_ctrl_qubits=NUM_QUBITS - 1, ctrl_state=states)\n",
    "    state_preparation.append(mcx, [k for k in range(NUM_QUBITS)])\n",
    "\n",
    "circuit = QuantumCircuit(NUM_QUBITS)\n",
    "circuit.compose(state_preparation, [k for k in range(NUM_QUBITS)], inplace=True)\n",
    "\n",
    "# building oracle\n",
    "oracle = QuantumCircuit(NUM_QUBITS)\n",
    "oracle.z(4)  # good state = last qubit is |1>\n",
    "\n",
    "# building the grover operator\n",
    "grover_op = GroverOperator(oracle, state_preparation=circuit, insert_barriers=True)\n",
    "\n",
    "\n",
    "qiskit_depths_ae = []\n",
    "qiskit_cx_counts_ae = []\n",
    "qiskit_widths_ae = []\n",
    "for precision in precisions:\n",
    "    qpe_qc = PhaseEstimation(precision, circuit)\n",
    "    transpiled_cir = transpile(\n",
    "        qpe_qc,\n",
    "        basis_gates=[\"u\", \"cx\"],\n",
    "        optimization_level=transpilation_options[\"qiskit\"],\n",
    "    )\n",
    "    qiskit_depths_ae.append(transpiled_cir.depth())\n",
    "    qiskit_cx_counts_ae.append(transpiled_cir.count_ops()[\"cx\"])\n",
    "    qiskit_widths_ae.append(transpiled_cir.width())"
   ]
  },
  {
   "cell_type": "code",
   "execution_count": 14,
   "id": "17c403db-8ac5-42e6-adc5-8665b0495ebd",
   "metadata": {},
   "outputs": [
    {
     "name": "stdout",
     "output_type": "stream",
     "text": [
      "qiskit depths: [3220, 9638, 22470, 48122, 99414]\n",
      "qiskit cx_counts: [1712, 5130, 11958, 25604, 52884]\n",
      "qiskit widths: [6, 7, 8, 9, 10]\n"
     ]
    }
   ],
   "source": [
    "print(\"qiskit depths:\", qiskit_depths_ae)\n",
    "print(\"qiskit cx_counts:\", qiskit_cx_counts_ae)\n",
    "print(\"qiskit widths:\", qiskit_widths_ae)"
   ]
  },
  {
   "cell_type": "markdown",
   "id": "2a6a95f9-7b7a-4b7e-b06e-015f06bc1419",
   "metadata": {},
   "source": [
    "## 3. Plotting the Data"
   ]
  },
  {
   "cell_type": "code",
   "execution_count": 15,
   "id": "4ba34314-8f97-4e24-a1bc-970b9d6ece85",
   "metadata": {},
   "outputs": [
    {
     "data": {
      "text/plain": [
       "Text(4.8, 500.0, '(b)')"
      ]
     },
     "execution_count": 15,
     "metadata": {},
     "output_type": "execute_result"
    },
    {
     "data": {
      "image/png": "[encoded data removed]",
      "text/plain": [
       "<Figure size 640x480 with 1 Axes>"
      ]
     },
     "metadata": {},
     "output_type": "display_data"
    }
   ],
   "source": [
    "import matplotlib.pyplot as plt\n",
    "\n",
    "classiq_color = \"#119DA4\"\n",
    "classiq_color_1 = \"#F43764\"\n",
    "qiskit_color = \"#bb8bff\"\n",
    "plt.rc(\"text\", usetex=True)\n",
    "plt.rcParams[\"font.family\"] = \"serif\"\n",
    "plt.rc(\"savefig\", dpi=300)\n",
    "plt.rcParams[\"axes.linewidth\"] = 1\n",
    "plt.rcParams[\"xtick.major.size\"] = 5\n",
    "plt.rcParams[\"xtick.minor.size\"] = 5\n",
    "plt.rcParams[\"ytick.major.size\"] = 5\n",
    "plt.rcParams[\"ytick.minor.size\"] = 5\n",
    "\n",
    "(qiskit1,) = plt.semilogy(\n",
    "    precisions,\n",
    "    qiskit_depths_ae,\n",
    "    \"-s\",\n",
    "    label=\"qiskit\",\n",
    "    markerfacecolor=qiskit_color,\n",
    "    markeredgecolor=\"k\",\n",
    "    markersize=6,\n",
    "    markeredgewidth=1.5,\n",
    "    color=qiskit_color,\n",
    ")\n",
    "\n",
    "(classiq1,) = plt.semilogy(\n",
    "    precisions,\n",
    "    classiq_depths_ae_opt_width,\n",
    "    \"-D\",\n",
    "    label=\"classiq width opt.\",\n",
    "    markerfacecolor=classiq_color,\n",
    "    markeredgecolor=\"k\",\n",
    "    markersize=6.5,\n",
    "    markeredgewidth=1.5,\n",
    "    color=classiq_color,\n",
    ")\n",
    "\n",
    "(classiq2,) = plt.semilogy(\n",
    "    precisions,\n",
    "    classiq_depths_ae_opt_depth_max_width,\n",
    "    \"-o\",\n",
    "    label=\"classiq depth opt.\",\n",
    "    markerfacecolor=classiq_color_1,\n",
    "    markeredgecolor=\"k\",\n",
    "    markersize=7,\n",
    "    markeredgewidth=1.5,\n",
    "    linewidth=1.5,\n",
    "    color=classiq_color_1,\n",
    ")\n",
    "\n",
    "\n",
    "first_legend = plt.legend(\n",
    "    handles=[qiskit1, classiq1, classiq2], fontsize=16, loc=\"upper left\"\n",
    ")\n",
    "\n",
    "\n",
    "plt.ylabel(\"Depth\", fontsize=16)\n",
    "plt.xlabel(\"QPE-precision\", fontsize=16)\n",
    "plt.yticks(fontsize=16)\n",
    "plt.xticks(fontsize=16)\n",
    "plt.axis(ymin=3e2, ymax=5e5)\n",
    "plt.xticks(precisions)\n",
    "\n",
    "\n",
    "for x, y, num_qubits in zip(\n",
    "    precisions, classiq_depths_ae_opt_width, classiq_widths_ae_opt_width\n",
    "):\n",
    "    plt.text(x * 0.94, y * 1.2, str(num_qubits), fontsize=16, color=classiq_color)\n",
    "for x, y, num_qubits in zip(\n",
    "    precisions,\n",
    "    classiq_depths_ae_opt_depth_max_width,\n",
    "    classiq_widths_ae_opt_depth_max_width,\n",
    "):\n",
    "    plt.text(x * 0.96, y * 1.25, str(num_qubits), fontsize=16, color=classiq_color_1)\n",
    "for x, y, num_qubits in zip(precisions, qiskit_depths_ae, qiskit_widths_ae):\n",
    "    plt.text(x * 0.98, y * 1.2, str(num_qubits), fontsize=16, color=qiskit_color)\n",
    "plt.text(4.8, 5e2, \"(b)\", fontsize=16)"
   ]
  }
 ],
 "metadata": {
  "kernelspec": {
   "display_name": "Python 3 (ipykernel)",
   "language": "python",
   "name": "python3"
  },
  "language_info": {
   "codemirror_mode": {
    "name": "ipython",
    "version": 3
   },
   "file_extension": ".py",
   "mimetype": "text/x-python",
   "name": "python",
   "nbconvert_exporter": "python",
   "pygments_lexer": "ipython3",
   "version": "3.11.4"
  }
 },
 "nbformat": 4,
 "nbformat_minor": 5
}
