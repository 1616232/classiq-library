{
 "cells": [
  {
   "cell_type": "markdown",
   "id": "9870d6cb",
   "metadata": {
    "tags": []
   },
   "source": [
    "# Learning Functional Level Design: Arithmetics\n",
    "\n",
    "$$\\renewcommand{\\ket}[1]{\\left|{#1}\\right\\rangle}$$\n",
    "$$\\renewcommand{\\bra}[1]{\\left\\langle{#1}\\right|}$$\n",
    "In this example we will enrich our toolset by using a quantum adder that adds coherently two numbers, and we will explore further capabilities of the synthesize engine!\n",
    "\n",
    "Let's start with a simple example to explain what do we mean by coherently adding two quantum numbers. Let the two 1-qubit quantum states we want to add be $\\ket{x} = \\frac{1}{\\sqrt{2}}(\\ket{0}+\\ket{1})$ and $\\ket{y}=\\ket{1}$. Then when we say $\\ket{x+y}$ we want to get $\\ket{x}\\ket{y}\\ket{x+y}=\\frac{1}{\\sqrt{2}}(\\ket{0}\\ket{1}\\ket{1}+\\ket{1}\\ket{1}\\ket{2})$.\n",
    "\n",
    "Now, in our example we will take it one step ahead, and the the two numbers we add will be represented by a superposition of two states of 2 qubits:\n",
    "\n",
    "$$\\renewcommand{\\ket}[1]{\\left|{#1}\\right\\rangle}$$\n",
    "$$\\renewcommand{\\bra}[1]{\\left\\langle{#1}\\right|}$$\n",
    "\n",
    "$$\n",
    "\\ket{a} = \\frac{1}{\\sqrt{2}}(\\ket{0} + \\ket{3}) = \\frac{1}{\\sqrt{2}}(\\ket{00} + \\ket{11})\n",
    "$$\n",
    "\n",
    "$$\n",
    "\\ket{b} = \\frac{1}{\\sqrt{2}}(\\ket{1} + \\ket{2}) = \\frac{1}{\\sqrt{2}}(\\ket{01} + \\ket{10})\n",
    "$$\n",
    "\n",
    "Then, the solution we expect is:\n",
    "\n",
    "$$\\renewcommand{\\ket}[1]{\\left|{#1}\\right\\rangle}$$\n",
    "$$\\renewcommand{\\bra}[1]{\\left\\langle{#1}\\right|}$$\n",
    "$$'\\ket{a+b}'= \\frac{1}{2}(\\ket{1} + \\ket{2} + \\ket{4} + \\ket{5})$$\n",
    "\n",
    "More accurately, is to say that the unitary our model will represent acts as follows:\n",
    "\n",
    "$$\\renewcommand{\\ket}[1]{\\left|{#1}\\right\\rangle}$$\n",
    "$$\\renewcommand{\\bra}[1]{\\left\\langle{#1}\\right|}$$\n",
    "$$ U(\\ket{a}\\ket{b}\\ket{0}) = \\ket{a}\\ket{b}\\ket{a+b} $$\n",
    "\n",
    "sucht that:\n",
    "\n",
    "$$\\renewcommand{\\ket}[1]{\\left|{#1}\\right\\rangle}$$\n",
    "$$\\renewcommand{\\bra}[1]{\\left\\langle{#1}\\right|}$$\n",
    "$$ U(\\ket{a}\\ket{b}\\ket{0}) = \\frac{1}{2}(\\ket{0}\\ket{1}\\ket{1}+\\ket{0}\\ket{2}\\ket{2}+\\ket{3}\\ket{1}\\ket{4}+\\ket{3}\\ket{2}\\ket{5})$$\n",
    "\n",
    "## A Final Circuit\n",
    "\n",
    "In this example we are going to synthesize several different circuits for the same functional model. They will be differ in the number of qubits, the depth, the number of 1- and 2-qubit gates, and which gates are used. However, the structure of all the circuits will be the same.\n",
    "\n",
    "One of the circuits will be:"
   ]
  },
  {
   "cell_type": "markdown",
   "id": "2573caf8",
   "metadata": {
    "tags": []
   },
   "source": [
    "![arithmetic.png](https://classiq-docs-images.s3.amazonaws.com/arithmetic.png)"
   ]
  },
  {
   "cell_type": "markdown",
   "id": "40eac5cc",
   "metadata": {
    "tags": []
   },
   "source": [
    "which represents the overall structure we will have: two state preparations, and then the adder.\n",
    "\n",
    "## How We Build This?\n",
    "\n",
    "As in the previous example, we will first build our functional model, then we will synthesize it into a circuit (with some surprises in the synthesis part ;)) and then we will execute the circuits to get results.\n",
    "\n",
    "The four steps for building the functional model are:\n",
    "\n",
    "1. Defining the functional blocks\n",
    "\n",
    "2. Defining an high-level functional model that will contain the functional blocks\n",
    "\n",
    "3. Wiring the blocks within the high-level functional model\n",
    "\n",
    "4. Defining how to execute the resulting quantum circuit\n",
    "\n",
    "## 1. Defining The Fuctional Blocks\n",
    "\n",
    "### State Preparations\n",
    "\n",
    "The first two building blocks are the state preparations:"
   ]
  },
  {
   "cell_type": "markdown",
   "id": "63458b6c",
   "metadata": {
    "tags": []
   },
   "source": [
    "![arithmetic](https://classiq-docs-images.s3.amazonaws.com/arithmetic_sp.png)"
   ]
  },
  {
   "cell_type": "markdown",
   "id": "bed918e9",
   "metadata": {
    "tags": []
   },
   "source": [
    "We first need to define the probability distributions of the two registers. The state $\\ket{a}$ is an equal superposition of the computational states $\\ket{0}$ and $\\ket{3}$, while the state $\\ket{b}$ is an equal superposition of the computational states $\\ket{1}$ and $\\ket{2}$.\n",
    "\n",
    "Therefore the probability distributions are:"
   ]
  },
  {
   "cell_type": "code",
   "execution_count": null,
   "id": "35690684",
   "metadata": {
    "pycharm": {
     "is_executing": true
    }
   },
   "outputs": [],
   "source": [
    "prob_a = [0.5, 0, 0, 0.5]\n",
    "prob_b = [0, 0.5, 0.5, 0]"
   ]
  },
  {
   "cell_type": "markdown",
   "id": "485432b0",
   "metadata": {},
   "source": [
    "We now import the `StatePreparation` object, and initiate two instances of it with the corresponding probability distributions and the desired upper bound for the error value:"
   ]
  },
  {
   "cell_type": "code",
   "execution_count": null,
   "id": "827c690f",
   "metadata": {},
   "outputs": [],
   "source": [
    "from classiq.builtin_functions import StatePreparation\n",
    "\n",
    "sp_a = StatePreparation(\n",
    "    probabilities=prob_a, error_metric={\"KL\": {\"upper_bound\": 0.01}}\n",
    ")\n",
    "sp_b = StatePreparation(\n",
    "    probabilities=prob_b, error_metric={\"KL\": {\"upper_bound\": 0.01}}\n",
    ")"
   ]
  },
  {
   "cell_type": "markdown",
   "id": "0ed18605",
   "metadata": {},
   "source": [
    "In these two state preparations there is no reason for an error, so we can expect the synthesis engine to result in the desired state perfectly.\n",
    "\n",
    "### Adder\n",
    "\n",
    "The second component of the algorithm is the adder:"
   ]
  },
  {
   "cell_type": "markdown",
   "id": "221e2723",
   "metadata": {},
   "source": [
    "![arithmetic - adder.png](https://classiq-docs-images.s3.amazonaws.com/arithmetic_adder.png)"
   ]
  },
  {
   "cell_type": "markdown",
   "id": "827a6181",
   "metadata": {},
   "source": [
    "For this we need to import the `Adder` object and initiate one instance of it. In addition, the parameters this object receives are what are the two arguments it receives. The arguments to be added will be stored in a quantum register, hence these are received as `RegisterUserInput`:"
   ]
  },
  {
   "cell_type": "code",
   "execution_count": null,
   "id": "916e2a83",
   "metadata": {},
   "outputs": [],
   "source": [
    "from classiq import RegisterUserInput\n",
    "from classiq.builtin_functions import Adder\n",
    "\n",
    "adder = Adder(\n",
    "    left_arg=RegisterUserInput(size=2),\n",
    "    right_arg=RegisterUserInput(size=2),\n",
    ")"
   ]
  },
  {
   "cell_type": "markdown",
   "id": "3bb45457",
   "metadata": {},
   "source": [
    "The size of the `RegisteUserInput` is the number of qubits there will be in the register input. Here we know each register will contain 2 qubits.\n",
    "\n",
    "## 2. Defining The Model\n",
    "\n",
    "Here we simply initiate an empty `Model` object:"
   ]
  },
  {
   "cell_type": "code",
   "execution_count": null,
   "id": "e4d05d6e",
   "metadata": {},
   "outputs": [],
   "source": [
    "from classiq import Model\n",
    "\n",
    "model = Model()"
   ]
  },
  {
   "cell_type": "markdown",
   "id": "c434fbe6",
   "metadata": {},
   "source": [
    "## 3. Wiring The Blocks Within The Model\n",
    "\n",
    "First we wire the two `StatePreparations` objects into the model:"
   ]
  },
  {
   "cell_type": "code",
   "execution_count": null,
   "id": "21c56f0a",
   "metadata": {},
   "outputs": [],
   "source": [
    "a = model.StatePreparation(params=sp_a)\n",
    "b = model.StatePreparation(params=sp_b)"
   ]
  },
  {
   "cell_type": "markdown",
   "id": "4849ff8b",
   "metadata": {},
   "source": [
    "The outputs of the wirings ($a,b$) are used as input wires for the next component - the adder.\n",
    "\n",
    "For the wiring of the adder, we give its params (the actual adder object we initiated earlier), and we need to specify now what are the actual inputs! These are the outputs of the wiring of the state preparations:"
   ]
  },
  {
   "cell_type": "code",
   "execution_count": null,
   "id": "1a08802a",
   "metadata": {},
   "outputs": [],
   "source": [
    "adder_out = model.Adder(\n",
    "    params=adder, in_wires={\"left_arg\": a[\"OUT\"], \"right_arg\": b[\"OUT\"]}\n",
    ")"
   ]
  },
  {
   "cell_type": "markdown",
   "id": "c0bfe975",
   "metadata": {},
   "source": [
    "The last part of the wiring stage is to set the outputs. The wiring of the adder results a dictionary:"
   ]
  },
  {
   "cell_type": "code",
   "execution_count": null,
   "id": "0ad579fa",
   "metadata": {},
   "outputs": [],
   "source": [
    "print(adder_out)"
   ]
  },
  {
   "cell_type": "markdown",
   "id": "b6c0bd0c",
   "metadata": {},
   "source": [
    "With 3 elements, where the last one is the `sum` - the register where the desired result is stored in. We want to tell our model that this is the register of the `sum` we are interested in. We do so by:"
   ]
  },
  {
   "cell_type": "code",
   "execution_count": null,
   "id": "038f92bb",
   "metadata": {},
   "outputs": [],
   "source": [
    "model.set_outputs(\n",
    "    {\"a\": adder_out[\"left_arg\"], \"b\": adder_out[\"right_arg\"], \"sum\": adder_out[\"sum\"]}\n",
    ")"
   ]
  },
  {
   "cell_type": "markdown",
   "id": "73140b7f",
   "metadata": {},
   "source": [
    "## 4. Defining how to execute the resulting quantum circuit"
   ]
  },
  {
   "cell_type": "markdown",
   "id": "332080c1",
   "metadata": {},
   "source": [
    "The current example deals with a simple execution, where one asks for measurments on all circuit's outputs (in the computational basis)."
   ]
  },
  {
   "cell_type": "code",
   "execution_count": null,
   "id": "f643df7b",
   "metadata": {},
   "outputs": [],
   "source": [
    "model.sample()"
   ]
  },
  {
   "cell_type": "markdown",
   "id": "9f5ec942",
   "metadata": {},
   "source": [
    "We can also define now our execution preferences"
   ]
  },
  {
   "cell_type": "code",
   "execution_count": null,
   "id": "6c90e493",
   "metadata": {},
   "outputs": [],
   "source": [
    "from classiq.execution import ExecutionPreferences, IBMBackendPreferences\n",
    "from classiq.synthesis import set_execution_preferences\n",
    "\n",
    "backend_preferences = IBMBackendPreferences(\n",
    "    backend_service_provider=\"IBM Quantum\", backend_name=\"aer_simulator_statevector\"\n",
    ")\n",
    "\n",
    "serialized_model = model.get_model()\n",
    "\n",
    "serialized_model = set_execution_preferences(\n",
    "    serialized_model,\n",
    "    execution_preferences=ExecutionPreferences(backend_preferences=backend_preferences),\n",
    ")"
   ]
  },
  {
   "cell_type": "markdown",
   "id": "d266562e",
   "metadata": {},
   "source": [
    "Now our model is completed and we can move on to synthesizing some circuits the implement the functionality of the model!"
   ]
  },
  {
   "cell_type": "markdown",
   "id": "9a099bde",
   "metadata": {},
   "source": [
    "## Synthesizing The First Circuit"
   ]
  },
  {
   "cell_type": "markdown",
   "id": "a9bc0d93",
   "metadata": {},
   "source": [
    "We now want to take our model and synthesize some quantum circuits that implement it. As part of the synthesizing process (generating quantum programs process) several optimization methods are used in order to generate the best quantum circuit according to given constraints. Some of these optimization procedure involve some random processes.\n",
    "\n",
    "In order to receive the same results repeatedly, as it is common in any numerical method, we want to set the seed of the synthesis engine random number generator. We do so by:"
   ]
  },
  {
   "cell_type": "code",
   "execution_count": null,
   "id": "d11f0382",
   "metadata": {},
   "outputs": [],
   "source": [
    "from classiq.model import Preferences\n",
    "from classiq.synthesis import set_preferences\n",
    "\n",
    "seed = 206755496\n",
    "preferences = Preferences(random_seed=seed)\n",
    "serialized_model = set_preferences(serialized_model, preferences=preferences)"
   ]
  },
  {
   "cell_type": "markdown",
   "id": "c25b74ec",
   "metadata": {},
   "source": [
    "These preferences are passed to the synthesis engine. Let us also ask the engine to optimize over the depth."
   ]
  },
  {
   "cell_type": "code",
   "execution_count": null,
   "id": "496f7171",
   "metadata": {},
   "outputs": [],
   "source": [
    "from classiq.model import Constraints\n",
    "from classiq.synthesis import set_constraints\n",
    "\n",
    "constraints = Constraints(optimization_parameter=\"depth\")\n",
    "\n",
    "serialized_model = set_constraints(serialized_model, constraints=constraints)"
   ]
  },
  {
   "cell_type": "code",
   "execution_count": null,
   "id": "73098a07-d636-4062-ad06-7de02e5e6850",
   "metadata": {},
   "outputs": [],
   "source": [
    "with open(\"learning_arithmetics.qmod\", \"w\") as f:\n",
    "    f.write(serialized_model)"
   ]
  },
  {
   "cell_type": "markdown",
   "id": "82c4faab-0e2d-4ced-a590-b67012e7c0d9",
   "metadata": {},
   "source": [
    "We can now call the `synthesize` function to get the quantum program:"
   ]
  },
  {
   "cell_type": "code",
   "execution_count": null,
   "id": "546c7c76",
   "metadata": {},
   "outputs": [],
   "source": [
    "from classiq import synthesize\n",
    "\n",
    "qprog = synthesize(serialized_model)"
   ]
  },
  {
   "cell_type": "markdown",
   "id": "16f16590",
   "metadata": {},
   "source": [
    "Before we look at the circuit, we want to check what is the mapping between our variables to the qubits. That is what registers and what qubits actually store the values of the computation:"
   ]
  },
  {
   "cell_type": "code",
   "execution_count": null,
   "id": "34705228",
   "metadata": {},
   "outputs": [],
   "source": [
    "from classiq import GeneratedCircuit\n",
    "\n",
    "circuit = GeneratedCircuit.from_qprog(qprog)\n",
    "\n",
    "print(circuit.data.qubit_mapping.logical_outputs)"
   ]
  },
  {
   "cell_type": "markdown",
   "id": "de6a6b48",
   "metadata": {},
   "source": [
    "Now let's view the circuit:"
   ]
  },
  {
   "cell_type": "code",
   "execution_count": null,
   "id": "f7cdd46f",
   "metadata": {},
   "outputs": [],
   "source": [
    "from classiq import show\n",
    "\n",
    "show(qprog)"
   ]
  },
  {
   "cell_type": "markdown",
   "id": "8d8df56e",
   "metadata": {},
   "source": [
    "And this is what it looks like:"
   ]
  },
  {
   "cell_type": "markdown",
   "id": "3a1901b0",
   "metadata": {},
   "source": [
    "![arithmetic.png](https://classiq-docs-images.s3.amazonaws.com/arithmetic.png)"
   ]
  },
  {
   "cell_type": "markdown",
   "id": "c7c97916",
   "metadata": {},
   "source": [
    "#### _Interesting tips:_ Saving and reloading circuits\n",
    "\n",
    "The platform allows us to save our synthesized circuits and to reload them for visualization and even execution at any point in time -"
   ]
  },
  {
   "cell_type": "code",
   "execution_count": null,
   "id": "c03d602c",
   "metadata": {},
   "outputs": [],
   "source": [
    "circuit.save_results(\"my_arithmetic_circuit.json\")"
   ]
  },
  {
   "cell_type": "markdown",
   "id": "af8fb77d",
   "metadata": {},
   "source": [
    "We can reload our saved circuit through the platform's web application. Just drag and drop \"my_arithmetic_circuit.json\" to the platforms web application as follows:"
   ]
  },
  {
   "cell_type": "markdown",
   "id": "df0deff4",
   "metadata": {},
   "source": [
    "![drag%20and%20drop%20circuit%20file.png](https://classiq-docs-images.s3.amazonaws.com/drag_and_drop_circuit_file.png)"
   ]
  },
  {
   "cell_type": "markdown",
   "id": "b967baa1",
   "metadata": {},
   "source": [
    "Furthermore, the platform's web application even supports \"dragging and dropping\" QASM files!\n",
    "A QASM file can easily be produced from the circuit object as follows:"
   ]
  },
  {
   "cell_type": "code",
   "execution_count": null,
   "id": "3dccbfe2",
   "metadata": {},
   "outputs": [],
   "source": [
    "my_file = open(\"my_arithmetic_circuit.qasm\", \"w\").write(circuit.qasm)"
   ]
  },
  {
   "cell_type": "markdown",
   "id": "41c3888d",
   "metadata": {},
   "source": [
    "## Executing The First Circuit With A Simulator\n",
    "\n",
    "Let's execute the circuit we've received to see what are the results. For that we will call the `execute` function:"
   ]
  },
  {
   "cell_type": "code",
   "execution_count": null,
   "id": "f74e559e",
   "metadata": {},
   "outputs": [],
   "source": [
    "from classiq import execute\n",
    "\n",
    "results_raw = execute(qprog).result()"
   ]
  },
  {
   "cell_type": "code",
   "execution_count": null,
   "id": "41e2597b",
   "metadata": {},
   "outputs": [],
   "source": [
    "from classiq.execution import ExecutionDetails\n",
    "\n",
    "results = results_raw[0].value\n",
    "print(results.counts)"
   ]
  },
  {
   "cell_type": "markdown",
   "id": "a0769d51",
   "metadata": {},
   "source": [
    "The `results.counts` gives us the raw results of the execution in a dictionary format. However, we are interested in understanding the results. Specifically, to understand the results in terms of our task of adding $\\ket{a}$ and $\\ket{b}$ coherently:"
   ]
  },
  {
   "cell_type": "code",
   "execution_count": null,
   "id": "771c28d8",
   "metadata": {},
   "outputs": [],
   "source": [
    "output_results = results.counts_of_multiple_outputs([\"a\", \"b\", \"sum\"])\n",
    "print(output_results)"
   ]
  },
  {
   "cell_type": "markdown",
   "id": "8a71171a",
   "metadata": {},
   "source": [
    "That is, the `output_results` take the total counts of the results, and already divides it into the relevant results per register of interest. Remember that for the binary representation here the LSB is on the left and the MSB is on the right.\n",
    "\n",
    "We can create a little function that will convert the results to decimal numbers, and then to plot them to see what results have we got:"
   ]
  },
  {
   "cell_type": "code",
   "execution_count": null,
   "id": "7e8a67b7",
   "metadata": {},
   "outputs": [],
   "source": [
    "def str2num(str):\n",
    "    return int(str[::-1], 2)\n",
    "\n",
    "\n",
    "for tupple in output_results.keys():\n",
    "    print(str2num(tupple[0]), \"+\", str2num(tupple[1]), \"=\", str2num(tupple[2]))"
   ]
  },
  {
   "cell_type": "markdown",
   "id": "baf8551a",
   "metadata": {},
   "source": [
    "SUCCESS :)\n",
    "\n",
    "Indeed our quantum algorithm succeeded in calculating all the 4 addition operations simultaneously. That is what we mean by coherent addition!\n",
    "\n",
    "### Executing our first circuit on the platform's web application\n",
    "\n",
    "We can also execute our circuit through the web application.\n",
    "Once we have our circuit loaded to the web application, either by the `show` function (used above) or by uploading it from a file, the execution icon will appear on the sidebar on the left. We can click this icon to go to the execution page. This page contains two sections: Quantum Devices and Execution Management. Let's execute our circuit on the Azur Quantum `Ionq.Simulator` with 1000 shots:"
   ]
  },
  {
   "cell_type": "markdown",
   "id": "f2fbf94c",
   "metadata": {},
   "source": [
    "![Executing%20arithmetics%20on%20Ionq.png](https://classiq-docs-images.s3.amazonaws.com/Executing_arithmetics_on_Ionq.png)"
   ]
  },
  {
   "cell_type": "markdown",
   "id": "74d1469b",
   "metadata": {},
   "source": [
    "Once we have our executions preferences are ready we can push the `Run` button on the bottom right corner.\n",
    "A progress bar will be presented. When the execution is completed, we can view our results:"
   ]
  },
  {
   "cell_type": "markdown",
   "id": "ce5e9f3d",
   "metadata": {},
   "source": [
    "![Results%20for%20Ionq%20Arithmetics%20xec%20.png](https://classiq-docs-images.s3.amazonaws.com/Results_for_Ionq_Arithmetics_xec.png)"
   ]
  },
  {
   "cell_type": "markdown",
   "id": "fd7ec572",
   "metadata": {},
   "source": [
    "Should we want to download our results for post processing, we can download our results through the `Export as JSON` button. The results file can easily be parsed through our results object as follows:"
   ]
  },
  {
   "cell_type": "code",
   "execution_count": null,
   "id": "06685f28",
   "metadata": {},
   "outputs": [],
   "source": [
    "from classiq.execution import ExecutionDetails\n",
    "\n",
    "my_downloaded_results = ExecutionDetails.parse_file(\n",
    "    \"my_ionq_simulator_arithmetic_circuit_execusion_results.json\"\n",
    ")\n",
    "print(my_downloaded_results.counts)"
   ]
  },
  {
   "cell_type": "markdown",
   "id": "a6ce3b30",
   "metadata": {},
   "source": [
    "## Is this The Minimal Number Of Qubits Required?\n",
    "\n",
    "Let's check what is the width (i.e. number of qubits) of the circuit we have generated:"
   ]
  },
  {
   "cell_type": "code",
   "execution_count": null,
   "id": "00360d11",
   "metadata": {},
   "outputs": [],
   "source": [
    "print(\n",
    "    \"circuit width: \",\n",
    "    circuit.data.width,\n",
    "    \" circuit depth: \",\n",
    "    circuit.transpiled_circuit.depth,\n",
    ")"
   ]
  },
  {
   "cell_type": "markdown",
   "id": "886d97e4",
   "metadata": {},
   "source": [
    "And let's ask the Classiq Platform to generate a new circuit, where now we tell it we want the minimal amount of qubits possible:"
   ]
  },
  {
   "cell_type": "code",
   "execution_count": null,
   "id": "ff63cb7e",
   "metadata": {},
   "outputs": [],
   "source": [
    "constraints = Constraints(optimization_parameter=\"width\")\n",
    "serialized_model_optimized_for_width = set_constraints(\n",
    "    serialized_model, constraints=constraints\n",
    ")\n",
    "qprog_optimized_for_width = synthesize(serialized_model_optimized_for_width)"
   ]
  },
  {
   "cell_type": "markdown",
   "id": "fc3f0ec8",
   "metadata": {},
   "source": [
    "And now we can see that from 8 qubits, the circuit is reduced to 7 qubits:"
   ]
  },
  {
   "cell_type": "code",
   "execution_count": null,
   "id": "596b6586",
   "metadata": {},
   "outputs": [],
   "source": [
    "circuit_optimized_for_width = GeneratedCircuit.from_qprog(qprog_optimized_for_width)\n",
    "\n",
    "print(\n",
    "    \"circuit width: \",\n",
    "    circuit_optimized_for_width.data.width,\n",
    "    \" circuit depth: \",\n",
    "    circuit_optimized_for_width.transpiled_circuit.depth,\n",
    ")"
   ]
  },
  {
   "cell_type": "markdown",
   "id": "a343f1dd",
   "metadata": {},
   "source": [
    "Wow! Indeed we see that two circuits that have exactly the same functionality of adding two quantum register can differ in their width and depth! This is highly important when we want to generate the optimal quantum algorithm possible.\n",
    "\n",
    "Let's see how this algorithm is mapped into real hardware. For that we import the `Analyzer` which helps us analyze the circuit we've got:"
   ]
  },
  {
   "cell_type": "code",
   "execution_count": null,
   "id": "d472adf6",
   "metadata": {},
   "outputs": [],
   "source": [
    "from classiq import Analyzer\n",
    "\n",
    "analyzer = Analyzer(circuit=circuit_optimized_for_width)\n",
    "analyzer.get_hardware_comparison_table([\"Azure Quantum\"])\n",
    "analyzer.plot_hardware_comparison_table()"
   ]
  },
  {
   "cell_type": "markdown",
   "id": "73fb0ef0",
   "metadata": {},
   "source": [
    "![harware_comparisn_table_optimized_depth.png](https://classiq-docs-images.s3.amazonaws.com/harware_comparisn_table_optimized_depth.png)"
   ]
  },
  {
   "cell_type": "markdown",
   "id": "1c9c94e5",
   "metadata": {},
   "source": [
    "## Is This The Best Circuit For The Specific Hardware?\n",
    "\n",
    "Ok, so we have optimized the depth of the circuit, but now if we want to execute on some ion-trapped quantum computer, we want to optimize the circuit for this specific hardware! The circuit that we generated might be the shortest one when ignoring a specific hardware, but when having a specific targeted hardware, its\n",
    "\n",
    "1. connectivity;\n",
    "2. number of qubits; and\n",
    "3. native gate-set,\n",
    "\n",
    "might cause that a different circuit is more suited for it.\n",
    "\n",
    "Let's synthesize a new circuit, according to the IonQ hardware, which is optimized to be the shorter possible:"
   ]
  },
  {
   "cell_type": "code",
   "execution_count": null,
   "id": "e1386e57",
   "metadata": {},
   "outputs": [],
   "source": [
    "from classiq.model import Preferences\n",
    "\n",
    "azure_preferences = Preferences(\n",
    "    backend_service_provider=\"Azure Quantum\", backend_name=\"ionq\", random_seed=seed\n",
    ")\n",
    "\n",
    "serialized_model_optimized_for_ionq = set_preferences(\n",
    "    serialized_model, preferences=azure_preferences\n",
    ")\n",
    "serialized_model_optimized_for_ionq = set_constraints(\n",
    "    serialized_model_optimized_for_ionq, constraints=constraints\n",
    ")\n",
    "\n",
    "qprog_optimized_for_ionq = synthesize(serialized_model_optimized_for_ionq)\n",
    "\n",
    "circuit_optimized_for_ionq = GeneratedCircuit.from_qprog(qprog_optimized_for_ionq)"
   ]
  },
  {
   "cell_type": "markdown",
   "id": "f35b0a22",
   "metadata": {},
   "source": [
    "And now let's check what have changes from the hardware-agnostic optimized circuit (remembering the MULTI QUBIT GATE COUNT is 26 and the TOTAL GATE COUNT is 68):"
   ]
  },
  {
   "cell_type": "code",
   "execution_count": null,
   "id": "78ec1d5f",
   "metadata": {},
   "outputs": [],
   "source": [
    "analyzer_circuit_optimized_ionq = Analyzer(circuit=circuit_optimized_for_ionq)\n",
    "analyzer_circuit_optimized_ionq.get_hardware_comparison_table([\"Azure Quantum\"])\n",
    "analyzer_circuit_optimized_ionq.plot_hardware_comparison_table()"
   ]
  },
  {
   "cell_type": "markdown",
   "id": "32b39513",
   "metadata": {},
   "source": [
    "![hardware_comparison_table_optimized_ionq.png](https://classiq-docs-images.s3.amazonaws.com/hardware_comparison_table_optimized_ionq.png)"
   ]
  },
  {
   "cell_type": "markdown",
   "id": "f8a72a47",
   "metadata": {},
   "source": [
    "Indeed we received a better circuit which is more suited for IonQ!\n",
    "\n",
    "We saved $24\\%$ in the total gate count and $12\\%$ in the 2-qubit gate count. These are significant numbers by their own, and be aware that the resources saved, both in numbers and in percentages, get higher as the circuit is larger!\n",
    "\n",
    "## Comparing The Optimized Circuits\n",
    "\n",
    "Let's have a look on the circuits and see what is different. First, the hardware-agnostic optimized circuit:"
   ]
  },
  {
   "cell_type": "code",
   "execution_count": null,
   "id": "a9d33f6e",
   "metadata": {},
   "outputs": [],
   "source": [
    "show(qprog_optimized_for_width)"
   ]
  },
  {
   "cell_type": "markdown",
   "id": "98a9358c",
   "metadata": {},
   "source": [
    "![arithmetic%20-%20optimized%20for%20depth.png](https://classiq-docs-images.s3.amazonaws.com/arithmetic_optimized_for_depth.png)"
   ]
  },
  {
   "cell_type": "markdown",
   "id": "5e9d3c4f",
   "metadata": {},
   "source": [
    "and zooming in on the adder:"
   ]
  },
  {
   "cell_type": "markdown",
   "id": "9620beb6",
   "metadata": {},
   "source": [
    "![arithmetic%20-%20optimized%20for%20depth%20adder.png](https://classiq-docs-images.s3.amazonaws.com/arithmetic_optimized_for_depth_adder.png)"
   ]
  },
  {
   "cell_type": "markdown",
   "id": "e24b590b",
   "metadata": {},
   "source": [
    "And now for the IonQ-optimized circuit:"
   ]
  },
  {
   "cell_type": "code",
   "execution_count": null,
   "id": "658be536",
   "metadata": {},
   "outputs": [],
   "source": [
    "show(qprog_optimized_for_ionq)"
   ]
  },
  {
   "cell_type": "markdown",
   "id": "3016a608",
   "metadata": {},
   "source": [
    "![arithmetic%20-%20optimized%20for%20ionq.png](https://classiq-docs-images.s3.amazonaws.com/arithmetic_optimized_for_ionq.png)"
   ]
  },
  {
   "cell_type": "markdown",
   "id": "ad5ba80a",
   "metadata": {},
   "source": [
    "And zooming in on the adder:"
   ]
  },
  {
   "cell_type": "markdown",
   "id": "26ef1901",
   "metadata": {},
   "source": [
    "![atithmetic%20-%20optimized%20for%20ionq%20adder.png](https://classiq-docs-images.s3.amazonaws.com/atithmetic_optimized_for_ionq_adder.png)"
   ]
  },
  {
   "cell_type": "markdown",
   "id": "fbce9be4",
   "metadata": {},
   "source": [
    "These two adders are implementing the exact same thing, but are completely different! This optimization is at the heart of the Classiq Platform, and it is something that could not be handled manually with larger and larger circuits.\n",
    "\n",
    "## Executing Via Azure\n",
    "\n",
    "Let's execute the above circuit via Azure on simulator or hardware. We can set the corresponding execution preferences in our quantum program:"
   ]
  },
  {
   "cell_type": "code",
   "execution_count": null,
   "id": "7f37f23e",
   "metadata": {},
   "outputs": [],
   "source": [
    "from classiq.execution import (\n",
    "    AzureBackendPreferences,\n",
    "    set_quantum_program_execution_preferences,\n",
    ")\n",
    "\n",
    "hardware_preferences = AzureBackendPreferences(\n",
    "    backend_name=\"ionq.simulator\"\n",
    ")  # ionq.simulator, ionq.qpu\n",
    "\n",
    "qprog_optimized_for_ionq = set_quantum_program_execution_preferences(\n",
    "    qprog_optimized_for_ionq,\n",
    "    preferences=ExecutionPreferences(backend_preferences=hardware_preferences),\n",
    ")"
   ]
  },
  {
   "cell_type": "markdown",
   "id": "0662566d",
   "metadata": {},
   "source": [
    "Then we can execute our circuit:"
   ]
  },
  {
   "cell_type": "code",
   "execution_count": null,
   "id": "c713b46d",
   "metadata": {},
   "outputs": [],
   "source": [
    "results_raw = execute(qprog_optimized_for_ionq).result()"
   ]
  },
  {
   "cell_type": "markdown",
   "id": "f1585b89",
   "metadata": {},
   "source": [
    "And the results:"
   ]
  },
  {
   "cell_type": "code",
   "execution_count": null,
   "id": "4434ec3c",
   "metadata": {},
   "outputs": [],
   "source": [
    "from classiq.execution import ExecutionDetails\n",
    "\n",
    "results = results_raw[0].value\n",
    "print(\"Run via Azure counts:\", results.counts)"
   ]
  },
  {
   "cell_type": "markdown",
   "id": "255b1125",
   "metadata": {},
   "source": [
    "## All Code Together"
   ]
  },
  {
   "cell_type": "code",
   "execution_count": null,
   "id": "f026fcaf",
   "metadata": {},
   "outputs": [],
   "source": [
    "from classiq import (\n",
    "    Analyzer,\n",
    "    GeneratedCircuit,\n",
    "    Model,\n",
    "    RegisterUserInput,\n",
    "    execute,\n",
    "    show,\n",
    "    synthesize,\n",
    ")\n",
    "from classiq.builtin_functions import Adder, StatePreparation\n",
    "from classiq.execution import (\n",
    "    AzureBackendPreferences,\n",
    "    ExecutionDetails,\n",
    "    ExecutionPreferences,\n",
    "    IBMBackendPreferences,\n",
    "    set_quantum_program_execution_preferences,\n",
    ")\n",
    "from classiq.model import Constraints, Preferences\n",
    "from classiq.synthesis import (\n",
    "    set_constraints,\n",
    "    set_execution_preferences,\n",
    "    set_preferences,\n",
    ")\n",
    "\n",
    "\n",
    "# defining function\n",
    "def str2num(str):\n",
    "    return int(str[::-1], 2)\n",
    "\n",
    "\n",
    "# defining probabilities\n",
    "prob_a = [0.5, 0, 0, 0.5]\n",
    "prob_b = [0, 0.5, 0.5, 0]\n",
    "\n",
    "# defining state preparation\n",
    "sp_a = StatePreparation(\n",
    "    probabilities=prob_a, error_metric={\"KL\": {\"upper_bound\": 0.01}}\n",
    ")\n",
    "sp_b = StatePreparation(\n",
    "    probabilities=prob_b, error_metric={\"KL\": {\"upper_bound\": 0.01}}\n",
    ")\n",
    "\n",
    "# defining the adder\n",
    "adder = Adder(\n",
    "    left_arg=RegisterUserInput(size=2),\n",
    "    right_arg=RegisterUserInput(size=2),\n",
    ")\n",
    "\n",
    "# initiating a model\n",
    "model = Model()\n",
    "\n",
    "# wiring state preparations\n",
    "a = model.StatePreparation(params=sp_a)\n",
    "b = model.StatePreparation(params=sp_b)\n",
    "\n",
    "# wiring the adder\n",
    "adder_out = model.Adder(\n",
    "    params=adder, in_wires={\"left_arg\": a[\"OUT\"], \"right_arg\": b[\"OUT\"]}\n",
    ")\n",
    "print(adder_out)\n",
    "\n",
    "# setting the outputs\n",
    "model.set_outputs(\n",
    "    {\"a\": adder_out[\"left_arg\"], \"b\": adder_out[\"right_arg\"], \"sum\": adder_out[\"sum\"]}\n",
    ")\n",
    "model.sample()\n",
    "backend_preferences = IBMBackendPreferences(\n",
    "    backend_service_provider=\"IBM Quantum\", backend_name=\"aer_simulator_statevector\"\n",
    ")\n",
    "serialized_model = model.get_model()\n",
    "serialized_model = set_execution_preferences(\n",
    "    serialized_model,\n",
    "    execution_preferences=ExecutionPreferences(backend_preferences=backend_preferences),\n",
    ")\n",
    "\n",
    "# fixing the seed\n",
    "seed = 206755496\n",
    "preferences = Preferences(random_seed=seed)\n",
    "serialized_model = set_preferences(serialized_model, preferences=preferences)\n",
    "\n",
    "\n",
    "# synthesizing the first circuit\n",
    "constraints = Constraints(optimization_parameter=\"depth\")\n",
    "serialized_model = set_constraints(serialized_model, constraints=constraints)\n",
    "qprog = synthesize(serialized_model)\n",
    "\n",
    "\n",
    "# printing the output mapping\n",
    "circuit = GeneratedCircuit.from_qprog(qprog)\n",
    "print(circuit.data.qubit_mapping.logical_outputs)\n",
    "\n",
    "# vizualizing the circuit\n",
    "show(qprog)\n",
    "\n",
    "# save results\n",
    "circuit.save_results(\"my_arithmetic_circuit.json\")\n",
    "\n",
    "# save qasm file\n",
    "my_file = open(\"my_arithmetic_circuit.qasm\", \"w\").write(circuit.qasm)\n",
    "\n",
    "\n",
    "# executing the first circuit with a simulator\n",
    "from classiq import execute\n",
    "\n",
    "results_raw = execute(qprog).result()\n",
    "\n",
    "results = results_raw[0].value\n",
    "print(results.counts)\n",
    "\n",
    "\n",
    "# output results\n",
    "output_results = results.counts_of_multiple_outputs([\"a\", \"b\", \"sum\"])\n",
    "print(output_results)\n",
    "\n",
    "# understanding the results\n",
    "for tupple in output_results.keys():\n",
    "    print(str2num(tupple[0]), \"+\", str2num(tupple[1]), \"=\", str2num(tupple[2]))\n",
    "\n",
    "# loading results from IDE executor\n",
    "my_downloaded_results = ExecutionDetails.parse_file(\n",
    "    \"my_ionq_simulator_arithmetic_circuit_execusion_results.json\"\n",
    ")\n",
    "print(my_downloaded_results.counts)\n",
    "\n",
    "\n",
    "# motivation for shalower circuit\n",
    "print(\n",
    "    \"circuit width: \",\n",
    "    circuit.data.width,\n",
    "    \" circuit depth: \",\n",
    "    circuit.transpiled_circuit.depth,\n",
    ")\n",
    "\n",
    "# synthesizing the second circuit\n",
    "constraints = Constraints(optimization_parameter=\"width\")\n",
    "serialized_model_optimized_for_width = set_constraints(\n",
    "    serialized_model, constraints=constraints\n",
    ")\n",
    "qprog_optimized_for_width = synthesize(serialized_model_optimized_for_width)\n",
    "circuit_optimized_for_width = GeneratedCircuit.from_qprog(qprog_optimized_for_width)\n",
    "print(\n",
    "    \"circuit width: \",\n",
    "    circuit_optimized_for_width.data.width,\n",
    "    \" circuit depth: \",\n",
    "    circuit_optimized_for_width.transpiled_circuit.depth,\n",
    ")\n",
    "\n",
    "\n",
    "# analyzing the 2nd circuit\n",
    "analyzer = Analyzer(circuit=circuit_optimized_for_width)\n",
    "analyzer.get_hardware_comparison_table([\"Azure Quantum\"])\n",
    "analyzer.plot_hardware_comparison_table()\n",
    "\n",
    "# synthesizing the 3rd circuit\n",
    "azure_preferences = Preferences(\n",
    "    backend_service_provider=\"Azure Quantum\", backend_name=\"ionq\", random_seed=seed\n",
    ")\n",
    "serialized_model_optimized_for_ionq = set_preferences(\n",
    "    serialized_model, preferences=azure_preferences\n",
    ")\n",
    "serialized_model_optimized_for_ionq = set_constraints(\n",
    "    serialized_model_optimized_for_ionq, constraints=constraints\n",
    ")\n",
    "qprog_optimized_for_ionq = synthesize(serialized_model_optimized_for_ionq)\n",
    "circuit_optimized_for_ionq = GeneratedCircuit.from_qprog(qprog_optimized_for_ionq)\n",
    "\n",
    "\n",
    "# analyzing the 3rd circuit\n",
    "analyzer_circuit_optimized_ionq = Analyzer(circuit=circuit_optimized_for_ionq)\n",
    "analyzer_circuit_optimized_ionq.get_hardware_comparison_table([\"Azure Quantum\"])\n",
    "analyzer_circuit_optimized_ionq.plot_hardware_comparison_table()\n",
    "\n",
    "# viewing the 2nd and 3rd circuits\n",
    "show(qprog_optimized_for_width)\n",
    "show(qprog_optimized_for_ionq)\n",
    "\n",
    "# Azure execution\n",
    "hardware_preferences = AzureBackendPreferences(\n",
    "    backend_name=\"ionq.simulator\"\n",
    ")  # ionq.simulator, ionq.qpu\n",
    "qprog_optimized_for_ionq = set_quantum_program_execution_preferences(\n",
    "    qprog_optimized_for_ionq,\n",
    "    preferences=ExecutionPreferences(backend_preferences=hardware_preferences),\n",
    ")\n",
    "results_raw = execute(qprog_optimized_for_ionq).result()\n",
    "results = results_raw[0].value\n",
    "print(\"Run via Azure counts:\", results.counts)"
   ]
  }
 ],
 "metadata": {
  "kernelspec": {
   "display_name": "Python 3 (ipykernel)",
   "language": "python",
   "name": "python3"
  },
  "language_info": {
   "codemirror_mode": {
    "name": "ipython",
    "version": 3
   },
   "file_extension": ".py",
   "mimetype": "text/x-python",
   "name": "python",
   "nbconvert_exporter": "python",
   "pygments_lexer": "ipython3",
   "version": "3.11.4"
  },
  "vscode": {
   "interpreter": {
    "hash": "347a8246544146d6eb31d92cbd67b5535a7431c1c76091c4006811048168fb26"
   }
  }
 },
 "nbformat": 4,
 "nbformat_minor": 5
}
